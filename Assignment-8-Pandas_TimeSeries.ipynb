{
 "cells": [
  {
   "cell_type": "code",
   "execution_count": 1,
   "metadata": {
    "executionInfo": {
     "elapsed": 6656,
     "status": "ok",
     "timestamp": 1729501593667,
     "user": {
      "displayName": "PGDAI ACTS",
      "userId": "16113966839122920361"
     },
     "user_tz": -330
    },
    "id": "q0QSlcHAUz0R"
   },
   "outputs": [],
   "source": [
    "import numpy as np\n",
    "import pandas as pd\n",
    "import seaborn as sns\n",
    "import matplotlib.pyplot as plt"
   ]
  },
  {
   "cell_type": "markdown",
   "metadata": {
    "id": "wWXuWSofUesZ"
   },
   "source": [
    "1. Write a Pandas program to create\n",
    "    \n",
    "    a) Datetime object for Jan 15 2012.\n",
    "    \n",
    "    b) Specific date and time of 9:20 pm.\n",
    "    \n",
    "    c) Local date and time.\n",
    "    \n",
    "    d) A date without time.\n",
    "    \n",
    "    e) Current date.\n",
    "    \n",
    "    f) Time from a datetime.\n",
    "    \n",
    "    g) Current local time."
   ]
  },
  {
   "cell_type": "code",
   "execution_count": 2,
   "metadata": {
    "colab": {
     "base_uri": "https://localhost:8080/"
    },
    "executionInfo": {
     "elapsed": 453,
     "status": "ok",
     "timestamp": 1729501732786,
     "user": {
      "displayName": "PGDAI ACTS",
      "userId": "16113966839122920361"
     },
     "user_tz": -330
    },
    "id": "cA5__KQnU8DC",
    "outputId": "43b704d2-a4ad-4c31-804e-8992ed817041"
   },
   "outputs": [
    {
     "name": "stdout",
     "output_type": "stream",
     "text": [
      "2012-01-15 00:00:00\n",
      "2012-01-15 21:20:00\n",
      "2024-10-22 00:25:21.073580\n",
      "2012-01-15\n",
      "2024-10-22\n",
      "00:25:21.078477\n",
      "00:25:21.079477\n"
     ]
    }
   ],
   "source": [
    "# a) Datetime object for Jan 15 2012.\n",
    "print(pd.to_datetime('2012-01-15'))\n",
    "\n",
    "# b) Specific date and time of 9:20 pm.\n",
    "print(pd.to_datetime('2012-01-15 21:20:00'))\n",
    "\n",
    "# c) Local date and time.\n",
    "print(pd.to_datetime('now'))\n",
    "\n",
    "# d) A date without time.\n",
    "print(pd.to_datetime('2012-01-15').date())\n",
    "\n",
    "# e) Current date.\n",
    "print(pd.to_datetime('now').date())\n",
    "\n",
    "# f) Time from a datetime.\n",
    "print(pd.to_datetime('now').time())\n",
    "\n",
    "# g) Current local time.\n",
    "print(pd.to_datetime('now').time())\n"
   ]
  },
  {
   "cell_type": "markdown",
   "metadata": {
    "id": "izxhodGBTTY1"
   },
   "source": [
    "\n",
    "2. Write a Pandas program to create\n",
    "\n",
    "    a) a specific date using timestamp.\n",
    "\n",
    "    b) date and time using timestamp.\n",
    "\n",
    "    c) a time adds in the current local date using timestamp.\n",
    "\n",
    "    d) current date and time using timestamp."
   ]
  },
  {
   "cell_type": "code",
   "execution_count": 3,
   "metadata": {
    "colab": {
     "base_uri": "https://localhost:8080/"
    },
    "executionInfo": {
     "elapsed": 473,
     "status": "ok",
     "timestamp": 1729517744920,
     "user": {
      "displayName": "PGDAI ACTS",
      "userId": "16113966839122920361"
     },
     "user_tz": -330
    },
    "id": "UPOUNwTBWgAH",
    "outputId": "d1bdd0dc-e3f4-49d6-b58b-f4ede9cb051b"
   },
   "outputs": [
    {
     "name": "stdout",
     "output_type": "stream",
     "text": [
      "a) 2024-10-21 00:00:00\n",
      "b) 2024-10-21 15:45:00\n",
      "c) 2024-10-22 14:30:21.129519\n",
      "d) 2024-10-22 00:25:21.129519\n"
     ]
    }
   ],
   "source": [
    "# a) A specific date using timestamp\n",
    "specific_date = pd.Timestamp('2024-10-21')\n",
    "print(\"a)\", specific_date)\n",
    "\n",
    "# b) Date and time using timestamp\n",
    "specific_date_time = pd.Timestamp('2024-10-21 15:45')\n",
    "print(\"b)\", specific_date_time)\n",
    "\n",
    "# c) A time added to the current local date using timestamp\n",
    "time_added = pd.Timestamp.now().replace(hour=14, minute=30)\n",
    "print(\"c)\", time_added)\n",
    "\n",
    "# d) Current date and time using timestamp\n",
    "current_date_time = pd.Timestamp.now()\n",
    "print(\"d)\", current_date_time)"
   ]
  },
  {
   "cell_type": "markdown",
   "metadata": {
    "id": "ws-ZlLYvTWqc"
   },
   "source": [
    "\n",
    "3. Write a Pandas program to create a date from a given year, month, day and\n",
    "another date from a given string formats."
   ]
  },
  {
   "cell_type": "code",
   "execution_count": 4,
   "metadata": {
    "id": "YRr2AkcAXWmy"
   },
   "outputs": [
    {
     "name": "stdout",
     "output_type": "stream",
     "text": [
      "Date from year, month, day: 2023-10-26\n",
      "Date from string format: 2023-10-27\n"
     ]
    }
   ],
   "source": [
    "# 3. Write a Pandas program to create a date from a given year, month, day and\n",
    "# another date from a given string formats.\n",
    "\n",
    "from datetime import date\n",
    "\n",
    "# Create a date from year, month, day\n",
    "year = 2023\n",
    "month = 10\n",
    "day = 26\n",
    "date_from_ymd = date(year, month, day)\n",
    "print(\"Date from year, month, day:\", date_from_ymd)\n",
    "\n",
    "# Create a date from a string format\n",
    "date_string = \"2023-10-27\"\n",
    "date_from_string = pd.to_datetime(date_string).date()\n",
    "print(\"Date from string format:\", date_from_string)"
   ]
  },
  {
   "cell_type": "markdown",
   "metadata": {
    "id": "G6fh051PTW1U"
   },
   "source": [
    "\n",
    "4. Write a Pandas program to print the day after and before a specified date. Also\n",
    "print the days between two given dates."
   ]
  },
  {
   "cell_type": "code",
   "execution_count": 5,
   "metadata": {
    "colab": {
     "base_uri": "https://localhost:8080/"
    },
    "executionInfo": {
     "elapsed": 431,
     "status": "ok",
     "timestamp": 1729512145059,
     "user": {
      "displayName": "PGDAI ACTS",
      "userId": "16113966839122920361"
     },
     "user_tz": -330
    },
    "id": "VAmJ1gGaYQv8",
    "outputId": "a57bbe2c-8ab2-4ff9-9fa7-d1f82f51c10e"
   },
   "outputs": [
    {
     "name": "stdout",
     "output_type": "stream",
     "text": [
      "2012-01-15 00:00:00\n",
      "2012-01-16 00:00:00\n",
      "2012-01-14 00:00:00\n",
      "Dates between '2012-01-01' and '2012-01-15':\n",
      " [Timestamp('2012-01-01 00:00:00'), Timestamp('2012-01-02 00:00:00'), Timestamp('2012-01-03 00:00:00'), Timestamp('2012-01-04 00:00:00'), Timestamp('2012-01-05 00:00:00'), Timestamp('2012-01-06 00:00:00'), Timestamp('2012-01-07 00:00:00'), Timestamp('2012-01-08 00:00:00'), Timestamp('2012-01-09 00:00:00'), Timestamp('2012-01-10 00:00:00'), Timestamp('2012-01-11 00:00:00'), Timestamp('2012-01-12 00:00:00'), Timestamp('2012-01-13 00:00:00'), Timestamp('2012-01-14 00:00:00'), Timestamp('2012-01-15 00:00:00')]\n"
     ]
    }
   ],
   "source": [
    "mydate = pd.to_datetime('2012-01-15')\n",
    "print(mydate)\n",
    "print(mydate + pd.Timedelta(days=1))\n",
    "print(mydate - pd.Timedelta(days=1))\n",
    "\n",
    "dates = list(pd.date_range('2012-01-01', '2012-01-15'))\n",
    "print(\"Dates between '2012-01-01' and '2012-01-15':\\n\", dates)"
   ]
  },
  {
   "cell_type": "markdown",
   "metadata": {
    "id": "XczJHeTZTW4M"
   },
   "source": [
    "\n",
    "5. Write a Pandas program to create a time-series with two index labels and\n",
    "random values. Also print the type of the index."
   ]
  },
  {
   "cell_type": "code",
   "execution_count": 6,
   "metadata": {
    "colab": {
     "base_uri": "https://localhost:8080/"
    },
    "executionInfo": {
     "elapsed": 484,
     "status": "ok",
     "timestamp": 1729504158215,
     "user": {
      "displayName": "PGDAI ACTS",
      "userId": "16113966839122920361"
     },
     "user_tz": -330
    },
    "id": "VxwI5VV8ZsN0",
    "outputId": "316ca756-8d33-42ef-a46b-18bdd40ad2d3"
   },
   "outputs": [
    {
     "name": "stdout",
     "output_type": "stream",
     "text": [
      "time_series:\n",
      "        Dates  Random value\n",
      "0 2024-04-12      0.722321\n",
      "1 2024-04-13      0.353695\n",
      "2 2024-04-14      0.829896\n",
      "3 2024-04-15      0.896898\n",
      "4 2024-04-16      0.902030\n",
      "Type time_series:\n",
      " Dates           datetime64[ns]\n",
      "Random value           float64\n",
      "dtype: object\n"
     ]
    }
   ],
   "source": [
    "dates = pd.date_range(\"2024-04-12\", periods=5, freq='D')\n",
    "random_vals = np.random.rand(5)\n",
    "time_series = pd.DataFrame({'Dates':dates,\n",
    "                            'Random value': random_vals})\n",
    "print(\"time_series:\\n\",time_series)\n",
    "print(\"Type time_series:\\n\", time_series.dtypes)"
   ]
  },
  {
   "cell_type": "markdown",
   "metadata": {
    "id": "UV_dkt2LTW60"
   },
   "source": [
    "\n",
    "6. Write a Pandas program to create a time-series from a given list of dates as\n",
    "strings."
   ]
  },
  {
   "cell_type": "code",
   "execution_count": 7,
   "metadata": {
    "colab": {
     "base_uri": "https://localhost:8080/"
    },
    "executionInfo": {
     "elapsed": 420,
     "status": "ok",
     "timestamp": 1729504315574,
     "user": {
      "displayName": "PGDAI ACTS",
      "userId": "16113966839122920361"
     },
     "user_tz": -330
    },
    "id": "zKNBOsSedewT",
    "outputId": "6e2d583b-d782-42a1-b7ed-3c3b3fd7d5db"
   },
   "outputs": [
    {
     "name": "stdout",
     "output_type": "stream",
     "text": [
      "       Dates\n",
      "0 2024-04-13\n",
      "1 2024-04-14\n",
      "2 2024-04-12\n",
      "3 2024-04-15\n",
      "4 2024-04-16\n",
      "Dates    datetime64[ns]\n",
      "dtype: object\n"
     ]
    }
   ],
   "source": [
    "list_d = ['2024-04-13','2024-04-14','2024-04-12','2024-04-15','2024-04-16']\n",
    "time_series = pd.DataFrame({'Dates':list_d})\n",
    "time_series['Dates'] = time_series['Dates'].apply(pd.to_datetime)\n",
    "print(time_series)\n",
    "print(time_series.dtypes)"
   ]
  },
  {
   "cell_type": "markdown",
   "metadata": {
    "id": "WEtTW3rxTW98"
   },
   "source": [
    "\n",
    "7. Write a Pandas program to create a time series object that has time indexed\n",
    "data. Also select the dates of same year and select the dates between certain\n",
    "dates."
   ]
  },
  {
   "cell_type": "code",
   "execution_count": 8,
   "metadata": {
    "colab": {
     "base_uri": "https://localhost:8080/"
    },
    "executionInfo": {
     "elapsed": 460,
     "status": "ok",
     "timestamp": 1729505382322,
     "user": {
      "displayName": "PGDAI ACTS",
      "userId": "16113966839122920361"
     },
     "user_tz": -330
    },
    "id": "amNi7bYYfjcq",
    "outputId": "3250777e-a4a9-4d1b-9163-ff007cbb6a6b"
   },
   "outputs": [
    {
     "name": "stdout",
     "output_type": "stream",
     "text": [
      "            Random value\n",
      "Dates                   \n",
      "2024-03-31      0.534071\n",
      "2024-07-31      0.780044\n",
      "2024-11-30      0.839926\n",
      "2025-03-31      0.756784\n",
      "2025-07-31      0.459795\n",
      "2025-11-30      0.862744\n",
      "2026-03-31      0.341146\n",
      "2026-07-31      0.414976\n",
      "2026-11-30      0.234554\n",
      "2027-03-31      0.378617\n",
      "2027-07-31      0.960900\n",
      "2027-11-30      0.162532\n",
      "2028-03-31      0.318793\n",
      "2028-07-31      0.054044\n",
      "2028-11-30      0.106083"
     ]
    },
    {
     "name": "stderr",
     "output_type": "stream",
     "text": [
      "C:\\Users\\anu\\AppData\\Local\\Temp\\ipykernel_8648\\1005926672.py:1: FutureWarning: 'M' is deprecated and will be removed in a future version, please use 'ME' instead.\n",
      "  times = pd.date_range('2024-03-21', periods=15, freq='4M')\n"
     ]
    },
    {
     "name": "stdout",
     "output_type": "stream",
     "text": [
      "\n",
      "\n",
      "Selecting athe 2024 year\n",
      "            Random value\n",
      "Dates                   \n",
      "2024-03-31      0.534071\n",
      "2024-07-31      0.780044\n",
      "2024-11-30      0.839926\n",
      "\n",
      "Selecting between dates '2025-11-30':'2027-11-30\n",
      "            Random value\n",
      "Dates                   \n",
      "2025-11-30      0.862744\n",
      "2026-03-31      0.341146\n",
      "2026-07-31      0.414976\n",
      "2026-11-30      0.234554\n",
      "2027-03-31      0.378617\n",
      "2027-07-31      0.960900\n",
      "2027-11-30      0.162532\n"
     ]
    }
   ],
   "source": [
    "times = pd.date_range('2024-03-21', periods=15, freq='4M')\n",
    "random_vlas = np.random.rand(15)\n",
    "time_series = pd.DataFrame({'Dates':times,\n",
    "                            'Random value': random_vlas})\n",
    "\n",
    "time_series.set_index('Dates', inplace=True)\n",
    "print(time_series)\n",
    "\n",
    "print(\"\\nSelecting athe 2024 year\")\n",
    "print(time_series.loc['2024'])\n",
    "\n",
    "print(\"\\nSelecting between dates '2025-11-30':'2027-11-30\")\n",
    "print(time_series.loc['2025-11-30':'2027-11-30'])"
   ]
  },
  {
   "cell_type": "markdown",
   "metadata": {
    "id": "OvJ33euLTXBV"
   },
   "source": [
    "\n",
    "8. Write a Pandas program to create a date range using a startpoint date and a\n",
    "number of periods."
   ]
  },
  {
   "cell_type": "code",
   "execution_count": 9,
   "metadata": {
    "colab": {
     "base_uri": "https://localhost:8080/"
    },
    "executionInfo": {
     "elapsed": 469,
     "status": "ok",
     "timestamp": 1729505463261,
     "user": {
      "displayName": "PGDAI ACTS",
      "userId": "16113966839122920361"
     },
     "user_tz": -330
    },
    "id": "A_KuYea5jlTm",
    "outputId": "2df06267-1ebf-4f54-d2aa-cb4a3a02d159"
   },
   "outputs": [
    {
     "name": "stdout",
     "output_type": "stream",
     "text": [
      "DatetimeIndex(['2024-04-20', '2024-04-21', '2024-04-22', '2024-04-23',\n",
      "               '2024-04-24', '2024-04-25', '2024-04-26', '2024-04-27',\n",
      "               '2024-04-28', '2024-04-29', '2024-04-30', '2024-05-01',\n",
      "               '2024-05-02', '2024-05-03', '2024-05-04'],\n",
      "              dtype='datetime64[ns]', freq='D')\n"
     ]
    }
   ],
   "source": [
    "dates = pd.date_range(\"20-04-2024\", periods=15, freq='D')\n",
    "print(dates)"
   ]
  },
  {
   "cell_type": "markdown",
   "metadata": {
    "id": "6ml0FT_TTXD8"
   },
   "source": [
    "\n",
    "9. Write a Pandas program to create a whole month of dates in daily frequencies.\n",
    "\n",
    "Also find the maximum, minimum timestamp and indexs.\n"
   ]
  },
  {
   "cell_type": "code",
   "execution_count": 10,
   "metadata": {
    "colab": {
     "base_uri": "https://localhost:8080/"
    },
    "executionInfo": {
     "elapsed": 450,
     "status": "ok",
     "timestamp": 1729505562809,
     "user": {
      "displayName": "PGDAI ACTS",
      "userId": "16113966839122920361"
     },
     "user_tz": -330
    },
    "id": "rS4xz9ATjy0G",
    "outputId": "c026cd0e-efad-43ed-bbc8-97a359adaf20"
   },
   "outputs": [
    {
     "data": {
      "text/plain": [
       "DatetimeIndex(['2024-04-01', '2024-04-02', '2024-04-03', '2024-04-04',\n",
       "               '2024-04-05', '2024-04-06', '2024-04-07', '2024-04-08',\n",
       "               '2024-04-09', '2024-04-10', '2024-04-11', '2024-04-12',\n",
       "               '2024-04-13', '2024-04-14', '2024-04-15', '2024-04-16',\n",
       "               '2024-04-17', '2024-04-18', '2024-04-19', '2024-04-20',\n",
       "               '2024-04-21', '2024-04-22', '2024-04-23', '2024-04-24',\n",
       "               '2024-04-25', '2024-04-26', '2024-04-27', '2024-04-28',\n",
       "               '2024-04-29', '2024-04-30'],\n",
       "              dtype='datetime64[ns]', freq='D')"
      ]
     },
     "execution_count": 10,
     "metadata": {},
     "output_type": "execute_result"
    }
   ],
   "source": [
    "dates = pd.date_range('2024-04-01', periods=30, freq='D')\n",
    "dates"
   ]
  },
  {
   "cell_type": "markdown",
   "metadata": {
    "id": "vsVUQl6DTXGs"
   },
   "source": [
    "\n",
    "10. Write a Pandas program to create a time series using three months\n",
    "frequency."
   ]
  },
  {
   "cell_type": "code",
   "execution_count": 11,
   "metadata": {
    "colab": {
     "base_uri": "https://localhost:8080/"
    },
    "executionInfo": {
     "elapsed": 457,
     "status": "ok",
     "timestamp": 1729505839504,
     "user": {
      "displayName": "PGDAI ACTS",
      "userId": "16113966839122920361"
     },
     "user_tz": -330
    },
    "id": "noKze4sGkpWM",
    "outputId": "2f35f833-da64-41a5-f761-b111cf92b696"
   },
   "outputs": [
    {
     "data": {
      "text/plain": [
       "DatetimeIndex(['2024-03-31', '2024-06-30', '2024-09-30', '2024-12-31',\n",
       "               '2025-03-31', '2025-06-30'],\n",
       "              dtype='datetime64[ns]', freq='3ME')"
      ]
     },
     "execution_count": 11,
     "metadata": {},
     "output_type": "execute_result"
    }
   ],
   "source": [
    "dates = pd.date_range('2024-03-01', freq='3ME', periods=6)\n",
    "dates"
   ]
  },
  {
   "cell_type": "markdown",
   "metadata": {
    "id": "bZ2kaSM8TXLM"
   },
   "source": [
    "\n",
    "11. Write a Pandas program to create a sequence of durations increasing by an\n",
    "hour."
   ]
  },
  {
   "cell_type": "code",
   "execution_count": 12,
   "metadata": {
    "colab": {
     "base_uri": "https://localhost:8080/"
    },
    "executionInfo": {
     "elapsed": 462,
     "status": "ok",
     "timestamp": 1729505938574,
     "user": {
      "displayName": "PGDAI ACTS",
      "userId": "16113966839122920361"
     },
     "user_tz": -330
    },
    "id": "zVDPbE-ilOAL",
    "outputId": "2c28517b-7cc9-4219-b0ce-2c962f2d6ee2"
   },
   "outputs": [
    {
     "name": "stderr",
     "output_type": "stream",
     "text": [
      "C:\\Users\\anu\\AppData\\Local\\Temp\\ipykernel_8648\\746520860.py:1: FutureWarning: 'H' is deprecated and will be removed in a future version, please use 'h' instead.\n",
      "  dates = pd.date_range('2024-03-14', periods=10, freq='H')\n"
     ]
    },
    {
     "data": {
      "text/plain": [
       "DatetimeIndex(['2024-03-14 00:00:00', '2024-03-14 01:00:00',\n",
       "               '2024-03-14 02:00:00', '2024-03-14 03:00:00',\n",
       "               '2024-03-14 04:00:00', '2024-03-14 05:00:00',\n",
       "               '2024-03-14 06:00:00', '2024-03-14 07:00:00',\n",
       "               '2024-03-14 08:00:00', '2024-03-14 09:00:00'],\n",
       "              dtype='datetime64[ns]', freq='h')"
      ]
     },
     "execution_count": 12,
     "metadata": {},
     "output_type": "execute_result"
    }
   ],
   "source": [
    "dates = pd.date_range('2024-03-14', periods=10, freq='H')\n",
    "dates"
   ]
  },
  {
   "cell_type": "markdown",
   "metadata": {
    "id": "kNoqBpW0TXP2"
   },
   "source": [
    "\n",
    "12. Write a Pandas program to convert year and day of year into a single\n",
    "datetime column of a dataframe."
   ]
  },
  {
   "cell_type": "code",
   "execution_count": 13,
   "metadata": {
    "colab": {
     "base_uri": "https://localhost:8080/"
    },
    "executionInfo": {
     "elapsed": 436,
     "status": "ok",
     "timestamp": 1729506983206,
     "user": {
      "displayName": "PGDAI ACTS",
      "userId": "16113966839122920361"
     },
     "user_tz": -330
    },
    "id": "qbIKgJTslodC",
    "outputId": "25a50e89-4290-4c89-ed5b-b6a5e247483e"
   },
   "outputs": [
    {
     "name": "stdout",
     "output_type": "stream",
     "text": [
      "   Year  Day of Year  RandomNum\n",
      "0  2011            2   0.776387\n",
      "1  2023           12   0.204628\n",
      "2  2014           13   0.329424\n",
      "3  2011           12   0.856451\n",
      "4  2023            7   0.639781\n",
      "   Year  Day of Year  RandomNum   DateTime\n",
      "0  2011            2   0.776387 2011-01-02\n",
      "1  2023           12   0.204628 2023-01-12\n",
      "2  2014           13   0.329424 2014-01-13\n",
      "3  2011           12   0.856451 2011-01-12\n",
      "4  2023            7   0.639781 2023-01-07\n"
     ]
    }
   ],
   "source": [
    "date_series = pd.DataFrame({'Year': [2011,2023,2014,2011,2023], 'Day of Year': [2,12,13,12,7]})\n",
    "date_series['RandomNum'] = np.random.rand(5)\n",
    "print(date_series)\n",
    "\n",
    "date_series['DateTime'] = pd.to_datetime(date_series['Year'].astype(str) + '-' + date_series['Day of Year'].astype(str), format='%Y-%j')\n",
    "print(date_series)"
   ]
  },
  {
   "cell_type": "markdown",
   "metadata": {
    "id": "p6myshyRTXSt"
   },
   "source": [
    "\n",
    "13. Write a Pandas program to create a series of Timestamps from a DataFrame\n",
    "of integer or string columns. Also create a series of Timestamps using specified\n",
    "columns."
   ]
  },
  {
   "cell_type": "code",
   "execution_count": 14,
   "metadata": {
    "colab": {
     "base_uri": "https://localhost:8080/"
    },
    "executionInfo": {
     "elapsed": 461,
     "status": "ok",
     "timestamp": 1729518097684,
     "user": {
      "displayName": "PGDAI ACTS",
      "userId": "16113966839122920361"
     },
     "user_tz": -330
    },
    "id": "9d3peyFmTcpY",
    "outputId": "001d597e-2fce-42d9-8f45-c2d7b0beb05e"
   },
   "outputs": [
    {
     "name": "stdout",
     "output_type": "stream",
     "text": [
      "Original dataframe:\n",
      "   year  month  day  hour\n",
      "0  2017      4   14     2\n",
      "1  2018      5   15     3\n",
      "2  2019      6   16     4\n",
      "\n",
      "Series of Timestamps from the said dataframe:\n",
      "0   2017-04-14 02:00:00\n",
      "1   2018-05-15 03:00:00\n",
      "2   2019-06-16 04:00:00\n",
      "dtype: datetime64[ns]\n",
      "\n",
      "Series of Timestamps using specified columns:\n",
      "0   2017-04-14\n",
      "1   2018-05-15\n",
      "2   2019-06-16\n",
      "dtype: datetime64[ns]\n"
     ]
    }
   ],
   "source": [
    "df = pd.DataFrame({'year': [2017, 2018, 2019],\n",
    "                   'month': [4, 5, 6],\n",
    "                   'day': [14, 15, 16],\n",
    "                   'hour': [2, 3, 4]})\n",
    "print(\"Original dataframe:\")\n",
    "print(df)\n",
    "result = pd.to_datetime(df)\n",
    "print(\"\\nSeries of Timestamps from the said dataframe:\")\n",
    "print(result)\n",
    "print(\"\\nSeries of Timestamps using specified columns:\")\n",
    "print(pd.to_datetime(df[['year', 'month', 'day']]))"
   ]
  },
  {
   "cell_type": "markdown",
   "metadata": {
    "id": "p1iVdahxTV0M"
   },
   "source": [
    "\n",
    "14. Write a Pandas program to check if a day is a business day (weekday) or not."
   ]
  },
  {
   "cell_type": "code",
   "execution_count": 15,
   "metadata": {
    "colab": {
     "base_uri": "https://localhost:8080/"
    },
    "executionInfo": {
     "elapsed": 434,
     "status": "ok",
     "timestamp": 1729511059716,
     "user": {
      "displayName": "PGDAI ACTS",
      "userId": "16113966839122920361"
     },
     "user_tz": -330
    },
    "id": "vPcnwXgzv5li",
    "outputId": "46c20908-1115-4f82-dafb-bc76983f0ab7"
   },
   "outputs": [
    {
     "name": "stdout",
     "output_type": "stream",
     "text": [
      "DatetimeIndex(['2024-03-12', '2024-03-13', '2024-03-14', '2024-03-15',\n",
      "               '2024-03-16', '2024-03-17', '2024-03-18', '2024-03-19',\n",
      "               '2024-03-20', '2024-03-21'],\n",
      "              dtype='datetime64[ns]', freq='D')\n",
      "\n",
      "Dates with weekday:\n",
      " DatetimeIndex(['2024-03-12', '2024-03-13', '2024-03-14', '2024-03-15',\n",
      "               '2024-03-18', '2024-03-19', '2024-03-20', '2024-03-21'],\n",
      "              dtype='datetime64[ns]', freq=None)\n"
     ]
    }
   ],
   "source": [
    "dates =  pd.date_range('2024-03-12', periods=10, freq='D')\n",
    "print(dates)\n",
    "print()\n",
    "print(\"Dates with weekday:\\n\",dates[dates.weekday < 5]) #Monday=0, Sunday=6"
   ]
  },
  {
   "cell_type": "markdown",
   "metadata": {
    "id": "YSZelsc3TV3E"
   },
   "source": [
    "\n",
    "15. Write a Pandas program to get a time series with the last working days of\n",
    "each month of a specific year."
   ]
  },
  {
   "cell_type": "code",
   "execution_count": 16,
   "metadata": {
    "colab": {
     "base_uri": "https://localhost:8080/"
    },
    "executionInfo": {
     "elapsed": 486,
     "status": "ok",
     "timestamp": 1729512306097,
     "user": {
      "displayName": "PGDAI ACTS",
      "userId": "16113966839122920361"
     },
     "user_tz": -330
    },
    "id": "ergCQoKq2f4l",
    "outputId": "3f0c41a5-061c-4973-fe85-da3f227a1801"
   },
   "outputs": [
    {
     "name": "stdout",
     "output_type": "stream",
     "text": [
      "DatetimeIndex(['2014-12-31', '2015-01-31', '2015-02-28', '2015-03-31',\n",
      "               '2015-04-30', '2015-05-31', '2015-06-30', '2015-07-31',\n",
      "               '2015-08-31', '2015-09-30'],\n",
      "              dtype='datetime64[ns]', freq='ME')\n",
      "Last working day for month: 12\n",
      "2014-12-31 00:00:00\n",
      "Last working day for month: 1\n",
      "2015-01-30 00:00:00\n",
      "Last working day for month: 2\n",
      "2015-02-27 00:00:00\n",
      "Last working day for month: 3\n",
      "2015-03-31 00:00:00\n",
      "Last working day for month: 4\n",
      "2015-04-30 00:00:00\n",
      "Last working day for month: 5\n",
      "2015-05-29 00:00:00\n",
      "Last working day for month: 6\n",
      "2015-06-30 00:00:00\n",
      "Last working day for month: 7\n",
      "2015-07-31 00:00:00\n",
      "Last working day for month: 8\n",
      "2015-08-31 00:00:00\n",
      "Last working day for month: 9\n",
      "2015-09-30 00:00:00\n"
     ]
    }
   ],
   "source": [
    "dates = pd.date_range('2014-12-01',freq='ME',periods=10)\n",
    "print(dates)\n",
    "\n",
    "for d in dates:\n",
    "    print(\"Last working day for month:\", d.month)\n",
    "    if d.weekday() == 6:\n",
    "        print(d - pd.Timedelta(days=2)) #If Sunday -2\n",
    "    elif d.weekday() == 5:\n",
    "        print(d - pd.Timedelta(days=1)) #If Monday -1\n",
    "    else:\n",
    "        print(d)"
   ]
  },
  {
   "cell_type": "markdown",
   "metadata": {
    "id": "nGebBh7cTV6E"
   },
   "source": [
    "\n",
    "16. Write a Pandas program to create a time series combining hour and minute."
   ]
  },
  {
   "cell_type": "code",
   "execution_count": 17,
   "metadata": {
    "colab": {
     "base_uri": "https://localhost:8080/"
    },
    "executionInfo": {
     "elapsed": 478,
     "status": "ok",
     "timestamp": 1729512524949,
     "user": {
      "displayName": "PGDAI ACTS",
      "userId": "16113966839122920361"
     },
     "user_tz": -330
    },
    "id": "35Dijpr196Jc",
    "outputId": "bc5ad317-3de7-42a8-e756-d4adeb284311"
   },
   "outputs": [
    {
     "name": "stdout",
     "output_type": "stream",
     "text": [
      "DatetimeIndex(['1900-01-01 10:30:00', '1900-01-01 11:45:00',\n",
      "               '1900-01-01 12:00:00', '1900-01-01 13:15:00',\n",
      "               '1900-01-01 14:30:00'],\n",
      "              dtype='datetime64[ns]', freq=None)\n"
     ]
    }
   ],
   "source": [
    "import pandas as pd\n",
    "\n",
    "hours = [10, 11, 12, 13, 14]\n",
    "minutes = [30, 45, 0, 15, 30]\n",
    "\n",
    "# Combine hours and minutes into a list of strings\n",
    "time_strings = [f\"{hour}:{minute:02}\" for hour, minute in zip(hours, minutes)]\n",
    "time_series = pd.to_datetime(time_strings, format='%H:%M')\n",
    "\n",
    "print(time_series)"
   ]
  },
  {
   "cell_type": "markdown",
   "metadata": {
    "id": "hH2PPjCnTV9M"
   },
   "source": [
    "\n",
    "17. Write a Pandas program to convert unix/epoch time to a regular time stamp\n",
    "in UTC. Also convert the said timestamp in to a given time zone."
   ]
  },
  {
   "cell_type": "code",
   "execution_count": 18,
   "metadata": {
    "colab": {
     "base_uri": "https://localhost:8080/"
    },
    "executionInfo": {
     "elapsed": 588,
     "status": "ok",
     "timestamp": 1729512923807,
     "user": {
      "displayName": "PGDAI ACTS",
      "userId": "16113966839122920361"
     },
     "user_tz": -330
    },
    "id": "9ssARapW-xlu",
    "outputId": "cdaf1c99-77fd-4972-8600-9093375fd38e"
   },
   "outputs": [
    {
     "name": "stdout",
     "output_type": "stream",
     "text": [
      "UTC Timestamp: 2023-03-15 13:20:00+00:00\n",
      "Asia/Kolkata Timestamp: 2023-03-15 18:50:00+05:30\n"
     ]
    }
   ],
   "source": [
    "# Unix/Epoch time\n",
    "unix_time = 1678886400  # A Unix timestamp\n",
    "\n",
    "utc_timestamp = pd.to_datetime(unix_time, unit='s', utc=True)\n",
    "print(\"UTC Timestamp:\", utc_timestamp)\n",
    "\n",
    "eastern_timestamp = utc_timestamp.tz_convert('Asia/Kolkata')\n",
    "print(\"Asia/Kolkata Timestamp:\", eastern_timestamp)"
   ]
  },
  {
   "cell_type": "markdown",
   "metadata": {
    "id": "zCijpKSWTWAt"
   },
   "source": [
    "\n",
    "18. Write a Pandas program to create a time series object with a time zone."
   ]
  },
  {
   "cell_type": "code",
   "execution_count": 19,
   "metadata": {
    "colab": {
     "base_uri": "https://localhost:8080/"
    },
    "executionInfo": {
     "elapsed": 502,
     "status": "ok",
     "timestamp": 1729512932568,
     "user": {
      "displayName": "PGDAI ACTS",
      "userId": "16113966839122920361"
     },
     "user_tz": -330
    },
    "id": "Ju6I-Ut2_52R",
    "outputId": "e3d07340-f7de-4360-8432-0f0dffb95209"
   },
   "outputs": [
    {
     "name": "stdout",
     "output_type": "stream",
     "text": [
      "DatetimeIndex(['2023-01-01 00:00:00+05:30', '2023-01-02 00:00:00+05:30',\n",
      "               '2023-01-03 00:00:00+05:30', '2023-01-04 00:00:00+05:30',\n",
      "               '2023-01-05 00:00:00+05:30', '2023-01-06 00:00:00+05:30',\n",
      "               '2023-01-07 00:00:00+05:30', '2023-01-08 00:00:00+05:30',\n",
      "               '2023-01-09 00:00:00+05:30', '2023-01-10 00:00:00+05:30'],\n",
      "              dtype='datetime64[ns, Asia/Kolkata]', freq='D')\n"
     ]
    }
   ],
   "source": [
    "# Create a time series object with a time zone\n",
    "time_series = pd.date_range('2023-01-01', periods=10, freq='D', tz='Asia/Kolkata')\n",
    "print(time_series)"
   ]
  },
  {
   "cell_type": "markdown",
   "metadata": {
    "id": "NNEOMZ-rTWDt"
   },
   "source": [
    "\n",
    "19. Write a Pandas program to remove the time zone information from a Time\n",
    "series data."
   ]
  },
  {
   "cell_type": "code",
   "execution_count": 20,
   "metadata": {
    "colab": {
     "base_uri": "https://localhost:8080/"
    },
    "executionInfo": {
     "elapsed": 442,
     "status": "ok",
     "timestamp": 1729513045822,
     "user": {
      "displayName": "PGDAI ACTS",
      "userId": "16113966839122920361"
     },
     "user_tz": -330
    },
    "id": "tD0SwVG0ASYN",
    "outputId": "9ef4952f-159d-4a11-9030-f5dac9486df5"
   },
   "outputs": [
    {
     "name": "stdout",
     "output_type": "stream",
     "text": [
      "time_series:\n",
      " DatetimeIndex(['2023-01-01 00:00:00+05:30', '2023-01-02 00:00:00+05:30',\n",
      "               '2023-01-03 00:00:00+05:30', '2023-01-04 00:00:00+05:30',\n",
      "               '2023-01-05 00:00:00+05:30', '2023-01-06 00:00:00+05:30',\n",
      "               '2023-01-07 00:00:00+05:30', '2023-01-08 00:00:00+05:30',\n",
      "               '2023-01-09 00:00:00+05:30', '2023-01-10 00:00:00+05:30'],\n",
      "              dtype='datetime64[ns, Asia/Kolkata]', freq='D')\n",
      "time_series_no_tz:  DatetimeIndex(['2023-01-01', '2023-01-02', '2023-01-03', '2023-01-04',\n",
      "               '2023-01-05', '2023-01-06', '2023-01-07', '2023-01-08',\n",
      "               '2023-01-09', '2023-01-10'],\n",
      "              dtype='datetime64[ns]', freq=None)\n"
     ]
    }
   ],
   "source": [
    "import pandas as pd\n",
    "\n",
    "# Create a time series with a time zone\n",
    "time_series = pd.date_range('2023-01-01', periods=10, freq='D', tz='Asia/Kolkata')\n",
    "print(\"time_series:\\n\", time_series)\n",
    "\n",
    "# Remove the time zone information\n",
    "time_series_no_tz = time_series.tz_localize(None)\n",
    "print(\"time_series_no_tz: \", time_series_no_tz)"
   ]
  },
  {
   "cell_type": "markdown",
   "metadata": {
    "id": "CbzezO4xTWGU"
   },
   "source": [
    "\n",
    "20. Write a Pandas program to subtract two timestamps of same time zone or\n",
    "different time zone."
   ]
  },
  {
   "cell_type": "code",
   "execution_count": 21,
   "metadata": {
    "colab": {
     "base_uri": "https://localhost:8080/"
    },
    "executionInfo": {
     "elapsed": 489,
     "status": "ok",
     "timestamp": 1729513246108,
     "user": {
      "displayName": "PGDAI ACTS",
      "userId": "16113966839122920361"
     },
     "user_tz": -330
    },
    "id": "lgfqFMjZAu3Q",
    "outputId": "e7942a2a-80e5-4479-96cb-759c3db6dd58"
   },
   "outputs": [
    {
     "name": "stdout",
     "output_type": "stream",
     "text": [
      "date 1:  2024-10-21 00:00:00\n",
      "date 2:  2024-10-21 00:00:00\n",
      "Diff:  31 days 00:00:00\n"
     ]
    }
   ],
   "source": [
    "date1 = pd.Timestamp('2024-10-21')\n",
    "print(\"date 1: \", specific_date)\n",
    "date2 = pd.Timestamp('2024-11-21')\n",
    "print(\"date 2: \", specific_date)\n",
    "\n",
    "print(\"Diff: \", date2-date1)"
   ]
  },
  {
   "cell_type": "markdown",
   "metadata": {
    "id": "LhjlhC63TWJU"
   },
   "source": [
    "\n",
    "21. Write a Pandas program to calculate all Thursdays between two given days."
   ]
  },
  {
   "cell_type": "code",
   "execution_count": 22,
   "metadata": {
    "colab": {
     "base_uri": "https://localhost:8080/"
    },
    "executionInfo": {
     "elapsed": 423,
     "status": "ok",
     "timestamp": 1729513428152,
     "user": {
      "displayName": "PGDAI ACTS",
      "userId": "16113966839122920361"
     },
     "user_tz": -330
    },
    "id": "KIlP_jzxBezM",
    "outputId": "ac3020e2-90e9-4370-a50b-f7d5123b4086"
   },
   "outputs": [
    {
     "name": "stdout",
     "output_type": "stream",
     "text": [
      "Thursdays:\n",
      " [Timestamp('2024-10-24 00:00:00'), Timestamp('2024-10-31 00:00:00'), Timestamp('2024-11-07 00:00:00'), Timestamp('2024-11-14 00:00:00')]\n"
     ]
    }
   ],
   "source": [
    "dates = pd.date_range('2024-10-21', freq='D', periods=30)\n",
    "print(\"Thursdays:\\n\", list(dates[dates.weekday == 3]))\n"
   ]
  },
  {
   "cell_type": "markdown",
   "metadata": {
    "id": "DkTCwaGFTTqs"
   },
   "source": [
    "\n",
    "22. Write a Pandas program to find the all the business quarterly begin and end\n",
    "dates of a specified year."
   ]
  },
  {
   "cell_type": "code",
   "execution_count": 23,
   "metadata": {
    "colab": {
     "base_uri": "https://localhost:8080/"
    },
    "executionInfo": {
     "elapsed": 523,
     "status": "ok",
     "timestamp": 1729513857757,
     "user": {
      "displayName": "PGDAI ACTS",
      "userId": "16113966839122920361"
     },
     "user_tz": -330
    },
    "id": "biVXVv-2CNFh",
    "outputId": "b2a8d00e-882f-4ac8-c55a-88a1719975da"
   },
   "outputs": [
    {
     "name": "stdout",
     "output_type": "stream",
     "text": [
      "DatetimeIndex(['2024-01-01', '2024-04-01', '2024-07-01', '2024-10-01'], dtype='datetime64[ns]', freq='BQS-JAN')\n",
      "DatetimeIndex(['2024-03-29', '2024-06-28', '2024-09-30', '2024-12-31'], dtype='datetime64[ns]', freq='BQE-DEC')\n"
     ]
    }
   ],
   "source": [
    "begin_dates = pd.date_range(start='2024-01-01',end='2024-12-31', freq='BQS')\n",
    "print(begin_dates)\n",
    "end_dates = pd.date_range(start='2024-01-01',end='2024-12-31', freq='BQE')\n",
    "print(end_dates)"
   ]
  },
  {
   "cell_type": "markdown",
   "metadata": {
    "id": "xcM0nkTSTTt0"
   },
   "source": [
    "\n",
    "23. Write a Pandas program to generate sequences of fixed-frequency dates and\n",
    "time spans intervals."
   ]
  },
  {
   "cell_type": "code",
   "execution_count": 24,
   "metadata": {
    "colab": {
     "base_uri": "https://localhost:8080/"
    },
    "executionInfo": {
     "elapsed": 549,
     "status": "ok",
     "timestamp": 1729514128680,
     "user": {
      "displayName": "PGDAI ACTS",
      "userId": "16113966839122920361"
     },
     "user_tz": -330
    },
    "id": "PgRXAv01EbIE",
    "outputId": "6ceea635-4e4c-41fc-a279-206f44f17a5a"
   },
   "outputs": [
    {
     "name": "stdout",
     "output_type": "stream",
     "text": [
      "With dates and time spans (1 H):\n",
      "\n",
      "DatetimeIndex(['2030-01-01 00:00:00', '2030-01-01 01:00:00',\n",
      "               '2030-01-01 02:00:00', '2030-01-01 03:00:00',\n",
      "               '2030-01-01 04:00:00', '2030-01-01 05:00:00',\n",
      "               '2030-01-01 06:00:00', '2030-01-01 07:00:00',\n",
      "               '2030-01-01 08:00:00', '2030-01-01 09:00:00'],\n",
      "              dtype='datetime64[ns]', freq='h')\n",
      "\n",
      "With dates and time spans (3 H):\n",
      "\n",
      "DatetimeIndex(['2030-01-01 00:00:00', '2030-01-01 04:00:00',\n",
      "               '2030-01-01 08:00:00', '2030-01-01 12:00:00',\n",
      "               '2030-01-01 16:00:00', '2030-01-01 20:00:00',\n",
      "               '2030-01-02 00:00:00', '2030-01-02 04:00:00',\n",
      "               '2030-01-02 08:00:00', '2030-01-02 12:00:00'],\n",
      "              dtype='datetime64[ns]', freq='4h')\n"
     ]
    }
   ],
   "source": [
    "print(\"With dates and time spans (1 H):\\n\")\n",
    "r1 = pd.date_range('2030-01-01', periods=10, freq='h')\n",
    "print(r1)\n",
    "print(\"\\nWith dates and time spans (3 H):\\n\")\n",
    "r2 = pd.date_range('2030-01-01', periods=10, freq='4h')\n",
    "print(r2)\n"
   ]
  },
  {
   "cell_type": "markdown",
   "metadata": {
    "id": "yggYez-FTTwk"
   },
   "source": [
    "\n",
    "24. Write a Pandas program to generate time series combining day and intraday\n",
    "offsets intervals."
   ]
  },
  {
   "cell_type": "code",
   "execution_count": 25,
   "metadata": {
    "colab": {
     "base_uri": "https://localhost:8080/"
    },
    "executionInfo": {
     "elapsed": 458,
     "status": "ok",
     "timestamp": 1729514237748,
     "user": {
      "displayName": "PGDAI ACTS",
      "userId": "16113966839122920361"
     },
     "user_tz": -330
    },
    "id": "Kg4hCon3E3UC",
    "outputId": "55c1981f-0183-45b3-ebf6-40a93ea25049"
   },
   "outputs": [
    {
     "name": "stdout",
     "output_type": "stream",
     "text": [
      "\n",
      "Time series with frequency 1 day 10 minutes and 20 microseconds:\n",
      "DatetimeIndex([       '2029-01-01 00:00:00', '2029-01-02 00:10:00.000020',\n",
      "               '2029-01-03 00:20:00.000040', '2029-01-04 00:30:00.000060',\n",
      "               '2029-01-05 00:40:00.000080', '2029-01-06 00:50:00.000100',\n",
      "               '2029-01-07 01:00:00.000120', '2029-01-08 01:10:00.000140',\n",
      "               '2029-01-09 01:20:00.000160', '2029-01-10 01:30:00.000180',\n",
      "               '2029-01-11 01:40:00.000200', '2029-01-12 01:50:00.000220',\n",
      "               '2029-01-13 02:00:00.000240', '2029-01-14 02:10:00.000260',\n",
      "               '2029-01-15 02:20:00.000280', '2029-01-16 02:30:00.000300',\n",
      "               '2029-01-17 02:40:00.000320', '2029-01-18 02:50:00.000340',\n",
      "               '2029-01-19 03:00:00.000360', '2029-01-20 03:10:00.000380'],\n",
      "              dtype='datetime64[ns]', freq='87000000020us')\n"
     ]
    },
    {
     "name": "stderr",
     "output_type": "stream",
     "text": [
      "C:\\Users\\anu\\AppData\\Local\\Temp\\ipykernel_8648\\820918202.py:1: FutureWarning: 'U' is deprecated and will be removed in a future version, please use 'us' instead.\n",
      "  dateset = pd.date_range('2029-01-01 00:00:00', periods=20, freq='1D10min20U')\n"
     ]
    }
   ],
   "source": [
    "dateset = pd.date_range('2029-01-01 00:00:00', periods=20, freq='1D10min20U')\n",
    "print(\"\\nTime series with frequency 1 day 10 minutes and 20 microseconds:\")\n",
    "print(dateset)\n"
   ]
  },
  {
   "cell_type": "markdown",
   "metadata": {
    "id": "bsPlAG_QUkPx"
   },
   "source": [
    "25. Write a Pandas program to extract the day name from a specified date. Add 2\n",
    "days and 1 business day with the specified date.\n"
   ]
  },
  {
   "cell_type": "code",
   "execution_count": 26,
   "metadata": {
    "colab": {
     "base_uri": "https://localhost:8080/"
    },
    "executionInfo": {
     "elapsed": 452,
     "status": "ok",
     "timestamp": 1729514430255,
     "user": {
      "displayName": "PGDAI ACTS",
      "userId": "16113966839122920361"
     },
     "user_tz": -330
    },
    "id": "f5nLXetUFS8J",
    "outputId": "ac74e45a-980b-4f4a-a3a3-e49b3979bba6"
   },
   "outputs": [
    {
     "name": "stdout",
     "output_type": "stream",
     "text": [
      "First date:\n",
      "2020-02-07 00:00:00\n",
      "\n",
      "The day name of the said date:\n",
      "Friday\n",
      "\n",
      "Add 2 days with the said date:\n",
      "Sunday\n",
      "\n",
      "Next business day:\n",
      "Monday\n"
     ]
    }
   ],
   "source": [
    "newday = pd.Timestamp('2020-02-07')\n",
    "print(\"First date:\")\n",
    "print(newday)\n",
    "print(\"\\nThe day name of the said date:\")\n",
    "print(newday.day_name())\n",
    "print(\"\\nAdd 2 days with the said date:\")\n",
    "newday1 = newday + pd.Timedelta('2 day')\n",
    "print(newday1.day_name())\n",
    "print(\"\\nNext business day:\")\n",
    "nbday = newday + pd.offsets.BDay()\n",
    "print(nbday.day_name())\n"
   ]
  },
  {
   "cell_type": "markdown",
   "metadata": {
    "id": "dDHze_GaTT2k"
   },
   "source": [
    "\n",
    "26. Write a Pandas program to convert integer or float epoch times to Timestamp\n",
    "and DatetimeIndex."
   ]
  },
  {
   "cell_type": "code",
   "execution_count": 27,
   "metadata": {
    "colab": {
     "base_uri": "https://localhost:8080/"
    },
    "executionInfo": {
     "elapsed": 452,
     "status": "ok",
     "timestamp": 1729514514596,
     "user": {
      "displayName": "PGDAI ACTS",
      "userId": "16113966839122920361"
     },
     "user_tz": -330
    },
    "id": "vb-nvOawGDxH",
    "outputId": "5746e221-8921-4980-b3aa-8977647a3dfd"
   },
   "outputs": [
    {
     "name": "stdout",
     "output_type": "stream",
     "text": [
      "dates1:\n",
      " DatetimeIndex(['2012-02-21 06:41:45', '1974-02-11 09:21:45',\n",
      "               '2009-08-10 08:28:25', '2009-08-11 08:28:25',\n",
      "               '2009-08-12 08:28:25'],\n",
      "              dtype='datetime64[ns]', freq=None)\n",
      "\n",
      "Convert integer or float epoch times to Timestamp and DatetimeIndex upto second:\n",
      "DatetimeIndex(['2012-02-21 06:41:45', '1974-02-11 09:21:45',\n",
      "               '2009-08-10 08:28:25', '2009-08-11 08:28:25',\n",
      "               '2009-08-12 08:28:25'],\n",
      "              dtype='datetime64[ns]', freq=None)\n",
      "\n",
      "Convert integer or float epoch times to Timestamp and DatetimeIndex upto milisecond:\n",
      "DatetimeIndex(['2009-08-08 08:28:25.100000', '2009-08-08 08:28:25.200000',\n",
      "               '2009-08-08 08:28:25.300000', '2009-08-08 08:28:25.400000',\n",
      "               '2009-08-08 08:28:25.500000'],\n",
      "              dtype='datetime64[ns]', freq=None)\n"
     ]
    }
   ],
   "source": [
    "import pandas as pd\n",
    "dates1 = pd.to_datetime([1329806505, 129806505, 1249892905,\n",
    "                1249979305, 1250065705], unit='s')\n",
    "print(\"dates1:\\n\", dates1)\n",
    "print(\"\\nConvert integer or float epoch times to Timestamp and DatetimeIndex upto second:\")\n",
    "print(dates1)\n",
    "print(\"\\nConvert integer or float epoch times to Timestamp and DatetimeIndex upto milisecond:\")\n",
    "dates2 = pd.to_datetime([1249720105100, 1249720105200, 1249720105300,\n",
    "                1249720105400, 1249720105500], unit='ms')\n",
    "print(dates2)"
   ]
  },
  {
   "cell_type": "markdown",
   "metadata": {
    "id": "XpFh2LGaTT5U"
   },
   "source": [
    "\n",
    "27. Write a Pandas program to calculate one, two, three business day(s) from a\n",
    "specified date. Also find the next business month end from a specific date."
   ]
  },
  {
   "cell_type": "code",
   "execution_count": 28,
   "metadata": {
    "colab": {
     "base_uri": "https://localhost:8080/"
    },
    "executionInfo": {
     "elapsed": 461,
     "status": "ok",
     "timestamp": 1729515407399,
     "user": {
      "displayName": "PGDAI ACTS",
      "userId": "16113966839122920361"
     },
     "user_tz": -330
    },
    "id": "6gBjk6gxHonX",
    "outputId": "84f22886-2289-4d1b-af48-9d0d4183f415"
   },
   "outputs": [
    {
     "name": "stdout",
     "output_type": "stream",
     "text": [
      "one, two, three business day:\n",
      " DatetimeIndex(['2012-02-06', '2012-02-07', '2012-02-08'], dtype='datetime64[ns]', freq='B')\n",
      "next business month end:\n",
      " DatetimeIndex(['2012-02-29'], dtype='datetime64[ns]', freq='BME')\n"
     ]
    }
   ],
   "source": [
    "bdates = pd.date_range('2012-02-5', freq='B', periods=3)\n",
    "print(\"one, two, three business day:\\n\", bdates)\n",
    "\n",
    "nxt_bmonth_end = pd.date_range('2012-02-5', freq='BME', periods=1)\n",
    "print(\"next business month end:\\n\", nxt_bmonth_end)"
   ]
  },
  {
   "cell_type": "markdown",
   "metadata": {
    "id": "-zcFzIrtHNtv"
   },
   "source": [
    "28. Write a Pandas program to create a period index represent all monthly\n",
    "boundaries of a given year. Also print start and end time for each period object in the said index."
   ]
  },
  {
   "cell_type": "code",
   "execution_count": 29,
   "metadata": {
    "colab": {
     "base_uri": "https://localhost:8080/"
    },
    "executionInfo": {
     "elapsed": 604,
     "status": "ok",
     "timestamp": 1729516186015,
     "user": {
      "displayName": "PGDAI ACTS",
      "userId": "16113966839122920361"
     },
     "user_tz": -330
    },
    "id": "TZsqbBuvJuUf",
    "outputId": "fdcd50b5-8c83-40d9-f373-b4ae3c79de97"
   },
   "outputs": [
    {
     "name": "stdout",
     "output_type": "stream",
     "text": [
      "All monthly boundaries of a given year:\n",
      "PeriodIndex(['2020-01', '2020-02', '2020-03', '2020-04', '2020-05', '2020-06',\n",
      "             '2020-07', '2020-08', '2020-09', '2020-10', '2020-11', '2020-12'],\n",
      "            dtype='period[M]')\n",
      "\n",
      "Start and end time for each period object in the said index:\n",
      "start_time: 2020-01-01 00:00:00, end_time: 2020-01-31 23:59:59.999999999\n",
      "start_time: 2020-02-01 00:00:00, end_time: 2020-02-29 23:59:59.999999999\n",
      "start_time: 2020-03-01 00:00:00, end_time: 2020-03-31 23:59:59.999999999\n",
      "start_time: 2020-04-01 00:00:00, end_time: 2020-04-30 23:59:59.999999999\n",
      "start_time: 2020-05-01 00:00:00, end_time: 2020-05-31 23:59:59.999999999\n",
      "start_time: 2020-06-01 00:00:00, end_time: 2020-06-30 23:59:59.999999999\n",
      "start_time: 2020-07-01 00:00:00, end_time: 2020-07-31 23:59:59.999999999\n",
      "start_time: 2020-08-01 00:00:00, end_time: 2020-08-31 23:59:59.999999999\n",
      "start_time: 2020-09-01 00:00:00, end_time: 2020-09-30 23:59:59.999999999\n",
      "start_time: 2020-10-01 00:00:00, end_time: 2020-10-31 23:59:59.999999999\n",
      "start_time: 2020-11-01 00:00:00, end_time: 2020-11-30 23:59:59.999999999\n",
      "start_time: 2020-12-01 00:00:00, end_time: 2020-12-31 23:59:59.999999999\n"
     ]
    }
   ],
   "source": [
    "dateset = pd.period_range('2020/1/1', '2020/12/31', freq='M')\n",
    "print(\"All monthly boundaries of a given year:\")\n",
    "print(dateset)\n",
    "print(\"\\nStart and end time for each period object in the said index:\")\n",
    "for d in dateset:\n",
    "    print (f\"start_time: {d.start_time}, end_time: {d.end_time}\")"
   ]
  },
  {
   "cell_type": "markdown",
   "metadata": {
    "id": "V3yhJ6MsTT8U"
   },
   "source": [
    "\n",
    "29. Write a Pandas program create a series with a PeriodIndex which represents\n",
    "all the calendar month periods in 2029 and 2031. Also print the values for all\n",
    "periods in 2030.\n",
    "Note: PeriodIndex is an immutable ndarray holding ordinal values indicating\n",
    "regular periods in time such as particular years, quarters, months, etc."
   ]
  },
  {
   "cell_type": "code",
   "execution_count": 30,
   "metadata": {
    "colab": {
     "base_uri": "https://localhost:8080/"
    },
    "executionInfo": {
     "elapsed": 454,
     "status": "ok",
     "timestamp": 1729516385236,
     "user": {
      "displayName": "PGDAI ACTS",
      "userId": "16113966839122920361"
     },
     "user_tz": -330
    },
    "id": "EyxQII4IM6JS",
    "outputId": "b706b1c9-9d2e-4270-e381-2fd3eb02c72f"
   },
   "outputs": [
    {
     "name": "stdout",
     "output_type": "stream",
     "text": [
      "PeriodIndex calendar month periods in 2029 and 2030:\n",
      "2029-01    0.791668\n",
      "2029-02    1.191229\n",
      "2029-03    0.141140\n",
      "2029-04    0.756522\n",
      "2029-05    0.737502\n",
      "2029-06   -0.177273\n",
      "2029-07    1.201593\n",
      "2029-08    0.040070\n",
      "2029-09   -0.561953\n",
      "2029-10   -0.092729\n",
      "2029-11   -0.260512\n",
      "2029-12    1.412658\n",
      "2030-01   -2.284384\n",
      "2030-02    1.131775\n",
      "2030-03   -0.516414\n",
      "2030-04    0.822835\n",
      "2030-05    1.980489\n",
      "2030-06   -1.533594\n",
      "2030-07   -0.744217\n",
      "2030-08    1.164477\n",
      "2030-09   -1.303931\n",
      "2030-10    1.384242\n",
      "2030-11   -1.921734\n",
      "2030-12    0.259012\n",
      "2031-01    2.068540\n",
      "2031-02    1.543325\n",
      "2031-03   -1.070454\n",
      "2031-04   -0.596920\n",
      "2031-05   -0.008116\n",
      "2031-06   -0.051952\n",
      "2031-07    0.280414\n",
      "2031-08   -0.654138\n",
      "2031-09   -0.861348\n",
      "2031-10    0.922784\n",
      "2031-11    1.139234\n",
      "2031-12    0.954278\n",
      "Freq: M, dtype: float64\n",
      "\n",
      "Values for all periods in 2030:\n",
      "2030-01   -2.284384\n",
      "2030-02    1.131775\n",
      "2030-03   -0.516414\n",
      "2030-04    0.822835\n",
      "2030-05    1.980489\n",
      "2030-06   -1.533594\n",
      "2030-07   -0.744217\n",
      "2030-08    1.164477\n",
      "2030-09   -1.303931\n",
      "2030-10    1.384242\n",
      "2030-11   -1.921734\n",
      "2030-12    0.259012\n",
      "Freq: M, dtype: float64\n"
     ]
    }
   ],
   "source": [
    "pi = pd.Series(np.random.randn(36),\n",
    "               index=pd.period_range('1/1/2029', '12/31/2031', freq='M'))\n",
    "print(\"PeriodIndex calendar month periods in 2029 and 2030:\")\n",
    "print(pi)\n",
    "print(\"\\nValues for all periods in 2030:\")\n",
    "print(pi['2030'])"
   ]
  },
  {
   "cell_type": "markdown",
   "metadata": {
    "id": "XGOQ4UB1TUEE"
   },
   "source": [
    "\n",
    "30. Write a Pandas program to generate holidays between two dates using the\n",
    "US federal holiday calendar."
   ]
  },
  {
   "cell_type": "code",
   "execution_count": 31,
   "metadata": {
    "colab": {
     "base_uri": "https://localhost:8080/"
    },
    "executionInfo": {
     "elapsed": 454,
     "status": "ok",
     "timestamp": 1729516634960,
     "user": {
      "displayName": "PGDAI ACTS",
      "userId": "16113966839122920361"
     },
     "user_tz": -330
    },
    "id": "yRylVfbLNj7F",
    "outputId": "e0e75c54-7834-43df-bfad-bbe83dce9843"
   },
   "outputs": [
    {
     "name": "stdout",
     "output_type": "stream",
     "text": [
      "Holidays between 2021-01-01 and 2030-12-31 using the US federal holiday calendar.\n",
      "2024-01-01 00:00:00\n",
      "2024-01-15 00:00:00\n",
      "2024-02-19 00:00:00\n",
      "2024-05-27 00:00:00\n",
      "2024-06-19 00:00:00\n",
      "2024-07-04 00:00:00\n",
      "2024-09-02 00:00:00\n",
      "2024-10-14 00:00:00\n",
      "2024-11-11 00:00:00\n",
      "2024-11-28 00:00:00\n",
      "2024-12-25 00:00:00\n"
     ]
    }
   ],
   "source": [
    "import pandas as pd\n",
    "from pandas.tseries.holiday import USFederalHolidayCalendar\n",
    "\n",
    "print(\"Holidays between 2021-01-01 and 2030-12-31 using the US federal holiday calendar.\")\n",
    "cal = USFederalHolidayCalendar()\n",
    "for dt in cal.holidays(start='1/1/2024', end='31/12/2024'):\n",
    "    print (dt)\n"
   ]
  },
  {
   "cell_type": "markdown",
   "metadata": {
    "id": "j4vFg75rTUGs"
   },
   "source": [
    "\n",
    "31. Write a Pandas program to create a monthly time period and display the list\n",
    "of names in the current local scope."
   ]
  },
  {
   "cell_type": "code",
   "execution_count": 32,
   "metadata": {
    "colab": {
     "base_uri": "https://localhost:8080/"
    },
    "executionInfo": {
     "elapsed": 459,
     "status": "ok",
     "timestamp": 1729516928819,
     "user": {
      "displayName": "PGDAI ACTS",
      "userId": "16113966839122920361"
     },
     "user_tz": -330
    },
    "id": "8sw4etFlOaQB",
    "outputId": "988db54d-c887-4fa8-fcd2-16aa32c85bd4"
   },
   "outputs": [
    {
     "name": "stdout",
     "output_type": "stream",
     "text": [
      "Monthly time perid:  2001-08\n",
      "\n",
      "List of names in the current local scope:\n",
      "['__add__', '__array_priority__', '__class__', '__delattr__', '__dict__', '__dir__', '__doc__', '__eq__', '__format__', '__ge__', '__getattribute__', '__getstate__', '__gt__', '__hash__', '__init__', '__init_subclass__', '__le__', '__lt__', '__module__', '__ne__', '__new__', '__radd__', '__reduce__', '__reduce_cython__', '__reduce_ex__', '__repr__', '__rsub__', '__setattr__', '__setstate__', '__setstate_cython__', '__sizeof__', '__str__', '__sub__', '__subclasshook__', '__weakref__', '_add_offset', '_add_timedeltalike_scalar', '_dtype', '_from_ordinal', '_maybe_convert_freq', '_require_matching_freq', 'asfreq', 'day', 'day_of_week', 'day_of_year', 'dayofweek', 'dayofyear', 'days_in_month', 'daysinmonth', 'end_time', 'freq', 'freqstr', 'hour', 'is_leap_year', 'minute', 'month', 'now', 'ordinal', 'quarter', 'qyear', 'second', 'start_time', 'strftime', 'to_timestamp', 'week', 'weekday', 'weekofyear', 'year']\n"
     ]
    }
   ],
   "source": [
    "mtp = pd.Period('2001-8','M')\n",
    "print(\"Monthly time perid: \",mtp)\n",
    "print(\"\\nList of names in the current local scope:\")\n",
    "print(dir(mtp))"
   ]
  },
  {
   "cell_type": "markdown",
   "metadata": {
    "id": "g0bYskzbTUJE"
   },
   "source": [
    "\n",
    "32. Write a Pandas program to create a yearly time period from a specified year\n",
    "and display the properties of this period."
   ]
  },
  {
   "cell_type": "code",
   "execution_count": 33,
   "metadata": {
    "colab": {
     "base_uri": "https://localhost:8080/"
    },
    "executionInfo": {
     "elapsed": 454,
     "status": "ok",
     "timestamp": 1729517200989,
     "user": {
      "displayName": "PGDAI ACTS",
      "userId": "16113966839122920361"
     },
     "user_tz": -330
    },
    "id": "wwioIKcvPRv-",
    "outputId": "24aa86c2-3b09-4c0b-8771-e8d4892c7239"
   },
   "outputs": [
    {
     "name": "stdout",
     "output_type": "stream",
     "text": [
      "Yearly time perid: 2010\n",
      "\n",
      "All the properties of the said period:\n",
      "['__add__', '__array_priority__', '__class__', '__delattr__', '__dict__', '__dir__', '__doc__', '__eq__', '__format__', '__ge__', '__getattribute__', '__getstate__', '__gt__', '__hash__', '__init__', '__init_subclass__', '__le__', '__lt__', '__module__', '__ne__', '__new__', '__radd__', '__reduce__', '__reduce_cython__', '__reduce_ex__', '__repr__', '__rsub__', '__setattr__', '__setstate__', '__setstate_cython__', '__sizeof__', '__str__', '__sub__', '__subclasshook__', '__weakref__', '_add_offset', '_add_timedeltalike_scalar', '_dtype', '_from_ordinal', '_maybe_convert_freq', '_require_matching_freq', 'asfreq', 'day', 'day_of_week', 'day_of_year', 'dayofweek', 'dayofyear', 'days_in_month', 'daysinmonth', 'end_time', 'freq', 'freqstr', 'hour', 'is_leap_year', 'minute', 'month', 'now', 'ordinal', 'quarter', 'qyear', 'second', 'start_time', 'strftime', 'to_timestamp', 'week', 'weekday', 'weekofyear', 'year']\n"
     ]
    }
   ],
   "source": [
    "ytp = pd.Period('2010')\n",
    "print(\"Yearly time perid:\",ytp)\n",
    "print(\"\\nAll the properties of the said period:\")\n",
    "print(dir(ytp))"
   ]
  },
  {
   "cell_type": "code",
   "execution_count": null,
   "metadata": {
    "id": "VghlXBG0PV0O"
   },
   "outputs": [],
   "source": []
  }
 ],
 "metadata": {
  "colab": {
   "authorship_tag": "ABX9TyOgrN4os7/WO/BlP+ipO7Lc",
   "mount_file_id": "1wVfcNjx60jsgJ6PRoP_DD8W4snGn1QyE",
   "provenance": []
  },
  "kernelspec": {
   "display_name": "py3-12-0",
   "language": "python",
   "name": "py3-12-0"
  },
  "language_info": {
   "codemirror_mode": {
    "name": "ipython",
    "version": 3
   },
   "file_extension": ".py",
   "mimetype": "text/x-python",
   "name": "python",
   "nbconvert_exporter": "python",
   "pygments_lexer": "ipython3",
   "version": "3.12.0"
  }
 },
 "nbformat": 4,
 "nbformat_minor": 1
}
