{
 "cells": [
  {
   "cell_type": "code",
   "execution_count": 1,
   "id": "e8e09275",
   "metadata": {},
   "outputs": [],
   "source": [
    "import numpy as np\n",
    "from math import sqrt,ceil\n",
    "from numpy import random"
   ]
  },
  {
   "cell_type": "code",
   "execution_count": 6,
   "id": "af31693a",
   "metadata": {},
   "outputs": [
    {
     "name": "stdout",
     "output_type": "stream",
     "text": [
      "1.20.3\n"
     ]
    }
   ],
   "source": [
    "#1. Write a NumPy program to get the numpy version and show numpy build configuration.\n",
    "print(np.__version__)"
   ]
  },
  {
   "cell_type": "code",
   "execution_count": 7,
   "id": "82058b27",
   "metadata": {},
   "outputs": [
    {
     "name": "stdout",
     "output_type": "stream",
     "text": [
      "Help on ufunc:\n",
      "\n",
      "add = <ufunc 'add'>\n",
      "    add(x1, x2, /, out=None, *, where=True, casting='same_kind', order='K', dtype=None, subok=True[, signature, extobj])\n",
      "    \n",
      "    Add arguments element-wise.\n",
      "    \n",
      "    Parameters\n",
      "    ----------\n",
      "    x1, x2 : array_like\n",
      "        The arrays to be added.\n",
      "        If ``x1.shape != x2.shape``, they must be broadcastable to a common\n",
      "        shape (which becomes the shape of the output).\n",
      "    out : ndarray, None, or tuple of ndarray and None, optional\n",
      "        A location into which the result is stored. If provided, it must have\n",
      "        a shape that the inputs broadcast to. If not provided or None,\n",
      "        a freshly-allocated array is returned. A tuple (possible only as a\n",
      "        keyword argument) must have length equal to the number of outputs.\n",
      "    where : array_like, optional\n",
      "        This condition is broadcast over the input. At locations where the\n",
      "        condition is True, the `out` array will be set to the ufunc result.\n",
      "        Elsewhere, the `out` array will retain its original value.\n",
      "        Note that if an uninitialized `out` array is created via the default\n",
      "        ``out=None``, locations within it where the condition is False will\n",
      "        remain uninitialized.\n",
      "    **kwargs\n",
      "        For other keyword-only arguments, see the\n",
      "        :ref:`ufunc docs <ufuncs.kwargs>`.\n",
      "    \n",
      "    Returns\n",
      "    -------\n",
      "    add : ndarray or scalar\n",
      "        The sum of `x1` and `x2`, element-wise.\n",
      "        This is a scalar if both `x1` and `x2` are scalars.\n",
      "    \n",
      "    Notes\n",
      "    -----\n",
      "    Equivalent to `x1` + `x2` in terms of array broadcasting.\n",
      "    \n",
      "    Examples\n",
      "    --------\n",
      "    >>> np.add(1.0, 4.0)\n",
      "    5.0\n",
      "    >>> x1 = np.arange(9.0).reshape((3, 3))\n",
      "    >>> x2 = np.arange(3.0)\n",
      "    >>> np.add(x1, x2)\n",
      "    array([[  0.,   2.,   4.],\n",
      "           [  3.,   5.,   7.],\n",
      "           [  6.,   8.,  10.]])\n",
      "    \n",
      "    The ``+`` operator can be used as a shorthand for ``np.add`` on ndarrays.\n",
      "    \n",
      "    >>> x1 = np.arange(9.0).reshape((3, 3))\n",
      "    >>> x2 = np.arange(3.0)\n",
      "    >>> x1 + x2\n",
      "    array([[ 0.,  2.,  4.],\n",
      "           [ 3.,  5.,  7.],\n",
      "           [ 6.,  8., 10.]])\n",
      "\n",
      "None\n"
     ]
    }
   ],
   "source": [
    "#2. Write a NumPy program to get help on the add function.\n",
    "print(help(np.add))"
   ]
  },
  {
   "cell_type": "code",
   "execution_count": 8,
   "id": "1b9dffe1",
   "metadata": {},
   "outputs": [
    {
     "name": "stdout",
     "output_type": "stream",
     "text": [
      "False\n"
     ]
    }
   ],
   "source": [
    "#3. Write a NumPy program to test whether none of the elements of a given array is zero.\n",
    "arr1 = np.array([1,2,3,0,3])\n",
    "print(np.all(arr1))"
   ]
  },
  {
   "cell_type": "code",
   "execution_count": 9,
   "id": "dadaf9f8",
   "metadata": {},
   "outputs": [
    {
     "name": "stdout",
     "output_type": "stream",
     "text": [
      "True\n"
     ]
    }
   ],
   "source": [
    "#4. Write a NumPy program to test whether any of the elements of a given array is non-zero.\n",
    "arr3 = np.array([1, 0, 0, 1, 0, 2])\n",
    "print(np.any(arr3))"
   ]
  },
  {
   "cell_type": "code",
   "execution_count": 10,
   "id": "46cfeeeb",
   "metadata": {},
   "outputs": [
    {
     "name": "stdout",
     "output_type": "stream",
     "text": [
      "[False  True False  True False]\n"
     ]
    }
   ],
   "source": [
    "#5. Write a NumPy program to test a given array element-wise for finiteness (not infinity or not a Number).\n",
    "arr4 = np.array([1,np.inf,3,np.nan,367])\n",
    "print(np.logical_or(np.isnan(arr4), np.isinf(arr4)))"
   ]
  },
  {
   "cell_type": "code",
   "execution_count": 11,
   "id": "d5332832",
   "metadata": {},
   "outputs": [
    {
     "name": "stdout",
     "output_type": "stream",
     "text": [
      "[False  True False  True False]\n",
      "[False  True False  True False]\n"
     ]
    }
   ],
   "source": [
    "#6. Write a NumPy program to test element-wise for positive or negative infinity.\n",
    "arr5 = np.array([1, np.inf, 3, -np.inf, 367])\n",
    "print(np.logical_or(np.isposinf(arr5), np.isneginf(arr5)))\n",
    "print(np.logical_not(np.isfinite(arr5)))"
   ]
  },
  {
   "cell_type": "code",
   "execution_count": 12,
   "id": "2a939e0f",
   "metadata": {},
   "outputs": [
    {
     "name": "stdout",
     "output_type": "stream",
     "text": [
      "[False  True False  True False]\n",
      "[False  True False  True False]\n"
     ]
    }
   ],
   "source": [
    "#6. Write a NumPy program to test element-wise for positive or negative infinity.\n",
    "arr5 = np.array([1, np.inf, 3, -np.inf, 367])\n",
    "print(np.logical_or(np.isposinf(arr5), np.isneginf(arr5)))\n",
    "print(np.logical_not(np.isfinite(arr5)))"
   ]
  },
  {
   "cell_type": "code",
   "execution_count": 13,
   "id": "b5c8a55e",
   "metadata": {},
   "outputs": [
    {
     "name": "stdout",
     "output_type": "stream",
     "text": [
      "[False  True False  True False]\n"
     ]
    }
   ],
   "source": [
    "#7. Write a NumPy program to test element-wise for NaN of a given array.\n",
    "arr6 = np.array([1,np.nan,3,np.nan,367])\n",
    "print(np.isnan(arr6))\n"
   ]
  },
  {
   "cell_type": "code",
   "execution_count": 14,
   "id": "415012cf",
   "metadata": {},
   "outputs": [
    {
     "name": "stdout",
     "output_type": "stream",
     "text": [
      "[ True False False False False  True]\n",
      "[False  True  True  True  True False]\n",
      "False\n"
     ]
    }
   ],
   "source": [
    "#8. Write a NumPy program to test element-wise for complex number, real number of a given array. \n",
    "#Also test whether a given number is a scalar type or not.\n",
    "print(np.iscomplex([1+1j, 1+0j, 4.5, 3, 2, 2j]))\n",
    "print(np.isreal([1+1j, 1+0j, 4.5, 3, 2, 2j]))\n",
    "print(np.apply_along_axis(func1d=np.isscalar,axis=0 , arr = np.array([3.1,2,4,1.1])))"
   ]
  },
  {
   "cell_type": "code",
   "execution_count": 16,
   "id": "a1decd6a",
   "metadata": {},
   "outputs": [
    {
     "name": "stdout",
     "output_type": "stream",
     "text": [
      "greater:  [False False False  True False False False False  True False]\n",
      "less:  [ True  True  True False  True  True  True  True False  True]\n",
      "greater_equal:  [False False False  True False False False False  True False]\n",
      "less_equal:  [ True  True  True False  True  True  True  True False  True]\n"
     ]
    }
   ],
   "source": [
    "#9. Write a NumPy program to create an element-wise comparison (greater, greater_equal, less and less_equal)\n",
    "#of two given arrays.\n",
    "arr7 = np.random.randint(1,100,10)\n",
    "arr8 = np.random.randint(1,100,10)\n",
    "print(\"greater: \",np.greater(arr7,arr8))\n",
    "print(\"less: \",np.less(arr7,arr8))\n",
    "print(\"greater_equal: \",np.greater_equal(arr7,arr8))\n",
    "print(\"less_equal: \",np.less_equal(arr7,arr8))\n"
   ]
  },
  {
   "cell_type": "code",
   "execution_count": 21,
   "id": "11ee7ab5",
   "metadata": {},
   "outputs": [
    {
     "name": "stdout",
     "output_type": "stream",
     "text": [
      "size:  4\n",
      "itemsize:  4\n",
      "size*itemsize:  16\n"
     ]
    }
   ],
   "source": [
    "#10. Write a NumPy program to create an array with the values 1, 7, 13, 105 \n",
    "#and determine the size of the memory occupied by the array.\n",
    "arr9 = np.array([1, 7, 13, 105])\n",
    "print(\"size: \", arr9.size)\n",
    "print(\"itemsize: \", arr9.itemsize)\n",
    "print(\"size*itemsize: \", arr9.size*arr9.itemsize)"
   ]
  },
  {
   "cell_type": "code",
   "execution_count": 22,
   "id": "d531fc3a",
   "metadata": {},
   "outputs": [
    {
     "name": "stdout",
     "output_type": "stream",
     "text": [
      "[0. 0. 0. 0. 0. 0. 0. 0. 0. 0.]\n",
      "[1. 1. 1. 1. 1. 1. 1. 1. 1. 1.]\n",
      "[5 5 5 5 5 5 5 5 5 5]\n"
     ]
    }
   ],
   "source": [
    "#11. Write a NumPy program to create an array of 10 zeros,10 ones, 10 fives.\n",
    "print(np.zeros(10))\n",
    "print(np.ones(10))\n",
    "print(np.full(10,5))"
   ]
  },
  {
   "cell_type": "code",
   "execution_count": 25,
   "id": "951db42c",
   "metadata": {},
   "outputs": [
    {
     "name": "stdout",
     "output_type": "stream",
     "text": [
      "[30 31 32 33 34 35 36 37 38 39 40 41 42 43 44 45 46 47 48 49 50 51 52 53\n",
      " 54 55 56 57 58 59 60 61 62 63 64 65 66 67 68 69 70]\n"
     ]
    }
   ],
   "source": [
    "#12. Write a NumPy program to create an array of the integers from 30 to 70.\n",
    "print(np.arange(start=30,stop=71))"
   ]
  },
  {
   "cell_type": "code",
   "execution_count": 24,
   "id": "53242868",
   "metadata": {},
   "outputs": [
    {
     "name": "stdout",
     "output_type": "stream",
     "text": [
      "[30 32 34 36 38 40 42 44 46 48 50 52 54 56 58 60 62 64 66 68 70]\n"
     ]
    }
   ],
   "source": [
    "#13. Write a NumPy program to create an array of all the even integers from 30 to 70.\n",
    "print(np.arange(start=30,stop=71,step=2))"
   ]
  },
  {
   "cell_type": "code",
   "execution_count": 27,
   "id": "4049d5a3",
   "metadata": {},
   "outputs": [
    {
     "name": "stdout",
     "output_type": "stream",
     "text": [
      "[[1. 0. 0.]\n",
      " [0. 1. 0.]\n",
      " [0. 0. 1.]]\n"
     ]
    }
   ],
   "source": [
    "#14. Write a NumPy program to create a 3x3 identity matrix.\n",
    "print(np.eye(3))"
   ]
  },
  {
   "cell_type": "code",
   "execution_count": 26,
   "id": "86bae86b",
   "metadata": {},
   "outputs": [
    {
     "name": "stdout",
     "output_type": "stream",
     "text": [
      "0.1625722527103851\n"
     ]
    }
   ],
   "source": [
    "#15. Write a NumPy program to generate a random number between 0 and 1.\n",
    "print(np.random.random())"
   ]
  },
  {
   "cell_type": "code",
   "execution_count": 28,
   "id": "1d67e0e1",
   "metadata": {},
   "outputs": [
    {
     "name": "stdout",
     "output_type": "stream",
     "text": [
      "[ 1.90819398 -0.30897075  0.58783034  0.31703796 -1.4371132  -1.1403145\n",
      " -0.55822416  0.72104451  0.04681417  1.26216771 -1.39317551 -0.91075953\n",
      "  0.97361903  1.69995927 -0.38349159]\n"
     ]
    }
   ],
   "source": [
    "#16. Write a NumPy program to generate an array of 15 random numbers from a standard normal distribution.\n",
    "print(np.random.normal(0, 1, 15))\n"
   ]
  },
  {
   "cell_type": "code",
   "execution_count": 29,
   "id": "59fea64e",
   "metadata": {},
   "outputs": [
    {
     "name": "stdout",
     "output_type": "stream",
     "text": [
      "[16 17 18 19 20 21 22 23 24 25 26 27 28 29 30 31 32 33 34 35 36 37 38 39\n",
      " 40 41 42 43 44 45 46 47 48 49 50 51 52 53]\n"
     ]
    }
   ],
   "source": [
    "#17. Write a NumPy program to create a vector with values ranging from 15 to 55\n",
    "#and print all values except the first and last.\n",
    "print(np.arange(15, 55)[1:-1])"
   ]
  },
  {
   "cell_type": "code",
   "execution_count": 30,
   "id": "46f30be2",
   "metadata": {},
   "outputs": [
    {
     "name": "stdout",
     "output_type": "stream",
     "text": [
      "[[0.54428939 0.55141799 0.59624707 0.96391431]\n",
      " [0.75661217 0.71879165 0.1686119  0.83205985]\n",
      " [0.39356093 0.11375409 0.16306744 0.70842157]]\n",
      "[[ 1  2  3  4]\n",
      " [ 5  6  7  8]\n",
      " [ 9 10 11 12]]\n"
     ]
    }
   ],
   "source": [
    "#18. Write a NumPy program to create a 3X4 array.\n",
    "print(np.random.random((3,4)))\n",
    "print(np.arange(1,13).reshape(3,4))\n"
   ]
  },
  {
   "cell_type": "code",
   "execution_count": 31,
   "id": "1cb70347",
   "metadata": {},
   "outputs": [
    {
     "name": "stdout",
     "output_type": "stream",
     "text": [
      "[ 5. 10. 15. 20. 25. 30. 35. 40. 45. 50.]\n"
     ]
    }
   ],
   "source": [
    "#19. Write a NumPy program to create a vector of length 10 with values evenly distributed between 5 and 50.\n",
    "print(np.linspace(5, 50, 10))"
   ]
  },
  {
   "cell_type": "code",
   "execution_count": 32,
   "id": "05e66a96",
   "metadata": {},
   "outputs": [
    {
     "name": "stdout",
     "output_type": "stream",
     "text": [
      "[  0   1   2   3   4   5   6   7   8  -9 -10 -11 -12 -13 -14 -15  16  17\n",
      "  18  19]\n"
     ]
    }
   ],
   "source": [
    "#20. Write a NumPy program to create a vector with values from 0 to 20 and change the sign of\n",
    "#the numbers in the range from 9 to 15.\n",
    "arr10 = np.arange(0,20)\n",
    "arr10[9:16] = -1*arr10[9:16]\n",
    "print(arr10)\n"
   ]
  },
  {
   "cell_type": "code",
   "execution_count": 33,
   "id": "eeb31718",
   "metadata": {},
   "outputs": [
    {
     "name": "stdout",
     "output_type": "stream",
     "text": [
      "[5 0 7 1 7]\n"
     ]
    }
   ],
   "source": [
    "#21. Write a NumPy program to create a vector of length 5 filled with arbitrary integers from 0 to 10.\")\n",
    "print(np.random.randint(0, 11, 5))"
   ]
  },
  {
   "cell_type": "code",
   "execution_count": 34,
   "id": "24c37d07",
   "metadata": {},
   "outputs": [
    {
     "name": "stdout",
     "output_type": "stream",
     "text": [
      "[ 6  6  6 10  9]*[2 6 9 5 8]=[12 36 54 50 72]\n"
     ]
    }
   ],
   "source": [
    "#22. Write a NumPy program to multiply the values of two given vectors.\n",
    "arr11 = np.random.randint(1,12,5)\n",
    "arr12 = np.random.randint(1,12,5)\n",
    "print(f'{arr11}*{arr12}={arr11*arr12}')"
   ]
  },
  {
   "cell_type": "code",
   "execution_count": 36,
   "id": "f2539811",
   "metadata": {},
   "outputs": [
    {
     "name": "stdout",
     "output_type": "stream",
     "text": [
      "[[13 16 16 12]\n",
      " [11 13 10 18]\n",
      " [17 17 17 17]]\n"
     ]
    }
   ],
   "source": [
    "#23. Write a NumPy program to create a 3x4 matrix filled with values from 10 to 21.\n",
    "print(np.random.randint(10,21,12).reshape(3,4))\n"
   ]
  },
  {
   "cell_type": "code",
   "execution_count": 35,
   "id": "f381ad7f",
   "metadata": {},
   "outputs": [
    {
     "name": "stdout",
     "output_type": "stream",
     "text": [
      "(3, 4)\n"
     ]
    }
   ],
   "source": [
    "#24. Write a NumPy program to find the number of rows and columns of a given matrix.\")\n",
    "print(np.full((3,4), np.random.random()).shape)\n"
   ]
  },
  {
   "cell_type": "code",
   "execution_count": 37,
   "id": "0ee2a529",
   "metadata": {},
   "outputs": [
    {
     "name": "stdout",
     "output_type": "stream",
     "text": [
      "[[1. 0. 0.]\n",
      " [0. 1. 0.]\n",
      " [0. 0. 1.]]\n"
     ]
    }
   ],
   "source": [
    "#25. Write a NumPy program to create a 3x3 identity matrix, i.e. diagonal elements are 1, the rest are 0.\n",
    "print(np.eye(3))"
   ]
  },
  {
   "cell_type": "code",
   "execution_count": 43,
   "id": "c3066b2a",
   "metadata": {},
   "outputs": [
    {
     "name": "stdout",
     "output_type": "stream",
     "text": [
      "[[1. 1. 1. 1. 1. 1. 1. 1. 1. 1.]\n",
      " [1. 0. 0. 0. 0. 0. 0. 0. 0. 1.]\n",
      " [1. 0. 0. 0. 0. 0. 0. 0. 0. 1.]\n",
      " [1. 0. 0. 0. 0. 0. 0. 0. 0. 1.]\n",
      " [1. 0. 0. 0. 0. 0. 0. 0. 0. 1.]\n",
      " [1. 0. 0. 0. 0. 0. 0. 0. 0. 1.]\n",
      " [1. 0. 0. 0. 0. 0. 0. 0. 0. 1.]\n",
      " [1. 0. 0. 0. 0. 0. 0. 0. 0. 1.]\n",
      " [1. 0. 0. 0. 0. 0. 0. 0. 0. 1.]\n",
      " [1. 1. 1. 1. 1. 1. 1. 1. 1. 1.]]\n"
     ]
    }
   ],
   "source": [
    "#26. Write a NumPy program to create a 10x10 matrix, in which the elements on the borders will be equal to 1, and inside 0.\n",
    "arr = np.ones((10,10))\n",
    "arr[1:-1,1:-1] = 0\n",
    "print(arr)"
   ]
  },
  {
   "cell_type": "code",
   "execution_count": 44,
   "id": "2de52c2d",
   "metadata": {},
   "outputs": [
    {
     "name": "stdout",
     "output_type": "stream",
     "text": [
      "[[1. 0. 0. 0. 0.]\n",
      " [0. 2. 0. 0. 0.]\n",
      " [0. 0. 3. 0. 0.]\n",
      " [0. 0. 0. 4. 0.]\n",
      " [0. 0. 0. 0. 5.]]\n"
     ]
    }
   ],
   "source": [
    "#27. Write a NumPy program to create a 5x5 zero matrix with elements on the main diagonal equal to 1, 2, 3, 4, 5.\n",
    "arr14 = np.zeros((5,5))\n",
    "np.fill_diagonal(arr14,np.arange(1,6))\n",
    "print(arr14)"
   ]
  },
  {
   "cell_type": "code",
   "execution_count": 45,
   "id": "fc2c0db0",
   "metadata": {},
   "outputs": [
    {
     "name": "stdout",
     "output_type": "stream",
     "text": [
      "[[[72 52 43]\n",
      "  [90 83 83]\n",
      "  [83 61  1]]\n",
      "\n",
      " [[86 56  7]\n",
      "  [25 52 37]\n",
      "  [16 79 23]]\n",
      "\n",
      " [[26 37 52]\n",
      "  [74 94 62]\n",
      "  [14 71  1]]]\n"
     ]
    }
   ],
   "source": [
    "#28. Write a NumPy program to create a 3x3x3 array filled with arbitrary values.\")\n",
    "arr15 = np.random.randint(low=0, high=100,size=27).reshape(3,3,3)\n",
    "print(arr15)"
   ]
  },
  {
   "cell_type": "code",
   "execution_count": 46,
   "id": "e5388113",
   "metadata": {},
   "outputs": [
    {
     "name": "stdout",
     "output_type": "stream",
     "text": [
      "[[2 6 9]\n",
      " [4 6 7]\n",
      " [4 2 4]]\n",
      "[[8 6 5]\n",
      " [1 9 2]\n",
      " [7 5 2]]\n",
      "[[ 85 111  40]\n",
      " [ 87 113  46]\n",
      " [ 62  62  32]]\n",
      "[[ 97  74  62]\n",
      " [103  72  72]\n",
      " [ 64  30  46]]\n"
     ]
    }
   ],
   "source": [
    "#29. Write a NumPy program to compute the inner product of two given vectors.\")\n",
    "arr17 = np.random.randint(low=0, high=10,size=9).reshape(3,3)\n",
    "arr16 = np.random.randint(low=0, high=10,size=9).reshape(3,3)\n",
    "print(arr16, arr17, sep='\\n')\n",
    "print(np.dot(arr16,arr17))\n",
    "print(np.inner(arr16,arr17))\n"
   ]
  },
  {
   "cell_type": "code",
   "execution_count": 47,
   "id": "9f13b120",
   "metadata": {},
   "outputs": [
    {
     "name": "stdout",
     "output_type": "stream",
     "text": [
      "[[ 9 22 25]\n",
      " [29 15 28]\n",
      " [ 9  5  7]]\n",
      "[[ 9  5  7]\n",
      " [ 9 15 25]\n",
      " [29 22 28]]\n",
      "[[ 9 22 25]\n",
      " [15 28 29]\n",
      " [ 5  7  9]]\n",
      "[[ 5  7  9]\n",
      " [ 9 15 25]\n",
      " [22 28 29]]\n"
     ]
    }
   ],
   "source": [
    "#30. Write a NumPy program to sort a given array by row and column in ascending order.\n",
    "arr20 = np.random.randint(low=0, high=30,size=9).reshape(3,3)\n",
    "print(arr20)\n",
    "print(np.sort(arr20,axis=0))  # Row wise\n",
    "print(np.sort(arr20,axis=1))  # Column wise wise\n",
    "print(np.sort(np.sort(arr20,axis=0),axis=1))  # Row the column both"
   ]
  },
  {
   "cell_type": "code",
   "execution_count": 62,
   "id": "294525af",
   "metadata": {},
   "outputs": [
    {
     "name": "stdout",
     "output_type": "stream",
     "text": [
      "Original: \n",
      " [[ 7  0  1]\n",
      " [11  8  6]\n",
      " [20 20  8]]\n",
      "Which are greater than limit 12: \n",
      " [[False False False]\n",
      " [False False False]\n",
      " [ True  True False]]\n",
      "Greater than limit 12 values:\n",
      " [20 20]\n"
     ]
    }
   ],
   "source": [
    "#31. Write a NumPy program to extract all numbers from a given array which are less and greater than a specified number.\n",
    "limit = 12\n",
    "arr21 = np.random.randint(low=0, high=30,size=9).reshape(3,3)\n",
    "print(\"Original: \\n\",arr21)\n",
    "print(f\"Which are greater than limit {limit}: \\n\", arr21> limit)\n",
    "print(f\"Greater than limit {limit} values:\\n\", arr21[arr21> limit])"
   ]
  },
  {
   "cell_type": "code",
   "execution_count": 63,
   "id": "c957b13d",
   "metadata": {},
   "outputs": [
    {
     "name": "stdout",
     "output_type": "stream",
     "text": [
      "Original:\n",
      " [[ 7  0  1]\n",
      " [11  8  6]\n",
      " [20 20  8]]\n",
      "\n",
      "EqualTo\n",
      " [[ 7  0  1]\n",
      " [11  8  6]\n",
      " [20 20  8]]\n",
      "\n",
      "LessThan\n",
      " [[19 19 19]\n",
      " [19 19 19]\n",
      " [20 20 19]]\n",
      "\n",
      "MoreThan\n",
      " [[ 7  0  1]\n",
      " [11  8  6]\n",
      " [19 19  8]]\n"
     ]
    }
   ],
   "source": [
    "#32. Write a NumPy program to replace all numbers in a given array which is equal, less and greater to a given number.\n",
    "#value = 11\n",
    "value = 19\n",
    "\n",
    "arr22 = arr21.copy()\n",
    "print(\"Original:\\n\", arr22)\n",
    "\n",
    "arr22[arr22 == value] = value\n",
    "print(\"\\nEqualTo\\n\", arr22)\n",
    "\n",
    "arr22 = arr21.copy()\n",
    "arr22[arr22 < value] = value\n",
    "print(\"\\nLessThan\\n\", arr22)\n",
    "\n",
    "arr22 = arr21.copy()\n",
    "arr22[arr22 > value] = value\n",
    "print(\"\\nMoreThan\\n\",arr22)\n"
   ]
  },
  {
   "cell_type": "code",
   "execution_count": 67,
   "id": "6a0f0133",
   "metadata": {},
   "outputs": [
    {
     "name": "stdout",
     "output_type": "stream",
     "text": [
      "Original:\n",
      " [[10 14 28]\n",
      " [12  0 23]\n",
      " [13  9  8]]\n",
      "\n",
      "New array:\n",
      " [[2 2 2]\n",
      " [2 2 2]\n",
      " [2 2 2]]\n",
      "Shape and type:  (3, 3) int32\n"
     ]
    }
   ],
   "source": [
    "#33. Write a NumPy program to create an array of equal shape and data type of a given array.\n",
    "nums = np.random.randint(low=0, high=30,size=9).reshape(3,3)\n",
    "print(\"Original:\\n\", nums)\n",
    "temp3 = np.full_like(nums,2)\n",
    "print(\"\\nNew array:\\n\",temp3)\n",
    "print(\"Shape and type: \", temp3.shape, temp3.dtype)"
   ]
  },
  {
   "cell_type": "code",
   "execution_count": 68,
   "id": "479e226a",
   "metadata": {},
   "outputs": [
    {
     "name": "stdout",
     "output_type": "stream",
     "text": [
      "[[[ 1  2  3  4]\n",
      "  [ 5  6  7  8]\n",
      "  [ 9 10 11 12]\n",
      "  [13 14 15 16]\n",
      "  [17 18 19 20]]\n",
      "\n",
      " [[21 22 23 24]\n",
      "  [25 26 27 28]\n",
      "  [29 30 31 32]\n",
      "  [33 34 35 36]\n",
      "  [37 38 39 40]]\n",
      "\n",
      " [[41 42 43 44]\n",
      "  [45 46 47 48]\n",
      "  [49 50 51 52]\n",
      "  [53 54 55 56]\n",
      "  [57 58 59 60]]]\n"
     ]
    }
   ],
   "source": [
    "#34. Write a NumPy program to create a three-dimension array with shape (3,5,4) and set to a variable.\n",
    "shape = (3,5,4)\n",
    "arr23 = np.arange(1,shape[0]*shape[1]*shape[2]+1).reshape(shape)\n",
    "print(arr23)"
   ]
  },
  {
   "cell_type": "code",
   "execution_count": 69,
   "id": "9203fa4e",
   "metadata": {},
   "outputs": [
    {
     "name": "stdout",
     "output_type": "stream",
     "text": [
      "[[4 1 3]\n",
      " [8 6 1]\n",
      " [1 7 2]]\n",
      "[[8 5 5]\n",
      " [9 6 4]\n",
      " [2 3 1]]\n",
      "[[32  5 15]\n",
      " [72 36  4]\n",
      " [ 2 21  2]]\n"
     ]
    }
   ],
   "source": [
    "#35. Write a NumPy program to multiply two given arrays of same size element-by-element.\n",
    "arr24 = np.random.randint(low=0, high=10,size=9).reshape(3,3)\n",
    "arr25 = np.random.randint(low=0, high=10,size=9).reshape(3,3)\n",
    "print(arr24, arr25, sep='\\n')\n",
    "print(arr24*arr25)"
   ]
  },
  {
   "cell_type": "code",
   "execution_count": null,
   "id": "8a33b456",
   "metadata": {},
   "outputs": [],
   "source": []
  }
 ],
 "metadata": {
  "kernelspec": {
   "display_name": "Python 3 (ipykernel)",
   "language": "python",
   "name": "python3"
  },
  "language_info": {
   "codemirror_mode": {
    "name": "ipython",
    "version": 3
   },
   "file_extension": ".py",
   "mimetype": "text/x-python",
   "name": "python",
   "nbconvert_exporter": "python",
   "pygments_lexer": "ipython3",
   "version": "3.9.7"
  }
 },
 "nbformat": 4,
 "nbformat_minor": 5
}
