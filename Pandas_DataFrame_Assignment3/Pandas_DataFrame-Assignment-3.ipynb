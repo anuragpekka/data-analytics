{
 "cells": [
  {
   "cell_type": "code",
   "execution_count": 18,
   "metadata": {
    "executionInfo": {
     "elapsed": 677,
     "status": "ok",
     "timestamp": 1728965554427,
     "user": {
      "displayName": "PGDAI ACTS",
      "userId": "16113966839122920361"
     },
     "user_tz": -330
    },
    "id": "aRlD8gE5qpIf"
   },
   "outputs": [],
   "source": [
    "import numpy as np\n",
    "import pandas as pd\n",
    "import matplotlib.pyplot as plt"
   ]
  },
  {
   "cell_type": "markdown",
   "metadata": {
    "id": "-3FolY2dqpcG"
   },
   "source": [
    "### 1. Write a Pandas program to read a csv file from a specified source and print the first 5 rows.   (Diamonds.csv)  "
   ]
  },
  {
   "cell_type": "code",
   "execution_count": 19,
   "metadata": {
    "colab": {
     "base_uri": "https://localhost:8080/",
     "height": 206
    },
    "executionInfo": {
     "elapsed": 11,
     "status": "ok",
     "timestamp": 1728965555117,
     "user": {
      "displayName": "PGDAI ACTS",
      "userId": "16113966839122920361"
     },
     "user_tz": -330
    },
    "id": "ALt4MDhuni1D",
    "outputId": "40d97ced-8dd2-4270-ef70-70930712bf76"
   },
   "outputs": [
    {
     "data": {
      "text/html": [
       "<div>\n",
       "<style scoped>\n",
       "    .dataframe tbody tr th:only-of-type {\n",
       "        vertical-align: middle;\n",
       "    }\n",
       "\n",
       "    .dataframe tbody tr th {\n",
       "        vertical-align: top;\n",
       "    }\n",
       "\n",
       "    .dataframe thead th {\n",
       "        text-align: right;\n",
       "    }\n",
       "</style>\n",
       "<table border=\"1\" class=\"dataframe\">\n",
       "  <thead>\n",
       "    <tr style=\"text-align: right;\">\n",
       "      <th></th>\n",
       "      <th>Unnamed: 0</th>\n",
       "      <th>carat</th>\n",
       "      <th>cut</th>\n",
       "      <th>color</th>\n",
       "      <th>clarity</th>\n",
       "      <th>depth</th>\n",
       "      <th>table</th>\n",
       "      <th>price</th>\n",
       "      <th>x</th>\n",
       "      <th>y</th>\n",
       "      <th>z</th>\n",
       "    </tr>\n",
       "  </thead>\n",
       "  <tbody>\n",
       "    <tr>\n",
       "      <th>0</th>\n",
       "      <td>1</td>\n",
       "      <td>0.23</td>\n",
       "      <td>Ideal</td>\n",
       "      <td>E</td>\n",
       "      <td>SI2</td>\n",
       "      <td>61.5</td>\n",
       "      <td>55.0</td>\n",
       "      <td>326</td>\n",
       "      <td>3.95</td>\n",
       "      <td>3.98</td>\n",
       "      <td>2.43</td>\n",
       "    </tr>\n",
       "    <tr>\n",
       "      <th>1</th>\n",
       "      <td>2</td>\n",
       "      <td>0.21</td>\n",
       "      <td>Premium</td>\n",
       "      <td>E</td>\n",
       "      <td>SI1</td>\n",
       "      <td>59.8</td>\n",
       "      <td>61.0</td>\n",
       "      <td>326</td>\n",
       "      <td>3.89</td>\n",
       "      <td>3.84</td>\n",
       "      <td>2.31</td>\n",
       "    </tr>\n",
       "    <tr>\n",
       "      <th>2</th>\n",
       "      <td>3</td>\n",
       "      <td>0.23</td>\n",
       "      <td>Good</td>\n",
       "      <td>E</td>\n",
       "      <td>VS1</td>\n",
       "      <td>56.9</td>\n",
       "      <td>65.0</td>\n",
       "      <td>327</td>\n",
       "      <td>4.05</td>\n",
       "      <td>4.07</td>\n",
       "      <td>2.31</td>\n",
       "    </tr>\n",
       "    <tr>\n",
       "      <th>3</th>\n",
       "      <td>4</td>\n",
       "      <td>0.29</td>\n",
       "      <td>Premium</td>\n",
       "      <td>I</td>\n",
       "      <td>VS2</td>\n",
       "      <td>62.4</td>\n",
       "      <td>58.0</td>\n",
       "      <td>334</td>\n",
       "      <td>4.20</td>\n",
       "      <td>4.23</td>\n",
       "      <td>2.63</td>\n",
       "    </tr>\n",
       "    <tr>\n",
       "      <th>4</th>\n",
       "      <td>5</td>\n",
       "      <td>0.31</td>\n",
       "      <td>Good</td>\n",
       "      <td>J</td>\n",
       "      <td>SI2</td>\n",
       "      <td>63.3</td>\n",
       "      <td>58.0</td>\n",
       "      <td>335</td>\n",
       "      <td>4.34</td>\n",
       "      <td>4.35</td>\n",
       "      <td>2.75</td>\n",
       "    </tr>\n",
       "  </tbody>\n",
       "</table>\n",
       "</div>"
      ],
      "text/plain": [
       "   Unnamed: 0  carat      cut color clarity  depth  table  price     x     y  \\\n",
       "0           1   0.23    Ideal     E     SI2   61.5   55.0    326  3.95  3.98   \n",
       "1           2   0.21  Premium     E     SI1   59.8   61.0    326  3.89  3.84   \n",
       "2           3   0.23     Good     E     VS1   56.9   65.0    327  4.05  4.07   \n",
       "3           4   0.29  Premium     I     VS2   62.4   58.0    334  4.20  4.23   \n",
       "4           5   0.31     Good     J     SI2   63.3   58.0    335  4.34  4.35   \n",
       "\n",
       "      z  \n",
       "0  2.43  \n",
       "1  2.31  \n",
       "2  2.31  \n",
       "3  2.63  \n",
       "4  2.75  "
      ]
     },
     "execution_count": 19,
     "metadata": {},
     "output_type": "execute_result"
    }
   ],
   "source": [
    "df = pd.read_csv('diamonds.csv')\n",
    "df.head(5)"
   ]
  },
  {
   "cell_type": "markdown",
   "metadata": {
    "id": "j5PwE4rhn5Vl"
   },
   "source": [
    "\n",
    "### 2. Write a Pandas program to read a dataset from diamonds DataFrame and modify the default columns values and print the first 6 rows.  \n"
   ]
  },
  {
   "cell_type": "code",
   "execution_count": 20,
   "metadata": {
    "colab": {
     "base_uri": "https://localhost:8080/"
    },
    "executionInfo": {
     "elapsed": 10,
     "status": "ok",
     "timestamp": 1728965555117,
     "user": {
      "displayName": "PGDAI ACTS",
      "userId": "16113966839122920361"
     },
     "user_tz": -330
    },
    "id": "B2kpHoBrn5g1",
    "outputId": "4a424245-3e7a-4b96-b460-1136a6008953"
   },
   "outputs": [
    {
     "name": "stdout",
     "output_type": "stream",
     "text": [
      "   Unnamed: 0  carat        cut color clarity  depth  table  price     x  \\\n",
      "0           1   0.23       Good     E     SI2   61.5   55.0    326  3.95   \n",
      "1           2   0.21    Premium     E     SI1   59.8   61.0    326  3.89   \n",
      "2           3   0.23       Good     E     VS1   56.9   65.0    327  4.05   \n",
      "3           4   0.29    Premium     I     VS2   62.4   58.0    334  4.20   \n",
      "4           5   0.31       Good     J     SI2   63.3   58.0    335  4.34   \n",
      "5           6   0.24  Very Good     J    VVS2   62.8   57.0    336  3.94   \n",
      "\n",
      "      y     z  \n",
      "0  3.98  2.43  \n",
      "1  3.84  2.31  \n",
      "2  4.07  2.31  \n",
      "3  4.23  2.63  \n",
      "4  4.35  2.75  \n",
      "5  3.96  2.48  \n"
     ]
    }
   ],
   "source": [
    "new_df = df.copy()\n",
    "new_df.at[0, 'cut']='Good'\n",
    "print(new_df.head(6))"
   ]
  },
  {
   "cell_type": "markdown",
   "metadata": {
    "id": "W1vm-Z9Kn5uU"
   },
   "source": [
    "### 3. Write a Pandas program to select a series from diamonds DataFrame. Print the content of the series.  \n"
   ]
  },
  {
   "cell_type": "code",
   "execution_count": 21,
   "metadata": {
    "colab": {
     "base_uri": "https://localhost:8080/"
    },
    "executionInfo": {
     "elapsed": 843,
     "status": "ok",
     "timestamp": 1728965555952,
     "user": {
      "displayName": "PGDAI ACTS",
      "userId": "16113966839122920361"
     },
     "user_tz": -330
    },
    "id": "x7eYPBhhn510",
    "outputId": "93d1d7a1-d363-43c5-cf88-ea7d5b7ec946"
   },
   "outputs": [
    {
     "name": "stdout",
     "output_type": "stream",
     "text": [
      "Type:  <class 'pandas.core.series.Series'>\n",
      "Value Count: \n",
      " SI1     13065\n",
      "VS2     12258\n",
      "SI2      9194\n",
      "VS1      8171\n",
      "VVS2     5066\n",
      "VVS1     3655\n",
      "IF       1790\n",
      "I1        741\n",
      "Name: clarity, dtype: int64\n",
      "Clearity: \n",
      " 0     SI2\n",
      "1     SI1\n",
      "2     VS1\n",
      "3     VS2\n",
      "4     SI2\n",
      "5    VVS2\n",
      "6    VVS1\n",
      "7     SI1\n",
      "8     VS2\n",
      "9     VS1\n",
      "Name: clarity, dtype: object\n"
     ]
    }
   ],
   "source": [
    "print('Type: ',type(df['clarity']))\n",
    "print('Value Count: \\n',df['clarity'].value_counts())\n",
    "print('Clearity: \\n',df['clarity'].head(10))"
   ]
  },
  {
   "cell_type": "markdown",
   "metadata": {
    "id": "M7NNBz5Vn59c"
   },
   "source": [
    "### 4. Write a Pandas program to create a new 'Quality - color' Series (use bracket notation to define the Series name) of the diamonds DataFrame.  "
   ]
  },
  {
   "cell_type": "code",
   "execution_count": 22,
   "metadata": {
    "colab": {
     "base_uri": "https://localhost:8080/"
    },
    "executionInfo": {
     "elapsed": 85,
     "status": "ok",
     "timestamp": 1728965555952,
     "user": {
      "displayName": "PGDAI ACTS",
      "userId": "16113966839122920361"
     },
     "user_tz": -330
    },
    "id": "_u4t23zpn6Eu",
    "outputId": "296ade28-aa98-4e13-8353-25f5993fb92f"
   },
   "outputs": [
    {
     "name": "stdout",
     "output_type": "stream",
     "text": [
      "0        Ideal-E\n",
      "1      Premium-E\n",
      "2         Good-E\n",
      "3      Premium-I\n",
      "4         Good-J\n",
      "5    Very Good-J\n",
      "6    Very Good-I\n",
      "7    Very Good-H\n",
      "8         Fair-E\n",
      "9    Very Good-H\n",
      "Name: Quality-color, dtype: object\n"
     ]
    }
   ],
   "source": [
    "df['Quality-color'] = df['cut'] + '-' + df['color']\n",
    "print(df['Quality-color'].head(10))"
   ]
  },
  {
   "cell_type": "markdown",
   "metadata": {
    "id": "H43W2yT9sENN"
   },
   "source": [
    "### 5. Write a Pandas program to find the number of rows and columns and data type of each column of diamonds Dataframe.  \n"
   ]
  },
  {
   "cell_type": "code",
   "execution_count": 23,
   "metadata": {
    "colab": {
     "base_uri": "https://localhost:8080/"
    },
    "executionInfo": {
     "elapsed": 80,
     "status": "ok",
     "timestamp": 1728965555952,
     "user": {
      "displayName": "PGDAI ACTS",
      "userId": "16113966839122920361"
     },
     "user_tz": -330
    },
    "id": "-5kl0zBBsBiI",
    "outputId": "da257407-d911-45bb-f482-473f05215bd2"
   },
   "outputs": [
    {
     "name": "stdout",
     "output_type": "stream",
     "text": [
      "info : \n",
      "\n",
      "<class 'pandas.core.frame.DataFrame'>\n",
      "RangeIndex: 53940 entries, 0 to 53939\n",
      "Data columns (total 12 columns):\n",
      " #   Column         Non-Null Count  Dtype  \n",
      "---  ------         --------------  -----  \n",
      " 0   Unnamed: 0     53940 non-null  int64  \n",
      " 1   carat          53940 non-null  float64\n",
      " 2   cut            53940 non-null  object \n",
      " 3   color          53940 non-null  object \n",
      " 4   clarity        53940 non-null  object \n",
      " 5   depth          53940 non-null  float64\n",
      " 6   table          53940 non-null  float64\n",
      " 7   price          53940 non-null  int64  \n",
      " 8   x              53940 non-null  float64\n",
      " 9   y              53940 non-null  float64\n",
      " 10  z              53940 non-null  float64\n",
      " 11  Quality-color  53940 non-null  object \n",
      "dtypes: float64(6), int64(2), object(4)\n",
      "memory usage: 4.9+ MB\n",
      "None\n"
     ]
    }
   ],
   "source": [
    "print('info : \\n')\n",
    "print(df.info())"
   ]
  },
  {
   "cell_type": "markdown",
   "metadata": {
    "id": "d-jji5bksPqs"
   },
   "source": [
    "### 6. Write a Pandas program to summarize only 'object' columns of the diamonds Dataframe."
   ]
  },
  {
   "cell_type": "code",
   "execution_count": 24,
   "metadata": {
    "colab": {
     "base_uri": "https://localhost:8080/"
    },
    "executionInfo": {
     "elapsed": 76,
     "status": "ok",
     "timestamp": 1728965555952,
     "user": {
      "displayName": "PGDAI ACTS",
      "userId": "16113966839122920361"
     },
     "user_tz": -330
    },
    "id": "64CPoNaIsPw0",
    "outputId": "b05277a7-28a0-46d2-e58c-148e9fcdf16a"
   },
   "outputs": [
    {
     "name": "stdout",
     "output_type": "stream",
     "text": [
      "          cut  color clarity Quality-color\n",
      "count   53940  53940   53940         53940\n",
      "unique      5      7       8            35\n",
      "top     Ideal      G     SI1       Ideal-G\n",
      "freq    21551  11292   13065          4884\n"
     ]
    }
   ],
   "source": [
    "print(df.describe(include=['object']))"
   ]
  },
  {
   "cell_type": "markdown",
   "metadata": {
    "id": "y5-3a9h_sP20"
   },
   "source": [
    "\n",
    "### 7. Write a Pandas program to rename two of the columns of the diamonds Dataframe.  "
   ]
  },
  {
   "cell_type": "code",
   "execution_count": 25,
   "metadata": {
    "colab": {
     "base_uri": "https://localhost:8080/"
    },
    "executionInfo": {
     "elapsed": 70,
     "status": "ok",
     "timestamp": 1728965555952,
     "user": {
      "displayName": "PGDAI ACTS",
      "userId": "16113966839122920361"
     },
     "user_tz": -330
    },
    "id": "-xmXRg9gsP8u",
    "outputId": "dc9c3652-9d8e-4ff3-f8d1-9a712f6b9a6f"
   },
   "outputs": [
    {
     "name": "stdout",
     "output_type": "stream",
     "text": [
      "   Unnamed: 0  carat        cut color clarity  depth  table  price  length_mm  \\\n",
      "0           1   0.23      Ideal     E     SI2   61.5   55.0    326       3.95   \n",
      "1           2   0.21    Premium     E     SI1   59.8   61.0    326       3.89   \n",
      "2           3   0.23       Good     E     VS1   56.9   65.0    327       4.05   \n",
      "3           4   0.29    Premium     I     VS2   62.4   58.0    334       4.20   \n",
      "4           5   0.31       Good     J     SI2   63.3   58.0    335       4.34   \n",
      "5           6   0.24  Very Good     J    VVS2   62.8   57.0    336       3.94   \n",
      "\n",
      "   width_mm  depth_mm Quality-color  \n",
      "0      3.98      2.43       Ideal-E  \n",
      "1      3.84      2.31     Premium-E  \n",
      "2      4.07      2.31        Good-E  \n",
      "3      4.23      2.63     Premium-I  \n",
      "4      4.35      2.75        Good-J  \n",
      "5      3.96      2.48   Very Good-J  \n"
     ]
    }
   ],
   "source": [
    "new_df = df.rename(columns={\n",
    "    'x': 'length_mm',\n",
    "    'y': 'width_mm',\n",
    "    'z': 'depth_mm'\n",
    "    }\n",
    ")\n",
    "print(new_df.head(6))"
   ]
  },
  {
   "cell_type": "markdown",
   "metadata": {
    "id": "_l2UZpdvsQCu"
   },
   "source": [
    "\n",
    "### 8. Write a Pandas program to rename all the columns of the diamonds Dataframe.  "
   ]
  },
  {
   "cell_type": "code",
   "execution_count": 26,
   "metadata": {
    "colab": {
     "base_uri": "https://localhost:8080/"
    },
    "executionInfo": {
     "elapsed": 65,
     "status": "ok",
     "timestamp": 1728965555952,
     "user": {
      "displayName": "PGDAI ACTS",
      "userId": "16113966839122920361"
     },
     "user_tz": -330
    },
    "id": "di-SeMX0ub09",
    "outputId": "e7eea89f-bf8d-4ab1-f494-842a4bc64bbe"
   },
   "outputs": [
    {
     "name": "stdout",
     "output_type": "stream",
     "text": [
      "['Unnamed: 0' 'carat' 'cut' 'color' 'clarity' 'depth' 'table' 'price' 'x'\n",
      " 'y' 'z' 'Quality-color']\n"
     ]
    }
   ],
   "source": [
    "print(df.columns.values)"
   ]
  },
  {
   "cell_type": "code",
   "execution_count": 27,
   "metadata": {
    "colab": {
     "base_uri": "https://localhost:8080/"
    },
    "executionInfo": {
     "elapsed": 62,
     "status": "ok",
     "timestamp": 1728965555952,
     "user": {
      "displayName": "PGDAI ACTS",
      "userId": "16113966839122920361"
     },
     "user_tz": -330
    },
    "id": "ju1UBwlysQIU",
    "outputId": "ad710b82-6c33-45b4-fc3c-41ef479af1c3"
   },
   "outputs": [
    {
     "name": "stdout",
     "output_type": "stream",
     "text": [
      "   0_renamed  carat_renamed cut_renamed color_renamed clarity_renamed  \\\n",
      "0          1           0.23       Ideal             E             SI2   \n",
      "1          2           0.21     Premium             E             SI1   \n",
      "2          3           0.23        Good             E             VS1   \n",
      "3          4           0.29     Premium             I             VS2   \n",
      "4          5           0.31        Good             J             SI2   \n",
      "5          6           0.24   Very Good             J            VVS2   \n",
      "\n",
      "   depth_renamed  table_renamed  price_renamed  _renamedx  y_renamed  \\\n",
      "0           61.5           55.0            326       3.95       3.98   \n",
      "1           59.8           61.0            326       3.89       3.84   \n",
      "2           56.9           65.0            327       4.05       4.07   \n",
      "3           62.4           58.0            334       4.20       4.23   \n",
      "4           63.3           58.0            335       4.34       4.35   \n",
      "5           62.8           57.0            336       3.94       3.96   \n",
      "\n",
      "   z_renamed Quality-colo_renamedr  \n",
      "0       2.43               Ideal-E  \n",
      "1       2.31             Premium-E  \n",
      "2       2.31                Good-E  \n",
      "3       2.63             Premium-I  \n",
      "4       2.75                Good-J  \n",
      "5       2.48           Very Good-J  \n"
     ]
    }
   ],
   "source": [
    "new_df = df.rename(columns={\n",
    "    'Unnamed: 0' : '0_renamed' ,\n",
    "    'carat' : 'carat_renamed' ,\n",
    "    'cut' : 'cut_renamed' ,\n",
    "    'color' : 'color_renamed' ,\n",
    "    'clarity' : 'clarity_renamed' ,\n",
    "    'depth' : 'depth_renamed' ,\n",
    "    'table' : 'table_renamed' ,\n",
    "    'price' : 'price_renamed' ,\n",
    "    'x': '_renamedx',\n",
    "    'y' : 'y_renamed' ,\n",
    "    'z' : 'z_renamed' ,\n",
    "    'Quality-color': 'Quality-colo_renamedr',\n",
    "    }\n",
    ")\n",
    "print(new_df.head(6))"
   ]
  },
  {
   "cell_type": "markdown",
   "metadata": {
    "id": "5T95Bzb1sQPG"
   },
   "source": [
    "\n",
    "### 9. Write a Pandas program to remove the second column of the diamonds Dataframe.  "
   ]
  },
  {
   "cell_type": "code",
   "execution_count": 28,
   "metadata": {
    "colab": {
     "base_uri": "https://localhost:8080/"
    },
    "executionInfo": {
     "elapsed": 59,
     "status": "ok",
     "timestamp": 1728965555952,
     "user": {
      "displayName": "PGDAI ACTS",
      "userId": "16113966839122920361"
     },
     "user_tz": -330
    },
    "id": "sxeae3vpsQVz",
    "outputId": "fd6d3b6d-ee9a-4e96-af13-cfb36c5ecb80"
   },
   "outputs": [
    {
     "name": "stdout",
     "output_type": "stream",
     "text": [
      "Index(['Unnamed: 0', 'carat', 'cut', 'color', 'clarity', 'depth', 'table',\n",
      "       'price', 'x', 'y', 'z', 'Quality-color'],\n",
      "      dtype='object')\n",
      "Index(['carat', 'cut', 'color', 'clarity', 'depth', 'table', 'price', 'x', 'y',\n",
      "       'z', 'Quality-color'],\n",
      "      dtype='object')\n"
     ]
    }
   ],
   "source": [
    "df1 = df.copy()\n",
    "print(df1.columns)\n",
    "df1.drop(columns=['Unnamed: 0'],inplace=True)\n",
    "print(df1.columns)"
   ]
  },
  {
   "cell_type": "markdown",
   "metadata": {
    "id": "mGVQRAissKWY"
   },
   "source": [
    "\n",
    "### 10. Write a Pandas program to remove multiple columns at once of the diamonds Dataframe."
   ]
  },
  {
   "cell_type": "code",
   "execution_count": 29,
   "metadata": {
    "colab": {
     "base_uri": "https://localhost:8080/"
    },
    "executionInfo": {
     "elapsed": 56,
     "status": "ok",
     "timestamp": 1728965555952,
     "user": {
      "displayName": "PGDAI ACTS",
      "userId": "16113966839122920361"
     },
     "user_tz": -330
    },
    "id": "8Q2ix7WKsWl-",
    "outputId": "c90b2256-1403-45dd-ea1c-cdd9bb963671"
   },
   "outputs": [
    {
     "name": "stdout",
     "output_type": "stream",
     "text": [
      "Index(['Unnamed: 0', 'carat', 'cut', 'color', 'clarity', 'depth', 'table',\n",
      "       'price', 'x', 'y', 'z', 'Quality-color'],\n",
      "      dtype='object')\n",
      "Index(['Unnamed: 0', 'carat', 'cut', 'color', 'clarity', 'depth', 'table'], dtype='object')\n"
     ]
    }
   ],
   "source": [
    "df1 = df.copy()\n",
    "print(df1.columns)\n",
    "df1.drop(columns=['price', 'x', 'y', 'z', 'Quality-color'],inplace=True)\n",
    "print(df1.columns)"
   ]
  },
  {
   "cell_type": "markdown",
   "metadata": {
    "id": "aoYQPoUExZkf"
   },
   "source": [
    "### 11. Write a Pandas program to remove multiple rows at once (axis=0 refers to rows) from diamonds dataframe.  "
   ]
  },
  {
   "cell_type": "code",
   "execution_count": 30,
   "metadata": {
    "colab": {
     "base_uri": "https://localhost:8080/"
    },
    "executionInfo": {
     "elapsed": 55,
     "status": "ok",
     "timestamp": 1728965555953,
     "user": {
      "displayName": "PGDAI ACTS",
      "userId": "16113966839122920361"
     },
     "user_tz": -330
    },
    "id": "wN3xmj9MxZqv",
    "outputId": "fa3d5a1e-fb1a-47be-8edf-2f10b02a9f7f"
   },
   "outputs": [
    {
     "name": "stdout",
     "output_type": "stream",
     "text": [
      "   Unnamed: 0  carat        cut color clarity  depth  table  price     x  \\\n",
      "0           1   0.23      Ideal     E     SI2   61.5   55.0    326  3.95   \n",
      "1           2   0.21    Premium     E     SI1   59.8   61.0    326  3.89   \n",
      "2           3   0.23       Good     E     VS1   56.9   65.0    327  4.05   \n",
      "3           4   0.29    Premium     I     VS2   62.4   58.0    334  4.20   \n",
      "4           5   0.31       Good     J     SI2   63.3   58.0    335  4.34   \n",
      "5           6   0.24  Very Good     J    VVS2   62.8   57.0    336  3.94   \n",
      "6           7   0.24  Very Good     I    VVS1   62.3   57.0    336  3.95   \n",
      "7           8   0.26  Very Good     H     SI1   61.9   55.0    337  4.07   \n",
      "8           9   0.22       Fair     E     VS2   65.1   61.0    337  3.87   \n",
      "9          10   0.23  Very Good     H     VS1   59.4   61.0    338  4.00   \n",
      "\n",
      "      y     z Quality-color  \n",
      "0  3.98  2.43       Ideal-E  \n",
      "1  3.84  2.31     Premium-E  \n",
      "2  4.07  2.31        Good-E  \n",
      "3  4.23  2.63     Premium-I  \n",
      "4  4.35  2.75        Good-J  \n",
      "5  3.96  2.48   Very Good-J  \n",
      "6  3.98  2.47   Very Good-I  \n",
      "7  4.11  2.53   Very Good-H  \n",
      "8  3.78  2.49        Fair-E  \n",
      "9  4.05  2.39   Very Good-H  \n",
      "    Unnamed: 0  carat        cut color clarity  depth  table  price     x  \\\n",
      "1            2   0.21    Premium     E     SI1   59.8   61.0    326  3.89   \n",
      "3            4   0.29    Premium     I     VS2   62.4   58.0    334  4.20   \n",
      "4            5   0.31       Good     J     SI2   63.3   58.0    335  4.34   \n",
      "6            7   0.24  Very Good     I    VVS1   62.3   57.0    336  3.95   \n",
      "7            8   0.26  Very Good     H     SI1   61.9   55.0    337  4.07   \n",
      "9           10   0.23  Very Good     H     VS1   59.4   61.0    338  4.00   \n",
      "10          11   0.30       Good     J     SI1   64.0   55.0    339  4.25   \n",
      "11          12   0.23      Ideal     J     VS1   62.8   56.0    340  3.93   \n",
      "12          13   0.22    Premium     F     SI1   60.4   61.0    342  3.88   \n",
      "13          14   0.31      Ideal     J     SI2   62.2   54.0    344  4.35   \n",
      "\n",
      "       y     z Quality-color  \n",
      "1   3.84  2.31     Premium-E  \n",
      "3   4.23  2.63     Premium-I  \n",
      "4   4.35  2.75        Good-J  \n",
      "6   3.98  2.47   Very Good-I  \n",
      "7   4.11  2.53   Very Good-H  \n",
      "9   4.05  2.39   Very Good-H  \n",
      "10  4.28  2.73        Good-J  \n",
      "11  3.90  2.46       Ideal-J  \n",
      "12  3.84  2.33     Premium-F  \n",
      "13  4.37  2.71       Ideal-J  \n"
     ]
    }
   ],
   "source": [
    "df1 = df.copy()\n",
    "print(df1.head(10))\n",
    "df1.drop(index=[2,5,8,0],inplace=True)\n",
    "print(df1.head(10))"
   ]
  },
  {
   "cell_type": "markdown",
   "metadata": {
    "id": "8fYtxzd0xZwn"
   },
   "source": [
    "\n",
    "### 12. Write a Pandas program to sort the 'cut' Series in ascending order (returns a Series) of diamonds Dataframe.  "
   ]
  },
  {
   "cell_type": "code",
   "execution_count": 31,
   "metadata": {
    "colab": {
     "base_uri": "https://localhost:8080/"
    },
    "executionInfo": {
     "elapsed": 53,
     "status": "ok",
     "timestamp": 1728965555953,
     "user": {
      "displayName": "PGDAI ACTS",
      "userId": "16113966839122920361"
     },
     "user_tz": -330
    },
    "id": "tWjdQ6VSxZ14",
    "outputId": "d32b2c54-6f43-4cec-84d2-da248957d151"
   },
   "outputs": [
    {
     "name": "stdout",
     "output_type": "stream",
     "text": [
      "3850          Fair\n",
      "51464         Fair\n",
      "51466         Fair\n",
      "10237         Fair\n",
      "10760         Fair\n",
      "           ...    \n",
      "7402     Very Good\n",
      "43101    Very Good\n",
      "16893    Very Good\n",
      "16898    Very Good\n",
      "21164    Very Good\n",
      "Name: cut, Length: 53940, dtype: object\n"
     ]
    }
   ],
   "source": [
    "print(df['cut'].sort_values(ascending=True))"
   ]
  },
  {
   "cell_type": "markdown",
   "metadata": {
    "id": "ralmu5rMxZ7P"
   },
   "source": [
    "\n",
    "### 13. Write a Pandas program to sort the 'price' Series in descending order (returns a Series) of diamonds Dataframe.  "
   ]
  },
  {
   "cell_type": "code",
   "execution_count": 32,
   "metadata": {
    "colab": {
     "base_uri": "https://localhost:8080/"
    },
    "executionInfo": {
     "elapsed": 50,
     "status": "ok",
     "timestamp": 1728965555953,
     "user": {
      "displayName": "PGDAI ACTS",
      "userId": "16113966839122920361"
     },
     "user_tz": -330
    },
    "id": "1STHeM_GxaAf",
    "outputId": "1f34987f-b7f9-4cea-885d-76ce13703185"
   },
   "outputs": [
    {
     "name": "stdout",
     "output_type": "stream",
     "text": [
      "27749    18823\n",
      "27748    18818\n",
      "27747    18806\n",
      "27746    18804\n",
      "27745    18803\n",
      "         ...  \n",
      "4          335\n",
      "3          334\n",
      "2          327\n",
      "1          326\n",
      "0          326\n",
      "Name: price, Length: 53940, dtype: int64\n"
     ]
    }
   ],
   "source": [
    "print(df['price'].sort_values(ascending=False))"
   ]
  },
  {
   "cell_type": "markdown",
   "metadata": {
    "id": "72L-2qFBxacf"
   },
   "source": [
    "\n",
    "### 14. Write a Pandas program to sort the entire diamonds DataFrame by the 'carat' Series in ascending and descending order.  "
   ]
  },
  {
   "cell_type": "code",
   "execution_count": 33,
   "metadata": {
    "colab": {
     "base_uri": "https://localhost:8080/"
    },
    "executionInfo": {
     "elapsed": 49,
     "status": "ok",
     "timestamp": 1728965555953,
     "user": {
      "displayName": "PGDAI ACTS",
      "userId": "16113966839122920361"
     },
     "user_tz": -330
    },
    "id": "x8fKgNdvxarR",
    "outputId": "7210e017-41fe-4e33-dab4-e9bbb2e1c9f5"
   },
   "outputs": [
    {
     "name": "stdout",
     "output_type": "stream",
     "text": [
      "Ascending Order:\n",
      "\n",
      "       Unnamed: 0  carat      cut color clarity  depth  table  price      x  \\\n",
      "31593       31594   0.20  Premium     E     VS2   61.1   59.0    367   3.81   \n",
      "31597       31598   0.20    Ideal     D     VS2   61.5   57.0    367   3.81   \n",
      "31596       31597   0.20  Premium     F     VS2   62.6   59.0    367   3.73   \n",
      "31595       31596   0.20    Ideal     E     VS2   59.7   55.0    367   3.86   \n",
      "31594       31595   0.20  Premium     E     VS2   59.7   62.0    367   3.84   \n",
      "...           ...    ...      ...   ...     ...    ...    ...    ...    ...   \n",
      "25999       26000   4.01  Premium     J      I1   62.5   62.0  15223  10.02   \n",
      "25998       25999   4.01  Premium     I      I1   61.0   61.0  15223  10.14   \n",
      "27130       27131   4.13     Fair     H      I1   64.8   61.0  17329  10.00   \n",
      "27630       27631   4.50     Fair     J      I1   65.8   58.0  18531  10.23   \n",
      "27415       27416   5.01     Fair     J      I1   65.5   59.0  18018  10.74   \n",
      "\n",
      "           y     z Quality-color  \n",
      "31593   3.78  2.32     Premium-E  \n",
      "31597   3.77  2.33       Ideal-D  \n",
      "31596   3.71  2.33     Premium-F  \n",
      "31595   3.84  2.30       Ideal-E  \n",
      "31594   3.80  2.28     Premium-E  \n",
      "...      ...   ...           ...  \n",
      "25999   9.94  6.24     Premium-J  \n",
      "25998  10.10  6.17     Premium-I  \n",
      "27130   9.85  6.43        Fair-H  \n",
      "27630  10.16  6.72        Fair-J  \n",
      "27415  10.54  6.98        Fair-J  \n",
      "\n",
      "[53940 rows x 12 columns]\n",
      "\n",
      "Descending Order:\n",
      "\n",
      "       Unnamed: 0  carat      cut color clarity  depth  table  price      x  \\\n",
      "27415       27416   5.01     Fair     J      I1   65.5   59.0  18018  10.74   \n",
      "27630       27631   4.50     Fair     J      I1   65.8   58.0  18531  10.23   \n",
      "27130       27131   4.13     Fair     H      I1   64.8   61.0  17329  10.00   \n",
      "25999       26000   4.01  Premium     J      I1   62.5   62.0  15223  10.02   \n",
      "25998       25999   4.01  Premium     I      I1   61.0   61.0  15223  10.14   \n",
      "...           ...    ...      ...   ...     ...    ...    ...    ...    ...   \n",
      "31592       31593   0.20  Premium     E     VS2   59.0   60.0    367   3.81   \n",
      "31591       31592   0.20  Premium     E     VS2   59.8   62.0    367   3.79   \n",
      "31601       31602   0.20  Premium     D     VS2   61.7   60.0    367   3.77   \n",
      "14             15   0.20  Premium     E     SI2   60.2   62.0    345   3.79   \n",
      "31596       31597   0.20  Premium     F     VS2   62.6   59.0    367   3.73   \n",
      "\n",
      "           y     z Quality-color  \n",
      "27415  10.54  6.98        Fair-J  \n",
      "27630  10.16  6.72        Fair-J  \n",
      "27130   9.85  6.43        Fair-H  \n",
      "25999   9.94  6.24     Premium-J  \n",
      "25998  10.10  6.17     Premium-I  \n",
      "...      ...   ...           ...  \n",
      "31592   3.78  2.24     Premium-E  \n",
      "31591   3.77  2.26     Premium-E  \n",
      "31601   3.72  2.31     Premium-D  \n",
      "14      3.75  2.27     Premium-E  \n",
      "31596   3.71  2.33     Premium-F  \n",
      "\n",
      "[53940 rows x 12 columns]\n"
     ]
    }
   ],
   "source": [
    "print(\"Ascending Order:\\n\")\n",
    "print(df.sort_values(by=['carat'],ascending=True))\n",
    "print(\"\\nDescending Order:\\n\")\n",
    "print(df.sort_values(by=['carat'],ascending=False))"
   ]
  },
  {
   "cell_type": "markdown",
   "metadata": {
    "id": "iYsLUT6Rxa0p"
   },
   "source": [
    "\n",
    "### 15. Write a Pandas program to filter the DataFrame rows to only show carat weight at least 0.3.  "
   ]
  },
  {
   "cell_type": "code",
   "execution_count": 34,
   "metadata": {
    "colab": {
     "base_uri": "https://localhost:8080/"
    },
    "executionInfo": {
     "elapsed": 46,
     "status": "ok",
     "timestamp": 1728965555953,
     "user": {
      "displayName": "PGDAI ACTS",
      "userId": "16113966839122920361"
     },
     "user_tz": -330
    },
    "id": "VHVYdQCgxa8Q",
    "outputId": "9a633434-9ea9-4669-9695-442da56290b3"
   },
   "outputs": [
    {
     "name": "stdout",
     "output_type": "stream",
     "text": [
      "       Unnamed: 0  carat        cut color clarity  depth  table  price     x  \\\n",
      "0               1   0.23      Ideal     E     SI2   61.5   55.0    326  3.95   \n",
      "1               2   0.21    Premium     E     SI1   59.8   61.0    326  3.89   \n",
      "2               3   0.23       Good     E     VS1   56.9   65.0    327  4.05   \n",
      "3               4   0.29    Premium     I     VS2   62.4   58.0    334  4.20   \n",
      "5               6   0.24  Very Good     J    VVS2   62.8   57.0    336  3.94   \n",
      "...           ...    ...        ...   ...     ...    ...    ...    ...   ...   \n",
      "52966       52967   0.24      Ideal     F    VVS2   61.1   57.0    552  4.03   \n",
      "52967       52968   0.24      Ideal     F    VVS2   62.6   57.0    552  3.93   \n",
      "52968       52969   0.24      Ideal     F    VVS2   61.8   56.0    552  3.97   \n",
      "52969       52970   0.24      Ideal     F    VVS2   61.6   54.0    552  4.00   \n",
      "52975       52976   0.24       Good     F    VVS1   58.3   57.0    552  4.10   \n",
      "\n",
      "          y     z Quality-color  \n",
      "0      3.98  2.43       Ideal-E  \n",
      "1      3.84  2.31     Premium-E  \n",
      "2      4.07  2.31        Good-E  \n",
      "3      4.23  2.63     Premium-I  \n",
      "5      3.96  2.48   Very Good-J  \n",
      "...     ...   ...           ...  \n",
      "52966  4.06  2.47       Ideal-F  \n",
      "52967  3.96  2.47       Ideal-F  \n",
      "52968  4.02  2.47       Ideal-F  \n",
      "52969  4.09  2.49       Ideal-F  \n",
      "52975  4.14  2.40        Good-F  \n",
      "\n",
      "[1599 rows x 12 columns]\n"
     ]
    }
   ],
   "source": [
    "df_carat = df[df['carat']<0.3]\n",
    "print(df_carat)"
   ]
  },
  {
   "cell_type": "markdown",
   "metadata": {
    "id": "LLT8UubkxbFv"
   },
   "source": [
    "\n",
    "### 16. Write a Pandas program to convert a python list to pandas series.  "
   ]
  },
  {
   "cell_type": "code",
   "execution_count": 35,
   "metadata": {
    "colab": {
     "base_uri": "https://localhost:8080/"
    },
    "executionInfo": {
     "elapsed": 44,
     "status": "ok",
     "timestamp": 1728965555953,
     "user": {
      "displayName": "PGDAI ACTS",
      "userId": "16113966839122920361"
     },
     "user_tz": -330
    },
    "id": "etx_2YMlxbM4",
    "outputId": "8d0d222a-1a1a-44ee-d62f-53e3f97e9b15"
   },
   "outputs": [
    {
     "name": "stdout",
     "output_type": "stream",
     "text": [
      "0     2\n",
      "1    43\n",
      "2     6\n",
      "3     8\n",
      "4     9\n",
      "dtype: int64\n",
      "int64\n"
     ]
    }
   ],
   "source": [
    "l = [2,43,6,8,9]\n",
    "ser = pd.Series(l)\n",
    "print(ser)\n",
    "print(ser.dtype)"
   ]
  },
  {
   "cell_type": "markdown",
   "metadata": {
    "id": "q6zTenpF0rHJ"
   },
   "source": [
    "### 17. Write a Pandas program to find the details of the diamonds where length > 5, width > 5, and depth > 5."
   ]
  },
  {
   "cell_type": "code",
   "execution_count": 36,
   "metadata": {
    "colab": {
     "base_uri": "https://localhost:8080/"
    },
    "executionInfo": {
     "elapsed": 43,
     "status": "ok",
     "timestamp": 1728965555953,
     "user": {
      "displayName": "PGDAI ACTS",
      "userId": "16113966839122920361"
     },
     "user_tz": -330
    },
    "id": "LDGhUCd10rQx",
    "outputId": "821093b4-58db-4180-81ae-6fa137d522f3"
   },
   "outputs": [
    {
     "name": "stdout",
     "output_type": "stream",
     "text": [
      "       Unnamed: 0  carat        cut color clarity  depth  table  price     x  \\\n",
      "0               1   0.23      Ideal     E     SI2   61.5   55.0    326  3.95   \n",
      "1               2   0.21    Premium     E     SI1   59.8   61.0    326  3.89   \n",
      "2               3   0.23       Good     E     VS1   56.9   65.0    327  4.05   \n",
      "3               4   0.29    Premium     I     VS2   62.4   58.0    334  4.20   \n",
      "4               5   0.31       Good     J     SI2   63.3   58.0    335  4.34   \n",
      "...           ...    ...        ...   ...     ...    ...    ...    ...   ...   \n",
      "53635       53636   0.30      Ideal     I    VVS1   62.1   56.0    552  4.30   \n",
      "53636       53637   0.30      Ideal     D     SI1   61.6   57.0    552  4.28   \n",
      "53637       53638   0.30  Very Good     D     SI1   62.5   57.0    552  4.26   \n",
      "53638       53639   0.30      Ideal     D     SI1   61.0   57.0    552  4.29   \n",
      "53639       53640   0.30      Ideal     D     SI1   61.0   56.0    552  4.35   \n",
      "\n",
      "          y     z Quality-color  \n",
      "0      3.98  2.43       Ideal-E  \n",
      "1      3.84  2.31     Premium-E  \n",
      "2      4.07  2.31        Good-E  \n",
      "3      4.23  2.63     Premium-I  \n",
      "4      4.35  2.75        Good-J  \n",
      "...     ...   ...           ...  \n",
      "53635  4.33  2.68       Ideal-I  \n",
      "53636  4.32  2.65       Ideal-D  \n",
      "53637  4.28  2.67   Very Good-D  \n",
      "53638  4.33  2.63       Ideal-D  \n",
      "53639  4.37  2.66       Ideal-D  \n",
      "\n",
      "[17459 rows x 12 columns]\n"
     ]
    }
   ],
   "source": [
    "df_carat = df[(df['x']<5) & (df['y']<5) & (df['z']<5)]\n",
    "print(df_carat)"
   ]
  },
  {
   "cell_type": "markdown",
   "metadata": {
    "id": "aEq8AgQi0rXo"
   },
   "source": [
    "### 18. Write a Pandas program to find the diamonds that are either Premium or Ideal."
   ]
  },
  {
   "cell_type": "code",
   "execution_count": 37,
   "metadata": {
    "colab": {
     "base_uri": "https://localhost:8080/"
    },
    "executionInfo": {
     "elapsed": 41,
     "status": "ok",
     "timestamp": 1728965555953,
     "user": {
      "displayName": "PGDAI ACTS",
      "userId": "16113966839122920361"
     },
     "user_tz": -330
    },
    "id": "39EORoqi0riR",
    "outputId": "0c0008cd-af65-45e2-c47d-58c0e141b1d7"
   },
   "outputs": [
    {
     "name": "stdout",
     "output_type": "stream",
     "text": [
      "       Unnamed: 0  carat      cut color clarity  depth  table  price     x  \\\n",
      "0               1   0.23    Ideal     E     SI2   61.5   55.0    326  3.95   \n",
      "1               2   0.21  Premium     E     SI1   59.8   61.0    326  3.89   \n",
      "3               4   0.29  Premium     I     VS2   62.4   58.0    334  4.20   \n",
      "11             12   0.23    Ideal     J     VS1   62.8   56.0    340  3.93   \n",
      "12             13   0.22  Premium     F     SI1   60.4   61.0    342  3.88   \n",
      "...           ...    ...      ...   ...     ...    ...    ...    ...   ...   \n",
      "53931       53932   0.71  Premium     F     SI1   59.8   62.0   2756  5.74   \n",
      "53934       53935   0.72  Premium     D     SI1   62.7   59.0   2757  5.69   \n",
      "53935       53936   0.72    Ideal     D     SI1   60.8   57.0   2757  5.75   \n",
      "53938       53939   0.86  Premium     H     SI2   61.0   58.0   2757  6.15   \n",
      "53939       53940   0.75    Ideal     D     SI2   62.2   55.0   2757  5.83   \n",
      "\n",
      "          y     z Quality-color  \n",
      "0      3.98  2.43       Ideal-E  \n",
      "1      3.84  2.31     Premium-E  \n",
      "3      4.23  2.63     Premium-I  \n",
      "11     3.90  2.46       Ideal-J  \n",
      "12     3.84  2.33     Premium-F  \n",
      "...     ...   ...           ...  \n",
      "53931  5.73  3.43     Premium-F  \n",
      "53934  5.73  3.58     Premium-D  \n",
      "53935  5.76  3.50       Ideal-D  \n",
      "53938  6.12  3.74     Premium-H  \n",
      "53939  5.87  3.64       Ideal-D  \n",
      "\n",
      "[35342 rows x 12 columns]\n"
     ]
    }
   ],
   "source": [
    "df_carat = df[(df['cut'] == 'Premium') | (df['cut'] == 'Ideal')]\n",
    "print(df_carat)"
   ]
  },
  {
   "cell_type": "markdown",
   "metadata": {
    "id": "VxP0Ll6f0ruA"
   },
   "source": [
    "\n",
    "### 19. Write a Pandas program to find the diamonds that are with a Fair or Good or Premium."
   ]
  },
  {
   "cell_type": "code",
   "execution_count": 38,
   "metadata": {
    "colab": {
     "base_uri": "https://localhost:8080/"
    },
    "executionInfo": {
     "elapsed": 37,
     "status": "ok",
     "timestamp": 1728965555953,
     "user": {
      "displayName": "PGDAI ACTS",
      "userId": "16113966839122920361"
     },
     "user_tz": -330
    },
    "id": "dGKv6nWf0r2x",
    "outputId": "3cd2a48b-650a-4fd6-c07d-988e107ed2e6"
   },
   "outputs": [
    {
     "name": "stdout",
     "output_type": "stream",
     "text": [
      "       Unnamed: 0  carat      cut color clarity  depth  table  price     x  \\\n",
      "1               2   0.21  Premium     E     SI1   59.8   61.0    326  3.89   \n",
      "2               3   0.23     Good     E     VS1   56.9   65.0    327  4.05   \n",
      "3               4   0.29  Premium     I     VS2   62.4   58.0    334  4.20   \n",
      "4               5   0.31     Good     J     SI2   63.3   58.0    335  4.34   \n",
      "8               9   0.22     Fair     E     VS2   65.1   61.0    337  3.87   \n",
      "...           ...    ...      ...   ...     ...    ...    ...    ...   ...   \n",
      "53930       53931   0.71  Premium     E     SI1   60.5   55.0   2756  5.79   \n",
      "53931       53932   0.71  Premium     F     SI1   59.8   62.0   2756  5.74   \n",
      "53934       53935   0.72  Premium     D     SI1   62.7   59.0   2757  5.69   \n",
      "53936       53937   0.72     Good     D     SI1   63.1   55.0   2757  5.69   \n",
      "53938       53939   0.86  Premium     H     SI2   61.0   58.0   2757  6.15   \n",
      "\n",
      "          y     z Quality-color  \n",
      "1      3.84  2.31     Premium-E  \n",
      "2      4.07  2.31        Good-E  \n",
      "3      4.23  2.63     Premium-I  \n",
      "4      4.35  2.75        Good-J  \n",
      "8      3.78  2.49        Fair-E  \n",
      "...     ...   ...           ...  \n",
      "53930  5.74  3.49     Premium-E  \n",
      "53931  5.73  3.43     Premium-F  \n",
      "53934  5.73  3.58     Premium-D  \n",
      "53936  5.75  3.61        Good-D  \n",
      "53938  6.12  3.74     Premium-H  \n",
      "\n",
      "[20307 rows x 12 columns]\n"
     ]
    }
   ],
   "source": [
    "df_fgp = df[df['cut'].isin(['Fair','Good','Premium'])]\n",
    "print(df_fgp)"
   ]
  },
  {
   "cell_type": "markdown",
   "metadata": {
    "id": "CfcvMjwc0sC5"
   },
   "source": [
    "### 20. Write a Pandas program to display all column labels of diamonds DataFrame."
   ]
  },
  {
   "cell_type": "code",
   "execution_count": 39,
   "metadata": {
    "colab": {
     "base_uri": "https://localhost:8080/"
    },
    "executionInfo": {
     "elapsed": 31,
     "status": "ok",
     "timestamp": 1728965555953,
     "user": {
      "displayName": "PGDAI ACTS",
      "userId": "16113966839122920361"
     },
     "user_tz": -330
    },
    "id": "04PpLU-E0sLg",
    "outputId": "bdd889d5-5820-4e55-a925-8346c6d08d35"
   },
   "outputs": [
    {
     "name": "stdout",
     "output_type": "stream",
     "text": [
      "['Unnamed: 0' 'carat' 'cut' 'color' 'clarity' 'depth' 'table' 'price' 'x'\n",
      " 'y' 'z' 'Quality-color']\n"
     ]
    }
   ],
   "source": [
    "print(df.columns.values)"
   ]
  },
  {
   "cell_type": "markdown",
   "metadata": {
    "id": "N3iwhRh-0stp"
   },
   "source": [
    "### 21. Write a Pandas program to read only a subset of 3 rows from diamonds DataFrame.  "
   ]
  },
  {
   "cell_type": "code",
   "execution_count": 40,
   "metadata": {
    "colab": {
     "base_uri": "https://localhost:8080/"
    },
    "executionInfo": {
     "elapsed": 26,
     "status": "ok",
     "timestamp": 1728965555953,
     "user": {
      "displayName": "PGDAI ACTS",
      "userId": "16113966839122920361"
     },
     "user_tz": -330
    },
    "id": "eTvzEJ690s0o",
    "outputId": "c62a3f91-3f7a-4fed-9f11-6902f4b929c0"
   },
   "outputs": [
    {
     "name": "stdout",
     "output_type": "stream",
     "text": [
      "       cut color clarity\n",
      "0    Ideal     E     SI2\n",
      "1  Premium     E     SI1\n",
      "2     Good     E     VS1\n"
     ]
    }
   ],
   "source": [
    "print(df[['cut', 'color', 'clarity']].head(3))"
   ]
  },
  {
   "cell_type": "markdown",
   "metadata": {
    "id": "hdvexdY239O7"
   },
   "source": [
    "### 22. Write a Pandas program to iterate through diamonds DataFrame."
   ]
  },
  {
   "cell_type": "code",
   "execution_count": 41,
   "metadata": {
    "colab": {
     "base_uri": "https://localhost:8080/"
    },
    "executionInfo": {
     "elapsed": 22,
     "status": "ok",
     "timestamp": 1728965555953,
     "user": {
      "displayName": "PGDAI ACTS",
      "userId": "16113966839122920361"
     },
     "user_tz": -330
    },
    "id": "6CkVFUar39V7",
    "outputId": "2c2eb2af-c401-4e79-e599-9f19a337c0b7"
   },
   "outputs": [
    {
     "name": "stdout",
     "output_type": "stream",
     "text": [
      "0.23 Ideal\n",
      "0.21 Premium\n",
      "0.23 Good\n",
      "0.29 Premium\n",
      "0.31 Good\n",
      "0.24 Very Good\n",
      "0.24 Very Good\n",
      "0.26 Very Good\n",
      "0.22 Fair\n",
      "0.23 Very Good\n",
      "0.3 Good\n",
      "0.23 Ideal\n",
      "0.22 Premium\n",
      "0.31 Ideal\n",
      "0.2 Premium\n",
      "0.32 Premium\n",
      "0.3 Ideal\n",
      "0.3 Good\n",
      "0.3 Good\n",
      "0.3 Very Good\n",
      "0.3 Good\n",
      "0.23 Very Good\n",
      "0.23 Very Good\n",
      "0.31 Very Good\n",
      "0.31 Very Good\n",
      "0.23 Very Good\n",
      "0.24 Premium\n",
      "0.3 Very Good\n",
      "0.23 Very Good\n",
      "0.23 Very Good\n",
      "0.23 Very Good\n",
      "0.23 Very Good\n",
      "0.23 Very Good\n",
      "0.23 Very Good\n",
      "0.23 Very Good\n",
      "0.23 Good\n",
      "0.23 Good\n",
      "0.31 Good\n",
      "0.26 Very Good\n",
      "0.33 Ideal\n",
      "0.33 Ideal\n",
      "0.33 Ideal\n",
      "0.26 Good\n",
      "0.26 Good\n",
      "0.32 Good\n",
      "0.29 Premium\n",
      "0.32 Very Good\n",
      "0.32 Good\n",
      "0.25 Very Good\n",
      "0.29 Very Good\n"
     ]
    }
   ],
   "source": [
    "i = 0\n",
    "for index, row in df.iterrows():\n",
    "    if i == 50:\n",
    "        break\n",
    "    i += 1\n",
    "    print(row['carat'], row['cut'])"
   ]
  },
  {
   "cell_type": "markdown",
   "metadata": {
    "id": "2Toxthp_39d7"
   },
   "source": [
    "  \n",
    "### 23. Write a Pandas program to drop all non-numeric columns from diamonds DataFrame.  "
   ]
  },
  {
   "cell_type": "code",
   "execution_count": 43,
   "metadata": {
    "colab": {
     "base_uri": "https://localhost:8080/"
    },
    "executionInfo": {
     "elapsed": 18,
     "status": "ok",
     "timestamp": 1728965555954,
     "user": {
      "displayName": "PGDAI ACTS",
      "userId": "16113966839122920361"
     },
     "user_tz": -330
    },
    "id": "KSNM9AlY39lz",
    "outputId": "5a30a4d1-aad3-487b-ef37-32541a03401b"
   },
   "outputs": [
    {
     "name": "stdout",
     "output_type": "stream",
     "text": [
      "With non numerc columns\n",
      "    Unnamed: 0  carat      cut color clarity  depth  table  price     x     y  \\\n",
      "0           1   0.23    Ideal     E     SI2   61.5   55.0    326  3.95  3.98   \n",
      "1           2   0.21  Premium     E     SI1   59.8   61.0    326  3.89  3.84   \n",
      "2           3   0.23     Good     E     VS1   56.9   65.0    327  4.05  4.07   \n",
      "3           4   0.29  Premium     I     VS2   62.4   58.0    334  4.20  4.23   \n",
      "4           5   0.31     Good     J     SI2   63.3   58.0    335  4.34  4.35   \n",
      "\n",
      "      z Quality-color  \n",
      "0  2.43       Ideal-E  \n",
      "1  2.31     Premium-E  \n",
      "2  2.31        Good-E  \n",
      "3  2.63     Premium-I  \n",
      "4  2.75        Good-J  \n",
      "Without non numerc columns\n",
      "    carat  depth  table     x     y     z\n",
      "0   0.23   61.5   55.0  3.95  3.98  2.43\n",
      "1   0.21   59.8   61.0  3.89  3.84  2.31\n",
      "2   0.23   56.9   65.0  4.05  4.07  2.31\n",
      "3   0.29   62.4   58.0  4.20  4.23  2.63\n",
      "4   0.31   63.3   58.0  4.34  4.35  2.75\n"
     ]
    },
    {
     "name": "stderr",
     "output_type": "stream",
     "text": [
      "C:\\Users\\anu\\AppData\\Local\\Temp/ipykernel_7120/1467388858.py:6: DeprecationWarning: Converting `np.inexact` or `np.floating` to a dtype is deprecated. The current result is `float64` which is not strictly correct.\n",
      "  if not new_df[i].dtypes  == np.number:\n"
     ]
    }
   ],
   "source": [
    "new_df = df.copy()\n",
    "print(\"With non numerc columns\\n\",new_df.head())\n",
    "\n",
    "delete_collist = []\n",
    "for i in new_df.columns:\n",
    "    if not new_df[i].dtypes  == np.number:\n",
    "        delete_collist.append(i)\n",
    "\n",
    "new_df.drop(columns=delete_collist, inplace=True)\n",
    "print(\"Without non numerc columns\\n\",new_df.head())"
   ]
  },
  {
   "cell_type": "code",
   "execution_count": 44,
   "metadata": {
    "colab": {
     "base_uri": "https://localhost:8080/"
    },
    "executionInfo": {
     "elapsed": 14,
     "status": "ok",
     "timestamp": 1728965555954,
     "user": {
      "displayName": "PGDAI ACTS",
      "userId": "16113966839122920361"
     },
     "user_tz": -330
    },
    "id": "X2MLt4Kt9cYw",
    "outputId": "f41f5b39-99f9-46aa-d72a-4f76acb070b7"
   },
   "outputs": [
    {
     "name": "stdout",
     "output_type": "stream",
     "text": [
      "       Unnamed: 0  carat  depth  table  price     x     y     z\n",
      "0               1   0.23   61.5   55.0    326  3.95  3.98  2.43\n",
      "1               2   0.21   59.8   61.0    326  3.89  3.84  2.31\n",
      "2               3   0.23   56.9   65.0    327  4.05  4.07  2.31\n",
      "3               4   0.29   62.4   58.0    334  4.20  4.23  2.63\n",
      "4               5   0.31   63.3   58.0    335  4.34  4.35  2.75\n",
      "...           ...    ...    ...    ...    ...   ...   ...   ...\n",
      "53935       53936   0.72   60.8   57.0   2757  5.75  5.76  3.50\n",
      "53936       53937   0.72   63.1   55.0   2757  5.69  5.75  3.61\n",
      "53937       53938   0.70   62.8   60.0   2757  5.66  5.68  3.56\n",
      "53938       53939   0.86   61.0   58.0   2757  6.15  6.12  3.74\n",
      "53939       53940   0.75   62.2   55.0   2757  5.83  5.87  3.64\n",
      "\n",
      "[53940 rows x 8 columns]\n"
     ]
    }
   ],
   "source": [
    "print(df.select_dtypes(include=[np.number]))"
   ]
  },
  {
   "cell_type": "markdown",
   "metadata": {
    "id": "Hn400KB039uj"
   },
   "source": [
    "\n",
    "### 24. Write a Pandas program to include only numeric columns in the diamonds DataFrame.  "
   ]
  },
  {
   "cell_type": "code",
   "execution_count": 45,
   "metadata": {
    "colab": {
     "base_uri": "https://localhost:8080/"
    },
    "executionInfo": {
     "elapsed": 10,
     "status": "ok",
     "timestamp": 1728965555954,
     "user": {
      "displayName": "PGDAI ACTS",
      "userId": "16113966839122920361"
     },
     "user_tz": -330
    },
    "id": "bJ5wx6Ms392T",
    "outputId": "bbd83c95-ed5e-409d-a184-80b83bde4e93"
   },
   "outputs": [
    {
     "name": "stdout",
     "output_type": "stream",
     "text": [
      "       carat  depth  table     x     y     z\n",
      "0       0.23   61.5   55.0  3.95  3.98  2.43\n",
      "1       0.21   59.8   61.0  3.89  3.84  2.31\n",
      "2       0.23   56.9   65.0  4.05  4.07  2.31\n",
      "3       0.29   62.4   58.0  4.20  4.23  2.63\n",
      "4       0.31   63.3   58.0  4.34  4.35  2.75\n",
      "...      ...    ...    ...   ...   ...   ...\n",
      "53935   0.72   60.8   57.0  5.75  5.76  3.50\n",
      "53936   0.72   63.1   55.0  5.69  5.75  3.61\n",
      "53937   0.70   62.8   60.0  5.66  5.68  3.56\n",
      "53938   0.86   61.0   58.0  6.15  6.12  3.74\n",
      "53939   0.75   62.2   55.0  5.83  5.87  3.64\n",
      "\n",
      "[53940 rows x 6 columns]\n"
     ]
    },
    {
     "name": "stderr",
     "output_type": "stream",
     "text": [
      "C:\\Users\\anu\\AppData\\Local\\Temp/ipykernel_7120/2161723406.py:3: DeprecationWarning: Converting `np.inexact` or `np.floating` to a dtype is deprecated. The current result is `float64` which is not strictly correct.\n",
      "  if df[i].dtypes == np.number:\n"
     ]
    }
   ],
   "source": [
    "numeric_collist = []\n",
    "for i in new_df.columns:\n",
    "    if df[i].dtypes == np.number:\n",
    "        numeric_collist.append(i)\n",
    "\n",
    "numeric_df = df[numeric_collist]\n",
    "print(numeric_df)"
   ]
  },
  {
   "cell_type": "markdown",
   "metadata": {
    "id": "H_6XT9n639-H"
   },
   "source": [
    "\n",
    "### 25. Write a Pandas program to pass a list of data types to only describe certain types of diamonds DataFrame."
   ]
  },
  {
   "cell_type": "code",
   "execution_count": 46,
   "metadata": {
    "colab": {
     "base_uri": "https://localhost:8080/"
    },
    "executionInfo": {
     "elapsed": 599,
     "status": "ok",
     "timestamp": 1728965556546,
     "user": {
      "displayName": "PGDAI ACTS",
      "userId": "16113966839122920361"
     },
     "user_tz": -330
    },
    "id": "XEo6idVb3-GT",
    "outputId": "d59f68eb-d4a7-410b-d5fa-93b146b7eb2b"
   },
   "outputs": [
    {
     "name": "stdout",
     "output_type": "stream",
     "text": [
      "         Unnamed: 0         carat         depth         table         price  \\\n",
      "count  53940.000000  53940.000000  53940.000000  53940.000000  53940.000000   \n",
      "mean   26970.500000      0.797940     61.749405     57.457184   3932.799722   \n",
      "std    15571.281097      0.474011      1.432621      2.234491   3989.439738   \n",
      "min        1.000000      0.200000     43.000000     43.000000    326.000000   \n",
      "25%    13485.750000      0.400000     61.000000     56.000000    950.000000   \n",
      "50%    26970.500000      0.700000     61.800000     57.000000   2401.000000   \n",
      "75%    40455.250000      1.040000     62.500000     59.000000   5324.250000   \n",
      "max    53940.000000      5.010000     79.000000     95.000000  18823.000000   \n",
      "\n",
      "                  x             y             z  \n",
      "count  53940.000000  53940.000000  53940.000000  \n",
      "mean       5.731157      5.734526      3.538734  \n",
      "std        1.121761      1.142135      0.705699  \n",
      "min        0.000000      0.000000      0.000000  \n",
      "25%        4.710000      4.720000      2.910000  \n",
      "50%        5.700000      5.710000      3.530000  \n",
      "75%        6.540000      6.540000      4.040000  \n",
      "max       10.740000     58.900000     31.800000  \n"
     ]
    }
   ],
   "source": [
    "list = [np.int64, np.float64]\n",
    "print(df.describe(include=list))"
   ]
  },
  {
   "cell_type": "markdown",
   "metadata": {
    "id": "dOeYp3Lt3-Oj"
   },
   "source": [
    "  \n",
    "### 26. Write a Pandas program to calculate the mean of each numeric column of diamonds DataFrame."
   ]
  },
  {
   "cell_type": "code",
   "execution_count": 47,
   "metadata": {
    "colab": {
     "base_uri": "https://localhost:8080/"
    },
    "executionInfo": {
     "elapsed": 27,
     "status": "ok",
     "timestamp": 1728965556546,
     "user": {
      "displayName": "PGDAI ACTS",
      "userId": "16113966839122920361"
     },
     "user_tz": -330
    },
    "id": "gt4nxamn3-XL",
    "outputId": "05e67b77-1b39-4951-cd75-dcc7819d7457"
   },
   "outputs": [
    {
     "name": "stdout",
     "output_type": "stream",
     "text": [
      "Unnamed: 0    26970.500000\n",
      "carat             0.797940\n",
      "depth            61.749405\n",
      "table            57.457184\n",
      "price          3932.799722\n",
      "x                 5.731157\n",
      "y                 5.734526\n",
      "z                 3.538734\n",
      "dtype: float64\n"
     ]
    }
   ],
   "source": [
    "print(df.select_dtypes(include=[np.number]).mean())"
   ]
  },
  {
   "cell_type": "markdown",
   "metadata": {
    "id": "Cj9TSO3D3-gD"
   },
   "source": [
    "  \n",
    "### 27. Write a Pandas program to calculate the mean of each row of diamonds DataFrame.  "
   ]
  },
  {
   "cell_type": "code",
   "execution_count": 48,
   "metadata": {
    "colab": {
     "base_uri": "https://localhost:8080/"
    },
    "executionInfo": {
     "elapsed": 21,
     "status": "ok",
     "timestamp": 1728965556546,
     "user": {
      "displayName": "PGDAI ACTS",
      "userId": "16113966839122920361"
     },
     "user_tz": -330
    },
    "id": "kH3oqKUL3-pZ",
    "outputId": "6b31bff9-4efb-4ee7-bd79-2972647feaa4"
   },
   "outputs": [
    {
     "name": "stdout",
     "output_type": "stream",
     "text": [
      "0          56.76125\n",
      "1          57.38125\n",
      "2          57.82000\n",
      "3          58.71875\n",
      "4          59.13125\n",
      "            ...    \n",
      "53935    7103.31625\n",
      "53936    7103.48375\n",
      "53937    7104.17500\n",
      "53938    7103.98375\n",
      "53939    7103.78625\n",
      "Length: 53940, dtype: float64\n"
     ]
    }
   ],
   "source": [
    "print(df.select_dtypes(include=[np.number]).mean(axis=1))"
   ]
  },
  {
   "cell_type": "markdown",
   "metadata": {
    "id": "qKtTUfRw3-0b"
   },
   "source": [
    "\n",
    "### 28. Write a Pandas program to calculate the mean of price for each cut of diamonds DataFrame.  "
   ]
  },
  {
   "cell_type": "code",
   "execution_count": 49,
   "metadata": {
    "colab": {
     "base_uri": "https://localhost:8080/",
     "height": 238
    },
    "executionInfo": {
     "elapsed": 18,
     "status": "ok",
     "timestamp": 1728965556547,
     "user": {
      "displayName": "PGDAI ACTS",
      "userId": "16113966839122920361"
     },
     "user_tz": -330
    },
    "id": "BWndqnGT3--K",
    "outputId": "efb52f49-f127-4228-c552-978cd94d13be"
   },
   "outputs": [
    {
     "data": {
      "text/html": [
       "<div>\n",
       "<style scoped>\n",
       "    .dataframe tbody tr th:only-of-type {\n",
       "        vertical-align: middle;\n",
       "    }\n",
       "\n",
       "    .dataframe tbody tr th {\n",
       "        vertical-align: top;\n",
       "    }\n",
       "\n",
       "    .dataframe thead th {\n",
       "        text-align: right;\n",
       "    }\n",
       "</style>\n",
       "<table border=\"1\" class=\"dataframe\">\n",
       "  <thead>\n",
       "    <tr style=\"text-align: right;\">\n",
       "      <th></th>\n",
       "      <th>price</th>\n",
       "    </tr>\n",
       "    <tr>\n",
       "      <th>cut</th>\n",
       "      <th></th>\n",
       "    </tr>\n",
       "  </thead>\n",
       "  <tbody>\n",
       "    <tr>\n",
       "      <th>Fair</th>\n",
       "      <td>4358.757764</td>\n",
       "    </tr>\n",
       "    <tr>\n",
       "      <th>Good</th>\n",
       "      <td>3928.864452</td>\n",
       "    </tr>\n",
       "    <tr>\n",
       "      <th>Ideal</th>\n",
       "      <td>3457.541970</td>\n",
       "    </tr>\n",
       "    <tr>\n",
       "      <th>Premium</th>\n",
       "      <td>4584.257704</td>\n",
       "    </tr>\n",
       "    <tr>\n",
       "      <th>Very Good</th>\n",
       "      <td>3981.759891</td>\n",
       "    </tr>\n",
       "  </tbody>\n",
       "</table>\n",
       "</div>"
      ],
      "text/plain": [
       "                 price\n",
       "cut                   \n",
       "Fair       4358.757764\n",
       "Good       3928.864452\n",
       "Ideal      3457.541970\n",
       "Premium    4584.257704\n",
       "Very Good  3981.759891"
      ]
     },
     "execution_count": 49,
     "metadata": {},
     "output_type": "execute_result"
    }
   ],
   "source": [
    "df.groupby('cut').agg({\n",
    "    'price': 'mean'\n",
    "})"
   ]
  },
  {
   "cell_type": "markdown",
   "metadata": {
    "id": "lq_MISaz3_Gk"
   },
   "source": [
    "\n",
    "### 29. Write a Pandas program to calculate count, minimum, maximum price for each cut of diamonds DataFrame."
   ]
  },
  {
   "cell_type": "code",
   "execution_count": 50,
   "metadata": {
    "colab": {
     "base_uri": "https://localhost:8080/"
    },
    "executionInfo": {
     "elapsed": 15,
     "status": "ok",
     "timestamp": 1728965556547,
     "user": {
      "displayName": "PGDAI ACTS",
      "userId": "16113966839122920361"
     },
     "user_tz": -330
    },
    "id": "Voys_UpE3_QD",
    "outputId": "9bbeb7d6-dcce-4a3d-afb3-7bf2be5a71d2"
   },
   "outputs": [
    {
     "name": "stdout",
     "output_type": "stream",
     "text": [
      "           count  min    max\n",
      "cut                         \n",
      "Fair        1610  337  18574\n",
      "Good        4906  327  18788\n",
      "Ideal      21551  326  18806\n",
      "Premium    13791  326  18823\n",
      "Very Good  12082  336  18818\n"
     ]
    }
   ],
   "source": [
    "print(df.groupby('cut').price.agg(['count', 'min', 'max']))"
   ]
  },
  {
   "cell_type": "markdown",
   "metadata": {
    "id": "lTkH1Fuc3_Xz"
   },
   "source": [
    "  \n",
    "### 30. Write a Pandas program to create a side-by-side bar plot of the diamonds DataFrame.  "
   ]
  },
  {
   "cell_type": "code",
   "execution_count": 51,
   "metadata": {
    "colab": {
     "base_uri": "https://localhost:8080/",
     "height": 524
    },
    "executionInfo": {
     "elapsed": 12,
     "status": "ok",
     "timestamp": 1728965556547,
     "user": {
      "displayName": "PGDAI ACTS",
      "userId": "16113966839122920361"
     },
     "user_tz": -330
    },
    "id": "vJQekxqV_wNZ",
    "outputId": "80237599-efb4-4e51-e247-ccf884359b1e"
   },
   "outputs": [
    {
     "data": {
      "text/plain": [
       "<AxesSubplot:xlabel='cut'>"
      ]
     },
     "execution_count": 51,
     "metadata": {},
     "output_type": "execute_result"
    },
    {
     "data": {
      "image/png": "[encoded data removed]",
      "text/plain": [
       "<Figure size 432x288 with 1 Axes>"
      ]
     },
     "metadata": {
      "needs_background": "light"
     },
     "output_type": "display_data"
    }
   ],
   "source": [
    "df.groupby('cut').agg({'price':'mean', 'carat':'mean'}).plot.bar()"
   ]
  },
  {
   "cell_type": "code",
   "execution_count": 52,
   "metadata": {
    "colab": {
     "base_uri": "https://localhost:8080/",
     "height": 518
    },
    "executionInfo": {
     "elapsed": 582,
     "status": "ok",
     "timestamp": 1728965557122,
     "user": {
      "displayName": "PGDAI ACTS",
      "userId": "16113966839122920361"
     },
     "user_tz": -330
    },
    "id": "uGKWQwhfAe5y",
    "outputId": "8ff16f5e-6566-4214-973b-142f3a136f17"
   },
   "outputs": [
    {
     "data": {
      "text/plain": [
       "<AxesSubplot:>"
      ]
     },
     "execution_count": 52,
     "metadata": {},
     "output_type": "execute_result"
    },
    {
     "data": {
      "image/png": "[encoded data removed]",
      "text/plain": [
       "<Figure size 432x288 with 1 Axes>"
      ]
     },
     "metadata": {
      "needs_background": "light"
     },
     "output_type": "display_data"
    }
   ],
   "source": [
    "df.select_dtypes(include=[np.number]).mean().plot.bar()"
   ]
  },
  {
   "cell_type": "markdown",
   "metadata": {
    "id": "2AgHG5gC3_n0"
   },
   "source": [
    "\n",
    "### 31. Write a Pandas program to count how many times each value in cut series of diamonds DataFrame occurs.  "
   ]
  },
  {
   "cell_type": "code",
   "execution_count": 53,
   "metadata": {
    "colab": {
     "base_uri": "https://localhost:8080/",
     "height": 272
    },
    "executionInfo": {
     "elapsed": 25,
     "status": "ok",
     "timestamp": 1728965557122,
     "user": {
      "displayName": "PGDAI ACTS",
      "userId": "16113966839122920361"
     },
     "user_tz": -330
    },
    "id": "rG0Wtze43_wr",
    "outputId": "2e13db0f-31eb-4b9b-afdb-4cfc090711e0"
   },
   "outputs": [
    {
     "data": {
      "text/plain": [
       "Ideal        21551\n",
       "Premium      13791\n",
       "Very Good    12082\n",
       "Good          4906\n",
       "Fair          1610\n",
       "Name: cut, dtype: int64"
      ]
     },
     "execution_count": 53,
     "metadata": {},
     "output_type": "execute_result"
    }
   ],
   "source": [
    "df['cut'].value_counts()"
   ]
  },
  {
   "cell_type": "markdown",
   "metadata": {
    "id": "Qju21Tam3_3r"
   },
   "source": [
    "\n",
    "### 32. Write a Pandas program to display percentages of each value of cut series occurs in diamonds DataFrame.  "
   ]
  },
  {
   "cell_type": "code",
   "execution_count": 54,
   "metadata": {
    "colab": {
     "base_uri": "https://localhost:8080/",
     "height": 272
    },
    "executionInfo": {
     "elapsed": 25,
     "status": "ok",
     "timestamp": 1728965557123,
     "user": {
      "displayName": "PGDAI ACTS",
      "userId": "16113966839122920361"
     },
     "user_tz": -330
    },
    "id": "3mHeW4Nm3__z",
    "outputId": "d8eaba0e-b6d3-4a16-80ac-1e1deeeb9e68"
   },
   "outputs": [
    {
     "data": {
      "text/plain": [
       "Ideal        39.953652\n",
       "Premium      25.567297\n",
       "Very Good    22.398962\n",
       "Good          9.095291\n",
       "Fair          2.984798\n",
       "Name: cut, dtype: float64"
      ]
     },
     "execution_count": 54,
     "metadata": {},
     "output_type": "execute_result"
    }
   ],
   "source": [
    "df['cut'].value_counts(normalize=True)*100"
   ]
  },
  {
   "cell_type": "markdown",
   "metadata": {
    "id": "0Zzg8BiD5Mug"
   },
   "source": [
    "### 33. Write a Pandas program to display the unique values in cut series of diamonds DataFrame.  "
   ]
  },
  {
   "cell_type": "code",
   "execution_count": 55,
   "metadata": {
    "colab": {
     "base_uri": "https://localhost:8080/"
    },
    "executionInfo": {
     "elapsed": 25,
     "status": "ok",
     "timestamp": 1728965557123,
     "user": {
      "displayName": "PGDAI ACTS",
      "userId": "16113966839122920361"
     },
     "user_tz": -330
    },
    "id": "C8-BvQ8P5M0v",
    "outputId": "2e1f8dae-c979-4611-9b0d-3622082fe40c"
   },
   "outputs": [
    {
     "data": {
      "text/plain": [
       "array(['Ideal', 'Premium', 'Good', 'Very Good', 'Fair'], dtype=object)"
      ]
     },
     "execution_count": 55,
     "metadata": {},
     "output_type": "execute_result"
    }
   ],
   "source": [
    "df['cut'].unique()"
   ]
  },
  {
   "cell_type": "markdown",
   "metadata": {
    "id": "aYUvyZ2N5M73"
   },
   "source": [
    "\n",
    "### 34. Write a Pandas program to count the number of unique values in cut series of diamonds DataFrame."
   ]
  },
  {
   "cell_type": "code",
   "execution_count": 56,
   "metadata": {
    "colab": {
     "base_uri": "https://localhost:8080/"
    },
    "executionInfo": {
     "elapsed": 23,
     "status": "ok",
     "timestamp": 1728965557123,
     "user": {
      "displayName": "PGDAI ACTS",
      "userId": "16113966839122920361"
     },
     "user_tz": -330
    },
    "id": "Xk14hpN85NBw",
    "outputId": "9570242b-0e65-4ef6-fdbe-dc9992a7b51e"
   },
   "outputs": [
    {
     "data": {
      "text/plain": [
       "5"
      ]
     },
     "execution_count": 56,
     "metadata": {},
     "output_type": "execute_result"
    }
   ],
   "source": [
    "df.cut.nunique()"
   ]
  },
  {
   "cell_type": "markdown",
   "metadata": {
    "id": "XZMWlLeS5NI3"
   },
   "source": [
    "\n",
    "\n",
    "  \n",
    "### 35. Write a Pandas program to compute a cross-tabulation of two Series in diamonds DataFrame.  "
   ]
  },
  {
   "cell_type": "code",
   "execution_count": 57,
   "metadata": {
    "colab": {
     "base_uri": "https://localhost:8080/",
     "height": 238
    },
    "executionInfo": {
     "elapsed": 21,
     "status": "ok",
     "timestamp": 1728965557123,
     "user": {
      "displayName": "PGDAI ACTS",
      "userId": "16113966839122920361"
     },
     "user_tz": -330
    },
    "id": "hYt5bfjb5NO_",
    "outputId": "96887d0c-896d-4d7a-b476-86c8345b4c26"
   },
   "outputs": [
    {
     "data": {
      "text/html": [
       "<div>\n",
       "<style scoped>\n",
       "    .dataframe tbody tr th:only-of-type {\n",
       "        vertical-align: middle;\n",
       "    }\n",
       "\n",
       "    .dataframe tbody tr th {\n",
       "        vertical-align: top;\n",
       "    }\n",
       "\n",
       "    .dataframe thead th {\n",
       "        text-align: right;\n",
       "    }\n",
       "</style>\n",
       "<table border=\"1\" class=\"dataframe\">\n",
       "  <thead>\n",
       "    <tr style=\"text-align: right;\">\n",
       "      <th>color</th>\n",
       "      <th>D</th>\n",
       "      <th>E</th>\n",
       "      <th>F</th>\n",
       "      <th>G</th>\n",
       "      <th>H</th>\n",
       "      <th>I</th>\n",
       "      <th>J</th>\n",
       "    </tr>\n",
       "    <tr>\n",
       "      <th>cut</th>\n",
       "      <th></th>\n",
       "      <th></th>\n",
       "      <th></th>\n",
       "      <th></th>\n",
       "      <th></th>\n",
       "      <th></th>\n",
       "      <th></th>\n",
       "    </tr>\n",
       "  </thead>\n",
       "  <tbody>\n",
       "    <tr>\n",
       "      <th>Fair</th>\n",
       "      <td>163</td>\n",
       "      <td>224</td>\n",
       "      <td>312</td>\n",
       "      <td>314</td>\n",
       "      <td>303</td>\n",
       "      <td>175</td>\n",
       "      <td>119</td>\n",
       "    </tr>\n",
       "    <tr>\n",
       "      <th>Good</th>\n",
       "      <td>662</td>\n",
       "      <td>933</td>\n",
       "      <td>909</td>\n",
       "      <td>871</td>\n",
       "      <td>702</td>\n",
       "      <td>522</td>\n",
       "      <td>307</td>\n",
       "    </tr>\n",
       "    <tr>\n",
       "      <th>Ideal</th>\n",
       "      <td>2834</td>\n",
       "      <td>3903</td>\n",
       "      <td>3826</td>\n",
       "      <td>4884</td>\n",
       "      <td>3115</td>\n",
       "      <td>2093</td>\n",
       "      <td>896</td>\n",
       "    </tr>\n",
       "    <tr>\n",
       "      <th>Premium</th>\n",
       "      <td>1603</td>\n",
       "      <td>2337</td>\n",
       "      <td>2331</td>\n",
       "      <td>2924</td>\n",
       "      <td>2360</td>\n",
       "      <td>1428</td>\n",
       "      <td>808</td>\n",
       "    </tr>\n",
       "    <tr>\n",
       "      <th>Very Good</th>\n",
       "      <td>1513</td>\n",
       "      <td>2400</td>\n",
       "      <td>2164</td>\n",
       "      <td>2299</td>\n",
       "      <td>1824</td>\n",
       "      <td>1204</td>\n",
       "      <td>678</td>\n",
       "    </tr>\n",
       "  </tbody>\n",
       "</table>\n",
       "</div>"
      ],
      "text/plain": [
       "color         D     E     F     G     H     I    J\n",
       "cut                                               \n",
       "Fair        163   224   312   314   303   175  119\n",
       "Good        662   933   909   871   702   522  307\n",
       "Ideal      2834  3903  3826  4884  3115  2093  896\n",
       "Premium    1603  2337  2331  2924  2360  1428  808\n",
       "Very Good  1513  2400  2164  2299  1824  1204  678"
      ]
     },
     "execution_count": 57,
     "metadata": {},
     "output_type": "execute_result"
    }
   ],
   "source": [
    "pd.crosstab(df['cut'],df['color'])"
   ]
  },
  {
   "cell_type": "markdown",
   "metadata": {
    "id": "ziynkTMF5NUv"
   },
   "source": [
    "\n",
    "### 36. Write a Pandas program to calculate various summary statistics of cut series of diamonds DataFrame.  "
   ]
  },
  {
   "cell_type": "code",
   "execution_count": 58,
   "metadata": {
    "colab": {
     "base_uri": "https://localhost:8080/",
     "height": 300
    },
    "executionInfo": {
     "elapsed": 21,
     "status": "ok",
     "timestamp": 1728965557124,
     "user": {
      "displayName": "PGDAI ACTS",
      "userId": "16113966839122920361"
     },
     "user_tz": -330
    },
    "id": "CEkfs1uS5NZ_",
    "outputId": "874a0462-4064-4138-cbce-407b4181d4ae"
   },
   "outputs": [
    {
     "data": {
      "text/html": [
       "<div>\n",
       "<style scoped>\n",
       "    .dataframe tbody tr th:only-of-type {\n",
       "        vertical-align: middle;\n",
       "    }\n",
       "\n",
       "    .dataframe tbody tr th {\n",
       "        vertical-align: top;\n",
       "    }\n",
       "\n",
       "    .dataframe thead th {\n",
       "        text-align: right;\n",
       "    }\n",
       "</style>\n",
       "<table border=\"1\" class=\"dataframe\">\n",
       "  <thead>\n",
       "    <tr style=\"text-align: right;\">\n",
       "      <th></th>\n",
       "      <th>Unnamed: 0</th>\n",
       "      <th>carat</th>\n",
       "      <th>depth</th>\n",
       "      <th>table</th>\n",
       "      <th>price</th>\n",
       "      <th>x</th>\n",
       "      <th>y</th>\n",
       "      <th>z</th>\n",
       "    </tr>\n",
       "  </thead>\n",
       "  <tbody>\n",
       "    <tr>\n",
       "      <th>count</th>\n",
       "      <td>53940.000000</td>\n",
       "      <td>53940.000000</td>\n",
       "      <td>53940.000000</td>\n",
       "      <td>53940.000000</td>\n",
       "      <td>53940.000000</td>\n",
       "      <td>53940.000000</td>\n",
       "      <td>53940.000000</td>\n",
       "      <td>53940.000000</td>\n",
       "    </tr>\n",
       "    <tr>\n",
       "      <th>mean</th>\n",
       "      <td>26970.500000</td>\n",
       "      <td>0.797940</td>\n",
       "      <td>61.749405</td>\n",
       "      <td>57.457184</td>\n",
       "      <td>3932.799722</td>\n",
       "      <td>5.731157</td>\n",
       "      <td>5.734526</td>\n",
       "      <td>3.538734</td>\n",
       "    </tr>\n",
       "    <tr>\n",
       "      <th>std</th>\n",
       "      <td>15571.281097</td>\n",
       "      <td>0.474011</td>\n",
       "      <td>1.432621</td>\n",
       "      <td>2.234491</td>\n",
       "      <td>3989.439738</td>\n",
       "      <td>1.121761</td>\n",
       "      <td>1.142135</td>\n",
       "      <td>0.705699</td>\n",
       "    </tr>\n",
       "    <tr>\n",
       "      <th>min</th>\n",
       "      <td>1.000000</td>\n",
       "      <td>0.200000</td>\n",
       "      <td>43.000000</td>\n",
       "      <td>43.000000</td>\n",
       "      <td>326.000000</td>\n",
       "      <td>0.000000</td>\n",
       "      <td>0.000000</td>\n",
       "      <td>0.000000</td>\n",
       "    </tr>\n",
       "    <tr>\n",
       "      <th>25%</th>\n",
       "      <td>13485.750000</td>\n",
       "      <td>0.400000</td>\n",
       "      <td>61.000000</td>\n",
       "      <td>56.000000</td>\n",
       "      <td>950.000000</td>\n",
       "      <td>4.710000</td>\n",
       "      <td>4.720000</td>\n",
       "      <td>2.910000</td>\n",
       "    </tr>\n",
       "    <tr>\n",
       "      <th>50%</th>\n",
       "      <td>26970.500000</td>\n",
       "      <td>0.700000</td>\n",
       "      <td>61.800000</td>\n",
       "      <td>57.000000</td>\n",
       "      <td>2401.000000</td>\n",
       "      <td>5.700000</td>\n",
       "      <td>5.710000</td>\n",
       "      <td>3.530000</td>\n",
       "    </tr>\n",
       "    <tr>\n",
       "      <th>75%</th>\n",
       "      <td>40455.250000</td>\n",
       "      <td>1.040000</td>\n",
       "      <td>62.500000</td>\n",
       "      <td>59.000000</td>\n",
       "      <td>5324.250000</td>\n",
       "      <td>6.540000</td>\n",
       "      <td>6.540000</td>\n",
       "      <td>4.040000</td>\n",
       "    </tr>\n",
       "    <tr>\n",
       "      <th>max</th>\n",
       "      <td>53940.000000</td>\n",
       "      <td>5.010000</td>\n",
       "      <td>79.000000</td>\n",
       "      <td>95.000000</td>\n",
       "      <td>18823.000000</td>\n",
       "      <td>10.740000</td>\n",
       "      <td>58.900000</td>\n",
       "      <td>31.800000</td>\n",
       "    </tr>\n",
       "  </tbody>\n",
       "</table>\n",
       "</div>"
      ],
      "text/plain": [
       "         Unnamed: 0         carat         depth         table         price  \\\n",
       "count  53940.000000  53940.000000  53940.000000  53940.000000  53940.000000   \n",
       "mean   26970.500000      0.797940     61.749405     57.457184   3932.799722   \n",
       "std    15571.281097      0.474011      1.432621      2.234491   3989.439738   \n",
       "min        1.000000      0.200000     43.000000     43.000000    326.000000   \n",
       "25%    13485.750000      0.400000     61.000000     56.000000    950.000000   \n",
       "50%    26970.500000      0.700000     61.800000     57.000000   2401.000000   \n",
       "75%    40455.250000      1.040000     62.500000     59.000000   5324.250000   \n",
       "max    53940.000000      5.010000     79.000000     95.000000  18823.000000   \n",
       "\n",
       "                  x             y             z  \n",
       "count  53940.000000  53940.000000  53940.000000  \n",
       "mean       5.731157      5.734526      3.538734  \n",
       "std        1.121761      1.142135      0.705699  \n",
       "min        0.000000      0.000000      0.000000  \n",
       "25%        4.710000      4.720000      2.910000  \n",
       "50%        5.700000      5.710000      3.530000  \n",
       "75%        6.540000      6.540000      4.040000  \n",
       "max       10.740000     58.900000     31.800000  "
      ]
     },
     "execution_count": 58,
     "metadata": {},
     "output_type": "execute_result"
    }
   ],
   "source": [
    "df.describe()"
   ]
  },
  {
   "cell_type": "markdown",
   "metadata": {
    "id": "c6NK_A8HxV6A"
   },
   "source": [
    "\n",
    "### 37. Write a Pandas program to create a histogram of the 'carat' Series (distribution of a numerical variable) of diamonds DataFrame.  "
   ]
  },
  {
   "cell_type": "code",
   "execution_count": 59,
   "metadata": {
    "colab": {
     "base_uri": "https://localhost:8080/",
     "height": 472
    },
    "executionInfo": {
     "elapsed": 802,
     "status": "ok",
     "timestamp": 1728965557906,
     "user": {
      "displayName": "PGDAI ACTS",
      "userId": "16113966839122920361"
     },
     "user_tz": -330
    },
    "id": "mORIZs1cxWy_",
    "outputId": "53c8bd96-4ceb-4ecc-c2fa-6c750a306070"
   },
   "outputs": [
    {
     "data": {
      "image/png": "[encoded data removed]",
      "text/plain": [
       "<Figure size 432x288 with 1 Axes>"
      ]
     },
     "metadata": {
      "needs_background": "light"
     },
     "output_type": "display_data"
    }
   ],
   "source": [
    "plt.figure()\n",
    "df['carat'].plot.hist()\n",
    "plt.xlabel('Carat')\n",
    "plt.ylabel('Frequency')\n",
    "plt.title('Histogram of Carat')\n",
    "plt.show()"
   ]
  },
  {
   "cell_type": "markdown",
   "metadata": {
    "id": "DQB8-2iBxW8u"
   },
   "source": [
    "\n",
    "### 38. Write a Pandas program to create a bar plot of the 'value_counts' for the 'cut' series of diamonds DataFrame.  "
   ]
  },
  {
   "cell_type": "code",
   "execution_count": 60,
   "metadata": {
    "colab": {
     "base_uri": "https://localhost:8080/",
     "height": 530
    },
    "executionInfo": {
     "elapsed": 13,
     "status": "ok",
     "timestamp": 1728965557906,
     "user": {
      "displayName": "PGDAI ACTS",
      "userId": "16113966839122920361"
     },
     "user_tz": -330
    },
    "id": "DUo-h0kOxXGf",
    "outputId": "97cf9c90-3ba4-4da0-8bfd-757343d20000"
   },
   "outputs": [
    {
     "data": {
      "image/png": "[encoded data removed]",
      "text/plain": [
       "<Figure size 432x288 with 1 Axes>"
      ]
     },
     "metadata": {
      "needs_background": "light"
     },
     "output_type": "display_data"
    }
   ],
   "source": [
    "plt.figure()\n",
    "df['cut'].value_counts().plot.bar()\n",
    "plt.xlabel('Cut')\n",
    "plt.ylabel('Frequency')\n",
    "plt.title('Bar Plot of Cut')\n",
    "plt.show()"
   ]
  },
  {
   "cell_type": "markdown",
   "metadata": {
    "id": "vS9BYITbxXN-"
   },
   "source": [
    "\n",
    "### 39. Write a Pandas program to create a DataFrame of booleans (True if missing, False if not missing) from diamonds DataFrame.  "
   ]
  },
  {
   "cell_type": "code",
   "execution_count": 61,
   "metadata": {
    "colab": {
     "base_uri": "https://localhost:8080/",
     "height": 424
    },
    "executionInfo": {
     "elapsed": 12,
     "status": "ok",
     "timestamp": 1728965557906,
     "user": {
      "displayName": "PGDAI ACTS",
      "userId": "16113966839122920361"
     },
     "user_tz": -330
    },
    "id": "TSLdi__wxXUW",
    "outputId": "3937e4b7-7757-4f47-9bdf-a7dab2bc7254"
   },
   "outputs": [
    {
     "data": {
      "text/html": [
       "<div>\n",
       "<style scoped>\n",
       "    .dataframe tbody tr th:only-of-type {\n",
       "        vertical-align: middle;\n",
       "    }\n",
       "\n",
       "    .dataframe tbody tr th {\n",
       "        vertical-align: top;\n",
       "    }\n",
       "\n",
       "    .dataframe thead th {\n",
       "        text-align: right;\n",
       "    }\n",
       "</style>\n",
       "<table border=\"1\" class=\"dataframe\">\n",
       "  <thead>\n",
       "    <tr style=\"text-align: right;\">\n",
       "      <th></th>\n",
       "      <th>Unnamed: 0</th>\n",
       "      <th>carat</th>\n",
       "      <th>cut</th>\n",
       "      <th>color</th>\n",
       "      <th>clarity</th>\n",
       "      <th>depth</th>\n",
       "      <th>table</th>\n",
       "      <th>price</th>\n",
       "      <th>x</th>\n",
       "      <th>y</th>\n",
       "      <th>z</th>\n",
       "      <th>Quality-color</th>\n",
       "    </tr>\n",
       "  </thead>\n",
       "  <tbody>\n",
       "    <tr>\n",
       "      <th>0</th>\n",
       "      <td>False</td>\n",
       "      <td>False</td>\n",
       "      <td>False</td>\n",
       "      <td>False</td>\n",
       "      <td>False</td>\n",
       "      <td>False</td>\n",
       "      <td>False</td>\n",
       "      <td>False</td>\n",
       "      <td>False</td>\n",
       "      <td>False</td>\n",
       "      <td>False</td>\n",
       "      <td>False</td>\n",
       "    </tr>\n",
       "    <tr>\n",
       "      <th>1</th>\n",
       "      <td>False</td>\n",
       "      <td>False</td>\n",
       "      <td>False</td>\n",
       "      <td>False</td>\n",
       "      <td>False</td>\n",
       "      <td>False</td>\n",
       "      <td>False</td>\n",
       "      <td>False</td>\n",
       "      <td>False</td>\n",
       "      <td>False</td>\n",
       "      <td>False</td>\n",
       "      <td>False</td>\n",
       "    </tr>\n",
       "    <tr>\n",
       "      <th>2</th>\n",
       "      <td>False</td>\n",
       "      <td>False</td>\n",
       "      <td>False</td>\n",
       "      <td>False</td>\n",
       "      <td>False</td>\n",
       "      <td>False</td>\n",
       "      <td>False</td>\n",
       "      <td>False</td>\n",
       "      <td>False</td>\n",
       "      <td>False</td>\n",
       "      <td>False</td>\n",
       "      <td>False</td>\n",
       "    </tr>\n",
       "    <tr>\n",
       "      <th>3</th>\n",
       "      <td>False</td>\n",
       "      <td>False</td>\n",
       "      <td>False</td>\n",
       "      <td>False</td>\n",
       "      <td>False</td>\n",
       "      <td>False</td>\n",
       "      <td>False</td>\n",
       "      <td>False</td>\n",
       "      <td>False</td>\n",
       "      <td>False</td>\n",
       "      <td>False</td>\n",
       "      <td>False</td>\n",
       "    </tr>\n",
       "    <tr>\n",
       "      <th>4</th>\n",
       "      <td>False</td>\n",
       "      <td>False</td>\n",
       "      <td>False</td>\n",
       "      <td>False</td>\n",
       "      <td>False</td>\n",
       "      <td>False</td>\n",
       "      <td>False</td>\n",
       "      <td>False</td>\n",
       "      <td>False</td>\n",
       "      <td>False</td>\n",
       "      <td>False</td>\n",
       "      <td>False</td>\n",
       "    </tr>\n",
       "    <tr>\n",
       "      <th>...</th>\n",
       "      <td>...</td>\n",
       "      <td>...</td>\n",
       "      <td>...</td>\n",
       "      <td>...</td>\n",
       "      <td>...</td>\n",
       "      <td>...</td>\n",
       "      <td>...</td>\n",
       "      <td>...</td>\n",
       "      <td>...</td>\n",
       "      <td>...</td>\n",
       "      <td>...</td>\n",
       "      <td>...</td>\n",
       "    </tr>\n",
       "    <tr>\n",
       "      <th>53935</th>\n",
       "      <td>False</td>\n",
       "      <td>False</td>\n",
       "      <td>False</td>\n",
       "      <td>False</td>\n",
       "      <td>False</td>\n",
       "      <td>False</td>\n",
       "      <td>False</td>\n",
       "      <td>False</td>\n",
       "      <td>False</td>\n",
       "      <td>False</td>\n",
       "      <td>False</td>\n",
       "      <td>False</td>\n",
       "    </tr>\n",
       "    <tr>\n",
       "      <th>53936</th>\n",
       "      <td>False</td>\n",
       "      <td>False</td>\n",
       "      <td>False</td>\n",
       "      <td>False</td>\n",
       "      <td>False</td>\n",
       "      <td>False</td>\n",
       "      <td>False</td>\n",
       "      <td>False</td>\n",
       "      <td>False</td>\n",
       "      <td>False</td>\n",
       "      <td>False</td>\n",
       "      <td>False</td>\n",
       "    </tr>\n",
       "    <tr>\n",
       "      <th>53937</th>\n",
       "      <td>False</td>\n",
       "      <td>False</td>\n",
       "      <td>False</td>\n",
       "      <td>False</td>\n",
       "      <td>False</td>\n",
       "      <td>False</td>\n",
       "      <td>False</td>\n",
       "      <td>False</td>\n",
       "      <td>False</td>\n",
       "      <td>False</td>\n",
       "      <td>False</td>\n",
       "      <td>False</td>\n",
       "    </tr>\n",
       "    <tr>\n",
       "      <th>53938</th>\n",
       "      <td>False</td>\n",
       "      <td>False</td>\n",
       "      <td>False</td>\n",
       "      <td>False</td>\n",
       "      <td>False</td>\n",
       "      <td>False</td>\n",
       "      <td>False</td>\n",
       "      <td>False</td>\n",
       "      <td>False</td>\n",
       "      <td>False</td>\n",
       "      <td>False</td>\n",
       "      <td>False</td>\n",
       "    </tr>\n",
       "    <tr>\n",
       "      <th>53939</th>\n",
       "      <td>False</td>\n",
       "      <td>False</td>\n",
       "      <td>False</td>\n",
       "      <td>False</td>\n",
       "      <td>False</td>\n",
       "      <td>False</td>\n",
       "      <td>False</td>\n",
       "      <td>False</td>\n",
       "      <td>False</td>\n",
       "      <td>False</td>\n",
       "      <td>False</td>\n",
       "      <td>False</td>\n",
       "    </tr>\n",
       "  </tbody>\n",
       "</table>\n",
       "<p>53940 rows × 12 columns</p>\n",
       "</div>"
      ],
      "text/plain": [
       "       Unnamed: 0  carat    cut  color  clarity  depth  table  price      x  \\\n",
       "0           False  False  False  False    False  False  False  False  False   \n",
       "1           False  False  False  False    False  False  False  False  False   \n",
       "2           False  False  False  False    False  False  False  False  False   \n",
       "3           False  False  False  False    False  False  False  False  False   \n",
       "4           False  False  False  False    False  False  False  False  False   \n",
       "...           ...    ...    ...    ...      ...    ...    ...    ...    ...   \n",
       "53935       False  False  False  False    False  False  False  False  False   \n",
       "53936       False  False  False  False    False  False  False  False  False   \n",
       "53937       False  False  False  False    False  False  False  False  False   \n",
       "53938       False  False  False  False    False  False  False  False  False   \n",
       "53939       False  False  False  False    False  False  False  False  False   \n",
       "\n",
       "           y      z  Quality-color  \n",
       "0      False  False          False  \n",
       "1      False  False          False  \n",
       "2      False  False          False  \n",
       "3      False  False          False  \n",
       "4      False  False          False  \n",
       "...      ...    ...            ...  \n",
       "53935  False  False          False  \n",
       "53936  False  False          False  \n",
       "53937  False  False          False  \n",
       "53938  False  False          False  \n",
       "53939  False  False          False  \n",
       "\n",
       "[53940 rows x 12 columns]"
      ]
     },
     "execution_count": 61,
     "metadata": {},
     "output_type": "execute_result"
    }
   ],
   "source": [
    "df.isnull()"
   ]
  },
  {
   "cell_type": "markdown",
   "metadata": {
    "id": "PWCAHg_bxXa5"
   },
   "source": [
    "\n",
    "### 40. Write a Pandas program to count the number of missing values in each Series of diamonds DataFrame.  "
   ]
  },
  {
   "cell_type": "code",
   "execution_count": 62,
   "metadata": {
    "colab": {
     "base_uri": "https://localhost:8080/",
     "height": 460
    },
    "executionInfo": {
     "elapsed": 12,
     "status": "ok",
     "timestamp": 1728965557907,
     "user": {
      "displayName": "PGDAI ACTS",
      "userId": "16113966839122920361"
     },
     "user_tz": -330
    },
    "id": "8uwmSjsexXgv",
    "outputId": "5a8e1fc7-a87f-43ae-e42b-ac2a936a15c8"
   },
   "outputs": [
    {
     "data": {
      "text/plain": [
       "Unnamed: 0       0\n",
       "carat            0\n",
       "cut              0\n",
       "color            0\n",
       "clarity          0\n",
       "depth            0\n",
       "table            0\n",
       "price            0\n",
       "x                0\n",
       "y                0\n",
       "z                0\n",
       "Quality-color    0\n",
       "dtype: int64"
      ]
     },
     "execution_count": 62,
     "metadata": {},
     "output_type": "execute_result"
    }
   ],
   "source": [
    "df.isnull().sum()"
   ]
  },
  {
   "cell_type": "markdown",
   "metadata": {
    "id": "DoQoE43ZxXnR"
   },
   "source": [
    "\n",
    "### 41. Write a Pandas program to check the number of rows and columns and drop those row if 'any' values are missing in a row of diamonds DataFrame.  "
   ]
  },
  {
   "cell_type": "code",
   "execution_count": 63,
   "metadata": {
    "colab": {
     "base_uri": "https://localhost:8080/"
    },
    "executionInfo": {
     "elapsed": 12,
     "status": "ok",
     "timestamp": 1728965557907,
     "user": {
      "displayName": "PGDAI ACTS",
      "userId": "16113966839122920361"
     },
     "user_tz": -330
    },
    "id": "TzPS6shyr_cS",
    "outputId": "c038312b-43b7-406e-8545-b92cfb191a27"
   },
   "outputs": [
    {
     "name": "stdout",
     "output_type": "stream",
     "text": [
      "(53940, 12)\n",
      "(53940, 12)\n"
     ]
    }
   ],
   "source": [
    "print(df.shape)\n",
    "df.dropna(axis=0, how='any', inplace=True)\n",
    "print(df.shape)"
   ]
  },
  {
   "cell_type": "markdown",
   "metadata": {
    "id": "jzyNYaZPqnYP"
   },
   "source": [
    "\n",
    "### 42. Write a Pandas program to drop a row if any or all values in a row are missing of diamonds DataFrame on two specific columns.  "
   ]
  },
  {
   "cell_type": "code",
   "execution_count": 64,
   "metadata": {
    "colab": {
     "base_uri": "https://localhost:8080/"
    },
    "executionInfo": {
     "elapsed": 10,
     "status": "ok",
     "timestamp": 1728965557907,
     "user": {
      "displayName": "PGDAI ACTS",
      "userId": "16113966839122920361"
     },
     "user_tz": -330
    },
    "id": "BdukhNxFqjL-",
    "outputId": "90a2ec79-8215-4e28-a46a-2d67367d9841"
   },
   "outputs": [
    {
     "name": "stdout",
     "output_type": "stream",
     "text": [
      "(53940, 12)\n"
     ]
    }
   ],
   "source": [
    "df.dropna(axis=0, how='any', subset=['x', 'y'], inplace=True)\n",
    "print(df.shape)"
   ]
  },
  {
   "cell_type": "markdown",
   "metadata": {
    "id": "GETj4QJN4ej3"
   },
   "source": [
    "\n",
    "### 43. Write a Pandas program to set an existing column as the index of diamonds DataFrame.  "
   ]
  },
  {
   "cell_type": "code",
   "execution_count": 65,
   "metadata": {
    "colab": {
     "base_uri": "https://localhost:8080/",
     "height": 238
    },
    "executionInfo": {
     "elapsed": 885,
     "status": "ok",
     "timestamp": 1728965558784,
     "user": {
      "displayName": "PGDAI ACTS",
      "userId": "16113966839122920361"
     },
     "user_tz": -330
    },
    "id": "hFLkXS7tRGVM",
    "outputId": "d83586e1-8c7f-490b-a160-07e87d3ec7e5"
   },
   "outputs": [
    {
     "data": {
      "text/html": [
       "<div>\n",
       "<style scoped>\n",
       "    .dataframe tbody tr th:only-of-type {\n",
       "        vertical-align: middle;\n",
       "    }\n",
       "\n",
       "    .dataframe tbody tr th {\n",
       "        vertical-align: top;\n",
       "    }\n",
       "\n",
       "    .dataframe thead th {\n",
       "        text-align: right;\n",
       "    }\n",
       "</style>\n",
       "<table border=\"1\" class=\"dataframe\">\n",
       "  <thead>\n",
       "    <tr style=\"text-align: right;\">\n",
       "      <th></th>\n",
       "      <th>carat</th>\n",
       "      <th>cut</th>\n",
       "      <th>color</th>\n",
       "      <th>clarity</th>\n",
       "      <th>depth</th>\n",
       "      <th>table</th>\n",
       "      <th>price</th>\n",
       "      <th>x</th>\n",
       "      <th>y</th>\n",
       "      <th>z</th>\n",
       "      <th>Quality-color</th>\n",
       "    </tr>\n",
       "    <tr>\n",
       "      <th>Unnamed: 0</th>\n",
       "      <th></th>\n",
       "      <th></th>\n",
       "      <th></th>\n",
       "      <th></th>\n",
       "      <th></th>\n",
       "      <th></th>\n",
       "      <th></th>\n",
       "      <th></th>\n",
       "      <th></th>\n",
       "      <th></th>\n",
       "      <th></th>\n",
       "    </tr>\n",
       "  </thead>\n",
       "  <tbody>\n",
       "    <tr>\n",
       "      <th>1</th>\n",
       "      <td>0.23</td>\n",
       "      <td>Ideal</td>\n",
       "      <td>E</td>\n",
       "      <td>SI2</td>\n",
       "      <td>61.5</td>\n",
       "      <td>55.0</td>\n",
       "      <td>326</td>\n",
       "      <td>3.95</td>\n",
       "      <td>3.98</td>\n",
       "      <td>2.43</td>\n",
       "      <td>Ideal-E</td>\n",
       "    </tr>\n",
       "    <tr>\n",
       "      <th>2</th>\n",
       "      <td>0.21</td>\n",
       "      <td>Premium</td>\n",
       "      <td>E</td>\n",
       "      <td>SI1</td>\n",
       "      <td>59.8</td>\n",
       "      <td>61.0</td>\n",
       "      <td>326</td>\n",
       "      <td>3.89</td>\n",
       "      <td>3.84</td>\n",
       "      <td>2.31</td>\n",
       "      <td>Premium-E</td>\n",
       "    </tr>\n",
       "    <tr>\n",
       "      <th>3</th>\n",
       "      <td>0.23</td>\n",
       "      <td>Good</td>\n",
       "      <td>E</td>\n",
       "      <td>VS1</td>\n",
       "      <td>56.9</td>\n",
       "      <td>65.0</td>\n",
       "      <td>327</td>\n",
       "      <td>4.05</td>\n",
       "      <td>4.07</td>\n",
       "      <td>2.31</td>\n",
       "      <td>Good-E</td>\n",
       "    </tr>\n",
       "    <tr>\n",
       "      <th>4</th>\n",
       "      <td>0.29</td>\n",
       "      <td>Premium</td>\n",
       "      <td>I</td>\n",
       "      <td>VS2</td>\n",
       "      <td>62.4</td>\n",
       "      <td>58.0</td>\n",
       "      <td>334</td>\n",
       "      <td>4.20</td>\n",
       "      <td>4.23</td>\n",
       "      <td>2.63</td>\n",
       "      <td>Premium-I</td>\n",
       "    </tr>\n",
       "    <tr>\n",
       "      <th>5</th>\n",
       "      <td>0.31</td>\n",
       "      <td>Good</td>\n",
       "      <td>J</td>\n",
       "      <td>SI2</td>\n",
       "      <td>63.3</td>\n",
       "      <td>58.0</td>\n",
       "      <td>335</td>\n",
       "      <td>4.34</td>\n",
       "      <td>4.35</td>\n",
       "      <td>2.75</td>\n",
       "      <td>Good-J</td>\n",
       "    </tr>\n",
       "  </tbody>\n",
       "</table>\n",
       "</div>"
      ],
      "text/plain": [
       "            carat      cut color clarity  depth  table  price     x     y  \\\n",
       "Unnamed: 0                                                                  \n",
       "1            0.23    Ideal     E     SI2   61.5   55.0    326  3.95  3.98   \n",
       "2            0.21  Premium     E     SI1   59.8   61.0    326  3.89  3.84   \n",
       "3            0.23     Good     E     VS1   56.9   65.0    327  4.05  4.07   \n",
       "4            0.29  Premium     I     VS2   62.4   58.0    334  4.20  4.23   \n",
       "5            0.31     Good     J     SI2   63.3   58.0    335  4.34  4.35   \n",
       "\n",
       "               z Quality-color  \n",
       "Unnamed: 0                      \n",
       "1           2.43       Ideal-E  \n",
       "2           2.31     Premium-E  \n",
       "3           2.31        Good-E  \n",
       "4           2.63     Premium-I  \n",
       "5           2.75        Good-J  "
      ]
     },
     "execution_count": 65,
     "metadata": {},
     "output_type": "execute_result"
    }
   ],
   "source": [
    "df1 = df.copy()\n",
    "df1.set_index('Unnamed: 0', inplace=True)\n",
    "df1.head()"
   ]
  },
  {
   "cell_type": "markdown",
   "metadata": {
    "id": "f7mNhN684e0G"
   },
   "source": [
    "\n",
    "### 44. Write a Pandas program to set an existing column as the index of diamonds DataFrame and restore the index name, and move the index back to a column.  "
   ]
  },
  {
   "cell_type": "code",
   "execution_count": 66,
   "metadata": {
    "colab": {
     "base_uri": "https://localhost:8080/",
     "height": 206
    },
    "executionInfo": {
     "elapsed": 74,
     "status": "ok",
     "timestamp": 1728965558785,
     "user": {
      "displayName": "PGDAI ACTS",
      "userId": "16113966839122920361"
     },
     "user_tz": -330
    },
    "id": "xjh-GA624e8-",
    "outputId": "9f5058c3-79cd-45ce-ef0c-9d73b6f892cc"
   },
   "outputs": [
    {
     "data": {
      "text/html": [
       "<div>\n",
       "<style scoped>\n",
       "    .dataframe tbody tr th:only-of-type {\n",
       "        vertical-align: middle;\n",
       "    }\n",
       "\n",
       "    .dataframe tbody tr th {\n",
       "        vertical-align: top;\n",
       "    }\n",
       "\n",
       "    .dataframe thead th {\n",
       "        text-align: right;\n",
       "    }\n",
       "</style>\n",
       "<table border=\"1\" class=\"dataframe\">\n",
       "  <thead>\n",
       "    <tr style=\"text-align: right;\">\n",
       "      <th></th>\n",
       "      <th>Unnamed: 0</th>\n",
       "      <th>carat</th>\n",
       "      <th>cut</th>\n",
       "      <th>color</th>\n",
       "      <th>clarity</th>\n",
       "      <th>depth</th>\n",
       "      <th>table</th>\n",
       "      <th>price</th>\n",
       "      <th>x</th>\n",
       "      <th>y</th>\n",
       "      <th>z</th>\n",
       "      <th>Quality-color</th>\n",
       "    </tr>\n",
       "  </thead>\n",
       "  <tbody>\n",
       "    <tr>\n",
       "      <th>0</th>\n",
       "      <td>1</td>\n",
       "      <td>0.23</td>\n",
       "      <td>Ideal</td>\n",
       "      <td>E</td>\n",
       "      <td>SI2</td>\n",
       "      <td>61.5</td>\n",
       "      <td>55.0</td>\n",
       "      <td>326</td>\n",
       "      <td>3.95</td>\n",
       "      <td>3.98</td>\n",
       "      <td>2.43</td>\n",
       "      <td>Ideal-E</td>\n",
       "    </tr>\n",
       "    <tr>\n",
       "      <th>1</th>\n",
       "      <td>2</td>\n",
       "      <td>0.21</td>\n",
       "      <td>Premium</td>\n",
       "      <td>E</td>\n",
       "      <td>SI1</td>\n",
       "      <td>59.8</td>\n",
       "      <td>61.0</td>\n",
       "      <td>326</td>\n",
       "      <td>3.89</td>\n",
       "      <td>3.84</td>\n",
       "      <td>2.31</td>\n",
       "      <td>Premium-E</td>\n",
       "    </tr>\n",
       "    <tr>\n",
       "      <th>2</th>\n",
       "      <td>3</td>\n",
       "      <td>0.23</td>\n",
       "      <td>Good</td>\n",
       "      <td>E</td>\n",
       "      <td>VS1</td>\n",
       "      <td>56.9</td>\n",
       "      <td>65.0</td>\n",
       "      <td>327</td>\n",
       "      <td>4.05</td>\n",
       "      <td>4.07</td>\n",
       "      <td>2.31</td>\n",
       "      <td>Good-E</td>\n",
       "    </tr>\n",
       "    <tr>\n",
       "      <th>3</th>\n",
       "      <td>4</td>\n",
       "      <td>0.29</td>\n",
       "      <td>Premium</td>\n",
       "      <td>I</td>\n",
       "      <td>VS2</td>\n",
       "      <td>62.4</td>\n",
       "      <td>58.0</td>\n",
       "      <td>334</td>\n",
       "      <td>4.20</td>\n",
       "      <td>4.23</td>\n",
       "      <td>2.63</td>\n",
       "      <td>Premium-I</td>\n",
       "    </tr>\n",
       "    <tr>\n",
       "      <th>4</th>\n",
       "      <td>5</td>\n",
       "      <td>0.31</td>\n",
       "      <td>Good</td>\n",
       "      <td>J</td>\n",
       "      <td>SI2</td>\n",
       "      <td>63.3</td>\n",
       "      <td>58.0</td>\n",
       "      <td>335</td>\n",
       "      <td>4.34</td>\n",
       "      <td>4.35</td>\n",
       "      <td>2.75</td>\n",
       "      <td>Good-J</td>\n",
       "    </tr>\n",
       "  </tbody>\n",
       "</table>\n",
       "</div>"
      ],
      "text/plain": [
       "   Unnamed: 0  carat      cut color clarity  depth  table  price     x     y  \\\n",
       "0           1   0.23    Ideal     E     SI2   61.5   55.0    326  3.95  3.98   \n",
       "1           2   0.21  Premium     E     SI1   59.8   61.0    326  3.89  3.84   \n",
       "2           3   0.23     Good     E     VS1   56.9   65.0    327  4.05  4.07   \n",
       "3           4   0.29  Premium     I     VS2   62.4   58.0    334  4.20  4.23   \n",
       "4           5   0.31     Good     J     SI2   63.3   58.0    335  4.34  4.35   \n",
       "\n",
       "      z Quality-color  \n",
       "0  2.43       Ideal-E  \n",
       "1  2.31     Premium-E  \n",
       "2  2.31        Good-E  \n",
       "3  2.63     Premium-I  \n",
       "4  2.75        Good-J  "
      ]
     },
     "execution_count": 66,
     "metadata": {},
     "output_type": "execute_result"
    }
   ],
   "source": [
    "df1.reset_index(inplace=True)\n",
    "df1.head()"
   ]
  },
  {
   "cell_type": "markdown",
   "metadata": {
    "id": "43ClCHf24fDd"
   },
   "source": [
    "\n",
    "### 45. Write a Pandas program to access a specified Series index and the Series values of diamonds DataFrame."
   ]
  },
  {
   "cell_type": "code",
   "execution_count": 67,
   "metadata": {
    "colab": {
     "base_uri": "https://localhost:8080/"
    },
    "executionInfo": {
     "elapsed": 73,
     "status": "ok",
     "timestamp": 1728965558785,
     "user": {
      "displayName": "PGDAI ACTS",
      "userId": "16113966839122920361"
     },
     "user_tz": -330
    },
    "id": "ap8vEC-u4fLm",
    "outputId": "faed89e1-b01a-4a47-a469-e07172855526"
   },
   "outputs": [
    {
     "name": "stdout",
     "output_type": "stream",
     "text": [
      "\n",
      "Access the Series index:\n",
      "Float64Index([ 0.3, 0.31, 1.01,  0.7, 0.32,  1.0,  0.9, 0.41,  0.4, 0.71,\n",
      "              ...\n",
      "               4.0,  3.4, 2.77,  2.7, 3.05, 3.02, 3.65,  3.5, 3.22, 3.11],\n",
      "             dtype='float64', length=273)\n",
      "\n",
      "Access the Series values:\n",
      "[2604 2249 2242 1981 1840 1558 1485 1382 1299 1294 1258 1189 1127  910\n",
      "  883  817  807  793  764  709  706  670  667  645  625  572  570  523\n",
      "  496  492  492  488  475  473  440  430  398  394  381  373  361  342\n",
      "  322  310  308  300  293  287  284  282  279  278  265  254  253  251\n",
      "  251  251  249  246  246  236  233  228  226  220  215  212  212  207\n",
      "  204  200  198  187  187  178  177  174  172  155  149  146  142  140\n",
      "  135  134  133  131  130  126  124  123  122  122  119  110  110  109\n",
      "  106  106  103  102  101   99   95   89   89   89   87   86   80   77\n",
      "   68   67   65   65   64   64   63   62   61   60   59   59   57   52\n",
      "   52   50   50   50   50   50   48   48   48   46   45   45   43   43\n",
      "   41   40   40   36   34   32   32   31   31   31   30   28   27   26\n",
      "   26   25   25   25   25   25   24   23   23   23   22   22   21   21\n",
      "   21   21   21   20   19   19   18   18   18   18   18   17   17   17\n",
      "   17   16   16   15   15   15   14   13   13   13   13   12   12   12\n",
      "   12   11    9    9    9    9    9    9    9    8    8    8    8    8\n",
      "    7    7    7    7    7    6    6    6    5    5    5    5    4    4\n",
      "    4    4    4    4    4    3    3    3    3    3    3    3    3    3\n",
      "    3    3    3    3    3    3    3    3    2    2    2    2    2    2\n",
      "    1    1    1    1    1    1    1    1    1    1    1    1    1    1\n",
      "    1    1    1    1    1    1    1]\n"
     ]
    }
   ],
   "source": [
    "print(\"\\nAccess the Series index:\")\n",
    "print(df.carat.value_counts().index)\n",
    "print(\"\\nAccess the Series values:\")\n",
    "print(df.carat.value_counts().values)"
   ]
  },
  {
   "cell_type": "markdown",
   "metadata": {
    "id": "3p1CsQ1I4fSZ"
   },
   "source": [
    "  \n",
    "### 46. Write a Pandas program to sort a Series by its values and index of diamonds DataFrame.  "
   ]
  },
  {
   "cell_type": "code",
   "execution_count": 68,
   "metadata": {
    "colab": {
     "base_uri": "https://localhost:8080/",
     "height": 490
    },
    "executionInfo": {
     "elapsed": 71,
     "status": "ok",
     "timestamp": 1728965558785,
     "user": {
      "displayName": "PGDAI ACTS",
      "userId": "16113966839122920361"
     },
     "user_tz": -330
    },
    "id": "kfmkzjbhSskf",
    "outputId": "72dd85ba-4041-465c-ec3f-26937838e712"
   },
   "outputs": [
    {
     "data": {
      "text/plain": [
       "3.11       1\n",
       "3.51       1\n",
       "4.50       1\n",
       "5.01       1\n",
       "2.64       1\n",
       "        ... \n",
       "0.32    1840\n",
       "0.70    1981\n",
       "1.01    2242\n",
       "0.31    2249\n",
       "0.30    2604\n",
       "Name: carat, Length: 273, dtype: int64"
      ]
     },
     "execution_count": 68,
     "metadata": {},
     "output_type": "execute_result"
    }
   ],
   "source": [
    "df.carat.value_counts().sort_values()"
   ]
  },
  {
   "cell_type": "code",
   "execution_count": 69,
   "metadata": {
    "colab": {
     "base_uri": "https://localhost:8080/",
     "height": 490
    },
    "executionInfo": {
     "elapsed": 70,
     "status": "ok",
     "timestamp": 1728965558785,
     "user": {
      "displayName": "PGDAI ACTS",
      "userId": "16113966839122920361"
     },
     "user_tz": -330
    },
    "id": "PEKWNzevUJkd",
    "outputId": "e0dc513a-4f22-4c20-ed9a-fd69143e53c4"
   },
   "outputs": [
    {
     "data": {
      "text/plain": [
       "0.20     12\n",
       "0.21      9\n",
       "0.22      5\n",
       "0.23    293\n",
       "0.24    254\n",
       "       ... \n",
       "4.00      1\n",
       "4.01      2\n",
       "4.13      1\n",
       "4.50      1\n",
       "5.01      1\n",
       "Name: carat, Length: 273, dtype: int64"
      ]
     },
     "execution_count": 69,
     "metadata": {},
     "output_type": "execute_result"
    }
   ],
   "source": [
    "df.carat.value_counts().sort_index()"
   ]
  },
  {
   "cell_type": "markdown",
   "metadata": {
    "id": "kFo8Udkp4ffD"
   },
   "source": [
    "\n",
    "### 47. Write a Pandas program to calculate the multiply of length, width and depth for each cut of diamonds DataFrame."
   ]
  },
  {
   "cell_type": "code",
   "execution_count": 70,
   "metadata": {
    "colab": {
     "base_uri": "https://localhost:8080/",
     "height": 206
    },
    "executionInfo": {
     "elapsed": 70,
     "status": "ok",
     "timestamp": 1728965558786,
     "user": {
      "displayName": "PGDAI ACTS",
      "userId": "16113966839122920361"
     },
     "user_tz": -330
    },
    "id": "B7E7R8cX4fkV",
    "outputId": "81e968db-d979-4df6-f1cb-5cd3038b1681"
   },
   "outputs": [
    {
     "data": {
      "text/html": [
       "<div>\n",
       "<style scoped>\n",
       "    .dataframe tbody tr th:only-of-type {\n",
       "        vertical-align: middle;\n",
       "    }\n",
       "\n",
       "    .dataframe tbody tr th {\n",
       "        vertical-align: top;\n",
       "    }\n",
       "\n",
       "    .dataframe thead th {\n",
       "        text-align: right;\n",
       "    }\n",
       "</style>\n",
       "<table border=\"1\" class=\"dataframe\">\n",
       "  <thead>\n",
       "    <tr style=\"text-align: right;\">\n",
       "      <th></th>\n",
       "      <th>Unnamed: 0</th>\n",
       "      <th>carat</th>\n",
       "      <th>cut</th>\n",
       "      <th>color</th>\n",
       "      <th>clarity</th>\n",
       "      <th>depth</th>\n",
       "      <th>table</th>\n",
       "      <th>price</th>\n",
       "      <th>x</th>\n",
       "      <th>y</th>\n",
       "      <th>z</th>\n",
       "      <th>Quality-color</th>\n",
       "    </tr>\n",
       "  </thead>\n",
       "  <tbody>\n",
       "    <tr>\n",
       "      <th>0</th>\n",
       "      <td>1</td>\n",
       "      <td>0.23</td>\n",
       "      <td>Ideal</td>\n",
       "      <td>E</td>\n",
       "      <td>SI2</td>\n",
       "      <td>61.5</td>\n",
       "      <td>55.0</td>\n",
       "      <td>326</td>\n",
       "      <td>3.95</td>\n",
       "      <td>3.98</td>\n",
       "      <td>2.43</td>\n",
       "      <td>Ideal-E</td>\n",
       "    </tr>\n",
       "    <tr>\n",
       "      <th>1</th>\n",
       "      <td>2</td>\n",
       "      <td>0.21</td>\n",
       "      <td>Premium</td>\n",
       "      <td>E</td>\n",
       "      <td>SI1</td>\n",
       "      <td>59.8</td>\n",
       "      <td>61.0</td>\n",
       "      <td>326</td>\n",
       "      <td>3.89</td>\n",
       "      <td>3.84</td>\n",
       "      <td>2.31</td>\n",
       "      <td>Premium-E</td>\n",
       "    </tr>\n",
       "    <tr>\n",
       "      <th>2</th>\n",
       "      <td>3</td>\n",
       "      <td>0.23</td>\n",
       "      <td>Good</td>\n",
       "      <td>E</td>\n",
       "      <td>VS1</td>\n",
       "      <td>56.9</td>\n",
       "      <td>65.0</td>\n",
       "      <td>327</td>\n",
       "      <td>4.05</td>\n",
       "      <td>4.07</td>\n",
       "      <td>2.31</td>\n",
       "      <td>Good-E</td>\n",
       "    </tr>\n",
       "    <tr>\n",
       "      <th>3</th>\n",
       "      <td>4</td>\n",
       "      <td>0.29</td>\n",
       "      <td>Premium</td>\n",
       "      <td>I</td>\n",
       "      <td>VS2</td>\n",
       "      <td>62.4</td>\n",
       "      <td>58.0</td>\n",
       "      <td>334</td>\n",
       "      <td>4.20</td>\n",
       "      <td>4.23</td>\n",
       "      <td>2.63</td>\n",
       "      <td>Premium-I</td>\n",
       "    </tr>\n",
       "    <tr>\n",
       "      <th>4</th>\n",
       "      <td>5</td>\n",
       "      <td>0.31</td>\n",
       "      <td>Good</td>\n",
       "      <td>J</td>\n",
       "      <td>SI2</td>\n",
       "      <td>63.3</td>\n",
       "      <td>58.0</td>\n",
       "      <td>335</td>\n",
       "      <td>4.34</td>\n",
       "      <td>4.35</td>\n",
       "      <td>2.75</td>\n",
       "      <td>Good-J</td>\n",
       "    </tr>\n",
       "  </tbody>\n",
       "</table>\n",
       "</div>"
      ],
      "text/plain": [
       "   Unnamed: 0  carat      cut color clarity  depth  table  price     x     y  \\\n",
       "0           1   0.23    Ideal     E     SI2   61.5   55.0    326  3.95  3.98   \n",
       "1           2   0.21  Premium     E     SI1   59.8   61.0    326  3.89  3.84   \n",
       "2           3   0.23     Good     E     VS1   56.9   65.0    327  4.05  4.07   \n",
       "3           4   0.29  Premium     I     VS2   62.4   58.0    334  4.20  4.23   \n",
       "4           5   0.31     Good     J     SI2   63.3   58.0    335  4.34  4.35   \n",
       "\n",
       "      z Quality-color  \n",
       "0  2.43       Ideal-E  \n",
       "1  2.31     Premium-E  \n",
       "2  2.31        Good-E  \n",
       "3  2.63     Premium-I  \n",
       "4  2.75        Good-J  "
      ]
     },
     "execution_count": 70,
     "metadata": {},
     "output_type": "execute_result"
    }
   ],
   "source": [
    "df.head()"
   ]
  },
  {
   "cell_type": "code",
   "execution_count": 71,
   "metadata": {
    "colab": {
     "base_uri": "https://localhost:8080/",
     "height": 206
    },
    "executionInfo": {
     "elapsed": 69,
     "status": "ok",
     "timestamp": 1728965558786,
     "user": {
      "displayName": "PGDAI ACTS",
      "userId": "16113966839122920361"
     },
     "user_tz": -330
    },
    "id": "lD3td2YJUouG",
    "outputId": "5d63cb21-1ca1-42f9-f914-998543b07eef"
   },
   "outputs": [
    {
     "data": {
      "text/html": [
       "<div>\n",
       "<style scoped>\n",
       "    .dataframe tbody tr th:only-of-type {\n",
       "        vertical-align: middle;\n",
       "    }\n",
       "\n",
       "    .dataframe tbody tr th {\n",
       "        vertical-align: top;\n",
       "    }\n",
       "\n",
       "    .dataframe thead th {\n",
       "        text-align: right;\n",
       "    }\n",
       "</style>\n",
       "<table border=\"1\" class=\"dataframe\">\n",
       "  <thead>\n",
       "    <tr style=\"text-align: right;\">\n",
       "      <th></th>\n",
       "      <th>Unnamed: 0</th>\n",
       "      <th>carat</th>\n",
       "      <th>cut</th>\n",
       "      <th>color</th>\n",
       "      <th>clarity</th>\n",
       "      <th>depth</th>\n",
       "      <th>table</th>\n",
       "      <th>price</th>\n",
       "      <th>x</th>\n",
       "      <th>y</th>\n",
       "      <th>z</th>\n",
       "      <th>Quality-color</th>\n",
       "      <th>volume</th>\n",
       "    </tr>\n",
       "  </thead>\n",
       "  <tbody>\n",
       "    <tr>\n",
       "      <th>0</th>\n",
       "      <td>1</td>\n",
       "      <td>0.23</td>\n",
       "      <td>Ideal</td>\n",
       "      <td>E</td>\n",
       "      <td>SI2</td>\n",
       "      <td>61.5</td>\n",
       "      <td>55.0</td>\n",
       "      <td>326</td>\n",
       "      <td>3.95</td>\n",
       "      <td>3.98</td>\n",
       "      <td>2.43</td>\n",
       "      <td>Ideal-E</td>\n",
       "      <td>38.202030</td>\n",
       "    </tr>\n",
       "    <tr>\n",
       "      <th>1</th>\n",
       "      <td>2</td>\n",
       "      <td>0.21</td>\n",
       "      <td>Premium</td>\n",
       "      <td>E</td>\n",
       "      <td>SI1</td>\n",
       "      <td>59.8</td>\n",
       "      <td>61.0</td>\n",
       "      <td>326</td>\n",
       "      <td>3.89</td>\n",
       "      <td>3.84</td>\n",
       "      <td>2.31</td>\n",
       "      <td>Premium-E</td>\n",
       "      <td>34.505856</td>\n",
       "    </tr>\n",
       "    <tr>\n",
       "      <th>2</th>\n",
       "      <td>3</td>\n",
       "      <td>0.23</td>\n",
       "      <td>Good</td>\n",
       "      <td>E</td>\n",
       "      <td>VS1</td>\n",
       "      <td>56.9</td>\n",
       "      <td>65.0</td>\n",
       "      <td>327</td>\n",
       "      <td>4.05</td>\n",
       "      <td>4.07</td>\n",
       "      <td>2.31</td>\n",
       "      <td>Good-E</td>\n",
       "      <td>38.076885</td>\n",
       "    </tr>\n",
       "    <tr>\n",
       "      <th>3</th>\n",
       "      <td>4</td>\n",
       "      <td>0.29</td>\n",
       "      <td>Premium</td>\n",
       "      <td>I</td>\n",
       "      <td>VS2</td>\n",
       "      <td>62.4</td>\n",
       "      <td>58.0</td>\n",
       "      <td>334</td>\n",
       "      <td>4.20</td>\n",
       "      <td>4.23</td>\n",
       "      <td>2.63</td>\n",
       "      <td>Premium-I</td>\n",
       "      <td>46.724580</td>\n",
       "    </tr>\n",
       "    <tr>\n",
       "      <th>4</th>\n",
       "      <td>5</td>\n",
       "      <td>0.31</td>\n",
       "      <td>Good</td>\n",
       "      <td>J</td>\n",
       "      <td>SI2</td>\n",
       "      <td>63.3</td>\n",
       "      <td>58.0</td>\n",
       "      <td>335</td>\n",
       "      <td>4.34</td>\n",
       "      <td>4.35</td>\n",
       "      <td>2.75</td>\n",
       "      <td>Good-J</td>\n",
       "      <td>51.917250</td>\n",
       "    </tr>\n",
       "  </tbody>\n",
       "</table>\n",
       "</div>"
      ],
      "text/plain": [
       "   Unnamed: 0  carat      cut color clarity  depth  table  price     x     y  \\\n",
       "0           1   0.23    Ideal     E     SI2   61.5   55.0    326  3.95  3.98   \n",
       "1           2   0.21  Premium     E     SI1   59.8   61.0    326  3.89  3.84   \n",
       "2           3   0.23     Good     E     VS1   56.9   65.0    327  4.05  4.07   \n",
       "3           4   0.29  Premium     I     VS2   62.4   58.0    334  4.20  4.23   \n",
       "4           5   0.31     Good     J     SI2   63.3   58.0    335  4.34  4.35   \n",
       "\n",
       "      z Quality-color     volume  \n",
       "0  2.43       Ideal-E  38.202030  \n",
       "1  2.31     Premium-E  34.505856  \n",
       "2  2.31        Good-E  38.076885  \n",
       "3  2.63     Premium-I  46.724580  \n",
       "4  2.75        Good-J  51.917250  "
      ]
     },
     "execution_count": 71,
     "metadata": {},
     "output_type": "execute_result"
    }
   ],
   "source": [
    "df1 = df.copy()\n",
    "df1.insert(loc=len(df1.columns), column='volume', value=df1['x']*df1['y']*df1['z'])\n",
    "df1.head()"
   ]
  },
  {
   "cell_type": "markdown",
   "metadata": {
    "id": "VfrrfbeX4fqi"
   },
   "source": [
    "  \n",
    "### 48. Write a Pandas program to concatenate the diamonds DataFrame with the 'color' Series.  "
   ]
  },
  {
   "cell_type": "code",
   "execution_count": 72,
   "metadata": {
    "colab": {
     "base_uri": "https://localhost:8080/",
     "height": 206
    },
    "executionInfo": {
     "elapsed": 68,
     "status": "ok",
     "timestamp": 1728965558786,
     "user": {
      "displayName": "PGDAI ACTS",
      "userId": "16113966839122920361"
     },
     "user_tz": -330
    },
    "id": "z7yppIwkUn-M",
    "outputId": "f76a5aac-79c5-4c0c-dfe9-a9b31d0c5573"
   },
   "outputs": [
    {
     "data": {
      "text/html": [
       "<div>\n",
       "<style scoped>\n",
       "    .dataframe tbody tr th:only-of-type {\n",
       "        vertical-align: middle;\n",
       "    }\n",
       "\n",
       "    .dataframe tbody tr th {\n",
       "        vertical-align: top;\n",
       "    }\n",
       "\n",
       "    .dataframe thead th {\n",
       "        text-align: right;\n",
       "    }\n",
       "</style>\n",
       "<table border=\"1\" class=\"dataframe\">\n",
       "  <thead>\n",
       "    <tr style=\"text-align: right;\">\n",
       "      <th></th>\n",
       "      <th>Unnamed: 0</th>\n",
       "      <th>carat</th>\n",
       "      <th>cut</th>\n",
       "      <th>color</th>\n",
       "      <th>clarity</th>\n",
       "      <th>depth</th>\n",
       "      <th>table</th>\n",
       "      <th>price</th>\n",
       "      <th>x</th>\n",
       "      <th>y</th>\n",
       "      <th>z</th>\n",
       "      <th>Quality-color</th>\n",
       "      <th>color</th>\n",
       "    </tr>\n",
       "  </thead>\n",
       "  <tbody>\n",
       "    <tr>\n",
       "      <th>0</th>\n",
       "      <td>1</td>\n",
       "      <td>0.23</td>\n",
       "      <td>Ideal</td>\n",
       "      <td>E</td>\n",
       "      <td>SI2</td>\n",
       "      <td>61.5</td>\n",
       "      <td>55.0</td>\n",
       "      <td>326</td>\n",
       "      <td>3.95</td>\n",
       "      <td>3.98</td>\n",
       "      <td>2.43</td>\n",
       "      <td>Ideal-E</td>\n",
       "      <td>E</td>\n",
       "    </tr>\n",
       "    <tr>\n",
       "      <th>1</th>\n",
       "      <td>2</td>\n",
       "      <td>0.21</td>\n",
       "      <td>Premium</td>\n",
       "      <td>E</td>\n",
       "      <td>SI1</td>\n",
       "      <td>59.8</td>\n",
       "      <td>61.0</td>\n",
       "      <td>326</td>\n",
       "      <td>3.89</td>\n",
       "      <td>3.84</td>\n",
       "      <td>2.31</td>\n",
       "      <td>Premium-E</td>\n",
       "      <td>E</td>\n",
       "    </tr>\n",
       "    <tr>\n",
       "      <th>2</th>\n",
       "      <td>3</td>\n",
       "      <td>0.23</td>\n",
       "      <td>Good</td>\n",
       "      <td>E</td>\n",
       "      <td>VS1</td>\n",
       "      <td>56.9</td>\n",
       "      <td>65.0</td>\n",
       "      <td>327</td>\n",
       "      <td>4.05</td>\n",
       "      <td>4.07</td>\n",
       "      <td>2.31</td>\n",
       "      <td>Good-E</td>\n",
       "      <td>E</td>\n",
       "    </tr>\n",
       "    <tr>\n",
       "      <th>3</th>\n",
       "      <td>4</td>\n",
       "      <td>0.29</td>\n",
       "      <td>Premium</td>\n",
       "      <td>I</td>\n",
       "      <td>VS2</td>\n",
       "      <td>62.4</td>\n",
       "      <td>58.0</td>\n",
       "      <td>334</td>\n",
       "      <td>4.20</td>\n",
       "      <td>4.23</td>\n",
       "      <td>2.63</td>\n",
       "      <td>Premium-I</td>\n",
       "      <td>I</td>\n",
       "    </tr>\n",
       "    <tr>\n",
       "      <th>4</th>\n",
       "      <td>5</td>\n",
       "      <td>0.31</td>\n",
       "      <td>Good</td>\n",
       "      <td>J</td>\n",
       "      <td>SI2</td>\n",
       "      <td>63.3</td>\n",
       "      <td>58.0</td>\n",
       "      <td>335</td>\n",
       "      <td>4.34</td>\n",
       "      <td>4.35</td>\n",
       "      <td>2.75</td>\n",
       "      <td>Good-J</td>\n",
       "      <td>J</td>\n",
       "    </tr>\n",
       "  </tbody>\n",
       "</table>\n",
       "</div>"
      ],
      "text/plain": [
       "   Unnamed: 0  carat      cut color clarity  depth  table  price     x     y  \\\n",
       "0           1   0.23    Ideal     E     SI2   61.5   55.0    326  3.95  3.98   \n",
       "1           2   0.21  Premium     E     SI1   59.8   61.0    326  3.89  3.84   \n",
       "2           3   0.23     Good     E     VS1   56.9   65.0    327  4.05  4.07   \n",
       "3           4   0.29  Premium     I     VS2   62.4   58.0    334  4.20  4.23   \n",
       "4           5   0.31     Good     J     SI2   63.3   58.0    335  4.34  4.35   \n",
       "\n",
       "      z Quality-color color  \n",
       "0  2.43       Ideal-E     E  \n",
       "1  2.31     Premium-E     E  \n",
       "2  2.31        Good-E     E  \n",
       "3  2.63     Premium-I     I  \n",
       "4  2.75        Good-J     J  "
      ]
     },
     "execution_count": 72,
     "metadata": {},
     "output_type": "execute_result"
    }
   ],
   "source": [
    "df1 = df.copy()\n",
    "pd.concat([df1, df1.color], axis=1).head()\n"
   ]
  },
  {
   "cell_type": "markdown",
   "metadata": {
    "id": "WREpxkwP4f2Y"
   },
   "source": [
    "\n",
    "### 49. Write a Pandas program to read specified rows and all columns of diamonds DataFrame."
   ]
  },
  {
   "cell_type": "code",
   "execution_count": 243,
   "metadata": {
    "colab": {
     "base_uri": "https://localhost:8080/",
     "height": 206
    },
    "executionInfo": {
     "elapsed": 68,
     "status": "ok",
     "timestamp": 1728965558787,
     "user": {
      "displayName": "PGDAI ACTS",
      "userId": "16113966839122920361"
     },
     "user_tz": -330
    },
    "id": "7VC5zSeO4f8W",
    "outputId": "9b56919f-77df-4d29-dee3-7c4321fcfb2c"
   },
   "outputs": [
    {
     "data": {
      "application/vnd.google.colaboratory.intrinsic+json": {
       "summary": "{\n  \"name\": \"df\",\n  \"rows\": 5,\n  \"fields\": [\n    {\n      \"column\": \"Unnamed: 0\",\n      \"properties\": {\n        \"dtype\": \"number\",\n        \"std\": 1,\n        \"min\": 1,\n        \"max\": 5,\n        \"num_unique_values\": 5,\n        \"samples\": [\n          2,\n          5,\n          3\n        ],\n        \"semantic_type\": \"\",\n        \"description\": \"\"\n      }\n    },\n    {\n      \"column\": \"carat\",\n      \"properties\": {\n        \"dtype\": \"number\",\n        \"std\": 0.043358966777357594,\n        \"min\": 0.21,\n        \"max\": 0.31,\n        \"num_unique_values\": 4,\n        \"samples\": [\n          0.21,\n          0.31,\n          0.23\n        ],\n        \"semantic_type\": \"\",\n        \"description\": \"\"\n      }\n    },\n    {\n      \"column\": \"cut\",\n      \"properties\": {\n        \"dtype\": \"string\",\n        \"num_unique_values\": 3,\n        \"samples\": [\n          \"Ideal\",\n          \"Premium\",\n          \"Good\"\n        ],\n        \"semantic_type\": \"\",\n        \"description\": \"\"\n      }\n    },\n    {\n      \"column\": \"color\",\n      \"properties\": {\n        \"dtype\": \"string\",\n        \"num_unique_values\": 3,\n        \"samples\": [\n          \"E\",\n          \"I\",\n          \"J\"\n        ],\n        \"semantic_type\": \"\",\n        \"description\": \"\"\n      }\n    },\n    {\n      \"column\": \"clarity\",\n      \"properties\": {\n        \"dtype\": \"string\",\n        \"num_unique_values\": 4,\n        \"samples\": [\n          \"SI1\",\n          \"VS2\",\n          \"SI2\"\n        ],\n        \"semantic_type\": \"\",\n        \"description\": \"\"\n      }\n    },\n    {\n      \"column\": \"depth\",\n      \"properties\": {\n        \"dtype\": \"number\",\n        \"std\": 2.5252722625491297,\n        \"min\": 56.9,\n        \"max\": 63.3,\n        \"num_unique_values\": 5,\n        \"samples\": [\n          59.8,\n          63.3,\n          56.9\n        ],\n        \"semantic_type\": \"\",\n        \"description\": \"\"\n      }\n    },\n    {\n      \"column\": \"table\",\n      \"properties\": {\n        \"dtype\": \"number\",\n        \"std\": 3.7815340802378077,\n        \"min\": 55.0,\n        \"max\": 65.0,\n        \"num_unique_values\": 4,\n        \"samples\": [\n          61.0,\n          58.0,\n          55.0\n        ],\n        \"semantic_type\": \"\",\n        \"description\": \"\"\n      }\n    },\n    {\n      \"column\": \"price\",\n      \"properties\": {\n        \"dtype\": \"number\",\n        \"std\": 4,\n        \"min\": 326,\n        \"max\": 335,\n        \"num_unique_values\": 4,\n        \"samples\": [\n          327,\n          335,\n          326\n        ],\n        \"semantic_type\": \"\",\n        \"description\": \"\"\n      }\n    },\n    {\n      \"column\": \"x\",\n      \"properties\": {\n        \"dtype\": \"number\",\n        \"std\": 0.18420097719610495,\n        \"min\": 3.89,\n        \"max\": 4.34,\n        \"num_unique_values\": 5,\n        \"samples\": [\n          3.89,\n          4.34,\n          4.05\n        ],\n        \"semantic_type\": \"\",\n        \"description\": \"\"\n      }\n    },\n    {\n      \"column\": \"y\",\n      \"properties\": {\n        \"dtype\": \"number\",\n        \"std\": 0.20132063977645212,\n        \"min\": 3.84,\n        \"max\": 4.35,\n        \"num_unique_values\": 5,\n        \"samples\": [\n          3.84,\n          4.35,\n          4.07\n        ],\n        \"semantic_type\": \"\",\n        \"description\": \"\"\n      }\n    },\n    {\n      \"column\": \"z\",\n      \"properties\": {\n        \"dtype\": \"number\",\n        \"std\": 0.19718012070185975,\n        \"min\": 2.31,\n        \"max\": 2.75,\n        \"num_unique_values\": 4,\n        \"samples\": [\n          2.31,\n          2.75,\n          2.43\n        ],\n        \"semantic_type\": \"\",\n        \"description\": \"\"\n      }\n    },\n    {\n      \"column\": \"Quality-color\",\n      \"properties\": {\n        \"dtype\": \"string\",\n        \"num_unique_values\": 5,\n        \"samples\": [\n          \"Premium-E\",\n          \"Good-J\",\n          \"Good-E\"\n        ],\n        \"semantic_type\": \"\",\n        \"description\": \"\"\n      }\n    }\n  ]\n}",
       "type": "dataframe"
      },
      "text/html": [
       "\n",
       "  <div id=\"df-011beeb0-d879-4f46-82b0-a1bc121acc9a\" class=\"colab-df-container\">\n",
       "    <div>\n",
       "<style scoped>\n",
       "    .dataframe tbody tr th:only-of-type {\n",
       "        vertical-align: middle;\n",
       "    }\n",
       "\n",
       "    .dataframe tbody tr th {\n",
       "        vertical-align: top;\n",
       "    }\n",
       "\n",
       "    .dataframe thead th {\n",
       "        text-align: right;\n",
       "    }\n",
       "</style>\n",
       "<table border=\"1\" class=\"dataframe\">\n",
       "  <thead>\n",
       "    <tr style=\"text-align: right;\">\n",
       "      <th></th>\n",
       "      <th>Unnamed: 0</th>\n",
       "      <th>carat</th>\n",
       "      <th>cut</th>\n",
       "      <th>color</th>\n",
       "      <th>clarity</th>\n",
       "      <th>depth</th>\n",
       "      <th>table</th>\n",
       "      <th>price</th>\n",
       "      <th>x</th>\n",
       "      <th>y</th>\n",
       "      <th>z</th>\n",
       "      <th>Quality-color</th>\n",
       "    </tr>\n",
       "  </thead>\n",
       "  <tbody>\n",
       "    <tr>\n",
       "      <th>0</th>\n",
       "      <td>1</td>\n",
       "      <td>0.23</td>\n",
       "      <td>Ideal</td>\n",
       "      <td>E</td>\n",
       "      <td>SI2</td>\n",
       "      <td>61.5</td>\n",
       "      <td>55.0</td>\n",
       "      <td>326</td>\n",
       "      <td>3.95</td>\n",
       "      <td>3.98</td>\n",
       "      <td>2.43</td>\n",
       "      <td>Ideal-E</td>\n",
       "    </tr>\n",
       "    <tr>\n",
       "      <th>1</th>\n",
       "      <td>2</td>\n",
       "      <td>0.21</td>\n",
       "      <td>Premium</td>\n",
       "      <td>E</td>\n",
       "      <td>SI1</td>\n",
       "      <td>59.8</td>\n",
       "      <td>61.0</td>\n",
       "      <td>326</td>\n",
       "      <td>3.89</td>\n",
       "      <td>3.84</td>\n",
       "      <td>2.31</td>\n",
       "      <td>Premium-E</td>\n",
       "    </tr>\n",
       "    <tr>\n",
       "      <th>2</th>\n",
       "      <td>3</td>\n",
       "      <td>0.23</td>\n",
       "      <td>Good</td>\n",
       "      <td>E</td>\n",
       "      <td>VS1</td>\n",
       "      <td>56.9</td>\n",
       "      <td>65.0</td>\n",
       "      <td>327</td>\n",
       "      <td>4.05</td>\n",
       "      <td>4.07</td>\n",
       "      <td>2.31</td>\n",
       "      <td>Good-E</td>\n",
       "    </tr>\n",
       "    <tr>\n",
       "      <th>3</th>\n",
       "      <td>4</td>\n",
       "      <td>0.29</td>\n",
       "      <td>Premium</td>\n",
       "      <td>I</td>\n",
       "      <td>VS2</td>\n",
       "      <td>62.4</td>\n",
       "      <td>58.0</td>\n",
       "      <td>334</td>\n",
       "      <td>4.20</td>\n",
       "      <td>4.23</td>\n",
       "      <td>2.63</td>\n",
       "      <td>Premium-I</td>\n",
       "    </tr>\n",
       "    <tr>\n",
       "      <th>4</th>\n",
       "      <td>5</td>\n",
       "      <td>0.31</td>\n",
       "      <td>Good</td>\n",
       "      <td>J</td>\n",
       "      <td>SI2</td>\n",
       "      <td>63.3</td>\n",
       "      <td>58.0</td>\n",
       "      <td>335</td>\n",
       "      <td>4.34</td>\n",
       "      <td>4.35</td>\n",
       "      <td>2.75</td>\n",
       "      <td>Good-J</td>\n",
       "    </tr>\n",
       "  </tbody>\n",
       "</table>\n",
       "</div>\n",
       "    <div class=\"colab-df-buttons\">\n",
       "\n",
       "  <div class=\"colab-df-container\">\n",
       "    <button class=\"colab-df-convert\" onclick=\"convertToInteractive('df-011beeb0-d879-4f46-82b0-a1bc121acc9a')\"\n",
       "            title=\"Convert this dataframe to an interactive table.\"\n",
       "            style=\"display:none;\">\n",
       "\n",
       "  <svg xmlns=\"http://www.w3.org/2000/svg\" height=\"24px\" viewBox=\"0 -960 960 960\">\n",
       "    <path d=\"M120-120v-720h720v720H120Zm60-500h600v-160H180v160Zm220 220h160v-160H400v160Zm0 220h160v-160H400v160ZM180-400h160v-160H180v160Zm440 0h160v-160H620v160ZM180-180h160v-160H180v160Zm440 0h160v-160H620v160Z\"/>\n",
       "  </svg>\n",
       "    </button>\n",
       "\n",
       "  <style>\n",
       "    .colab-df-container {\n",
       "      display:flex;\n",
       "      gap: 12px;\n",
       "    }\n",
       "\n",
       "    .colab-df-convert {\n",
       "      background-color: #E8F0FE;\n",
       "      border: none;\n",
       "      border-radius: 50%;\n",
       "      cursor: pointer;\n",
       "      display: none;\n",
       "      fill: #1967D2;\n",
       "      height: 32px;\n",
       "      padding: 0 0 0 0;\n",
       "      width: 32px;\n",
       "    }\n",
       "\n",
       "    .colab-df-convert:hover {\n",
       "      background-color: #E2EBFA;\n",
       "      box-shadow: 0px 1px 2px rgba(60, 64, 67, 0.3), 0px 1px 3px 1px rgba(60, 64, 67, 0.15);\n",
       "      fill: #174EA6;\n",
       "    }\n",
       "\n",
       "    .colab-df-buttons div {\n",
       "      margin-bottom: 4px;\n",
       "    }\n",
       "\n",
       "    [theme=dark] .colab-df-convert {\n",
       "      background-color: #3B4455;\n",
       "      fill: #D2E3FC;\n",
       "    }\n",
       "\n",
       "    [theme=dark] .colab-df-convert:hover {\n",
       "      background-color: #434B5C;\n",
       "      box-shadow: 0px 1px 3px 1px rgba(0, 0, 0, 0.15);\n",
       "      filter: drop-shadow(0px 1px 2px rgba(0, 0, 0, 0.3));\n",
       "      fill: #FFFFFF;\n",
       "    }\n",
       "  </style>\n",
       "\n",
       "    <script>\n",
       "      const buttonEl =\n",
       "        document.querySelector('#df-011beeb0-d879-4f46-82b0-a1bc121acc9a button.colab-df-convert');\n",
       "      buttonEl.style.display =\n",
       "        google.colab.kernel.accessAllowed ? 'block' : 'none';\n",
       "\n",
       "      async function convertToInteractive(key) {\n",
       "        const element = document.querySelector('#df-011beeb0-d879-4f46-82b0-a1bc121acc9a');\n",
       "        const dataTable =\n",
       "          await google.colab.kernel.invokeFunction('convertToInteractive',\n",
       "                                                    [key], {});\n",
       "        if (!dataTable) return;\n",
       "\n",
       "        const docLinkHtml = 'Like what you see? Visit the ' +\n",
       "          '<a target=\"_blank\" href=https://colab.research.google.com/notebooks/data_table.ipynb>data table notebook</a>'\n",
       "          + ' to learn more about interactive tables.';\n",
       "        element.innerHTML = '';\n",
       "        dataTable['output_type'] = 'display_data';\n",
       "        await google.colab.output.renderOutput(dataTable, element);\n",
       "        const docLink = document.createElement('div');\n",
       "        docLink.innerHTML = docLinkHtml;\n",
       "        element.appendChild(docLink);\n",
       "      }\n",
       "    </script>\n",
       "  </div>\n",
       "\n",
       "\n",
       "<div id=\"df-8244aa56-7cdf-45a6-9d84-1286a71cdef1\">\n",
       "  <button class=\"colab-df-quickchart\" onclick=\"quickchart('df-8244aa56-7cdf-45a6-9d84-1286a71cdef1')\"\n",
       "            title=\"Suggest charts\"\n",
       "            style=\"display:none;\">\n",
       "\n",
       "<svg xmlns=\"http://www.w3.org/2000/svg\" height=\"24px\"viewBox=\"0 0 24 24\"\n",
       "     width=\"24px\">\n",
       "    <g>\n",
       "        <path d=\"M19 3H5c-1.1 0-2 .9-2 2v14c0 1.1.9 2 2 2h14c1.1 0 2-.9 2-2V5c0-1.1-.9-2-2-2zM9 17H7v-7h2v7zm4 0h-2V7h2v10zm4 0h-2v-4h2v4z\"/>\n",
       "    </g>\n",
       "</svg>\n",
       "  </button>\n",
       "\n",
       "<style>\n",
       "  .colab-df-quickchart {\n",
       "      --bg-color: #E8F0FE;\n",
       "      --fill-color: #1967D2;\n",
       "      --hover-bg-color: #E2EBFA;\n",
       "      --hover-fill-color: #174EA6;\n",
       "      --disabled-fill-color: #AAA;\n",
       "      --disabled-bg-color: #DDD;\n",
       "  }\n",
       "\n",
       "  [theme=dark] .colab-df-quickchart {\n",
       "      --bg-color: #3B4455;\n",
       "      --fill-color: #D2E3FC;\n",
       "      --hover-bg-color: #434B5C;\n",
       "      --hover-fill-color: #FFFFFF;\n",
       "      --disabled-bg-color: #3B4455;\n",
       "      --disabled-fill-color: #666;\n",
       "  }\n",
       "\n",
       "  .colab-df-quickchart {\n",
       "    background-color: var(--bg-color);\n",
       "    border: none;\n",
       "    border-radius: 50%;\n",
       "    cursor: pointer;\n",
       "    display: none;\n",
       "    fill: var(--fill-color);\n",
       "    height: 32px;\n",
       "    padding: 0;\n",
       "    width: 32px;\n",
       "  }\n",
       "\n",
       "  .colab-df-quickchart:hover {\n",
       "    background-color: var(--hover-bg-color);\n",
       "    box-shadow: 0 1px 2px rgba(60, 64, 67, 0.3), 0 1px 3px 1px rgba(60, 64, 67, 0.15);\n",
       "    fill: var(--button-hover-fill-color);\n",
       "  }\n",
       "\n",
       "  .colab-df-quickchart-complete:disabled,\n",
       "  .colab-df-quickchart-complete:disabled:hover {\n",
       "    background-color: var(--disabled-bg-color);\n",
       "    fill: var(--disabled-fill-color);\n",
       "    box-shadow: none;\n",
       "  }\n",
       "\n",
       "  .colab-df-spinner {\n",
       "    border: 2px solid var(--fill-color);\n",
       "    border-color: transparent;\n",
       "    border-bottom-color: var(--fill-color);\n",
       "    animation:\n",
       "      spin 1s steps(1) infinite;\n",
       "  }\n",
       "\n",
       "  @keyframes spin {\n",
       "    0% {\n",
       "      border-color: transparent;\n",
       "      border-bottom-color: var(--fill-color);\n",
       "      border-left-color: var(--fill-color);\n",
       "    }\n",
       "    20% {\n",
       "      border-color: transparent;\n",
       "      border-left-color: var(--fill-color);\n",
       "      border-top-color: var(--fill-color);\n",
       "    }\n",
       "    30% {\n",
       "      border-color: transparent;\n",
       "      border-left-color: var(--fill-color);\n",
       "      border-top-color: var(--fill-color);\n",
       "      border-right-color: var(--fill-color);\n",
       "    }\n",
       "    40% {\n",
       "      border-color: transparent;\n",
       "      border-right-color: var(--fill-color);\n",
       "      border-top-color: var(--fill-color);\n",
       "    }\n",
       "    60% {\n",
       "      border-color: transparent;\n",
       "      border-right-color: var(--fill-color);\n",
       "    }\n",
       "    80% {\n",
       "      border-color: transparent;\n",
       "      border-right-color: var(--fill-color);\n",
       "      border-bottom-color: var(--fill-color);\n",
       "    }\n",
       "    90% {\n",
       "      border-color: transparent;\n",
       "      border-bottom-color: var(--fill-color);\n",
       "    }\n",
       "  }\n",
       "</style>\n",
       "\n",
       "  <script>\n",
       "    async function quickchart(key) {\n",
       "      const quickchartButtonEl =\n",
       "        document.querySelector('#' + key + ' button');\n",
       "      quickchartButtonEl.disabled = true;  // To prevent multiple clicks.\n",
       "      quickchartButtonEl.classList.add('colab-df-spinner');\n",
       "      try {\n",
       "        const charts = await google.colab.kernel.invokeFunction(\n",
       "            'suggestCharts', [key], {});\n",
       "      } catch (error) {\n",
       "        console.error('Error during call to suggestCharts:', error);\n",
       "      }\n",
       "      quickchartButtonEl.classList.remove('colab-df-spinner');\n",
       "      quickchartButtonEl.classList.add('colab-df-quickchart-complete');\n",
       "    }\n",
       "    (() => {\n",
       "      let quickchartButtonEl =\n",
       "        document.querySelector('#df-8244aa56-7cdf-45a6-9d84-1286a71cdef1 button');\n",
       "      quickchartButtonEl.style.display =\n",
       "        google.colab.kernel.accessAllowed ? 'block' : 'none';\n",
       "    })();\n",
       "  </script>\n",
       "</div>\n",
       "\n",
       "    </div>\n",
       "  </div>\n"
      ],
      "text/plain": [
       "   Unnamed: 0  carat      cut color clarity  depth  table  price     x     y  \\\n",
       "0           1   0.23    Ideal     E     SI2   61.5   55.0    326  3.95  3.98   \n",
       "1           2   0.21  Premium     E     SI1   59.8   61.0    326  3.89  3.84   \n",
       "2           3   0.23     Good     E     VS1   56.9   65.0    327  4.05  4.07   \n",
       "3           4   0.29  Premium     I     VS2   62.4   58.0    334  4.20  4.23   \n",
       "4           5   0.31     Good     J     SI2   63.3   58.0    335  4.34  4.35   \n",
       "\n",
       "      z Quality-color  \n",
       "0  2.43       Ideal-E  \n",
       "1  2.31     Premium-E  \n",
       "2  2.31        Good-E  \n",
       "3  2.63     Premium-I  \n",
       "4  2.75        Good-J  "
      ]
     },
     "execution_count": 243,
     "metadata": {},
     "output_type": "execute_result"
    }
   ],
   "source": [
    "df.iloc[0:5,:]"
   ]
  },
  {
   "cell_type": "markdown",
   "metadata": {
    "id": "lBZfGZ884gCv"
   },
   "source": [
    "  \n",
    "### 50. Write a Pandas program to read rows 0, 5, 7 and all columns of diamonds DataFrame.  "
   ]
  },
  {
   "cell_type": "code",
   "execution_count": 73,
   "metadata": {
    "colab": {
     "base_uri": "https://localhost:8080/",
     "height": 143
    },
    "executionInfo": {
     "elapsed": 67,
     "status": "ok",
     "timestamp": 1728965558787,
     "user": {
      "displayName": "PGDAI ACTS",
      "userId": "16113966839122920361"
     },
     "user_tz": -330
    },
    "id": "K44sxWRO4gIQ",
    "outputId": "0c1ca7a1-5804-4f83-9ec4-26c77bf98583"
   },
   "outputs": [
    {
     "data": {
      "text/html": [
       "<div>\n",
       "<style scoped>\n",
       "    .dataframe tbody tr th:only-of-type {\n",
       "        vertical-align: middle;\n",
       "    }\n",
       "\n",
       "    .dataframe tbody tr th {\n",
       "        vertical-align: top;\n",
       "    }\n",
       "\n",
       "    .dataframe thead th {\n",
       "        text-align: right;\n",
       "    }\n",
       "</style>\n",
       "<table border=\"1\" class=\"dataframe\">\n",
       "  <thead>\n",
       "    <tr style=\"text-align: right;\">\n",
       "      <th></th>\n",
       "      <th>Unnamed: 0</th>\n",
       "      <th>carat</th>\n",
       "      <th>cut</th>\n",
       "      <th>color</th>\n",
       "      <th>clarity</th>\n",
       "      <th>depth</th>\n",
       "      <th>table</th>\n",
       "      <th>price</th>\n",
       "      <th>x</th>\n",
       "      <th>y</th>\n",
       "      <th>z</th>\n",
       "      <th>Quality-color</th>\n",
       "    </tr>\n",
       "  </thead>\n",
       "  <tbody>\n",
       "    <tr>\n",
       "      <th>0</th>\n",
       "      <td>1</td>\n",
       "      <td>0.23</td>\n",
       "      <td>Ideal</td>\n",
       "      <td>E</td>\n",
       "      <td>SI2</td>\n",
       "      <td>61.5</td>\n",
       "      <td>55.0</td>\n",
       "      <td>326</td>\n",
       "      <td>3.95</td>\n",
       "      <td>3.98</td>\n",
       "      <td>2.43</td>\n",
       "      <td>Ideal-E</td>\n",
       "    </tr>\n",
       "    <tr>\n",
       "      <th>5</th>\n",
       "      <td>6</td>\n",
       "      <td>0.24</td>\n",
       "      <td>Very Good</td>\n",
       "      <td>J</td>\n",
       "      <td>VVS2</td>\n",
       "      <td>62.8</td>\n",
       "      <td>57.0</td>\n",
       "      <td>336</td>\n",
       "      <td>3.94</td>\n",
       "      <td>3.96</td>\n",
       "      <td>2.48</td>\n",
       "      <td>Very Good-J</td>\n",
       "    </tr>\n",
       "    <tr>\n",
       "      <th>7</th>\n",
       "      <td>8</td>\n",
       "      <td>0.26</td>\n",
       "      <td>Very Good</td>\n",
       "      <td>H</td>\n",
       "      <td>SI1</td>\n",
       "      <td>61.9</td>\n",
       "      <td>55.0</td>\n",
       "      <td>337</td>\n",
       "      <td>4.07</td>\n",
       "      <td>4.11</td>\n",
       "      <td>2.53</td>\n",
       "      <td>Very Good-H</td>\n",
       "    </tr>\n",
       "  </tbody>\n",
       "</table>\n",
       "</div>"
      ],
      "text/plain": [
       "   Unnamed: 0  carat        cut color clarity  depth  table  price     x  \\\n",
       "0           1   0.23      Ideal     E     SI2   61.5   55.0    326  3.95   \n",
       "5           6   0.24  Very Good     J    VVS2   62.8   57.0    336  3.94   \n",
       "7           8   0.26  Very Good     H     SI1   61.9   55.0    337  4.07   \n",
       "\n",
       "      y     z Quality-color  \n",
       "0  3.98  2.43       Ideal-E  \n",
       "5  3.96  2.48   Very Good-J  \n",
       "7  4.11  2.53   Very Good-H  "
      ]
     },
     "execution_count": 73,
     "metadata": {},
     "output_type": "execute_result"
    }
   ],
   "source": [
    "df.iloc[[0,5,7],:]"
   ]
  },
  {
   "cell_type": "markdown",
   "metadata": {
    "id": "3m3xcOK64gN2"
   },
   "source": [
    "\n",
    "### 51. Write a Pandas program to read rows 2 through 5 and all columns of diamonds DataFrame.  "
   ]
  },
  {
   "cell_type": "code",
   "execution_count": 74,
   "metadata": {
    "colab": {
     "base_uri": "https://localhost:8080/",
     "height": 175
    },
    "executionInfo": {
     "elapsed": 66,
     "status": "ok",
     "timestamp": 1728965558787,
     "user": {
      "displayName": "PGDAI ACTS",
      "userId": "16113966839122920361"
     },
     "user_tz": -330
    },
    "id": "_-r4ZbB14gUr",
    "outputId": "17d9512a-8b5c-44a2-f37c-28a2e10c94f8"
   },
   "outputs": [
    {
     "data": {
      "text/html": [
       "<div>\n",
       "<style scoped>\n",
       "    .dataframe tbody tr th:only-of-type {\n",
       "        vertical-align: middle;\n",
       "    }\n",
       "\n",
       "    .dataframe tbody tr th {\n",
       "        vertical-align: top;\n",
       "    }\n",
       "\n",
       "    .dataframe thead th {\n",
       "        text-align: right;\n",
       "    }\n",
       "</style>\n",
       "<table border=\"1\" class=\"dataframe\">\n",
       "  <thead>\n",
       "    <tr style=\"text-align: right;\">\n",
       "      <th></th>\n",
       "      <th>Unnamed: 0</th>\n",
       "      <th>carat</th>\n",
       "      <th>cut</th>\n",
       "      <th>color</th>\n",
       "      <th>clarity</th>\n",
       "      <th>depth</th>\n",
       "      <th>table</th>\n",
       "      <th>price</th>\n",
       "      <th>x</th>\n",
       "      <th>y</th>\n",
       "      <th>z</th>\n",
       "      <th>Quality-color</th>\n",
       "    </tr>\n",
       "  </thead>\n",
       "  <tbody>\n",
       "    <tr>\n",
       "      <th>2</th>\n",
       "      <td>3</td>\n",
       "      <td>0.23</td>\n",
       "      <td>Good</td>\n",
       "      <td>E</td>\n",
       "      <td>VS1</td>\n",
       "      <td>56.9</td>\n",
       "      <td>65.0</td>\n",
       "      <td>327</td>\n",
       "      <td>4.05</td>\n",
       "      <td>4.07</td>\n",
       "      <td>2.31</td>\n",
       "      <td>Good-E</td>\n",
       "    </tr>\n",
       "    <tr>\n",
       "      <th>3</th>\n",
       "      <td>4</td>\n",
       "      <td>0.29</td>\n",
       "      <td>Premium</td>\n",
       "      <td>I</td>\n",
       "      <td>VS2</td>\n",
       "      <td>62.4</td>\n",
       "      <td>58.0</td>\n",
       "      <td>334</td>\n",
       "      <td>4.20</td>\n",
       "      <td>4.23</td>\n",
       "      <td>2.63</td>\n",
       "      <td>Premium-I</td>\n",
       "    </tr>\n",
       "    <tr>\n",
       "      <th>4</th>\n",
       "      <td>5</td>\n",
       "      <td>0.31</td>\n",
       "      <td>Good</td>\n",
       "      <td>J</td>\n",
       "      <td>SI2</td>\n",
       "      <td>63.3</td>\n",
       "      <td>58.0</td>\n",
       "      <td>335</td>\n",
       "      <td>4.34</td>\n",
       "      <td>4.35</td>\n",
       "      <td>2.75</td>\n",
       "      <td>Good-J</td>\n",
       "    </tr>\n",
       "    <tr>\n",
       "      <th>5</th>\n",
       "      <td>6</td>\n",
       "      <td>0.24</td>\n",
       "      <td>Very Good</td>\n",
       "      <td>J</td>\n",
       "      <td>VVS2</td>\n",
       "      <td>62.8</td>\n",
       "      <td>57.0</td>\n",
       "      <td>336</td>\n",
       "      <td>3.94</td>\n",
       "      <td>3.96</td>\n",
       "      <td>2.48</td>\n",
       "      <td>Very Good-J</td>\n",
       "    </tr>\n",
       "  </tbody>\n",
       "</table>\n",
       "</div>"
      ],
      "text/plain": [
       "   Unnamed: 0  carat        cut color clarity  depth  table  price     x  \\\n",
       "2           3   0.23       Good     E     VS1   56.9   65.0    327  4.05   \n",
       "3           4   0.29    Premium     I     VS2   62.4   58.0    334  4.20   \n",
       "4           5   0.31       Good     J     SI2   63.3   58.0    335  4.34   \n",
       "5           6   0.24  Very Good     J    VVS2   62.8   57.0    336  3.94   \n",
       "\n",
       "      y     z Quality-color  \n",
       "2  4.07  2.31        Good-E  \n",
       "3  4.23  2.63     Premium-I  \n",
       "4  4.35  2.75        Good-J  \n",
       "5  3.96  2.48   Very Good-J  "
      ]
     },
     "execution_count": 74,
     "metadata": {},
     "output_type": "execute_result"
    }
   ],
   "source": [
    "df.iloc[2:6,:]"
   ]
  },
  {
   "cell_type": "markdown",
   "metadata": {
    "id": "3sae0G9j4gai"
   },
   "source": [
    "\n",
    "### 52. Write a Pandas program to read rows 0 through 2 (inclusive), columns 'color' and 'price' of diamonds DataFrame.  "
   ]
  },
  {
   "cell_type": "code",
   "execution_count": 75,
   "metadata": {
    "colab": {
     "base_uri": "https://localhost:8080/",
     "height": 143
    },
    "executionInfo": {
     "elapsed": 66,
     "status": "ok",
     "timestamp": 1728965558788,
     "user": {
      "displayName": "PGDAI ACTS",
      "userId": "16113966839122920361"
     },
     "user_tz": -330
    },
    "id": "5KuS7XKT4ggW",
    "outputId": "5c9d3255-1be4-4c51-fe63-5195a9f5985d"
   },
   "outputs": [
    {
     "data": {
      "text/html": [
       "<div>\n",
       "<style scoped>\n",
       "    .dataframe tbody tr th:only-of-type {\n",
       "        vertical-align: middle;\n",
       "    }\n",
       "\n",
       "    .dataframe tbody tr th {\n",
       "        vertical-align: top;\n",
       "    }\n",
       "\n",
       "    .dataframe thead th {\n",
       "        text-align: right;\n",
       "    }\n",
       "</style>\n",
       "<table border=\"1\" class=\"dataframe\">\n",
       "  <thead>\n",
       "    <tr style=\"text-align: right;\">\n",
       "      <th></th>\n",
       "      <th>color</th>\n",
       "      <th>price</th>\n",
       "    </tr>\n",
       "  </thead>\n",
       "  <tbody>\n",
       "    <tr>\n",
       "      <th>0</th>\n",
       "      <td>E</td>\n",
       "      <td>326</td>\n",
       "    </tr>\n",
       "    <tr>\n",
       "      <th>1</th>\n",
       "      <td>E</td>\n",
       "      <td>326</td>\n",
       "    </tr>\n",
       "    <tr>\n",
       "      <th>2</th>\n",
       "      <td>E</td>\n",
       "      <td>327</td>\n",
       "    </tr>\n",
       "  </tbody>\n",
       "</table>\n",
       "</div>"
      ],
      "text/plain": [
       "  color  price\n",
       "0     E    326\n",
       "1     E    326\n",
       "2     E    327"
      ]
     },
     "execution_count": 75,
     "metadata": {},
     "output_type": "execute_result"
    }
   ],
   "source": [
    "df.loc[0:2,['color','price']]"
   ]
  },
  {
   "cell_type": "markdown",
   "metadata": {
    "id": "22gMSdXX4gmP"
   },
   "source": [
    "\n",
    "### 53. Write a Pandas program to read rows 0 through 2 (inclusive), columns 'color' through 'price' (inclusive) of diamonds DataFrame.  "
   ]
  },
  {
   "cell_type": "code",
   "execution_count": 76,
   "metadata": {
    "colab": {
     "base_uri": "https://localhost:8080/",
     "height": 143
    },
    "executionInfo": {
     "elapsed": 65,
     "status": "ok",
     "timestamp": 1728965558788,
     "user": {
      "displayName": "PGDAI ACTS",
      "userId": "16113966839122920361"
     },
     "user_tz": -330
    },
    "id": "pto6RHFN4gsc",
    "outputId": "c0c9c044-4225-4b50-e692-780168416dc5"
   },
   "outputs": [
    {
     "data": {
      "text/html": [
       "<div>\n",
       "<style scoped>\n",
       "    .dataframe tbody tr th:only-of-type {\n",
       "        vertical-align: middle;\n",
       "    }\n",
       "\n",
       "    .dataframe tbody tr th {\n",
       "        vertical-align: top;\n",
       "    }\n",
       "\n",
       "    .dataframe thead th {\n",
       "        text-align: right;\n",
       "    }\n",
       "</style>\n",
       "<table border=\"1\" class=\"dataframe\">\n",
       "  <thead>\n",
       "    <tr style=\"text-align: right;\">\n",
       "      <th></th>\n",
       "      <th>color</th>\n",
       "      <th>clarity</th>\n",
       "      <th>depth</th>\n",
       "      <th>table</th>\n",
       "      <th>price</th>\n",
       "    </tr>\n",
       "  </thead>\n",
       "  <tbody>\n",
       "    <tr>\n",
       "      <th>0</th>\n",
       "      <td>E</td>\n",
       "      <td>SI2</td>\n",
       "      <td>61.5</td>\n",
       "      <td>55.0</td>\n",
       "      <td>326</td>\n",
       "    </tr>\n",
       "    <tr>\n",
       "      <th>1</th>\n",
       "      <td>E</td>\n",
       "      <td>SI1</td>\n",
       "      <td>59.8</td>\n",
       "      <td>61.0</td>\n",
       "      <td>326</td>\n",
       "    </tr>\n",
       "    <tr>\n",
       "      <th>2</th>\n",
       "      <td>E</td>\n",
       "      <td>VS1</td>\n",
       "      <td>56.9</td>\n",
       "      <td>65.0</td>\n",
       "      <td>327</td>\n",
       "    </tr>\n",
       "  </tbody>\n",
       "</table>\n",
       "</div>"
      ],
      "text/plain": [
       "  color clarity  depth  table  price\n",
       "0     E     SI2   61.5   55.0    326\n",
       "1     E     SI1   59.8   61.0    326\n",
       "2     E     VS1   56.9   65.0    327"
      ]
     },
     "execution_count": 76,
     "metadata": {},
     "output_type": "execute_result"
    }
   ],
   "source": [
    "df.loc[0:2,'color':'price']"
   ]
  },
  {
   "cell_type": "markdown",
   "metadata": {
    "id": "4GhZ_oga4gyO"
   },
   "source": [
    "\n",
    "### 54. Write a Pandas program to read rows in which the 'cut' is 'Premium', column 'color' of diamonds DataFrame.  "
   ]
  },
  {
   "cell_type": "code",
   "execution_count": 77,
   "metadata": {
    "colab": {
     "base_uri": "https://localhost:8080/",
     "height": 458
    },
    "executionInfo": {
     "elapsed": 64,
     "status": "ok",
     "timestamp": 1728965558788,
     "user": {
      "displayName": "PGDAI ACTS",
      "userId": "16113966839122920361"
     },
     "user_tz": -330
    },
    "id": "GxqG3sbr4g4N",
    "outputId": "2eec893e-f473-4d94-8f7a-d56ad2089b6d"
   },
   "outputs": [
    {
     "data": {
      "text/plain": [
       "1        E\n",
       "3        I\n",
       "12       F\n",
       "14       E\n",
       "15       E\n",
       "        ..\n",
       "53928    E\n",
       "53930    E\n",
       "53931    F\n",
       "53934    D\n",
       "53938    H\n",
       "Name: color, Length: 13791, dtype: object"
      ]
     },
     "execution_count": 77,
     "metadata": {},
     "output_type": "execute_result"
    }
   ],
   "source": [
    "df[df['cut'] == 'Premium']['color']"
   ]
  },
  {
   "cell_type": "markdown",
   "metadata": {
    "id": "Fe8bxmW14g-Y"
   },
   "source": [
    "\n",
    "### 55. Write a Pandas program to read rows in positions 0 and 1, columns in positions 0 and 3 of diamonds DataFrame.  "
   ]
  },
  {
   "cell_type": "code",
   "execution_count": 78,
   "metadata": {
    "colab": {
     "base_uri": "https://localhost:8080/",
     "height": 112
    },
    "executionInfo": {
     "elapsed": 65,
     "status": "ok",
     "timestamp": 1728965558789,
     "user": {
      "displayName": "PGDAI ACTS",
      "userId": "16113966839122920361"
     },
     "user_tz": -330
    },
    "id": "lOGAGMjO4hEG",
    "outputId": "6c4ff2d4-12a9-4115-9238-8d0893bcffe8"
   },
   "outputs": [
    {
     "data": {
      "text/html": [
       "<div>\n",
       "<style scoped>\n",
       "    .dataframe tbody tr th:only-of-type {\n",
       "        vertical-align: middle;\n",
       "    }\n",
       "\n",
       "    .dataframe tbody tr th {\n",
       "        vertical-align: top;\n",
       "    }\n",
       "\n",
       "    .dataframe thead th {\n",
       "        text-align: right;\n",
       "    }\n",
       "</style>\n",
       "<table border=\"1\" class=\"dataframe\">\n",
       "  <thead>\n",
       "    <tr style=\"text-align: right;\">\n",
       "      <th></th>\n",
       "      <th>Unnamed: 0</th>\n",
       "      <th>color</th>\n",
       "    </tr>\n",
       "  </thead>\n",
       "  <tbody>\n",
       "    <tr>\n",
       "      <th>0</th>\n",
       "      <td>1</td>\n",
       "      <td>E</td>\n",
       "    </tr>\n",
       "    <tr>\n",
       "      <th>1</th>\n",
       "      <td>2</td>\n",
       "      <td>E</td>\n",
       "    </tr>\n",
       "  </tbody>\n",
       "</table>\n",
       "</div>"
      ],
      "text/plain": [
       "   Unnamed: 0 color\n",
       "0           1     E\n",
       "1           2     E"
      ]
     },
     "execution_count": 78,
     "metadata": {},
     "output_type": "execute_result"
    }
   ],
   "source": [
    "df.iloc[[0,1],[0,3]]"
   ]
  },
  {
   "cell_type": "markdown",
   "metadata": {
    "id": "khfQE5dg4hJ3"
   },
   "source": [
    "\n",
    "### 56. Write a Pandas program to read rows in positions 0 through 4, columns in positions 1 through 4 of diamonds DataFrame.  "
   ]
  },
  {
   "cell_type": "code",
   "execution_count": 79,
   "metadata": {
    "colab": {
     "base_uri": "https://localhost:8080/",
     "height": 206
    },
    "executionInfo": {
     "elapsed": 64,
     "status": "ok",
     "timestamp": 1728965558789,
     "user": {
      "displayName": "PGDAI ACTS",
      "userId": "16113966839122920361"
     },
     "user_tz": -330
    },
    "id": "KiAm9Io44hP0",
    "outputId": "eb06eb1d-4797-4869-9c7e-499bccf56342"
   },
   "outputs": [
    {
     "data": {
      "text/html": [
       "<div>\n",
       "<style scoped>\n",
       "    .dataframe tbody tr th:only-of-type {\n",
       "        vertical-align: middle;\n",
       "    }\n",
       "\n",
       "    .dataframe tbody tr th {\n",
       "        vertical-align: top;\n",
       "    }\n",
       "\n",
       "    .dataframe thead th {\n",
       "        text-align: right;\n",
       "    }\n",
       "</style>\n",
       "<table border=\"1\" class=\"dataframe\">\n",
       "  <thead>\n",
       "    <tr style=\"text-align: right;\">\n",
       "      <th></th>\n",
       "      <th>carat</th>\n",
       "      <th>cut</th>\n",
       "      <th>color</th>\n",
       "      <th>clarity</th>\n",
       "    </tr>\n",
       "  </thead>\n",
       "  <tbody>\n",
       "    <tr>\n",
       "      <th>0</th>\n",
       "      <td>0.23</td>\n",
       "      <td>Ideal</td>\n",
       "      <td>E</td>\n",
       "      <td>SI2</td>\n",
       "    </tr>\n",
       "    <tr>\n",
       "      <th>1</th>\n",
       "      <td>0.21</td>\n",
       "      <td>Premium</td>\n",
       "      <td>E</td>\n",
       "      <td>SI1</td>\n",
       "    </tr>\n",
       "    <tr>\n",
       "      <th>2</th>\n",
       "      <td>0.23</td>\n",
       "      <td>Good</td>\n",
       "      <td>E</td>\n",
       "      <td>VS1</td>\n",
       "    </tr>\n",
       "    <tr>\n",
       "      <th>3</th>\n",
       "      <td>0.29</td>\n",
       "      <td>Premium</td>\n",
       "      <td>I</td>\n",
       "      <td>VS2</td>\n",
       "    </tr>\n",
       "    <tr>\n",
       "      <th>4</th>\n",
       "      <td>0.31</td>\n",
       "      <td>Good</td>\n",
       "      <td>J</td>\n",
       "      <td>SI2</td>\n",
       "    </tr>\n",
       "  </tbody>\n",
       "</table>\n",
       "</div>"
      ],
      "text/plain": [
       "   carat      cut color clarity\n",
       "0   0.23    Ideal     E     SI2\n",
       "1   0.21  Premium     E     SI1\n",
       "2   0.23     Good     E     VS1\n",
       "3   0.29  Premium     I     VS2\n",
       "4   0.31     Good     J     SI2"
      ]
     },
     "execution_count": 79,
     "metadata": {},
     "output_type": "execute_result"
    }
   ],
   "source": [
    "df.iloc[0:5,1:5]"
   ]
  },
  {
   "cell_type": "markdown",
   "metadata": {
    "id": "vo8Z-2VO4hV3"
   },
   "source": [
    "\n",
    "### 57. Write a Pandas program to read rows in positions 0 through 4 (exclusive) and all columns of diamonds DataFrame.  "
   ]
  },
  {
   "cell_type": "code",
   "execution_count": 80,
   "metadata": {
    "colab": {
     "base_uri": "https://localhost:8080/",
     "height": 175
    },
    "executionInfo": {
     "elapsed": 63,
     "status": "ok",
     "timestamp": 1728965558789,
     "user": {
      "displayName": "PGDAI ACTS",
      "userId": "16113966839122920361"
     },
     "user_tz": -330
    },
    "id": "IOQj5DeL4hcU",
    "outputId": "9b1169f7-c6d4-4f87-cf39-4f426c23a54c"
   },
   "outputs": [
    {
     "data": {
      "text/html": [
       "<div>\n",
       "<style scoped>\n",
       "    .dataframe tbody tr th:only-of-type {\n",
       "        vertical-align: middle;\n",
       "    }\n",
       "\n",
       "    .dataframe tbody tr th {\n",
       "        vertical-align: top;\n",
       "    }\n",
       "\n",
       "    .dataframe thead th {\n",
       "        text-align: right;\n",
       "    }\n",
       "</style>\n",
       "<table border=\"1\" class=\"dataframe\">\n",
       "  <thead>\n",
       "    <tr style=\"text-align: right;\">\n",
       "      <th></th>\n",
       "      <th>Unnamed: 0</th>\n",
       "      <th>carat</th>\n",
       "      <th>cut</th>\n",
       "      <th>color</th>\n",
       "      <th>clarity</th>\n",
       "      <th>depth</th>\n",
       "      <th>table</th>\n",
       "      <th>price</th>\n",
       "      <th>x</th>\n",
       "      <th>y</th>\n",
       "      <th>z</th>\n",
       "      <th>Quality-color</th>\n",
       "    </tr>\n",
       "  </thead>\n",
       "  <tbody>\n",
       "    <tr>\n",
       "      <th>0</th>\n",
       "      <td>1</td>\n",
       "      <td>0.23</td>\n",
       "      <td>Ideal</td>\n",
       "      <td>E</td>\n",
       "      <td>SI2</td>\n",
       "      <td>61.5</td>\n",
       "      <td>55.0</td>\n",
       "      <td>326</td>\n",
       "      <td>3.95</td>\n",
       "      <td>3.98</td>\n",
       "      <td>2.43</td>\n",
       "      <td>Ideal-E</td>\n",
       "    </tr>\n",
       "    <tr>\n",
       "      <th>1</th>\n",
       "      <td>2</td>\n",
       "      <td>0.21</td>\n",
       "      <td>Premium</td>\n",
       "      <td>E</td>\n",
       "      <td>SI1</td>\n",
       "      <td>59.8</td>\n",
       "      <td>61.0</td>\n",
       "      <td>326</td>\n",
       "      <td>3.89</td>\n",
       "      <td>3.84</td>\n",
       "      <td>2.31</td>\n",
       "      <td>Premium-E</td>\n",
       "    </tr>\n",
       "    <tr>\n",
       "      <th>2</th>\n",
       "      <td>3</td>\n",
       "      <td>0.23</td>\n",
       "      <td>Good</td>\n",
       "      <td>E</td>\n",
       "      <td>VS1</td>\n",
       "      <td>56.9</td>\n",
       "      <td>65.0</td>\n",
       "      <td>327</td>\n",
       "      <td>4.05</td>\n",
       "      <td>4.07</td>\n",
       "      <td>2.31</td>\n",
       "      <td>Good-E</td>\n",
       "    </tr>\n",
       "    <tr>\n",
       "      <th>3</th>\n",
       "      <td>4</td>\n",
       "      <td>0.29</td>\n",
       "      <td>Premium</td>\n",
       "      <td>I</td>\n",
       "      <td>VS2</td>\n",
       "      <td>62.4</td>\n",
       "      <td>58.0</td>\n",
       "      <td>334</td>\n",
       "      <td>4.20</td>\n",
       "      <td>4.23</td>\n",
       "      <td>2.63</td>\n",
       "      <td>Premium-I</td>\n",
       "    </tr>\n",
       "  </tbody>\n",
       "</table>\n",
       "</div>"
      ],
      "text/plain": [
       "   Unnamed: 0  carat      cut color clarity  depth  table  price     x     y  \\\n",
       "0           1   0.23    Ideal     E     SI2   61.5   55.0    326  3.95  3.98   \n",
       "1           2   0.21  Premium     E     SI1   59.8   61.0    326  3.89  3.84   \n",
       "2           3   0.23     Good     E     VS1   56.9   65.0    327  4.05  4.07   \n",
       "3           4   0.29  Premium     I     VS2   62.4   58.0    334  4.20  4.23   \n",
       "\n",
       "      z Quality-color  \n",
       "0  2.43       Ideal-E  \n",
       "1  2.31     Premium-E  \n",
       "2  2.31        Good-E  \n",
       "3  2.63     Premium-I  "
      ]
     },
     "execution_count": 80,
     "metadata": {},
     "output_type": "execute_result"
    }
   ],
   "source": [
    "df.iloc[0:4,:]"
   ]
  },
  {
   "cell_type": "markdown",
   "metadata": {
    "id": "rqAONB0e4him"
   },
   "source": [
    "\n",
    "### 58. Write a Pandas program to read rows 2 through 5 (inclusive), columns in positions 0 through 2 (exclusive) of diamonds DataFrame.  "
   ]
  },
  {
   "cell_type": "code",
   "execution_count": 81,
   "metadata": {
    "colab": {
     "base_uri": "https://localhost:8080/",
     "height": 175
    },
    "executionInfo": {
     "elapsed": 62,
     "status": "ok",
     "timestamp": 1728965558789,
     "user": {
      "displayName": "PGDAI ACTS",
      "userId": "16113966839122920361"
     },
     "user_tz": -330
    },
    "id": "75kVmgOc4hoI",
    "outputId": "a506bcb6-55e0-4764-ef89-4fcb145b2c21"
   },
   "outputs": [
    {
     "data": {
      "text/html": [
       "<div>\n",
       "<style scoped>\n",
       "    .dataframe tbody tr th:only-of-type {\n",
       "        vertical-align: middle;\n",
       "    }\n",
       "\n",
       "    .dataframe tbody tr th {\n",
       "        vertical-align: top;\n",
       "    }\n",
       "\n",
       "    .dataframe thead th {\n",
       "        text-align: right;\n",
       "    }\n",
       "</style>\n",
       "<table border=\"1\" class=\"dataframe\">\n",
       "  <thead>\n",
       "    <tr style=\"text-align: right;\">\n",
       "      <th></th>\n",
       "      <th>Unnamed: 0</th>\n",
       "      <th>carat</th>\n",
       "    </tr>\n",
       "  </thead>\n",
       "  <tbody>\n",
       "    <tr>\n",
       "      <th>2</th>\n",
       "      <td>3</td>\n",
       "      <td>0.23</td>\n",
       "    </tr>\n",
       "    <tr>\n",
       "      <th>3</th>\n",
       "      <td>4</td>\n",
       "      <td>0.29</td>\n",
       "    </tr>\n",
       "    <tr>\n",
       "      <th>4</th>\n",
       "      <td>5</td>\n",
       "      <td>0.31</td>\n",
       "    </tr>\n",
       "    <tr>\n",
       "      <th>5</th>\n",
       "      <td>6</td>\n",
       "      <td>0.24</td>\n",
       "    </tr>\n",
       "  </tbody>\n",
       "</table>\n",
       "</div>"
      ],
      "text/plain": [
       "   Unnamed: 0  carat\n",
       "2           3   0.23\n",
       "3           4   0.29\n",
       "4           5   0.31\n",
       "5           6   0.24"
      ]
     },
     "execution_count": 81,
     "metadata": {},
     "output_type": "execute_result"
    }
   ],
   "source": [
    "df.iloc[2:6,0:2]"
   ]
  },
  {
   "cell_type": "markdown",
   "metadata": {
    "id": "YgS5qGgi4hvA"
   },
   "source": [
    "\n",
    "### 59. Write a Pandas program to print a concise summary of diamonds DataFrame.  "
   ]
  },
  {
   "cell_type": "code",
   "execution_count": 82,
   "metadata": {
    "colab": {
     "base_uri": "https://localhost:8080/"
    },
    "executionInfo": {
     "elapsed": 62,
     "status": "ok",
     "timestamp": 1728965558790,
     "user": {
      "displayName": "PGDAI ACTS",
      "userId": "16113966839122920361"
     },
     "user_tz": -330
    },
    "id": "n8AjDW7g4h0W",
    "outputId": "d6ece239-9025-4775-b190-ecb68ff891f6"
   },
   "outputs": [
    {
     "name": "stdout",
     "output_type": "stream",
     "text": [
      "<class 'pandas.core.frame.DataFrame'>\n",
      "Int64Index: 53940 entries, 0 to 53939\n",
      "Data columns (total 12 columns):\n",
      " #   Column         Non-Null Count  Dtype  \n",
      "---  ------         --------------  -----  \n",
      " 0   Unnamed: 0     53940 non-null  int64  \n",
      " 1   carat          53940 non-null  float64\n",
      " 2   cut            53940 non-null  object \n",
      " 3   color          53940 non-null  object \n",
      " 4   clarity        53940 non-null  object \n",
      " 5   depth          53940 non-null  float64\n",
      " 6   table          53940 non-null  float64\n",
      " 7   price          53940 non-null  int64  \n",
      " 8   x              53940 non-null  float64\n",
      " 9   y              53940 non-null  float64\n",
      " 10  z              53940 non-null  float64\n",
      " 11  Quality-color  53940 non-null  object \n",
      "dtypes: float64(6), int64(2), object(4)\n",
      "memory usage: 7.4+ MB\n"
     ]
    }
   ],
   "source": [
    "df.info()"
   ]
  },
  {
   "cell_type": "markdown",
   "metadata": {
    "id": "kDMj3YQv4h7V"
   },
   "source": [
    "\n",
    "### 60. Write a Pandas program to get the true memory usage by diamonds DataFrame.  "
   ]
  },
  {
   "cell_type": "code",
   "execution_count": 83,
   "metadata": {
    "colab": {
     "base_uri": "https://localhost:8080/"
    },
    "executionInfo": {
     "elapsed": 1137,
     "status": "ok",
     "timestamp": 1728965559870,
     "user": {
      "displayName": "PGDAI ACTS",
      "userId": "16113966839122920361"
     },
     "user_tz": -330
    },
    "id": "TCpapBuh4iDX",
    "outputId": "4b3fd132-5bd7-4c5f-bd88-ffb563ebd44f"
   },
   "outputs": [
    {
     "name": "stdout",
     "output_type": "stream",
     "text": [
      "<class 'pandas.core.frame.DataFrame'>\n",
      "Int64Index: 53940 entries, 0 to 53939\n",
      "Data columns (total 12 columns):\n",
      " #   Column         Non-Null Count  Dtype  \n",
      "---  ------         --------------  -----  \n",
      " 0   Unnamed: 0     53940 non-null  int64  \n",
      " 1   carat          53940 non-null  float64\n",
      " 2   cut            53940 non-null  object \n",
      " 3   color          53940 non-null  object \n",
      " 4   clarity        53940 non-null  object \n",
      " 5   depth          53940 non-null  float64\n",
      " 6   table          53940 non-null  float64\n",
      " 7   price          53940 non-null  int64  \n",
      " 8   x              53940 non-null  float64\n",
      " 9   y              53940 non-null  float64\n",
      " 10  z              53940 non-null  float64\n",
      " 11  Quality-color  53940 non-null  object \n",
      "dtypes: float64(6), int64(2), object(4)\n",
      "memory usage: 18.4 MB\n"
     ]
    }
   ],
   "source": [
    "df.info(memory_usage='deep')"
   ]
  },
  {
   "cell_type": "markdown",
   "metadata": {
    "id": "Q3v8OFP54iJe"
   },
   "source": [
    "\n",
    "### 61. Write a Pandas program to calculate the memory usage for each Series (in bytes) of diamonds DataFrame."
   ]
  },
  {
   "cell_type": "code",
   "execution_count": 84,
   "metadata": {
    "colab": {
     "base_uri": "https://localhost:8080/",
     "height": 492
    },
    "executionInfo": {
     "elapsed": 28,
     "status": "ok",
     "timestamp": 1728965559871,
     "user": {
      "displayName": "PGDAI ACTS",
      "userId": "16113966839122920361"
     },
     "user_tz": -330
    },
    "id": "Jg8Iyu1r4iPF",
    "outputId": "fc025833-b4f3-4db2-eb99-4260acfc8388"
   },
   "outputs": [
    {
     "data": {
      "text/plain": [
       "Index            2545096\n",
       "Unnamed: 0        431520\n",
       "carat             431520\n",
       "cut              3413674\n",
       "color            3128520\n",
       "clarity          3242590\n",
       "depth             431520\n",
       "table             431520\n",
       "price             431520\n",
       "x                 431520\n",
       "y                 431520\n",
       "z                 431520\n",
       "Quality-color    3521554\n",
       "dtype: int64"
      ]
     },
     "execution_count": 84,
     "metadata": {},
     "output_type": "execute_result"
    }
   ],
   "source": [
    "df.memory_usage(deep=True)"
   ]
  },
  {
   "cell_type": "markdown",
   "metadata": {
    "id": "6B12zBYB4iVx"
   },
   "source": [
    "  \n",
    "### 62. Write a Pandas program to get randomly sample rows from diamonds DataFrame.  "
   ]
  },
  {
   "cell_type": "code",
   "execution_count": 85,
   "metadata": {
    "colab": {
     "base_uri": "https://localhost:8080/",
     "height": 206
    },
    "executionInfo": {
     "elapsed": 27,
     "status": "ok",
     "timestamp": 1728965559871,
     "user": {
      "displayName": "PGDAI ACTS",
      "userId": "16113966839122920361"
     },
     "user_tz": -330
    },
    "id": "Tbx1J97O4ibP",
    "outputId": "a371d6ce-44a5-4168-8742-ff020709eb15"
   },
   "outputs": [
    {
     "data": {
      "text/html": [
       "<div>\n",
       "<style scoped>\n",
       "    .dataframe tbody tr th:only-of-type {\n",
       "        vertical-align: middle;\n",
       "    }\n",
       "\n",
       "    .dataframe tbody tr th {\n",
       "        vertical-align: top;\n",
       "    }\n",
       "\n",
       "    .dataframe thead th {\n",
       "        text-align: right;\n",
       "    }\n",
       "</style>\n",
       "<table border=\"1\" class=\"dataframe\">\n",
       "  <thead>\n",
       "    <tr style=\"text-align: right;\">\n",
       "      <th></th>\n",
       "      <th>Unnamed: 0</th>\n",
       "      <th>carat</th>\n",
       "      <th>cut</th>\n",
       "      <th>color</th>\n",
       "      <th>clarity</th>\n",
       "      <th>depth</th>\n",
       "      <th>table</th>\n",
       "      <th>price</th>\n",
       "      <th>x</th>\n",
       "      <th>y</th>\n",
       "      <th>z</th>\n",
       "      <th>Quality-color</th>\n",
       "    </tr>\n",
       "  </thead>\n",
       "  <tbody>\n",
       "    <tr>\n",
       "      <th>30724</th>\n",
       "      <td>30725</td>\n",
       "      <td>0.41</td>\n",
       "      <td>Very Good</td>\n",
       "      <td>D</td>\n",
       "      <td>SI1</td>\n",
       "      <td>59.2</td>\n",
       "      <td>62.0</td>\n",
       "      <td>738</td>\n",
       "      <td>4.82</td>\n",
       "      <td>4.85</td>\n",
       "      <td>2.86</td>\n",
       "      <td>Very Good-D</td>\n",
       "    </tr>\n",
       "    <tr>\n",
       "      <th>9061</th>\n",
       "      <td>9062</td>\n",
       "      <td>1.00</td>\n",
       "      <td>Fair</td>\n",
       "      <td>E</td>\n",
       "      <td>SI2</td>\n",
       "      <td>65.2</td>\n",
       "      <td>59.0</td>\n",
       "      <td>4516</td>\n",
       "      <td>6.28</td>\n",
       "      <td>6.27</td>\n",
       "      <td>4.09</td>\n",
       "      <td>Fair-E</td>\n",
       "    </tr>\n",
       "    <tr>\n",
       "      <th>12395</th>\n",
       "      <td>12396</td>\n",
       "      <td>1.13</td>\n",
       "      <td>Ideal</td>\n",
       "      <td>F</td>\n",
       "      <td>SI2</td>\n",
       "      <td>61.8</td>\n",
       "      <td>57.0</td>\n",
       "      <td>5232</td>\n",
       "      <td>6.71</td>\n",
       "      <td>6.68</td>\n",
       "      <td>4.14</td>\n",
       "      <td>Ideal-F</td>\n",
       "    </tr>\n",
       "    <tr>\n",
       "      <th>367</th>\n",
       "      <td>368</td>\n",
       "      <td>0.80</td>\n",
       "      <td>Very Good</td>\n",
       "      <td>H</td>\n",
       "      <td>VS2</td>\n",
       "      <td>62.8</td>\n",
       "      <td>57.0</td>\n",
       "      <td>2808</td>\n",
       "      <td>5.87</td>\n",
       "      <td>5.91</td>\n",
       "      <td>3.70</td>\n",
       "      <td>Very Good-H</td>\n",
       "    </tr>\n",
       "    <tr>\n",
       "      <th>22221</th>\n",
       "      <td>22222</td>\n",
       "      <td>1.57</td>\n",
       "      <td>Ideal</td>\n",
       "      <td>I</td>\n",
       "      <td>VS2</td>\n",
       "      <td>62.7</td>\n",
       "      <td>56.0</td>\n",
       "      <td>10278</td>\n",
       "      <td>7.36</td>\n",
       "      <td>7.40</td>\n",
       "      <td>4.63</td>\n",
       "      <td>Ideal-I</td>\n",
       "    </tr>\n",
       "  </tbody>\n",
       "</table>\n",
       "</div>"
      ],
      "text/plain": [
       "       Unnamed: 0  carat        cut color clarity  depth  table  price     x  \\\n",
       "30724       30725   0.41  Very Good     D     SI1   59.2   62.0    738  4.82   \n",
       "9061         9062   1.00       Fair     E     SI2   65.2   59.0   4516  6.28   \n",
       "12395       12396   1.13      Ideal     F     SI2   61.8   57.0   5232  6.71   \n",
       "367           368   0.80  Very Good     H     VS2   62.8   57.0   2808  5.87   \n",
       "22221       22222   1.57      Ideal     I     VS2   62.7   56.0  10278  7.36   \n",
       "\n",
       "          y     z Quality-color  \n",
       "30724  4.85  2.86   Very Good-D  \n",
       "9061   6.27  4.09        Fair-E  \n",
       "12395  6.68  4.14       Ideal-F  \n",
       "367    5.91  3.70   Very Good-H  \n",
       "22221  7.40  4.63       Ideal-I  "
      ]
     },
     "execution_count": 85,
     "metadata": {},
     "output_type": "execute_result"
    }
   ],
   "source": [
    "df.sample(n=5)"
   ]
  },
  {
   "cell_type": "markdown",
   "metadata": {
    "id": "r_9tFMgL4ih7"
   },
   "source": [
    "\n",
    "### 63. Write a Pandas program to get sample 75% of the diamonds DataFrame's rows without replacement and store the remaining 25% of the rows in another DataFrame.  "
   ]
  },
  {
   "cell_type": "code",
   "execution_count": 86,
   "metadata": {
    "colab": {
     "base_uri": "https://localhost:8080/"
    },
    "executionInfo": {
     "elapsed": 26,
     "status": "ok",
     "timestamp": 1728965559871,
     "user": {
      "displayName": "PGDAI ACTS",
      "userId": "16113966839122920361"
     },
     "user_tz": -330
    },
    "id": "f6qUXGD14ing",
    "outputId": "e8b27b9d-a223-4adc-d598-5698f48aac15"
   },
   "outputs": [
    {
     "name": "stdout",
     "output_type": "stream",
     "text": [
      "Shape of Original df: (53940, 12)\n",
      "Shape of df1: (40455, 12)\n",
      "Shape of df2: (13485, 12)\n"
     ]
    }
   ],
   "source": [
    "df1 = df.sample(frac=0.75, random_state=99)\n",
    "df2 = df.drop(df1.index)\n",
    "\n",
    "print(f\"Shape of Original df: {df.shape}\")\n",
    "print(f\"Shape of df1: {df1.shape}\")\n",
    "print(f\"Shape of df2: {df2.shape}\")\n"
   ]
  },
  {
   "cell_type": "markdown",
   "metadata": {
    "id": "0UZPkDss4iuM"
   },
   "source": [
    "\n",
    "### 64. Write a Pandas program to read the diamonds DataFrame and detect duplicate color.  \n",
    "#### Note: `duplicated()` function returns boolean Series denoting duplicate rows, optionally only considering certain columns.  "
   ]
  },
  {
   "cell_type": "code",
   "execution_count": 87,
   "metadata": {
    "colab": {
     "base_uri": "https://localhost:8080/",
     "height": 147
    },
    "executionInfo": {
     "elapsed": 23,
     "status": "ok",
     "timestamp": 1728965559871,
     "user": {
      "displayName": "PGDAI ACTS",
      "userId": "16113966839122920361"
     },
     "user_tz": -330
    },
    "id": "LnD8jcfYX7sf",
    "outputId": "e46a7924-ca05-4e0d-cae6-2fc59199314a"
   },
   "outputs": [
    {
     "data": {
      "text/plain": [
       "True     53933\n",
       "False        7\n",
       "dtype: int64"
      ]
     },
     "execution_count": 87,
     "metadata": {},
     "output_type": "execute_result"
    }
   ],
   "source": [
    "df.duplicated(subset=['color']).value_counts()"
   ]
  },
  {
   "cell_type": "code",
   "execution_count": 88,
   "metadata": {
    "colab": {
     "base_uri": "https://localhost:8080/",
     "height": 458
    },
    "executionInfo": {
     "elapsed": 23,
     "status": "ok",
     "timestamp": 1728965559872,
     "user": {
      "displayName": "PGDAI ACTS",
      "userId": "16113966839122920361"
     },
     "user_tz": -330
    },
    "id": "756Rkk504i0C",
    "outputId": "99d78d62-68af-4d02-b85c-677441192651"
   },
   "outputs": [
    {
     "data": {
      "text/plain": [
       "0        False\n",
       "1         True\n",
       "2         True\n",
       "3        False\n",
       "4        False\n",
       "         ...  \n",
       "53935     True\n",
       "53936     True\n",
       "53937     True\n",
       "53938     True\n",
       "53939     True\n",
       "Length: 53940, dtype: bool"
      ]
     },
     "execution_count": 88,
     "metadata": {},
     "output_type": "execute_result"
    }
   ],
   "source": [
    "df.duplicated(subset=['color'])"
   ]
  },
  {
   "cell_type": "markdown",
   "metadata": {
    "id": "4QXsCaLfp9VM"
   },
   "source": [
    "\n",
    "### 65. Write a Pandas program to count the duplicate rows of diamonds DataFrame.  "
   ]
  },
  {
   "cell_type": "code",
   "execution_count": 89,
   "metadata": {
    "colab": {
     "base_uri": "https://localhost:8080/"
    },
    "executionInfo": {
     "elapsed": 22,
     "status": "ok",
     "timestamp": 1728965559872,
     "user": {
      "displayName": "PGDAI ACTS",
      "userId": "16113966839122920361"
     },
     "user_tz": -330
    },
    "id": "kUUBlkBsX6On",
    "outputId": "56a2b157-e14e-42fc-9009-a476b64cdfdb"
   },
   "outputs": [
    {
     "name": "stdout",
     "output_type": "stream",
     "text": [
      "0\n"
     ]
    }
   ],
   "source": [
    "print(df.duplicated().sum())"
   ]
  }
 ],
 "metadata": {
  "colab": {
   "authorship_tag": "ABX9TyN6u7Pqrn+DnmxKMlEJP9SX",
   "mount_file_id": "1kExUY6__oZGGt6HAvsGfyUGgEhBe53UM",
   "provenance": []
  },
  "kernelspec": {
   "display_name": "Python 3 (ipykernel)",
   "language": "python",
   "name": "python3"
  },
  "language_info": {
   "codemirror_mode": {
    "name": "ipython",
    "version": 3
   },
   "file_extension": ".py",
   "mimetype": "text/x-python",
   "name": "python",
   "nbconvert_exporter": "python",
   "pygments_lexer": "ipython3",
   "version": "3.9.7"
  }
 },
 "nbformat": 4,
 "nbformat_minor": 1
}
