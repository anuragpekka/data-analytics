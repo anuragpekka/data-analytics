{
 "cells": [
  {
   "cell_type": "code",
   "execution_count": 4,
   "metadata": {
    "executionInfo": {
     "elapsed": 1205,
     "status": "ok",
     "timestamp": 1728553680503,
     "user": {
      "displayName": "PGDAI ACTS",
      "userId": "16113966839122920361"
     },
     "user_tz": -330
    },
    "id": "t81a2aZIpZdx"
   },
   "outputs": [],
   "source": [
    "import numpy as np\n",
    "import pandas as pd"
   ]
  },
  {
   "cell_type": "code",
   "execution_count": 5,
   "metadata": {
    "executionInfo": {
     "elapsed": 3734,
     "status": "ok",
     "timestamp": 1728553602208,
     "user": {
      "displayName": "PGDAI ACTS",
      "userId": "16113966839122920361"
     },
     "user_tz": -330
    },
    "id": "8vKZB7zspowA"
   },
   "outputs": [],
   "source": [
    "import pandas as pd\n",
    "file_id = '1RHrqZAGH7TAL6VfAsNQglvaIpZcBC-h1'\n",
    "url = f'https://drive.google.com/uc?id={file_id}'\n",
    "df = pd.read_csv(url)"
   ]
  },
  {
   "cell_type": "code",
   "execution_count": 6,
   "metadata": {
    "colab": {
     "base_uri": "https://localhost:8080/"
    },
    "executionInfo": {
     "elapsed": 71,
     "status": "ok",
     "timestamp": 1728553602209,
     "user": {
      "displayName": "PGDAI ACTS",
      "userId": "16113966839122920361"
     },
     "user_tz": -330
    },
    "id": "PgOl57r3qKWY",
    "outputId": "31c0807a-4e3f-4d30-8991-320ea07be652"
   },
   "outputs": [
    {
     "name": "stdout",
     "output_type": "stream",
     "text": [
      "  score runs_scored balls_faced strike_rate fours sixes    opposition  \\\n",
      "0     0           0           1           0     0     0  v Bangladesh   \n",
      "1    12          12          11      109.09     2     0  v Bangladesh   \n",
      "2    7*           7           2         350     0     1  v Bangladesh   \n",
      "3     3           3           7       42.85     0     0    v Pakistan   \n",
      "4   148         148         123      120.32    15     4    v Pakistan   \n",
      "\n",
      "          ground        date  odi_number  \n",
      "0     Chattogram  23/12/2004  ODI # 2199  \n",
      "1          Dhaka  26/12/2004  ODI # 2201  \n",
      "2          Dhaka  27/12/2004  ODI # 2202  \n",
      "3          Kochi  02/04/2005  ODI # 2235  \n",
      "4  Visakhapatnam  05/04/2005  ODI # 2236  \n",
      "    score runs_scored balls_faced strike_rate fours sixes     opposition  \\\n",
      "345   56*          56          61        91.8     3     2  v West Indies   \n",
      "346   42*          42          31      135.48     4     1      v England   \n",
      "347    35          35          33      106.06     4     0   v Bangladesh   \n",
      "348   DNB           -           -           -     -     -    v Sri Lanka   \n",
      "349    50          50          72       69.44     1     1  v New Zealand   \n",
      "\n",
      "         ground        date  odi_number  \n",
      "345  Manchester  27/06/2019  ODI # 4175  \n",
      "346  Birmingham  30/06/2019  ODI # 4179  \n",
      "347  Birmingham  02/07/2019  ODI # 4182  \n",
      "348       Leeds  06/07/2019  ODI # 4187  \n",
      "349  Manchester  09/07/2019  ODI # 4190  \n"
     ]
    }
   ],
   "source": [
    "print(df.head())\n",
    "print(df.tail())"
   ]
  },
  {
   "cell_type": "code",
   "execution_count": 7,
   "metadata": {
    "colab": {
     "base_uri": "https://localhost:8080/",
     "height": 458
    },
    "executionInfo": {
     "elapsed": 68,
     "status": "ok",
     "timestamp": 1728553602209,
     "user": {
      "displayName": "PGDAI ACTS",
      "userId": "16113966839122920361"
     },
     "user_tz": -330
    },
    "id": "uved8nb5qR8u",
    "outputId": "4cd098e2-f233-4a62-a24d-dacd292bf3f9"
   },
   "outputs": [
    {
     "data": {
      "text/plain": [
       "0        Bangladesh\n",
       "1        Bangladesh\n",
       "2        Bangladesh\n",
       "3          Pakistan\n",
       "4          Pakistan\n",
       "           ...     \n",
       "345     West Indies\n",
       "346         England\n",
       "347      Bangladesh\n",
       "348       Sri Lanka\n",
       "349     New Zealand\n",
       "Name: opposition, Length: 350, dtype: object"
      ]
     },
     "execution_count": 7,
     "metadata": {},
     "output_type": "execute_result"
    }
   ],
   "source": [
    "# Data cleaninng\n",
    "# Removing leading 'v' in opposition column\n",
    "df['opposition'] = df['opposition'].str.replace('v', '', regex=False)\n",
    "df['opposition']"
   ]
  },
  {
   "cell_type": "code",
   "execution_count": 9,
   "metadata": {
    "colab": {
     "base_uri": "https://localhost:8080/"
    },
    "executionInfo": {
     "elapsed": 65,
     "status": "ok",
     "timestamp": 1728553602209,
     "user": {
      "displayName": "PGDAI ACTS",
      "userId": "16113966839122920361"
     },
     "user_tz": -330
    },
    "id": "6W15E6MQqfGZ",
    "outputId": "649e91f5-bf5c-4ad6-b37e-987d40cf85df"
   },
   "outputs": [
    {
     "name": "stdout",
     "output_type": "stream",
     "text": [
      "0      2004\n",
      "1      2004\n",
      "2      2004\n",
      "3      2005\n",
      "4      2005\n",
      "       ... \n",
      "345    2019\n",
      "346    2019\n",
      "347    2019\n",
      "348    2019\n",
      "349    2019\n",
      "Name: year, Length: 350, dtype: int32\n"
     ]
    }
   ],
   "source": [
    "df['date'] = pd.to_datetime(df['date'], dayfirst=True)\n",
    "df['year'] = df['date'].dt.year.astype(int)\n",
    "print(df['year'])"
   ]
  },
  {
   "cell_type": "code",
   "execution_count": 10,
   "metadata": {
    "colab": {
     "base_uri": "https://localhost:8080/"
    },
    "executionInfo": {
     "elapsed": 59,
     "status": "ok",
     "timestamp": 1728553602210,
     "user": {
      "displayName": "PGDAI ACTS",
      "userId": "16113966839122920361"
     },
     "user_tz": -330
    },
    "id": "-VrFc4IkrpWI",
    "outputId": "3627ac41-e49b-453b-8d72-0051f93e7bc4"
   },
   "outputs": [
    {
     "name": "stdout",
     "output_type": "stream",
     "text": [
      "  score runs_scored balls_faced strike_rate fours sixes   opposition  \\\n",
      "0     0           0           1           0     0     0   Bangladesh   \n",
      "1    12          12          11      109.09     2     0   Bangladesh   \n",
      "2    7*           7           2         350     0     1   Bangladesh   \n",
      "3     3           3           7       42.85     0     0     Pakistan   \n",
      "4   148         148         123      120.32    15     4     Pakistan   \n",
      "\n",
      "          ground       date  odi_number  year  not_out  \n",
      "0     Chattogram 2004-12-23  ODI # 2199  2004        0  \n",
      "1          Dhaka 2004-12-26  ODI # 2201  2004        0  \n",
      "2          Dhaka 2004-12-27  ODI # 2202  2004        1  \n",
      "3          Kochi 2005-04-02  ODI # 2235  2005        0  \n",
      "4  Visakhapatnam 2005-04-05  ODI # 2236  2005        0  \n"
     ]
    }
   ],
   "source": [
    "df['score'] = df['score'].apply(str)\n",
    "df['not_out'] = np.where(df['score'].str.endswith('*'), 1, 0)\n",
    "print(df.head())"
   ]
  },
  {
   "cell_type": "code",
   "execution_count": 11,
   "metadata": {
    "colab": {
     "base_uri": "https://localhost:8080/"
    },
    "executionInfo": {
     "elapsed": 56,
     "status": "ok",
     "timestamp": 1728553602210,
     "user": {
      "displayName": "PGDAI ACTS",
      "userId": "16113966839122920361"
     },
     "user_tz": -330
    },
    "id": "XrIzPNkws0VX",
    "outputId": "053e1a1f-bd88-4bb6-818f-589d13463218"
   },
   "outputs": [
    {
     "name": "stdout",
     "output_type": "stream",
     "text": [
      "  score runs_scored balls_faced strike_rate fours sixes   opposition  \\\n",
      "0     0           0           1           0     0     0   Bangladesh   \n",
      "1    12          12          11      109.09     2     0   Bangladesh   \n",
      "2    7*           7           2         350     0     1   Bangladesh   \n",
      "3     3           3           7       42.85     0     0     Pakistan   \n",
      "4   148         148         123      120.32    15     4     Pakistan   \n",
      "\n",
      "          ground       date  year  not_out  \n",
      "0     Chattogram 2004-12-23  2004        0  \n",
      "1          Dhaka 2004-12-26  2004        0  \n",
      "2          Dhaka 2004-12-27  2004        1  \n",
      "3          Kochi 2005-04-02  2005        0  \n",
      "4  Visakhapatnam 2005-04-05  2005        0  \n"
     ]
    }
   ],
   "source": [
    "df.drop(columns=['odi_number'], inplace=True)\n",
    "print(df.head())"
   ]
  },
  {
   "cell_type": "code",
   "execution_count": 12,
   "metadata": {
    "colab": {
     "base_uri": "https://localhost:8080/"
    },
    "executionInfo": {
     "elapsed": 52,
     "status": "ok",
     "timestamp": 1728553602210,
     "user": {
      "displayName": "PGDAI ACTS",
      "userId": "16113966839122920361"
     },
     "user_tz": -330
    },
    "id": "PrH0VSY7twcl",
    "outputId": "d4843252-32b5-4505-d4b4-1df56c1f5c3c"
   },
   "outputs": [
    {
     "name": "stdout",
     "output_type": "stream",
     "text": [
      "    runs_scored balls_faced strike_rate fours sixes    opposition  \\\n",
      "0             0           1           0     0     0    Bangladesh   \n",
      "1            12          11      109.09     2     0    Bangladesh   \n",
      "2             7           2         350     0     1    Bangladesh   \n",
      "3             3           7       42.85     0     0      Pakistan   \n",
      "4           148         123      120.32    15     4      Pakistan   \n",
      "..          ...         ...         ...   ...   ...           ...   \n",
      "344          28          52       53.84     3     0   Afghanistan   \n",
      "345          56          61        91.8     3     2   West Indies   \n",
      "346          42          31      135.48     4     1       England   \n",
      "347          35          33      106.06     4     0    Bangladesh   \n",
      "349          50          72       69.44     1     1   New Zealand   \n",
      "\n",
      "            ground       date  year  not_out  \n",
      "0       Chattogram 2004-12-23  2004        0  \n",
      "1            Dhaka 2004-12-26  2004        0  \n",
      "2            Dhaka 2004-12-27  2004        1  \n",
      "3            Kochi 2005-04-02  2005        0  \n",
      "4    Visakhapatnam 2005-04-05  2005        0  \n",
      "..             ...        ...   ...      ...  \n",
      "344    Southampton 2019-06-22  2019        0  \n",
      "345     Manchester 2019-06-27  2019        1  \n",
      "346     Birmingham 2019-06-30  2019        1  \n",
      "347     Birmingham 2019-07-02  2019        0  \n",
      "349     Manchester 2019-07-09  2019        0  \n",
      "\n",
      "[297 rows x 10 columns]\n"
     ]
    }
   ],
   "source": [
    "df_new = df.loc[((df['score'] != 'DNB') & (df['score'] != 'TDNB')) , 'runs_scored':]\n",
    "print(df_new)"
   ]
  },
  {
   "cell_type": "code",
   "execution_count": 13,
   "metadata": {
    "executionInfo": {
     "elapsed": 49,
     "status": "ok",
     "timestamp": 1728553602210,
     "user": {
      "displayName": "PGDAI ACTS",
      "userId": "16113966839122920361"
     },
     "user_tz": -330
    },
    "id": "7m23VGoYvM01"
   },
   "outputs": [],
   "source": [
    "df_new['fours'] = df_new['fours'].astype(int)\n",
    "df_new['sixes'] = df_new['sixes'].astype(int)\n",
    "df_new['runs_scored'] = df_new['runs_scored'].astype(int)\n",
    "df_new['balls_faced'] = df_new['balls_faced'].astype(int)\n",
    "df_new['strike_rate'] = df_new['strike_rate'].astype(float)"
   ]
  },
  {
   "cell_type": "code",
   "execution_count": 14,
   "metadata": {
    "colab": {
     "base_uri": "https://localhost:8080/"
    },
    "executionInfo": {
     "elapsed": 48,
     "status": "ok",
     "timestamp": 1728553602210,
     "user": {
      "displayName": "PGDAI ACTS",
      "userId": "16113966839122920361"
     },
     "user_tz": -330
    },
    "id": "CfX0I-bMvnZD",
    "outputId": "a430d980-0be9-47df-9333-2a7bde914df2"
   },
   "outputs": [
    {
     "name": "stdout",
     "output_type": "stream",
     "text": [
      "first_match_date December 23 2004\n",
      "last_match_date July 09 2019\n",
      "number_of_matches 350\n"
     ]
    }
   ],
   "source": [
    "first_match_date = df['date'].dt.date.min().strftime('%B %d %Y') # First match\n",
    "print('first_match_date',first_match_date)\n",
    "\n",
    "last_match_date = df['date'].dt.date.max().strftime('%B %d %Y') # Last match\n",
    "print('last_match_date',last_match_date)\n",
    "\n",
    "number_of_matches = df.shape[0] # Number of matches played in the career\n",
    "print('number_of_matches',number_of_matches)"
   ]
  },
  {
   "cell_type": "code",
   "execution_count": 15,
   "metadata": {
    "colab": {
     "base_uri": "https://localhost:8080/"
    },
    "executionInfo": {
     "elapsed": 46,
     "status": "ok",
     "timestamp": 1728553602210,
     "user": {
      "displayName": "PGDAI ACTS",
      "userId": "16113966839122920361"
     },
     "user_tz": -330
    },
    "id": "TDpjNbHUxfuk",
    "outputId": "c4d9b55b-50a3-491f-d486-065f7d9aec75"
   },
   "outputs": [
    {
     "name": "stdout",
     "output_type": "stream",
     "text": [
      "number_of_inns 297\n",
      "not_outs 84\n",
      "runs_scored 10773\n",
      "balls_faced 12303\n"
     ]
    }
   ],
   "source": [
    "number_of_inns = df_new.shape[0] # Number of innings\n",
    "print('number_of_inns',number_of_inns)\n",
    "\n",
    "not_outs = df_new['not_out'].sum() # Number of not outs\n",
    "print('not_outs',not_outs)\n",
    "\n",
    "runs_scored = df_new['runs_scored'].sum() # Total runs scored\n",
    "print('runs_scored',runs_scored)\n",
    "\n",
    "balls_faced = df_new['balls_faced'].sum() # Total balls faced\n",
    "print('balls_faced',balls_faced)"
   ]
  },
  {
   "cell_type": "code",
   "execution_count": 16,
   "metadata": {
    "colab": {
     "base_uri": "https://localhost:8080/"
    },
    "executionInfo": {
     "elapsed": 44,
     "status": "ok",
     "timestamp": 1728553602210,
     "user": {
      "displayName": "PGDAI ACTS",
      "userId": "16113966839122920361"
     },
     "user_tz": -330
    },
    "id": "xs88fvc7yHoB",
    "outputId": "e9e195ca-3d40-41a9-a972-9c288a74419f"
   },
   "outputs": [
    {
     "name": "stdout",
     "output_type": "stream",
     "text": [
      "career_sr 87.56400877834675\n",
      "career_avg: 50.58\n"
     ]
    }
   ],
   "source": [
    "career_sr = (runs_scored / balls_faced) * 100 # Career stike rate\n",
    "print('career_sr',career_sr)\n",
    "\n",
    "career_avg = runs_scored / (number_of_inns - not_outs) # Career average\n",
    "print('career_avg: {:.2f}'.format(career_avg))"
   ]
  },
  {
   "cell_type": "code",
   "execution_count": 17,
   "metadata": {
    "colab": {
     "base_uri": "https://localhost:8080/"
    },
    "executionInfo": {
     "elapsed": 43,
     "status": "ok",
     "timestamp": 1728553602211,
     "user": {
      "displayName": "PGDAI ACTS",
      "userId": "16113966839122920361"
     },
     "user_tz": -330
    },
    "id": "P4KlOePZzRTv",
    "outputId": "c02a79da-5dea-4be7-e2bf-997f89bc1a93"
   },
   "outputs": [
    {
     "name": "stdout",
     "output_type": "stream",
     "text": [
      "hundreds 10\n",
      "fifties 73\n",
      "fours 826\n",
      "sixes 229\n"
     ]
    }
   ],
   "source": [
    "hundreds = (df_new['runs_scored'] >= 100).sum() # Number of centuries\n",
    "print('hundreds',hundreds)\n",
    "\n",
    "fifties = ((df_new['runs_scored'] >= 50) & (df_new['runs_scored'] < 100)).sum() # Number of half-centuries\n",
    "print('fifties',fifties)\n",
    "\n",
    "fours = df_new['fours'].sum() # Number of fours\n",
    "print('fours',fours)\n",
    "\n",
    "sixes = df_new['sixes'].sum() # Number of sixes\n",
    "print('sixes',sixes)"
   ]
  },
  {
   "cell_type": "code",
   "execution_count": 18,
   "metadata": {
    "colab": {
     "base_uri": "https://localhost:8080/",
     "height": 993
    },
    "executionInfo": {
     "elapsed": 1404,
     "status": "ok",
     "timestamp": 1728553949146,
     "user": {
      "displayName": "PGDAI ACTS",
      "userId": "16113966839122920361"
     },
     "user_tz": -330
    },
    "id": "wRJ07cDP02Xx",
    "outputId": "9bfcd842-9234-411d-b730-9c8021290dee"
   },
   "outputs": [
    {
     "name": "stdout",
     "output_type": "stream",
     "text": [
      " Sri Lanka       67\n",
      " Australia       55\n",
      " England         48\n",
      " West Indies     39\n",
      " South Africa    37\n",
      " Pakistan        36\n",
      " New Zealand     28\n",
      " Bangladesh      21\n",
      " Zimbabwe         6\n",
      " Africa XI        3\n",
      " Hong Kong        2\n",
      " Ireland          2\n",
      " Afghanistan      2\n",
      " Bermuda          1\n",
      " Scotland         1\n",
      " Netherlands      1\n",
      " U.A.E.           1\n",
      "Name: opposition, dtype: int64\n"
     ]
    },
    {
     "data": {
      "text/plain": [
       "Text(0, 0.5, 'Number of matches')"
      ]
     },
     "execution_count": 18,
     "metadata": {},
     "output_type": "execute_result"
    },
    {
     "data": {
      "image/png": "[encoded data removed]",
      "text/plain": [
       "<Figure size 720x432 with 1 Axes>"
      ]
     },
     "metadata": {
      "needs_background": "light"
     },
     "output_type": "display_data"
    }
   ],
   "source": [
    "# Numbers of matches played against different countries\n",
    "# Count the occurances of each unique value in 'opposition' column\n",
    "# opposition_count will be a series withlabelled index as opposition\n",
    "\n",
    "opposition_count = df['opposition'].value_counts()\n",
    "print(opposition_count)\n",
    "\n",
    "# Plor the count as a bar plot\n",
    "opposition_count.plot(kind='bar', title='Number of matches played against different countries', figsize=(10, 6))\n",
    "plt.xlabel('Opposition')\n",
    "plt.ylabel('Number of matches')"
   ]
  },
  {
   "cell_type": "code",
   "execution_count": 19,
   "metadata": {
    "colab": {
     "base_uri": "https://localhost:8080/",
     "height": 1000
    },
    "executionInfo": {
     "elapsed": 1404,
     "status": "ok",
     "timestamp": 1728554878686,
     "user": {
      "displayName": "PGDAI ACTS",
      "userId": "16113966839122920361"
     },
     "user_tz": -330
    },
    "id": "srPXBGWm02VU",
    "outputId": "d461ce1f-cae0-45b9-d2a7-5b09552e7570"
   },
   "outputs": [
    {
     "name": "stdout",
     "output_type": "stream",
     "text": [
      "     runs_scored  balls_faced  strike_rate  fours  sixes    opposition  \\\n",
      "0              0            1         0.00      0      0    Bangladesh   \n",
      "1             12           11       109.09      2      0    Bangladesh   \n",
      "2              7            2       350.00      0      1    Bangladesh   \n",
      "3              3            7        42.85      0      0      Pakistan   \n",
      "4            148          123       120.32     15      4      Pakistan   \n",
      "..           ...          ...          ...    ...    ...           ...   \n",
      "204           21           11       190.90      2      0    Bangladesh   \n",
      "259           85           76       111.84      8      2      Zimbabwe   \n",
      "321            0            3         0.00      0      0     Hong Kong   \n",
      "325            8           17        47.05      0      0   Afghanistan   \n",
      "344           28           52        53.84      3      0   Afghanistan   \n",
      "\n",
      "            ground       date  year  not_out  \n",
      "0       Chattogram 2004-12-23  2004        0  \n",
      "1            Dhaka 2004-12-26  2004        0  \n",
      "2            Dhaka 2004-12-27  2004        1  \n",
      "3            Kochi 2005-04-02  2005        0  \n",
      "4    Visakhapatnam 2005-04-05  2005        0  \n",
      "..             ...        ...   ...      ...  \n",
      "204          Dhaka 2012-03-16  2012        1  \n",
      "259       Auckland 2015-03-14  2015        1  \n",
      "321    Dubai (DSC) 2018-09-18  2018        0  \n",
      "325    Dubai (DSC) 2018-09-25  2018        0  \n",
      "344    Southampton 2019-06-22  2019        0  \n",
      "\n",
      "[93 rows x 10 columns]\n",
      "opposition\n",
      " Afghanistan       36\n",
      " Africa XI        174\n",
      " Australia       1660\n",
      " Bangladesh       569\n",
      " Bermuda           29\n",
      " England         1546\n",
      " Hong Kong        109\n",
      " Ireland           34\n",
      " Netherlands       19\n",
      " New Zealand      940\n",
      " Pakistan        1231\n",
      " South Africa     830\n",
      " Sri Lanka       2383\n",
      " West Indies     1005\n",
      " Zimbabwe         208\n",
      "Name: runs_scored, dtype: int32\n",
      "       opposition  runs_scored\n",
      "0     Afghanistan           36\n",
      "1       Africa XI          174\n",
      "2       Australia         1660\n",
      "3      Bangladesh          569\n",
      "4         Bermuda           29\n",
      "5         England         1546\n",
      "6       Hong Kong          109\n",
      "7         Ireland           34\n",
      "8     Netherlands           19\n",
      "9     New Zealand          940\n",
      "10       Pakistan         1231\n",
      "11   South Africa          830\n",
      "12      Sri Lanka         2383\n",
      "13    West Indies         1005\n",
      "14       Zimbabwe          208\n"
     ]
    },
    {
     "data": {
      "text/plain": [
       "Text(0, 0.5, 'Runs scored')"
      ]
     },
     "execution_count": 19,
     "metadata": {},
     "output_type": "execute_result"
    },
    {
     "data": {
      "image/png": "[encoded data removed]",
      "text/plain": [
       "<Figure size 576x360 with 1 Axes>"
      ]
     },
     "metadata": {
      "needs_background": "light"
     },
     "output_type": "display_data"
    }
   ],
   "source": [
    "# Runs scored againsts each team\n",
    "# Group the dataframe opposition column\n",
    "grouped_by_opposition = df_new.groupby('opposition')\n",
    "print(grouped_by_opposition.head(10))\n",
    "\n",
    "# Calculate the sum of runs_scored for each opposition\n",
    "sum_of_runs_scored = grouped_by_opposition['runs_scored'].sum()\n",
    "print(sum_of_runs_scored)\n",
    "\n",
    "# sum_of_runs_scored is a series with a labelled index, which is opposition\n",
    "run_scored_by_opposition = pd.DataFrame(sum_of_runs_scored).reset_index()\n",
    "print(run_scored_by_opposition)\n",
    "\n",
    "run_scored_by_opposition.plot(kind='bar', x='opposition', y='runs_scored', title='Runs scored againsts each team', figsize=(8, 5))\n",
    "plt.xlabel('Opposition')\n",
    "plt.ylabel('Runs scored')"
   ]
  },
  {
   "cell_type": "code",
   "execution_count": null,
   "metadata": {
    "id": "ZYkIb3hx01Z5"
   },
   "outputs": [],
   "source": []
  }
 ],
 "metadata": {
  "accelerator": "GPU",
  "colab": {
   "authorship_tag": "ABX9TyNQp/t8LsU2VlXUqSRhi6O8",
   "gpuType": "T4",
   "provenance": []
  },
  "kernelspec": {
   "display_name": "Python 3 (ipykernel)",
   "language": "python",
   "name": "python3"
  },
  "language_info": {
   "codemirror_mode": {
    "name": "ipython",
    "version": 3
   },
   "file_extension": ".py",
   "mimetype": "text/x-python",
   "name": "python",
   "nbconvert_exporter": "python",
   "pygments_lexer": "ipython3",
   "version": "3.9.7"
  }
 },
 "nbformat": 4,
 "nbformat_minor": 1
}
