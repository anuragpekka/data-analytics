{
 "cells": [
  {
   "cell_type": "code",
   "execution_count": 1,
   "metadata": {
    "executionInfo": {
     "elapsed": 471,
     "status": "ok",
     "timestamp": 1729487943676,
     "user": {
      "displayName": "PGDAI ACTS",
      "userId": "16113966839122920361"
     },
     "user_tz": -330
    },
    "id": "-D7x2bxeawLo"
   },
   "outputs": [],
   "source": [
    "import os\n",
    "import numpy as np\n",
    "import pandas as pd\n",
    "import matplotlib.pyplot as plt\n",
    "import seaborn as sns\n",
    "from scipy import stats\n",
    "from scipy.stats import zscore"
   ]
  },
  {
   "cell_type": "markdown",
   "metadata": {
    "id": "Yt0D6IfaazrC"
   },
   "source": [
    "#### Reading the dataset"
   ]
  },
  {
   "cell_type": "code",
   "execution_count": 13,
   "metadata": {
    "colab": {
     "base_uri": "https://localhost:8080/",
     "height": 206
    },
    "executionInfo": {
     "elapsed": 501,
     "status": "ok",
     "timestamp": 1729487278771,
     "user": {
      "displayName": "PGDAI ACTS",
      "userId": "16113966839122920361"
     },
     "user_tz": -330
    },
    "id": "b6lT5OIRaz3a",
    "outputId": "f211b83b-031f-4a48-9381-b38a2b9aee29"
   },
   "outputs": [
    {
     "data": {
      "text/html": [
       "<div>\n",
       "<style scoped>\n",
       "    .dataframe tbody tr th:only-of-type {\n",
       "        vertical-align: middle;\n",
       "    }\n",
       "\n",
       "    .dataframe tbody tr th {\n",
       "        vertical-align: top;\n",
       "    }\n",
       "\n",
       "    .dataframe thead th {\n",
       "        text-align: right;\n",
       "    }\n",
       "</style>\n",
       "<table border=\"1\" class=\"dataframe\">\n",
       "  <thead>\n",
       "    <tr style=\"text-align: right;\">\n",
       "      <th></th>\n",
       "      <th>total_bill</th>\n",
       "      <th>tip</th>\n",
       "      <th>gender</th>\n",
       "      <th>smoker</th>\n",
       "      <th>day</th>\n",
       "      <th>time</th>\n",
       "      <th>size</th>\n",
       "      <th>price_per_person</th>\n",
       "      <th>Payer Name</th>\n",
       "      <th>CC Number</th>\n",
       "      <th>Payment ID</th>\n",
       "    </tr>\n",
       "  </thead>\n",
       "  <tbody>\n",
       "    <tr>\n",
       "      <th>0</th>\n",
       "      <td>16.99</td>\n",
       "      <td>1.01</td>\n",
       "      <td>Female</td>\n",
       "      <td>No</td>\n",
       "      <td>Sun</td>\n",
       "      <td>Dinner</td>\n",
       "      <td>2</td>\n",
       "      <td>8.49</td>\n",
       "      <td>Christy Cunningham</td>\n",
       "      <td>3.560330e+15</td>\n",
       "      <td>Sun2959</td>\n",
       "    </tr>\n",
       "    <tr>\n",
       "      <th>1</th>\n",
       "      <td>10.34</td>\n",
       "      <td>1.66</td>\n",
       "      <td>Male</td>\n",
       "      <td>No</td>\n",
       "      <td>Sun</td>\n",
       "      <td>Dinner</td>\n",
       "      <td>3</td>\n",
       "      <td>3.45</td>\n",
       "      <td>Douglas Tucker</td>\n",
       "      <td>4.478070e+15</td>\n",
       "      <td>Sun4608</td>\n",
       "    </tr>\n",
       "    <tr>\n",
       "      <th>2</th>\n",
       "      <td>21.01</td>\n",
       "      <td>3.50</td>\n",
       "      <td>Male</td>\n",
       "      <td>No</td>\n",
       "      <td>Sun</td>\n",
       "      <td>Dinner</td>\n",
       "      <td>3</td>\n",
       "      <td>7.00</td>\n",
       "      <td>Travis Walters</td>\n",
       "      <td>6.011810e+15</td>\n",
       "      <td>Sun4458</td>\n",
       "    </tr>\n",
       "    <tr>\n",
       "      <th>3</th>\n",
       "      <td>23.68</td>\n",
       "      <td>3.31</td>\n",
       "      <td>Male</td>\n",
       "      <td>No</td>\n",
       "      <td>Sun</td>\n",
       "      <td>Dinner</td>\n",
       "      <td>2</td>\n",
       "      <td>11.84</td>\n",
       "      <td>Nathaniel Harris</td>\n",
       "      <td>4.676140e+15</td>\n",
       "      <td>Sun5260</td>\n",
       "    </tr>\n",
       "    <tr>\n",
       "      <th>4</th>\n",
       "      <td>24.59</td>\n",
       "      <td>3.61</td>\n",
       "      <td>Female</td>\n",
       "      <td>No</td>\n",
       "      <td>Sun</td>\n",
       "      <td>Dinner</td>\n",
       "      <td>4</td>\n",
       "      <td>6.15</td>\n",
       "      <td>Tonya Carter</td>\n",
       "      <td>4.832730e+15</td>\n",
       "      <td>Sun2251</td>\n",
       "    </tr>\n",
       "  </tbody>\n",
       "</table>\n",
       "</div>"
      ],
      "text/plain": [
       "   total_bill   tip  gender smoker  day    time  size  price_per_person  \\\n",
       "0       16.99  1.01  Female     No  Sun  Dinner     2              8.49   \n",
       "1       10.34  1.66    Male     No  Sun  Dinner     3              3.45   \n",
       "2       21.01  3.50    Male     No  Sun  Dinner     3              7.00   \n",
       "3       23.68  3.31    Male     No  Sun  Dinner     2             11.84   \n",
       "4       24.59  3.61  Female     No  Sun  Dinner     4              6.15   \n",
       "\n",
       "           Payer Name     CC Number Payment ID  \n",
       "0  Christy Cunningham  3.560330e+15    Sun2959  \n",
       "1      Douglas Tucker  4.478070e+15    Sun4608  \n",
       "2      Travis Walters  6.011810e+15    Sun4458  \n",
       "3    Nathaniel Harris  4.676140e+15    Sun5260  \n",
       "4        Tonya Carter  4.832730e+15    Sun2251  "
      ]
     },
     "execution_count": 13,
     "metadata": {},
     "output_type": "execute_result"
    }
   ],
   "source": [
    "df = pd.read_csv('../ExploratoryAnalysisTips/tips.csv')\n",
    "df.head()"
   ]
  },
  {
   "cell_type": "markdown",
   "metadata": {
    "id": "UZlS08kda0AL"
   },
   "source": [
    "#### Extract all total_bill column into a new series"
   ]
  },
  {
   "cell_type": "code",
   "execution_count": 4,
   "metadata": {
    "colab": {
     "base_uri": "https://localhost:8080/"
    },
    "executionInfo": {
     "elapsed": 13,
     "status": "ok",
     "timestamp": 1729486969069,
     "user": {
      "displayName": "PGDAI ACTS",
      "userId": "16113966839122920361"
     },
     "user_tz": -330
    },
    "id": "38a5s-hLa0Hi",
    "outputId": "bb55d0ff-41a8-4a9e-b0fd-87b74d6001bb"
   },
   "outputs": [
    {
     "name": "stdout",
     "output_type": "stream",
     "text": [
      "0    16.99\n",
      "1    10.34\n",
      "2    21.01\n",
      "3    23.68\n",
      "4    24.59\n",
      "Name: total_bill, dtype: float64\n"
     ]
    }
   ],
   "source": [
    "# @title{vertical-output : true}\n",
    "\n",
    "total_bill_series = df['total_bill']\n",
    "print(total_bill_series.head())"
   ]
  },
  {
   "cell_type": "markdown",
   "metadata": {
    "id": "XI1wz1MZa0Oa"
   },
   "source": [
    "#### Calculate mean and standard deviation"
   ]
  },
  {
   "cell_type": "code",
   "execution_count": 5,
   "metadata": {
    "colab": {
     "base_uri": "https://localhost:8080/"
    },
    "executionInfo": {
     "elapsed": 10,
     "status": "ok",
     "timestamp": 1729486969070,
     "user": {
      "displayName": "PGDAI ACTS",
      "userId": "16113966839122920361"
     },
     "user_tz": -330
    },
    "id": "HTx5-840a0VB",
    "outputId": "ae58c3a5-919e-4390-eced-a3b286373823"
   },
   "outputs": [
    {
     "name": "stdout",
     "output_type": "stream",
     "text": [
      "19.78594262295082 8.902411954856856\n"
     ]
    }
   ],
   "source": [
    "# @title{vertical-output : true}\n",
    "\n",
    "mu, std = total_bill_series.mean(), total_bill_series.std()\n",
    "print(mu, std)"
   ]
  },
  {
   "cell_type": "markdown",
   "metadata": {
    "id": "bONoI1Pea0bZ"
   },
   "source": [
    "#### Calcualte z-socre for each value"
   ]
  },
  {
   "cell_type": "code",
   "execution_count": 6,
   "metadata": {
    "colab": {
     "base_uri": "https://localhost:8080/"
    },
    "executionInfo": {
     "elapsed": 605,
     "status": "ok",
     "timestamp": 1729486969668,
     "user": {
      "displayName": "PGDAI ACTS",
      "userId": "16113966839122920361"
     },
     "user_tz": -330
    },
    "id": "uC6DTw8Ha0hS",
    "outputId": "27f6fdf0-691b-44da-9156-614ea93cb097"
   },
   "outputs": [
    {
     "name": "stdout",
     "output_type": "stream",
     "text": [
      "0   -0.314066\n",
      "1   -1.061054\n",
      "2    0.137497\n",
      "3    0.437416\n",
      "4    0.539635\n",
      "Name: total_bill, dtype: float64\n"
     ]
    }
   ],
   "source": [
    "# @title{vertical-output : true}\n",
    "\n",
    "z_score = (total_bill_series - mu) / std\n",
    "print(z_score.head())"
   ]
  },
  {
   "cell_type": "markdown",
   "metadata": {
    "id": "12Aesi-ga0px"
   },
   "source": [
    "#### Plot normal distribution graph of total bill"
   ]
  },
  {
   "cell_type": "code",
   "execution_count": 7,
   "metadata": {
    "colab": {
     "base_uri": "https://localhost:8080/",
     "height": 532
    },
    "executionInfo": {
     "elapsed": 1223,
     "status": "ok",
     "timestamp": 1729487205650,
     "user": {
      "displayName": "PGDAI ACTS",
      "userId": "16113966839122920361"
     },
     "user_tz": -330
    },
    "id": "T_ka1eUpa0wb",
    "outputId": "74f5d513-9cc7-4717-f7ef-ed94dcdbb453"
   },
   "outputs": [
    {
     "data": {
      "image/png": "[encoded data removed]",
      "text/plain": [
       "<Figure size 1000x600 with 2 Axes>"
      ]
     },
     "metadata": {},
     "output_type": "display_data"
    }
   ],
   "source": [
    "# @title{vertical-output : true}\n",
    "\n",
    "plt.figure(figsize=(10, 6))\n",
    "\n",
    "# Histogram\n",
    "plt.subplot(1, 2, 1)\n",
    "sns.histplot(total_bill_series, bins=20, alpha=0.7, color='blue', edgecolor='black')\n",
    "\n",
    "# Fit the normal distribution to the data\n",
    "x = np.linspace(total_bill_series.min(), total_bill_series.max(), 100)\n",
    "p = stats.norm.pdf(x, mu, std)\n",
    "plt.plot(x,p,'k',linewidth=2)\n",
    "title = f\"Fit results: mu = {mu:.2f},  std = {std:.2f}%\"\n",
    "plt.title(title)\n",
    "plt.xlabel('Total Bill')\n",
    "plt.ylabel('Density')\n",
    "plt.grid(True)\n",
    "\n",
    "\n",
    "# QQ plot\n",
    "plt.subplot(1, 2, 2)\n",
    "stats.probplot(total_bill_series, dist='norm', plot=plt)\n",
    "plt.title('QQ Plot')\n",
    "plt.xlabel('Theoretical Quantiles')\n",
    "plt.ylabel('Sample Quantiles')\n",
    "plt.grid(True)\n",
    "plt.tight_layout()\n",
    "plt.show()"
   ]
  },
  {
   "cell_type": "markdown",
   "metadata": {
    "id": "roxJTjeSa2AR"
   },
   "source": [
    "#### Plot grph showing mean +/- 3*SD"
   ]
  },
  {
   "cell_type": "code",
   "execution_count": 8,
   "metadata": {
    "colab": {
     "base_uri": "https://localhost:8080/",
     "height": 564
    },
    "executionInfo": {
     "elapsed": 731,
     "status": "ok",
     "timestamp": 1729487404592,
     "user": {
      "displayName": "PGDAI ACTS",
      "userId": "16113966839122920361"
     },
     "user_tz": -330
    },
    "id": "smOjd4LQa2F6",
    "outputId": "51b4ef8b-2f05-4aaa-bf20-9d88cc10a17a"
   },
   "outputs": [
    {
     "data": {
      "image/png": "[encoded data removed]",
      "text/plain": [
       "<Figure size 1000x600 with 1 Axes>"
      ]
     },
     "metadata": {},
     "output_type": "display_data"
    }
   ],
   "source": [
    "# @title{vertical-output : true}\n",
    "\n",
    "plt.figure(figsize=(10, 6))\n",
    "sns.histplot(total_bill_series, bins=20, alpha=0.7, color='blue', edgecolor='black')\n",
    "\n",
    "# Fit normal distribution to the data\n",
    "x= np.linspace(total_bill_series.min(), total_bill_series.max(), 100)\n",
    "p = stats.norm.pdf(x, mu, std)\n",
    "plt.plot(x,p,'k',linewidth=2)\n",
    "title = f\"Fit results: mu = {mu:.2f},  std = {std:.2f}%\"\n",
    "plt.title(title)\n",
    "plt.xlabel('Total Bill')\n",
    "plt.ylabel('Density')\n",
    "plt.grid(True)\n",
    "\n",
    "\n",
    "# Plot mean +/- 3*SD\n",
    "for i in range(1, 4):\n",
    "    plt.axvline(mu + i * std, color='red', linestyle='--', linewidth=1, label=f'Mean - {i} SD')\n",
    "    plt.axvline(mu - i * std, color='red', linestyle='--', linewidth=1)\n",
    "\n",
    "plt.legend()\n",
    "plt.show()"
   ]
  },
  {
   "cell_type": "markdown",
   "metadata": {
    "id": "z9gbuQcAa2MR"
   },
   "source": [
    "#### Check if mean +/-SD, mean +/-2SD, mean +/-3SD satisfy the empirical rule"
   ]
  },
  {
   "cell_type": "code",
   "execution_count": 9,
   "metadata": {
    "colab": {
     "base_uri": "https://localhost:8080/"
    },
    "executionInfo": {
     "elapsed": 453,
     "status": "ok",
     "timestamp": 1729487699739,
     "user": {
      "displayName": "PGDAI ACTS",
      "userId": "16113966839122920361"
     },
     "user_tz": -330
    },
    "id": "HqNNu-E5a2Xo",
    "outputId": "5c4335d0-3938-4f5e-b00c-e71eb0fc6c99"
   },
   "outputs": [
    {
     "name": "stdout",
     "output_type": "stream",
     "text": [
      "Percentage of data eithon mean +-SD : 72.13%\n",
      "Percentage of data eithon mean +-2SD : 94.26%\n",
      "Percentage of data eithon mean +-3SD : 98.36%\n"
     ]
    }
   ],
   "source": [
    "# @title{vertical-output : true}\n",
    "\n",
    "within_1sd = (z_score <=1 ) & (z_score >= -1)\n",
    "within_2sd = (z_score <=2 ) & (z_score >= -2)\n",
    "within_3sd = (z_score <=3 ) & (z_score >= -3)\n",
    "\n",
    "perentage_within_1sd = (within_1sd.sum() / len(z_score)) * 100\n",
    "perentage_within_2sd = (within_2sd.sum() / len(z_score)) * 100\n",
    "perentage_within_3sd = (within_3sd.sum() / len(z_score)) * 100\n",
    "\n",
    "print(f'Percentage of data eithon mean +-SD : {perentage_within_1sd:.2f}%')\n",
    "print(f'Percentage of data eithon mean +-2SD : {perentage_within_2sd:.2f}%')\n",
    "print(f'Percentage of data eithon mean +-3SD : {perentage_within_3sd:.2f}%')\n"
   ]
  },
  {
   "cell_type": "markdown",
   "metadata": {
    "id": "BtX-ZDTegFHT"
   },
   "source": [
    "#### Create DataFrame to store, z-socre, and within_1sd, within_2sd, within_3sd flags"
   ]
  },
  {
   "cell_type": "code",
   "execution_count": 10,
   "metadata": {
    "colab": {
     "base_uri": "https://localhost:8080/"
    },
    "executionInfo": {
     "elapsed": 7,
     "status": "ok",
     "timestamp": 1729488044613,
     "user": {
      "displayName": "PGDAI ACTS",
      "userId": "16113966839122920361"
     },
     "user_tz": -330
    },
    "id": "GFo8fUj5gEZj",
    "outputId": "a44bae51-da2e-4388-8845-28ced41b2853"
   },
   "outputs": [
    {
     "name": "stdout",
     "output_type": "stream",
     "text": [
      "   total_bill   z_score  within_1sd  within_2sd  within_3sd\n",
      "0       16.99 -0.314066        True        True        True\n",
      "1       10.34 -1.061054       False        True        True\n",
      "2       21.01  0.137497        True        True        True\n",
      "3       23.68  0.437416        True        True        True\n",
      "4       24.59  0.539635        True        True        True\n"
     ]
    }
   ],
   "source": [
    "# @title{vertical-output : true}\n",
    "\n",
    "result_df = pd.DataFrame({\n",
    "    'total_bill':total_bill_series,\n",
    "    'z_score':z_score,\n",
    "    'within_1sd':within_1sd,\n",
    "    'within_2sd':within_2sd,\n",
    "    'within_3sd':within_3sd\n",
    "})\n",
    "\n",
    "print(result_df.head())\n",
    "\n",
    "# Deleting the file of exist\n",
    "if os.path.exists('z_score_tips_dataset.csv'):\n",
    "    os.remove('z_score_tips_dataset.csv')\n",
    "\n",
    "result_df.to_csv('z_score_tips_dataset.csv', index=False)"
   ]
  },
  {
   "cell_type": "markdown",
   "metadata": {
    "id": "r2ZQLNA0hVaQ"
   },
   "source": [
    "#### Find outliers\n"
   ]
  },
  {
   "cell_type": "code",
   "execution_count": 11,
   "metadata": {
    "colab": {
     "base_uri": "https://localhost:8080/"
    },
    "executionInfo": {
     "elapsed": 443,
     "status": "ok",
     "timestamp": 1729488189135,
     "user": {
      "displayName": "PGDAI ACTS",
      "userId": "16113966839122920361"
     },
     "user_tz": -330
    },
    "id": "js4xkRIlhVJX",
    "outputId": "9b8ac69c-137c-4cbc-8119-d57d14ce8136"
   },
   "outputs": [
    {
     "name": "stdout",
     "output_type": "stream",
     "text": [
      "     total_bill   z_score  within_1sd  within_2sd  within_3sd\n",
      "59        48.27  3.199589       False       False       False\n",
      "156       48.17  3.188356       False       False       False\n",
      "170       50.81  3.484905       False       False       False\n",
      "212       48.33  3.206329       False       False       False\n"
     ]
    }
   ],
   "source": [
    "outluers = result_df[(result_df['z_score'] < -3) | (result_df['z_score'] > 3)]\n",
    "print(outluers)"
   ]
  },
  {
   "cell_type": "markdown",
   "metadata": {
    "id": "rgw0dyYOhU_I"
   },
   "source": [
    "#### Outliers z-socre boxplot"
   ]
  },
  {
   "cell_type": "code",
   "execution_count": 12,
   "metadata": {
    "colab": {
     "base_uri": "https://localhost:8080/",
     "height": 564
    },
    "executionInfo": {
     "elapsed": 788,
     "status": "ok",
     "timestamp": 1729488538361,
     "user": {
      "displayName": "PGDAI ACTS",
      "userId": "16113966839122920361"
     },
     "user_tz": -330
    },
    "id": "DQCWlNHXhU2Y",
    "outputId": "4f102285-75ed-41fd-b9d0-c0a3ef46f54b"
   },
   "outputs": [
    {
     "data": {
      "image/png": "[encoded data removed]",
      "text/plain": [
       "<Figure size 800x600 with 1 Axes>"
      ]
     },
     "metadata": {},
     "output_type": "display_data"
    }
   ],
   "source": [
    "plt.figure(figsize=(8,6))\n",
    "# vert=False                    indicates tht the boxplot will be dwrawn horizontally\n",
    "# marker='*'                    Set the marker style for the outlier to a star('*')\n",
    "# markerfacecolor='red'         Set the color if the marker face for the outliers to red\n",
    "plt.boxplot(\n",
    "    result_df['z_score'],\n",
    "    vert=False,\n",
    "    flierprops=dict(\n",
    "        marker='*',\n",
    "        markerfacecolor='red',\n",
    "        markersize=10\n",
    "    )\n",
    ")\n",
    "plt.xlabel('Z-score')\n",
    "plt.title('Boxplot of Z-scores')\n",
    "plt.grid(True)\n",
    "plt.show()"
   ]
  },
  {
   "cell_type": "markdown",
   "metadata": {
    "id": "t2w0xJMBhUnf"
   },
   "source": []
  }
 ],
 "metadata": {
  "colab": {
   "authorship_tag": "ABX9TyOmW+2JM5xftveRdTXwOTtj",
   "mount_file_id": "1A_0_Sd7VpKpU1KMaiZ2cAlgs2qCp2U_S",
   "provenance": []
  },
  "kernelspec": {
   "display_name": "py3-12-0",
   "language": "python",
   "name": "py3-12-0"
  },
  "language_info": {
   "codemirror_mode": {
    "name": "ipython",
    "version": 3
   },
   "file_extension": ".py",
   "mimetype": "text/x-python",
   "name": "python",
   "nbconvert_exporter": "python",
   "pygments_lexer": "ipython3",
   "version": "3.12.0"
  }
 },
 "nbformat": 4,
 "nbformat_minor": 1
}
