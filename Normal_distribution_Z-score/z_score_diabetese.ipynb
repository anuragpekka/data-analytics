{
 "cells": [
  {
   "cell_type": "code",
   "execution_count": 2,
   "metadata": {
    "executionInfo": {
     "elapsed": 433,
     "status": "ok",
     "timestamp": 1729484820249,
     "user": {
      "displayName": "PGDAI ACTS",
      "userId": "16113966839122920361"
     },
     "user_tz": -330
    },
    "id": "ZN49Z6OCUT2l"
   },
   "outputs": [],
   "source": [
    "import numpy as np\n",
    "import pandas as pd\n",
    "import matplotlib.pyplot as plt\n",
    "import seaborn as sns\n",
    "from scipy import stats\n",
    "from scipy.stats import zscore"
   ]
  },
  {
   "cell_type": "code",
   "execution_count": 3,
   "metadata": {
    "executionInfo": {
     "elapsed": 650,
     "status": "ok",
     "timestamp": 1729484825226,
     "user": {
      "displayName": "PGDAI ACTS",
      "userId": "16113966839122920361"
     },
     "user_tz": -330
    },
    "id": "ysvHCYEdUZxt"
   },
   "outputs": [],
   "source": [
    "df = pd.read_csv('diabetes.csv')"
   ]
  },
  {
   "cell_type": "code",
   "execution_count": 4,
   "metadata": {
    "colab": {
     "base_uri": "https://localhost:8080/",
     "height": 206
    },
    "executionInfo": {
     "elapsed": 501,
     "status": "ok",
     "timestamp": 1729484729911,
     "user": {
      "displayName": "PGDAI ACTS",
      "userId": "16113966839122920361"
     },
     "user_tz": -330
    },
    "id": "AySdv7euUorb",
    "outputId": "eeb87523-fe29-49bc-c1e2-918a57cf6e67"
   },
   "outputs": [
    {
     "data": {
      "text/html": [
       "<div>\n",
       "<style scoped>\n",
       "    .dataframe tbody tr th:only-of-type {\n",
       "        vertical-align: middle;\n",
       "    }\n",
       "\n",
       "    .dataframe tbody tr th {\n",
       "        vertical-align: top;\n",
       "    }\n",
       "\n",
       "    .dataframe thead th {\n",
       "        text-align: right;\n",
       "    }\n",
       "</style>\n",
       "<table border=\"1\" class=\"dataframe\">\n",
       "  <thead>\n",
       "    <tr style=\"text-align: right;\">\n",
       "      <th></th>\n",
       "      <th>Pregnancies</th>\n",
       "      <th>Glucose</th>\n",
       "      <th>BloodPressure</th>\n",
       "      <th>SkinThickness</th>\n",
       "      <th>Insulin</th>\n",
       "      <th>BMI</th>\n",
       "      <th>DiabetesPedigreeFunction</th>\n",
       "      <th>Age</th>\n",
       "      <th>Outcome</th>\n",
       "    </tr>\n",
       "  </thead>\n",
       "  <tbody>\n",
       "    <tr>\n",
       "      <th>0</th>\n",
       "      <td>6</td>\n",
       "      <td>148</td>\n",
       "      <td>72</td>\n",
       "      <td>35</td>\n",
       "      <td>0</td>\n",
       "      <td>33.6</td>\n",
       "      <td>0.627</td>\n",
       "      <td>50</td>\n",
       "      <td>1</td>\n",
       "    </tr>\n",
       "    <tr>\n",
       "      <th>1</th>\n",
       "      <td>1</td>\n",
       "      <td>85</td>\n",
       "      <td>66</td>\n",
       "      <td>29</td>\n",
       "      <td>0</td>\n",
       "      <td>26.6</td>\n",
       "      <td>0.351</td>\n",
       "      <td>31</td>\n",
       "      <td>0</td>\n",
       "    </tr>\n",
       "    <tr>\n",
       "      <th>2</th>\n",
       "      <td>8</td>\n",
       "      <td>183</td>\n",
       "      <td>64</td>\n",
       "      <td>0</td>\n",
       "      <td>0</td>\n",
       "      <td>23.3</td>\n",
       "      <td>0.672</td>\n",
       "      <td>32</td>\n",
       "      <td>1</td>\n",
       "    </tr>\n",
       "    <tr>\n",
       "      <th>3</th>\n",
       "      <td>1</td>\n",
       "      <td>89</td>\n",
       "      <td>66</td>\n",
       "      <td>23</td>\n",
       "      <td>94</td>\n",
       "      <td>28.1</td>\n",
       "      <td>0.167</td>\n",
       "      <td>21</td>\n",
       "      <td>0</td>\n",
       "    </tr>\n",
       "    <tr>\n",
       "      <th>4</th>\n",
       "      <td>0</td>\n",
       "      <td>137</td>\n",
       "      <td>40</td>\n",
       "      <td>35</td>\n",
       "      <td>168</td>\n",
       "      <td>43.1</td>\n",
       "      <td>2.288</td>\n",
       "      <td>33</td>\n",
       "      <td>1</td>\n",
       "    </tr>\n",
       "  </tbody>\n",
       "</table>\n",
       "</div>"
      ],
      "text/plain": [
       "   Pregnancies  Glucose  BloodPressure  SkinThickness  Insulin   BMI  \\\n",
       "0            6      148             72             35        0  33.6   \n",
       "1            1       85             66             29        0  26.6   \n",
       "2            8      183             64              0        0  23.3   \n",
       "3            1       89             66             23       94  28.1   \n",
       "4            0      137             40             35      168  43.1   \n",
       "\n",
       "   DiabetesPedigreeFunction  Age  Outcome  \n",
       "0                     0.627   50        1  \n",
       "1                     0.351   31        0  \n",
       "2                     0.672   32        1  \n",
       "3                     0.167   21        0  \n",
       "4                     2.288   33        1  "
      ]
     },
     "execution_count": 4,
     "metadata": {},
     "output_type": "execute_result"
    }
   ],
   "source": [
    "df.head()"
   ]
  },
  {
   "cell_type": "markdown",
   "metadata": {
    "id": "xjuAKbGMU8x-"
   },
   "source": [
    "### Calculate the mean and standard deviation of the Glucose column"
   ]
  },
  {
   "cell_type": "code",
   "execution_count": 5,
   "metadata": {
    "executionInfo": {
     "elapsed": 432,
     "status": "ok",
     "timestamp": 1729484873314,
     "user": {
      "displayName": "PGDAI ACTS",
      "userId": "16113966839122920361"
     },
     "user_tz": -330
    },
    "id": "yq4vmsKsU8gW"
   },
   "outputs": [],
   "source": [
    "glucose_mean = df['Glucose'].mean()\n",
    "glucose_std = df['Glucose'].std()"
   ]
  },
  {
   "cell_type": "code",
   "execution_count": 6,
   "metadata": {
    "colab": {
     "base_uri": "https://localhost:8080/"
    },
    "executionInfo": {
     "elapsed": 492,
     "status": "ok",
     "timestamp": 1729484891770,
     "user": {
      "displayName": "PGDAI ACTS",
      "userId": "16113966839122920361"
     },
     "user_tz": -330
    },
    "id": "uJkR9XLtVOZz",
    "outputId": "8976d69d-679c-417a-cc18-92b4c13dc3aa"
   },
   "outputs": [
    {
     "name": "stdout",
     "output_type": "stream",
     "text": [
      "Mean of Glucose: 120.89453125\n",
      "Standard Deviation of Glucose: 31.97261819513622\n"
     ]
    }
   ],
   "source": [
    "print(f\"Mean of Glucose: {glucose_mean}\")\n",
    "print(f\"Standard Deviation of Glucose: {glucose_std}\")"
   ]
  },
  {
   "cell_type": "markdown",
   "metadata": {
    "id": "KAnklnYMU8Su"
   },
   "source": [
    "#### Calculate z-score for Glucose level of 68"
   ]
  },
  {
   "cell_type": "markdown",
   "metadata": {
    "id": "x9knTt-SVqwt"
   },
   "source": [
    "###### using manual method"
   ]
  },
  {
   "cell_type": "code",
   "execution_count": 7,
   "metadata": {
    "colab": {
     "base_uri": "https://localhost:8080/"
    },
    "executionInfo": {
     "elapsed": 434,
     "status": "ok",
     "timestamp": 1729484971934,
     "user": {
      "displayName": "PGDAI ACTS",
      "userId": "16113966839122920361"
     },
     "user_tz": -330
    },
    "id": "6GoDQQcBU8I-",
    "outputId": "8acace0c-d604-47be-c0f7-00842319fc23"
   },
   "outputs": [
    {
     "name": "stdout",
     "output_type": "stream",
     "text": [
      "Z-score for 68: -1.6543697149596115\n"
     ]
    }
   ],
   "source": [
    "glucose_value = 68\n",
    "z_score_168_manual = (glucose_value - glucose_mean) / glucose_std\n",
    "print(f\"Z-score for 68: {z_score_168_manual}\")"
   ]
  },
  {
   "cell_type": "markdown",
   "metadata": {
    "id": "FwjM1a8CU74G"
   },
   "source": [
    "###### using automatic way using zscore function\n",
    "This will add a column for the z-score of Glucose for each record"
   ]
  },
  {
   "cell_type": "code",
   "execution_count": 8,
   "metadata": {
    "colab": {
     "base_uri": "https://localhost:8080/"
    },
    "executionInfo": {
     "elapsed": 466,
     "status": "ok",
     "timestamp": 1729485132545,
     "user": {
      "displayName": "PGDAI ACTS",
      "userId": "16113966839122920361"
     },
     "user_tz": -330
    },
    "id": "a2Wvb2mDU7xG",
    "outputId": "1ee136b3-b149-457a-8cb7-aaf3c416d8d3"
   },
   "outputs": [
    {
     "name": "stdout",
     "output_type": "stream",
     "text": [
      "     Pregnancies  Glucose  BloodPressure  SkinThickness  Insulin   BMI  \\\n",
      "0              6      148             72             35        0  33.6   \n",
      "1              1       85             66             29        0  26.6   \n",
      "2              8      183             64              0        0  23.3   \n",
      "3              1       89             66             23       94  28.1   \n",
      "4              0      137             40             35      168  43.1   \n",
      "..           ...      ...            ...            ...      ...   ...   \n",
      "763           10      101             76             48      180  32.9   \n",
      "764            2      122             70             27        0  36.8   \n",
      "765            5      121             72             23      112  26.2   \n",
      "766            1      126             60              0        0  30.1   \n",
      "767            1       93             70             31        0  30.4   \n",
      "\n",
      "     DiabetesPedigreeFunction  Age  Outcome  Glucose_zscore  \n",
      "0                       0.627   50        1        0.848324  \n",
      "1                       0.351   31        0       -1.123396  \n",
      "2                       0.672   32        1        1.943724  \n",
      "3                       0.167   21        0       -0.998208  \n",
      "4                       2.288   33        1        0.504055  \n",
      "..                        ...  ...      ...             ...  \n",
      "763                     0.171   63        0       -0.622642  \n",
      "764                     0.340   27        0        0.034598  \n",
      "765                     0.245   30        0        0.003301  \n",
      "766                     0.349   47        1        0.159787  \n",
      "767                     0.315   23        0       -0.873019  \n",
      "\n",
      "[768 rows x 10 columns]\n"
     ]
    }
   ],
   "source": [
    "df['Glucose_zscore'] = zscore(df['Glucose'])\n",
    "print(df)"
   ]
  },
  {
   "cell_type": "markdown",
   "metadata": {
    "id": "emEWJ6dDU7p2"
   },
   "source": [
    "#### Find the row index where Glucose = 168\n",
    "\n",
    "`df['Glucose'} == glucose_value` it Return \"true\" where Glucose = 68\n",
    "\n",
    "df[now gets the actual record for 168\n",
    "\n",
    ".index return the indices of rows matching this condition"
   ]
  },
  {
   "cell_type": "code",
   "execution_count": 9,
   "metadata": {
    "colab": {
     "base_uri": "https://localhost:8080/"
    },
    "executionInfo": {
     "elapsed": 10,
     "status": "ok",
     "timestamp": 1729485320505,
     "user": {
      "displayName": "PGDAI ACTS",
      "userId": "16113966839122920361"
     },
     "user_tz": -330
    },
    "id": "QnDu2eSgU7i2",
    "outputId": "b86f27c7-7d80-4885-a423-5f0e6caba955"
   },
   "outputs": [
    {
     "name": "stdout",
     "output_type": "stream",
     "text": [
      "Row index where Glucose = 168: Index([520, 617, 672], dtype='int64')\n"
     ]
    }
   ],
   "source": [
    "row_index = df[df['Glucose'] == glucose_value].index\n",
    "print(f\"Row index where Glucose = 168: {row_index}\")"
   ]
  },
  {
   "cell_type": "markdown",
   "metadata": {
    "id": "M8M_AoTvU7cG"
   },
   "source": [
    "Now Extract the first row from Glucose_zscore DF where `Glucose = 168`\n",
    "\n",
    "Hence row index[0] ... Remember, we multiply rows matching 168"
   ]
  },
  {
   "cell_type": "code",
   "execution_count": 10,
   "metadata": {
    "colab": {
     "base_uri": "https://localhost:8080/"
    },
    "executionInfo": {
     "elapsed": 446,
     "status": "ok",
     "timestamp": 1729485539062,
     "user": {
      "displayName": "PGDAI ACTS",
      "userId": "16113966839122920361"
     },
     "user_tz": -330
    },
    "id": "dLb-Umq6U7T-",
    "outputId": "528d164f-d364-4b6f-d139-848a5cd7935a"
   },
   "outputs": [
    {
     "name": "stdout",
     "output_type": "stream",
     "text": [
      "Z-score for 168 using function: -1.6554478315386594\n"
     ]
    }
   ],
   "source": [
    "z_score_168_using_function = df['Glucose_zscore'].iloc[row_index[0]]\n",
    "print(f\"Z-score for 168 using function: {z_score_168_using_function}\")"
   ]
  },
  {
   "cell_type": "markdown",
   "metadata": {
    "id": "jD1EqoqgU7Ne"
   },
   "source": [
    "#### Calculate percentile for the z-score"
   ]
  },
  {
   "cell_type": "code",
   "execution_count": 11,
   "metadata": {
    "colab": {
     "base_uri": "https://localhost:8080/"
    },
    "executionInfo": {
     "elapsed": 420,
     "status": "ok",
     "timestamp": 1729485653858,
     "user": {
      "displayName": "PGDAI ACTS",
      "userId": "16113966839122920361"
     },
     "user_tz": -330
    },
    "id": "-pHEJ3IJU7EX",
    "outputId": "51a6033f-41f1-40df-9990-e873ec6bf357"
   },
   "outputs": [
    {
     "name": "stdout",
     "output_type": "stream",
     "text": [
      "Percentile for 168: 4.902620798047029\n"
     ]
    }
   ],
   "source": [
    "percentile_168 = stats.norm.cdf(z_score_168_manual)*100 # Multiply by 100 to get percentage\n",
    "print(f\"Percentile for 168: {percentile_168}\")"
   ]
  },
  {
   "cell_type": "markdown",
   "metadata": {
    "id": "BqzOo2s_U69O"
   },
   "source": [
    "#### Find the z-score at the 30th percentile"
   ]
  },
  {
   "cell_type": "code",
   "execution_count": 12,
   "metadata": {
    "colab": {
     "base_uri": "https://localhost:8080/"
    },
    "executionInfo": {
     "elapsed": 423,
     "status": "ok",
     "timestamp": 1729485690205,
     "user": {
      "displayName": "PGDAI ACTS",
      "userId": "16113966839122920361"
     },
     "user_tz": -330
    },
    "id": "YJAuzGqFU609",
    "outputId": "5a7173f8-c067-440a-ad7f-978f772fd5c0"
   },
   "outputs": [
    {
     "name": "stdout",
     "output_type": "stream",
     "text": [
      "Z-score at 30th percentile: -0.5244005127080409\n"
     ]
    }
   ],
   "source": [
    "z_score_30 = stats.norm.ppf(0.30)\n",
    "print(f\"Z-score at 30th percentile: {z_score_30}\")"
   ]
  },
  {
   "cell_type": "markdown",
   "metadata": {
    "id": "3MuxiC_jU6t-"
   },
   "source": [
    "#### Calculate the corresponding value for the z-score of the 30th percentile"
   ]
  },
  {
   "cell_type": "code",
   "execution_count": 13,
   "metadata": {
    "colab": {
     "base_uri": "https://localhost:8080/"
    },
    "executionInfo": {
     "elapsed": 435,
     "status": "ok",
     "timestamp": 1729485802710,
     "user": {
      "displayName": "PGDAI ACTS",
      "userId": "16113966839122920361"
     },
     "user_tz": -330
    },
    "id": "CAGnlz6kU6jn",
    "outputId": "ca5befa8-16d5-4f38-dde1-3e39ef0ff0f2"
   },
   "outputs": [
    {
     "name": "stdout",
     "output_type": "stream",
     "text": [
      "Value corresponding to 30th percentile: 104.12807387585212\n"
     ]
    }
   ],
   "source": [
    "glucose_value_30 = z_score_30 * glucose_std + glucose_mean\n",
    "print(f\"Value corresponding to 30th percentile: {glucose_value_30}\")"
   ]
  },
  {
   "cell_type": "markdown",
   "metadata": {
    "id": "LNBklL-pU6Ym"
   },
   "source": [
    "#### Given -socre of 2.8, Calculate the corresponding Glucose level"
   ]
  },
  {
   "cell_type": "code",
   "execution_count": 14,
   "metadata": {
    "colab": {
     "base_uri": "https://localhost:8080/"
    },
    "executionInfo": {
     "elapsed": 436,
     "status": "ok",
     "timestamp": 1729485877756,
     "user": {
      "displayName": "PGDAI ACTS",
      "userId": "16113966839122920361"
     },
     "user_tz": -330
    },
    "id": "wULgx9BXUobi",
    "outputId": "be5f95fb-b6d5-467b-d984-1b5949ecae07"
   },
   "outputs": [
    {
     "name": "stdout",
     "output_type": "stream",
     "text": [
      "Glucose level corresponding to 2.8 z-score: 210.4178621963814\n"
     ]
    }
   ],
   "source": [
    "z_score_given = 2.8\n",
    "glucose_value_given = z_score_given * glucose_std + glucose_mean\n",
    "print(f\"Glucose level corresponding to 2.8 z-score: {glucose_value_given}\")"
   ]
  },
  {
   "cell_type": "markdown",
   "metadata": {
    "id": "uA0bcAnhZHsj"
   },
   "source": [
    "#### Calculate the percentile for the z-score of 2.8"
   ]
  },
  {
   "cell_type": "code",
   "execution_count": 15,
   "metadata": {
    "colab": {
     "base_uri": "https://localhost:8080/"
    },
    "executionInfo": {
     "elapsed": 434,
     "status": "ok",
     "timestamp": 1729485949010,
     "user": {
      "displayName": "PGDAI ACTS",
      "userId": "16113966839122920361"
     },
     "user_tz": -330
    },
    "id": "erI1cnwvZFNz",
    "outputId": "08338c36-28c1-49c0-8ef1-de710350afb2"
   },
   "outputs": [
    {
     "name": "stdout",
     "output_type": "stream",
     "text": [
      "Percentile for 2.8 z-score: 99.7444869669572\n"
     ]
    }
   ],
   "source": [
    "percentile_given = stats.norm.cdf(z_score_given)*100    # Multiply by 100 to get percentage\n",
    "print(f\"Percentile for 2.8 z-score: {percentile_given}\")"
   ]
  }
 ],
 "metadata": {
  "colab": {
   "authorship_tag": "ABX9TyMwvxt3GoLkscTktLedTZit",
   "mount_file_id": "1KzFx90ZV2ou3lb0nVkFeGJKHobhkUHlH",
   "provenance": []
  },
  "kernelspec": {
   "display_name": "py3-12-0",
   "language": "python",
   "name": "py3-12-0"
  },
  "language_info": {
   "codemirror_mode": {
    "name": "ipython",
    "version": 3
   },
   "file_extension": ".py",
   "mimetype": "text/x-python",
   "name": "python",
   "nbconvert_exporter": "python",
   "pygments_lexer": "ipython3",
   "version": "3.12.0"
  }
 },
 "nbformat": 4,
 "nbformat_minor": 1
}
