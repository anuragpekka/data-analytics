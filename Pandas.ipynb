{
 "cells": [
  {
   "cell_type": "code",
   "execution_count": 1,
   "metadata": {
    "executionInfo": {
     "elapsed": 9,
     "status": "ok",
     "timestamp": 1728555568358,
     "user": {
      "displayName": "PGDAI ACTS",
      "userId": "16113966839122920361"
     },
     "user_tz": -330
    },
    "id": "7wv6JTbk8H_n"
   },
   "outputs": [],
   "source": [
    "import numpy as np\n",
    "import pandas as pd"
   ]
  },
  {
   "cell_type": "code",
   "execution_count": 2,
   "metadata": {
    "colab": {
     "base_uri": "https://localhost:8080/"
    },
    "executionInfo": {
     "elapsed": 440,
     "status": "ok",
     "timestamp": 1728555625565,
     "user": {
      "displayName": "PGDAI ACTS",
      "userId": "16113966839122920361"
     },
     "user_tz": -330
    },
    "id": "plYWEcbT8NMs",
    "outputId": "d7b35106-5252-4825-ed09-c18413ee532f"
   },
   "outputs": [
    {
     "name": "stdout",
     "output_type": "stream",
     "text": [
      "Series with Numeric Index:\n",
      "0    1776\n",
      "1    1867\n",
      "2    1821\n",
      "dtype: int64\n",
      "\n",
      "Series with Named Index:\n",
      "USA        1776\n",
      "Canada     1867\n",
      "England    1821\n",
      "dtype: int64\n"
     ]
    }
   ],
   "source": [
    "# Creating a series from a Python list\n",
    "\n",
    "my_index = ['USA', 'Canada', 'England']\n",
    "my_data = [1776, 1867, 1821]\n",
    "\n",
    "# Create a Series with default numeric index\n",
    "my_ser_numeric = pd.Series(data=my_data)\n",
    "\n",
    "# Print the Series with numeric index\n",
    "print(\"Series with Numeric Index:\")\n",
    "print(my_ser_numeric)\n",
    "\n",
    "# Create a Series with custom index\n",
    "my_ser_named = pd.Series(data=my_data, index=my_index)\n",
    "\n",
    "# Print the Series with named index\n",
    "print(\"\\nSeries with Named Index:\")\n",
    "print(my_ser_named)"
   ]
  },
  {
   "cell_type": "code",
   "execution_count": 3,
   "metadata": {
    "colab": {
     "base_uri": "https://localhost:8080/"
    },
    "executionInfo": {
     "elapsed": 452,
     "status": "ok",
     "timestamp": 1728556035446,
     "user": {
      "displayName": "PGDAI ACTS",
      "userId": "16113966839122920361"
     },
     "user_tz": -330
    },
    "id": "ruO4ySto9f5t",
    "outputId": "ad333ceb-b7b7-48d0-f2fe-c1f7d3159c71"
   },
   "outputs": [
    {
     "name": "stdout",
     "output_type": "stream",
     "text": [
      "a    10\n",
      "b    20\n",
      "c    30\n",
      "d    40\n",
      "dtype: int64\n",
      "[87 84 25 65]\n",
      "Alice      87\n",
      "Bob        84\n",
      "Charles    25\n",
      "Dave       65\n",
      "dtype: int32\n"
     ]
    }
   ],
   "source": [
    "# Now the named index\n",
    "mydata = [10, 20, 30, 40]\n",
    "myindex = ['a', 'b', 'c', 'd']\n",
    "myser = pd.Series(data=mydata, index=myindex)\n",
    "print(myser)\n",
    "\n",
    "# Creating a series from NumPy array\n",
    "# First create a NumPy array using the earlier list\n",
    "ran_data = np.random.randint(0, 100, 4)\n",
    "print(ran_data)\n",
    "\n",
    "names = ['Alice', 'Bob', 'Charles', 'Dave']\n",
    "ages = pd.Series(ran_data, names)\n",
    "print(ages)\n"
   ]
  },
  {
   "cell_type": "code",
   "execution_count": 4,
   "metadata": {
    "colab": {
     "base_uri": "https://localhost:8080/"
    },
    "executionInfo": {
     "elapsed": 10,
     "status": "ok",
     "timestamp": 1728556145509,
     "user": {
      "displayName": "PGDAI ACTS",
      "userId": "16113966839122920361"
     },
     "user_tz": -330
    },
    "id": "suZrJyw3-O_N",
    "outputId": "2e2a3036-84ed-4b8b-a226-0e6cbb260b1f"
   },
   "outputs": [
    {
     "name": "stdout",
     "output_type": "stream",
     "text": [
      "{'Alice': 25, 'Bob': 30, 'Charles': 35, 'Dave': 40}\n",
      "Alice      25\n",
      "Bob        30\n",
      "Charles    35\n",
      "Dave       40\n",
      "dtype: int64\n"
     ]
    }
   ],
   "source": [
    "# Creating a series form a dictionary\n",
    "ages = {\n",
    "    'Alice': 25,\n",
    "    'Bob': 30,\n",
    "    'Charles': 35,\n",
    "    'Dave': 40\n",
    "}\n",
    "print(ages)\n",
    "ages_series = pd.Series(ages)\n",
    "print(ages_series)"
   ]
  },
  {
   "cell_type": "code",
   "execution_count": 5,
   "metadata": {
    "colab": {
     "base_uri": "https://localhost:8080/"
    },
    "executionInfo": {
     "elapsed": 431,
     "status": "ok",
     "timestamp": 1728556606837,
     "user": {
      "displayName": "PGDAI ACTS",
      "userId": "16113966839122920361"
     },
     "user_tz": -330
    },
    "id": "Rg1kznRE-ba_",
    "outputId": "289f077a-7998-4b79-ba7d-61ffa976e01f"
   },
   "outputs": [
    {
     "name": "stdout",
     "output_type": "stream",
     "text": [
      "Japan     80\n",
      "China    450\n",
      "India    200\n",
      "USA      250\n",
      "dtype: int64\n",
      "Brazil    100\n",
      "China     500\n",
      "India     210\n",
      "USA       260\n",
      "dtype: int64\n"
     ]
    }
   ],
   "source": [
    "# Using named index\n",
    "# Imagine sales data for 1st and 2nd Quaters for a Global Company\n",
    "q1 = {\n",
    "    'Japan': 80,\n",
    "    'China': 450,\n",
    "    'India': 200,\n",
    "    'USA': 250\n",
    "}\n",
    "\n",
    "q2 = {\n",
    "    'Brazil': 100,\n",
    "    'China': 500,\n",
    "    'India': 210,\n",
    "    'USA': 260\n",
    "}\n",
    "\n",
    "#Convert into Pandas Series\n",
    "sales_q1 = pd.Series(q1)\n",
    "sales_q2 = pd.Series(q2)\n",
    "\n",
    "print(sales_q1)\n",
    "print(sales_q2)\n"
   ]
  },
  {
   "cell_type": "code",
   "execution_count": 6,
   "metadata": {
    "colab": {
     "base_uri": "https://localhost:8080/"
    },
    "executionInfo": {
     "elapsed": 418,
     "status": "ok",
     "timestamp": 1728556616063,
     "user": {
      "displayName": "PGDAI ACTS",
      "userId": "16113966839122920361"
     },
     "user_tz": -330
    },
    "id": "BakBzzRw-cYF",
    "outputId": "5939383d-9be4-42a4-b10e-0432bb8f0f32"
   },
   "outputs": [
    {
     "name": "stdout",
     "output_type": "stream",
     "text": [
      "Sales of japan in quater 1: 80\n",
      "Sales of japan in quater 1: 80\n"
     ]
    }
   ],
   "source": [
    "# Calls values based on Named Index\n",
    "print('Sales of japan in quater 1:',sales_q1['Japan'])\n",
    "\n",
    "# Integer bases location Information also retain\n",
    "print('Sales of japan in quater 1:',sales_q1.iloc[0])\n"
   ]
  },
  {
   "cell_type": "code",
   "execution_count": 7,
   "metadata": {
    "colab": {
     "base_uri": "https://localhost:8080/"
    },
    "executionInfo": {
     "elapsed": 434,
     "status": "ok",
     "timestamp": 1728556619298,
     "user": {
      "displayName": "PGDAI ACTS",
      "userId": "16113966839122920361"
     },
     "user_tz": -330
    },
    "id": "X-YZ4P9K-cjl",
    "outputId": "b9847181-c05e-4a2a-eaa2-03d3b999a150"
   },
   "outputs": [
    {
     "name": "stdout",
     "output_type": "stream",
     "text": [
      "Error: 'Argentina'\n",
      "Error: 'Japan '\n",
      "Error: 'japan'\n"
     ]
    }
   ],
   "source": [
    "# Be carefull with potential errors!\n",
    "try:\n",
    "    # Wrong names\n",
    "    print(sales_q1['Argentina'])\n",
    "except KeyError as e:\n",
    "    print(f\"Error: {e}\")\n",
    "\n",
    "try:\n",
    "    # Accidental extra spaces\n",
    "    print(sales_q1['Japan '])\n",
    "except KeyError as e:\n",
    "    print(f\"Error: {e}\")\n",
    "\n",
    "try:\n",
    "    # Text case mistake\n",
    "    print(sales_q1['japan'])\n",
    "except KeyError as e:\n",
    "    print(f\"Error: {e}\")"
   ]
  },
  {
   "cell_type": "code",
   "execution_count": 8,
   "metadata": {
    "colab": {
     "base_uri": "https://localhost:8080/"
    },
    "executionInfo": {
     "elapsed": 416,
     "status": "ok",
     "timestamp": 1728556648293,
     "user": {
      "displayName": "PGDAI ACTS",
      "userId": "16113966839122920361"
     },
     "user_tz": -330
    },
    "id": "0v8Mzb6l-csF",
    "outputId": "56da64dc-5480-44e6-bc23-d7223371e35b"
   },
   "outputs": [
    {
     "name": "stdout",
     "output_type": "stream",
     "text": [
      "Index(['Japan', 'China', 'India', 'USA'], dtype='object')\n"
     ]
    }
   ],
   "source": [
    "# Grab just the index keys\n",
    "print(sales_q1.keys())"
   ]
  },
  {
   "cell_type": "code",
   "execution_count": 9,
   "metadata": {
    "colab": {
     "base_uri": "https://localhost:8080/"
    },
    "executionInfo": {
     "elapsed": 414,
     "status": "ok",
     "timestamp": 1728556681082,
     "user": {
      "displayName": "PGDAI ACTS",
      "userId": "16113966839122920361"
     },
     "user_tz": -330
    },
    "id": "ID-_Efje-cwF",
    "outputId": "3373761d-825d-43d4-b589-e5aefce350da"
   },
   "outputs": [
    {
     "name": "stdout",
     "output_type": "stream",
     "text": [
      "Japan    160\n",
      "China    900\n",
      "India    400\n",
      "USA      500\n",
      "dtype: int64\n",
      "Japan    0.8\n",
      "China    4.5\n",
      "India    2.0\n",
      "USA      2.5\n",
      "dtype: float64\n"
     ]
    }
   ],
   "source": [
    "# Can perform Operation Broadcsting across entire Series\n",
    "print(sales_q1 * 2)\n",
    "print(sales_q1 / 100)"
   ]
  },
  {
   "cell_type": "code",
   "execution_count": 10,
   "metadata": {
    "colab": {
     "base_uri": "https://localhost:8080/"
    },
    "executionInfo": {
     "elapsed": 420,
     "status": "ok",
     "timestamp": 1728556767287,
     "user": {
      "displayName": "PGDAI ACTS",
      "userId": "16113966839122920361"
     },
     "user_tz": -330
    },
    "id": "rbN1oWPz-c0E",
    "outputId": "1ce31f1f-6910-49da-a9e3-a6716e7a6020"
   },
   "outputs": [
    {
     "name": "stdout",
     "output_type": "stream",
     "text": [
      "Brazil      NaN\n",
      "China     950.0\n",
      "India     410.0\n",
      "Japan       NaN\n",
      "USA       510.0\n",
      "dtype: float64\n",
      "Brazil    100.0\n",
      "China     950.0\n",
      "India     410.0\n",
      "Japan      80.0\n",
      "USA       510.0\n",
      "dtype: float64\n"
     ]
    }
   ],
   "source": [
    "# Notice how pandas informs you of ,ismatch with Nan\n",
    "print(sales_q1 + sales_q2)\n",
    "\n",
    "# You can fill NAN with any matching data type valu you want\n",
    "print(sales_q1.add(sales_q2, fill_value=0))"
   ]
  },
  {
   "cell_type": "code",
   "execution_count": null,
   "metadata": {
    "id": "VxB24w3y-dFK"
   },
   "outputs": [],
   "source": []
  }
 ],
 "metadata": {
  "colab": {
   "authorship_tag": "ABX9TyOJXR9YSdPbhBhqvfd/tpa2",
   "provenance": []
  },
  "kernelspec": {
   "display_name": "Python 3 (ipykernel)",
   "language": "python",
   "name": "python3"
  },
  "language_info": {
   "codemirror_mode": {
    "name": "ipython",
    "version": 3
   },
   "file_extension": ".py",
   "mimetype": "text/x-python",
   "name": "python",
   "nbconvert_exporter": "python",
   "pygments_lexer": "ipython3",
   "version": "3.9.7"
  }
 },
 "nbformat": 4,
 "nbformat_minor": 1
}
