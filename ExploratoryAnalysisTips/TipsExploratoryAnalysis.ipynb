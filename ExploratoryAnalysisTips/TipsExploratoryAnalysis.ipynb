{
 "cells": [
  {
   "cell_type": "code",
   "execution_count": 1,
   "metadata": {
    "colab": {
     "base_uri": "https://localhost:8080/"
    },
    "executionInfo": {
     "elapsed": 446,
     "status": "ok",
     "timestamp": 1728627456800,
     "user": {
      "displayName": "PGDAI ACTS",
      "userId": "16113966839122920361"
     },
     "user_tz": -330
    },
    "id": "ad9P8cBOxOwj",
    "outputId": "db608818-c1cb-4319-9060-c5d7ce8b45cf"
   },
   "outputs": [
    {
     "name": "stdout",
     "output_type": "stream",
     "text": [
      "   total_bill   tip  gender smoker  day    time  size  price_per_person  \\\n",
      "0       16.99  1.01  Female     No  Sun  Dinner     2              8.49   \n",
      "1       10.34  1.66    Male     No  Sun  Dinner     3              3.45   \n",
      "2       21.01  3.50    Male     No  Sun  Dinner     3              7.00   \n",
      "3       23.68  3.31    Male     No  Sun  Dinner     2             11.84   \n",
      "4       24.59  3.61  Female     No  Sun  Dinner     4              6.15   \n",
      "\n",
      "           Payer Name     CC Number Payment ID  \n",
      "0  Christy Cunningham  3.560330e+15    Sun2959  \n",
      "1      Douglas Tucker  4.478070e+15    Sun4608  \n",
      "2      Travis Walters  6.011810e+15    Sun4458  \n",
      "3    Nathaniel Harris  4.676140e+15    Sun5260  \n",
      "4        Tonya Carter  4.832730e+15    Sun2251  \n"
     ]
    }
   ],
   "source": [
    "import pandas as pd\n",
    "\n",
    "df = pd.read_csv('tips.csv', )\n",
    "print(df.head())"
   ]
  },
  {
   "cell_type": "code",
   "execution_count": 2,
   "metadata": {
    "colab": {
     "base_uri": "https://localhost:8080/"
    },
    "executionInfo": {
     "elapsed": 98,
     "status": "ok",
     "timestamp": 1728627458244,
     "user": {
      "displayName": "PGDAI ACTS",
      "userId": "16113966839122920361"
     },
     "user_tz": -330
    },
    "id": "qCbJTjs4xb_o",
    "outputId": "f3714b16-fc8a-4495-d6e8-30925aed12cf"
   },
   "outputs": [
    {
     "name": "stdout",
     "output_type": "stream",
     "text": [
      "Index(['total_bill', 'tip', 'gender', 'smoker', 'day', 'time', 'size',\n",
      "       'price_per_person', 'Payer Name', 'CC Number', 'Payment ID'],\n",
      "      dtype='object')\n"
     ]
    }
   ],
   "source": [
    "print(df.columns)"
   ]
  },
  {
   "cell_type": "code",
   "execution_count": 3,
   "metadata": {
    "colab": {
     "base_uri": "https://localhost:8080/"
    },
    "executionInfo": {
     "elapsed": 96,
     "status": "ok",
     "timestamp": 1728627458244,
     "user": {
      "displayName": "PGDAI ACTS",
      "userId": "16113966839122920361"
     },
     "user_tz": -330
    },
    "id": "mdVCn_MzxcCY",
    "outputId": "6c839ad7-cd0d-4fbd-aae1-b4b8274a211e"
   },
   "outputs": [
    {
     "name": "stdout",
     "output_type": "stream",
     "text": [
      "RangeIndex(start=0, stop=244, step=1)\n"
     ]
    }
   ],
   "source": [
    "print(df.index)"
   ]
  },
  {
   "cell_type": "code",
   "execution_count": 4,
   "metadata": {
    "colab": {
     "base_uri": "https://localhost:8080/"
    },
    "executionInfo": {
     "elapsed": 92,
     "status": "ok",
     "timestamp": 1728627458245,
     "user": {
      "displayName": "PGDAI ACTS",
      "userId": "16113966839122920361"
     },
     "user_tz": -330
    },
    "id": "Oji7DISjxcEy",
    "outputId": "90419768-2c64-48c8-9288-023c4c4bff01"
   },
   "outputs": [
    {
     "name": "stdout",
     "output_type": "stream",
     "text": [
      "   total_bill   tip  gender smoker  day    time  size  price_per_person  \\\n",
      "0       16.99  1.01  Female     No  Sun  Dinner     2              8.49   \n",
      "1       10.34  1.66    Male     No  Sun  Dinner     3              3.45   \n",
      "2       21.01  3.50    Male     No  Sun  Dinner     3              7.00   \n",
      "3       23.68  3.31    Male     No  Sun  Dinner     2             11.84   \n",
      "4       24.59  3.61  Female     No  Sun  Dinner     4              6.15   \n",
      "\n",
      "           Payer Name     CC Number Payment ID  \n",
      "0  Christy Cunningham  3.560330e+15    Sun2959  \n",
      "1      Douglas Tucker  4.478070e+15    Sun4608  \n",
      "2      Travis Walters  6.011810e+15    Sun4458  \n",
      "3    Nathaniel Harris  4.676140e+15    Sun5260  \n",
      "4        Tonya Carter  4.832730e+15    Sun2251  \n"
     ]
    }
   ],
   "source": [
    "print(df.head())"
   ]
  },
  {
   "cell_type": "code",
   "execution_count": 5,
   "metadata": {
    "colab": {
     "base_uri": "https://localhost:8080/"
    },
    "executionInfo": {
     "elapsed": 88,
     "status": "ok",
     "timestamp": 1728627458245,
     "user": {
      "displayName": "PGDAI ACTS",
      "userId": "16113966839122920361"
     },
     "user_tz": -330
    },
    "id": "rFz96pKNxcHR",
    "outputId": "1ddc605c-b4a0-4102-bdf2-bf9054430f13"
   },
   "outputs": [
    {
     "name": "stdout",
     "output_type": "stream",
     "text": [
      "     total_bill   tip  gender smoker   day    time  size  price_per_person  \\\n",
      "239       29.03  5.92    Male     No   Sat  Dinner     3              9.68   \n",
      "240       27.18  2.00  Female    Yes   Sat  Dinner     2             13.59   \n",
      "241       22.67  2.00    Male    Yes   Sat  Dinner     2             11.34   \n",
      "242       17.82  1.75    Male     No   Sat  Dinner     2              8.91   \n",
      "243       18.78  3.00  Female     No  Thur  Dinner     2              9.39   \n",
      "\n",
      "          Payer Name     CC Number Payment ID  \n",
      "239    Michael Avila  5.296070e+15    Sat2657  \n",
      "240   Monica Sanders  3.506810e+15    Sat1766  \n",
      "241       Keith Wong  6.011890e+15    Sat3880  \n",
      "242     Dennis Dixon  4.375220e+12      Sat17  \n",
      "243  Michelle Hardin  3.511450e+15    Thur672  \n"
     ]
    }
   ],
   "source": [
    "print(df.tail())"
   ]
  },
  {
   "cell_type": "code",
   "execution_count": 6,
   "metadata": {
    "colab": {
     "base_uri": "https://localhost:8080/"
    },
    "executionInfo": {
     "elapsed": 83,
     "status": "ok",
     "timestamp": 1728627458245,
     "user": {
      "displayName": "PGDAI ACTS",
      "userId": "16113966839122920361"
     },
     "user_tz": -330
    },
    "id": "IB0_HLdlxcJw",
    "outputId": "fe0c983e-8173-4f3c-d48b-80232baa0b97"
   },
   "outputs": [
    {
     "name": "stdout",
     "output_type": "stream",
     "text": [
      "<class 'pandas.core.frame.DataFrame'>\n",
      "RangeIndex: 244 entries, 0 to 243\n",
      "Data columns (total 11 columns):\n",
      " #   Column            Non-Null Count  Dtype  \n",
      "---  ------            --------------  -----  \n",
      " 0   total_bill        244 non-null    float64\n",
      " 1   tip               244 non-null    float64\n",
      " 2   gender            244 non-null    object \n",
      " 3   smoker            244 non-null    object \n",
      " 4   day               244 non-null    object \n",
      " 5   time              244 non-null    object \n",
      " 6   size              244 non-null    int64  \n",
      " 7   price_per_person  244 non-null    float64\n",
      " 8   Payer Name        244 non-null    object \n",
      " 9   CC Number         244 non-null    float64\n",
      " 10  Payment ID        244 non-null    object \n",
      "dtypes: float64(4), int64(1), object(6)\n",
      "memory usage: 21.1+ KB\n",
      "None\n"
     ]
    }
   ],
   "source": [
    "print(df.info())"
   ]
  },
  {
   "cell_type": "code",
   "execution_count": 7,
   "metadata": {
    "colab": {
     "base_uri": "https://localhost:8080/"
    },
    "executionInfo": {
     "elapsed": 79,
     "status": "ok",
     "timestamp": 1728627458245,
     "user": {
      "displayName": "PGDAI ACTS",
      "userId": "16113966839122920361"
     },
     "user_tz": -330
    },
    "id": "1v2B2kklxcMB",
    "outputId": "997b725d-75c4-4a03-a03a-f385fdb52009"
   },
   "outputs": [
    {
     "name": "stdout",
     "output_type": "stream",
     "text": [
      "244\n"
     ]
    }
   ],
   "source": [
    "print(len(df))"
   ]
  },
  {
   "cell_type": "code",
   "execution_count": 8,
   "metadata": {
    "colab": {
     "base_uri": "https://localhost:8080/"
    },
    "executionInfo": {
     "elapsed": 74,
     "status": "ok",
     "timestamp": 1728627458245,
     "user": {
      "displayName": "PGDAI ACTS",
      "userId": "16113966839122920361"
     },
     "user_tz": -330
    },
    "id": "fVK--afTxcOQ",
    "outputId": "8b8338be-f582-48a5-e938-96ae10ee3c06"
   },
   "outputs": [
    {
     "name": "stdout",
     "output_type": "stream",
     "text": [
      "       total_bill         tip        size  price_per_person     CC Number\n",
      "count  244.000000  244.000000  244.000000        244.000000  2.440000e+02\n",
      "mean    19.785943    2.998279    2.569672          7.888197  2.563495e+15\n",
      "std      8.902412    1.383638    0.951100          2.914234  2.369340e+15\n",
      "min      3.070000    1.000000    1.000000          2.880000  6.040679e+10\n",
      "25%     13.347500    2.000000    2.000000          5.800000  3.040732e+13\n",
      "50%     17.795000    2.900000    2.000000          7.255000  3.525320e+15\n",
      "75%     24.127500    3.562500    3.000000          9.390000  4.553675e+15\n",
      "max     50.810000   10.000000    6.000000         20.270000  6.596450e+15\n"
     ]
    }
   ],
   "source": [
    "print(df.describe())"
   ]
  },
  {
   "cell_type": "code",
   "execution_count": 9,
   "metadata": {
    "colab": {
     "base_uri": "https://localhost:8080/"
    },
    "executionInfo": {
     "elapsed": 72,
     "status": "ok",
     "timestamp": 1728627458245,
     "user": {
      "displayName": "PGDAI ACTS",
      "userId": "16113966839122920361"
     },
     "user_tz": -330
    },
    "id": "gAw00cn-xcQo",
    "outputId": "7e693be9-962e-4907-cb57-d3ff304266b4"
   },
   "outputs": [
    {
     "name": "stdout",
     "output_type": "stream",
     "text": [
      "                  count          mean           std           min  \\\n",
      "total_bill        244.0  1.978594e+01  8.902412e+00  3.070000e+00   \n",
      "tip               244.0  2.998279e+00  1.383638e+00  1.000000e+00   \n",
      "size              244.0  2.569672e+00  9.510998e-01  1.000000e+00   \n",
      "price_per_person  244.0  7.888197e+00  2.914234e+00  2.880000e+00   \n",
      "CC Number         244.0  2.563495e+15  2.369340e+15  6.040679e+10   \n",
      "\n",
      "                           25%           50%           75%           max  \n",
      "total_bill        1.334750e+01  1.779500e+01  2.412750e+01  5.081000e+01  \n",
      "tip               2.000000e+00  2.900000e+00  3.562500e+00  1.000000e+01  \n",
      "size              2.000000e+00  2.000000e+00  3.000000e+00  6.000000e+00  \n",
      "price_per_person  5.800000e+00  7.255000e+00  9.390000e+00  2.027000e+01  \n",
      "CC Number         3.040732e+13  3.525320e+15  4.553675e+15  6.596450e+15  \n"
     ]
    }
   ],
   "source": [
    "print(df.describe().transpose())"
   ]
  },
  {
   "cell_type": "code",
   "execution_count": 10,
   "metadata": {},
   "outputs": [],
   "source": [
    "# print(df['first name'])\n",
    "# print(df.first name) This will show error. Space not allowed"
   ]
  },
  {
   "cell_type": "code",
   "execution_count": 11,
   "metadata": {
    "colab": {
     "base_uri": "https://localhost:8080/"
    },
    "executionInfo": {
     "elapsed": 69,
     "status": "ok",
     "timestamp": 1728627458245,
     "user": {
      "displayName": "PGDAI ACTS",
      "userId": "16113966839122920361"
     },
     "user_tz": -330
    },
    "id": "iFpd0C22xcTR",
    "outputId": "861a4fce-6762-42c4-b6be-e0f192ebfc78"
   },
   "outputs": [
    {
     "name": "stdout",
     "output_type": "stream",
     "text": [
      "0      16.99\n",
      "1      10.34\n",
      "2      21.01\n",
      "3      23.68\n",
      "4      24.59\n",
      "       ...  \n",
      "239    29.03\n",
      "240    27.18\n",
      "241    22.67\n",
      "242    17.82\n",
      "243    18.78\n",
      "Name: total_bill, Length: 244, dtype: float64\n",
      "0      16.99\n",
      "1      10.34\n",
      "2      21.01\n",
      "3      23.68\n",
      "4      24.59\n",
      "       ...  \n",
      "239    29.03\n",
      "240    27.18\n",
      "241    22.67\n",
      "242    17.82\n",
      "243    18.78\n",
      "Name: total_bill, Length: 244, dtype: float64\n",
      "<class 'pandas.core.series.Series'>\n"
     ]
    }
   ],
   "source": [
    "# Select a single column\n",
    "print(df['total_bill'])\n",
    "print(df.total_bill)\n",
    "print(type(df['total_bill']))"
   ]
  },
  {
   "cell_type": "code",
   "execution_count": 12,
   "metadata": {
    "colab": {
     "base_uri": "https://localhost:8080/"
    },
    "executionInfo": {
     "elapsed": 67,
     "status": "ok",
     "timestamp": 1728627458245,
     "user": {
      "displayName": "PGDAI ACTS",
      "userId": "16113966839122920361"
     },
     "user_tz": -330
    },
    "id": "UM8evJDdxcWA",
    "outputId": "515eeb95-ae66-42a2-97fd-91d9dab39b7d"
   },
   "outputs": [
    {
     "name": "stdout",
     "output_type": "stream",
     "text": [
      "     total_bill   tip\n",
      "0         16.99  1.01\n",
      "1         10.34  1.66\n",
      "2         21.01  3.50\n",
      "3         23.68  3.31\n",
      "4         24.59  3.61\n",
      "..          ...   ...\n",
      "239       29.03  5.92\n",
      "240       27.18  2.00\n",
      "241       22.67  2.00\n",
      "242       17.82  1.75\n",
      "243       18.78  3.00\n",
      "\n",
      "[244 rows x 2 columns]\n"
     ]
    }
   ],
   "source": [
    "#Use double brackets to select multiple columns. \n",
    "print(df[['total_bill','tip']])"
   ]
  },
  {
   "cell_type": "code",
   "execution_count": 13,
   "metadata": {
    "colab": {
     "base_uri": "https://localhost:8080/"
    },
    "executionInfo": {
     "elapsed": 64,
     "status": "ok",
     "timestamp": 1728627458245,
     "user": {
      "displayName": "PGDAI ACTS",
      "userId": "16113966839122920361"
     },
     "user_tz": -330
    },
    "id": "cVRO_bXd0En_",
    "outputId": "d9664ace-5d1c-4f4d-cf16-6994d8a235ac"
   },
   "outputs": [
    {
     "name": "stdout",
     "output_type": "stream",
     "text": [
      "   total_bill   tip  gender smoker  day    time  size  price_per_person  \\\n",
      "0       16.99  1.01  Female     No  Sun  Dinner     2              8.49   \n",
      "1       10.34  1.66    Male     No  Sun  Dinner     3              3.45   \n",
      "2       21.01  3.50    Male     No  Sun  Dinner     3              7.00   \n",
      "3       23.68  3.31    Male     No  Sun  Dinner     2             11.84   \n",
      "4       24.59  3.61  Female     No  Sun  Dinner     4              6.15   \n",
      "\n",
      "           Payer Name     CC Number Payment ID  tip_percentage  \n",
      "0  Christy Cunningham  3.560330e+15    Sun2959        5.944673  \n",
      "1      Douglas Tucker  4.478070e+15    Sun4608       16.054159  \n",
      "2      Travis Walters  6.011810e+15    Sun4458       16.658734  \n",
      "3    Nathaniel Harris  4.676140e+15    Sun5260       13.978041  \n",
      "4        Tonya Carter  4.832730e+15    Sun2251       14.680765  \n"
     ]
    }
   ],
   "source": [
    "# Create new columns\n",
    "df['tip_percentage'] = 100 * df['tip'] / df['total_bill']\n",
    "print(df.head())"
   ]
  },
  {
   "cell_type": "code",
   "execution_count": 14,
   "metadata": {
    "colab": {
     "base_uri": "https://localhost:8080/"
    },
    "executionInfo": {
     "elapsed": 63,
     "status": "ok",
     "timestamp": 1728627458246,
     "user": {
      "displayName": "PGDAI ACTS",
      "userId": "16113966839122920361"
     },
     "user_tz": -330
    },
    "id": "Ouohkb4y0U5J",
    "outputId": "6df02713-365d-42e5-f30e-c9d0182296b9"
   },
   "outputs": [
    {
     "name": "stdout",
     "output_type": "stream",
     "text": [
      "   total_bill   tip  gender smoker  day    time  size  price_per_person  \\\n",
      "0       16.99  1.01  Female     No  Sun  Dinner     2          8.495000   \n",
      "1       10.34  1.66    Male     No  Sun  Dinner     3          3.446667   \n",
      "2       21.01  3.50    Male     No  Sun  Dinner     3          7.003333   \n",
      "3       23.68  3.31    Male     No  Sun  Dinner     2         11.840000   \n",
      "4       24.59  3.61  Female     No  Sun  Dinner     4          6.147500   \n",
      "\n",
      "           Payer Name     CC Number Payment ID  tip_percentage  \n",
      "0  Christy Cunningham  3.560330e+15    Sun2959        5.944673  \n",
      "1      Douglas Tucker  4.478070e+15    Sun4608       16.054159  \n",
      "2      Travis Walters  6.011810e+15    Sun4458       16.658734  \n",
      "3    Nathaniel Harris  4.676140e+15    Sun5260       13.978041  \n",
      "4        Tonya Carter  4.832730e+15    Sun2251       14.680765  \n"
     ]
    }
   ],
   "source": [
    "df['price_per_person'] = df['total_bill'] / df['size']\n",
    "print(df.head())"
   ]
  },
  {
   "cell_type": "code",
   "execution_count": 15,
   "metadata": {
    "colab": {
     "base_uri": "https://localhost:8080/"
    },
    "executionInfo": {
     "elapsed": 61,
     "status": "ok",
     "timestamp": 1728627458246,
     "user": {
      "displayName": "PGDAI ACTS",
      "userId": "16113966839122920361"
     },
     "user_tz": -330
    },
    "id": "GzeRNYtV0ewy",
    "outputId": "d5b0b389-53c6-429d-b747-60cc5b689c42"
   },
   "outputs": [
    {
     "name": "stdout",
     "output_type": "stream",
     "text": [
      "0       8.49\n",
      "1       3.45\n",
      "2       7.00\n",
      "3      11.84\n",
      "4       6.15\n",
      "       ...  \n",
      "239     9.68\n",
      "240    13.59\n",
      "241    11.34\n",
      "242     8.91\n",
      "243     9.39\n",
      "Name: price_per_person, Length: 244, dtype: float64\n"
     ]
    }
   ],
   "source": [
    "import numpy as np\n",
    "#Adjust existing columns\n",
    "df['price_per_person'] = np.round(df['price_per_person'], 2)\n",
    "print(df['price_per_person'])"
   ]
  },
  {
   "cell_type": "code",
   "execution_count": 16,
   "metadata": {
    "colab": {
     "base_uri": "https://localhost:8080/"
    },
    "executionInfo": {
     "elapsed": 59,
     "status": "ok",
     "timestamp": 1728627458246,
     "user": {
      "displayName": "PGDAI ACTS",
      "userId": "16113966839122920361"
     },
     "user_tz": -330
    },
    "id": "GPs6A86G0uid",
    "outputId": "bce5a8b9-9453-4d9a-98c1-d1063bba7374"
   },
   "outputs": [
    {
     "name": "stdout",
     "output_type": "stream",
     "text": [
      "   total_bill   tip  gender smoker  day    time  size  price_per_person  \\\n",
      "0       16.99  1.01  Female     No  Sun  Dinner     2              8.49   \n",
      "1       10.34  1.66    Male     No  Sun  Dinner     3              3.45   \n",
      "2       21.01  3.50    Male     No  Sun  Dinner     3              7.00   \n",
      "3       23.68  3.31    Male     No  Sun  Dinner     2             11.84   \n",
      "4       24.59  3.61  Female     No  Sun  Dinner     4              6.15   \n",
      "\n",
      "           Payer Name     CC Number Payment ID  \n",
      "0  Christy Cunningham  3.560330e+15    Sun2959  \n",
      "1      Douglas Tucker  4.478070e+15    Sun4608  \n",
      "2      Travis Walters  6.011810e+15    Sun4458  \n",
      "3    Nathaniel Harris  4.676140e+15    Sun5260  \n",
      "4        Tonya Carter  4.832730e+15    Sun2251  \n"
     ]
    }
   ],
   "source": [
    "# Remove the column\n",
    "df = df.drop('tip_percentage', axis=1)\n",
    "print(df.head())"
   ]
  },
  {
   "cell_type": "code",
   "execution_count": 17,
   "metadata": {
    "colab": {
     "base_uri": "https://localhost:8080/"
    },
    "executionInfo": {
     "elapsed": 57,
     "status": "ok",
     "timestamp": 1728627458246,
     "user": {
      "displayName": "PGDAI ACTS",
      "userId": "16113966839122920361"
     },
     "user_tz": -330
    },
    "id": "dZthBcqq1OO2",
    "outputId": "1931624d-4ea2-4b7c-af3d-49f14126befd"
   },
   "outputs": [
    {
     "name": "stdout",
     "output_type": "stream",
     "text": [
      "RangeIndex(start=0, stop=244, step=1)\n"
     ]
    }
   ],
   "source": [
    "# index information\n",
    "print(df.index)"
   ]
  },
  {
   "cell_type": "code",
   "execution_count": 18,
   "metadata": {
    "colab": {
     "base_uri": "https://localhost:8080/"
    },
    "executionInfo": {
     "elapsed": 56,
     "status": "ok",
     "timestamp": 1728627458246,
     "user": {
      "displayName": "PGDAI ACTS",
      "userId": "16113966839122920361"
     },
     "user_tz": -330
    },
    "id": "lrbJATnn1OSW",
    "outputId": "ad566906-8967-4a40-bd43-8bc3dcdfec7a"
   },
   "outputs": [
    {
     "name": "stdout",
     "output_type": "stream",
     "text": [
      "            total_bill   tip  gender smoker   day    time  size  \\\n",
      "Payment ID                                                        \n",
      "Sun2959          16.99  1.01  Female     No   Sun  Dinner     2   \n",
      "Sun4608          10.34  1.66    Male     No   Sun  Dinner     3   \n",
      "Sun4458          21.01  3.50    Male     No   Sun  Dinner     3   \n",
      "Sun5260          23.68  3.31    Male     No   Sun  Dinner     2   \n",
      "Sun2251          24.59  3.61  Female     No   Sun  Dinner     4   \n",
      "...                ...   ...     ...    ...   ...     ...   ...   \n",
      "Sat2657          29.03  5.92    Male     No   Sat  Dinner     3   \n",
      "Sat1766          27.18  2.00  Female    Yes   Sat  Dinner     2   \n",
      "Sat3880          22.67  2.00    Male    Yes   Sat  Dinner     2   \n",
      "Sat17            17.82  1.75    Male     No   Sat  Dinner     2   \n",
      "Thur672          18.78  3.00  Female     No  Thur  Dinner     2   \n",
      "\n",
      "            price_per_person          Payer Name     CC Number  \n",
      "Payment ID                                                      \n",
      "Sun2959                 8.49  Christy Cunningham  3.560330e+15  \n",
      "Sun4608                 3.45      Douglas Tucker  4.478070e+15  \n",
      "Sun4458                 7.00      Travis Walters  6.011810e+15  \n",
      "Sun5260                11.84    Nathaniel Harris  4.676140e+15  \n",
      "Sun2251                 6.15        Tonya Carter  4.832730e+15  \n",
      "...                      ...                 ...           ...  \n",
      "Sat2657                 9.68       Michael Avila  5.296070e+15  \n",
      "Sat1766                13.59      Monica Sanders  3.506810e+15  \n",
      "Sat3880                11.34          Keith Wong  6.011890e+15  \n",
      "Sat17                   8.91        Dennis Dixon  4.375220e+12  \n",
      "Thur672                 9.39     Michelle Hardin  3.511450e+15  \n",
      "\n",
      "[244 rows x 10 columns]\n"
     ]
    }
   ],
   "source": [
    "df.set_index('Payment ID', inplace=True)\n",
    "print(df)"
   ]
  },
  {
   "cell_type": "code",
   "execution_count": 19,
   "metadata": {
    "colab": {
     "base_uri": "https://localhost:8080/"
    },
    "executionInfo": {
     "elapsed": 54,
     "status": "ok",
     "timestamp": 1728627458246,
     "user": {
      "displayName": "PGDAI ACTS",
      "userId": "16113966839122920361"
     },
     "user_tz": -330
    },
    "id": "afo_Fu_J1OVj",
    "outputId": "84b87ec1-ba17-4bed-b86e-1adba3d3e68b"
   },
   "outputs": [
    {
     "name": "stdout",
     "output_type": "stream",
     "text": [
      "    Payment ID  total_bill   tip  gender smoker   day    time  size  \\\n",
      "0      Sun2959       16.99  1.01  Female     No   Sun  Dinner     2   \n",
      "1      Sun4608       10.34  1.66    Male     No   Sun  Dinner     3   \n",
      "2      Sun4458       21.01  3.50    Male     No   Sun  Dinner     3   \n",
      "3      Sun5260       23.68  3.31    Male     No   Sun  Dinner     2   \n",
      "4      Sun2251       24.59  3.61  Female     No   Sun  Dinner     4   \n",
      "..         ...         ...   ...     ...    ...   ...     ...   ...   \n",
      "239    Sat2657       29.03  5.92    Male     No   Sat  Dinner     3   \n",
      "240    Sat1766       27.18  2.00  Female    Yes   Sat  Dinner     2   \n",
      "241    Sat3880       22.67  2.00    Male    Yes   Sat  Dinner     2   \n",
      "242      Sat17       17.82  1.75    Male     No   Sat  Dinner     2   \n",
      "243    Thur672       18.78  3.00  Female     No  Thur  Dinner     2   \n",
      "\n",
      "     price_per_person          Payer Name     CC Number  \n",
      "0                8.49  Christy Cunningham  3.560330e+15  \n",
      "1                3.45      Douglas Tucker  4.478070e+15  \n",
      "2                7.00      Travis Walters  6.011810e+15  \n",
      "3               11.84    Nathaniel Harris  4.676140e+15  \n",
      "4                6.15        Tonya Carter  4.832730e+15  \n",
      "..                ...                 ...           ...  \n",
      "239              9.68       Michael Avila  5.296070e+15  \n",
      "240             13.59      Monica Sanders  3.506810e+15  \n",
      "241             11.34          Keith Wong  6.011890e+15  \n",
      "242              8.91        Dennis Dixon  4.375220e+12  \n",
      "243              9.39     Michelle Hardin  3.511450e+15  \n",
      "\n",
      "[244 rows x 11 columns]\n"
     ]
    }
   ],
   "source": [
    "df.reset_index(inplace=True)\n",
    "print(df)"
   ]
  },
  {
   "cell_type": "code",
   "execution_count": 20,
   "metadata": {
    "colab": {
     "base_uri": "https://localhost:8080/"
    },
    "executionInfo": {
     "elapsed": 52,
     "status": "ok",
     "timestamp": 1728627458246,
     "user": {
      "displayName": "PGDAI ACTS",
      "userId": "16113966839122920361"
     },
     "user_tz": -330
    },
    "id": "sAWH1yUL9hlO",
    "outputId": "901aeb72-5440-4ccb-ece0-053c29ff5dc2"
   },
   "outputs": [
    {
     "name": "stdout",
     "output_type": "stream",
     "text": [
      "0      True\n",
      "1      True\n",
      "2      True\n",
      "3      True\n",
      "4      True\n",
      "       ... \n",
      "239    True\n",
      "240    True\n",
      "241    True\n",
      "242    True\n",
      "243    True\n",
      "Name: total_bill, Length: 244, dtype: bool\n",
      "    Payment ID  total_bill    tip  gender smoker   day    time  size  \\\n",
      "11     Sun6686       35.26   5.00  Female     No   Sun  Dinner     4   \n",
      "23      Sat239       39.42   7.58    Male     No   Sat  Dinner     4   \n",
      "39     Sat6373       31.27   5.00    Male     No   Sat  Dinner     3   \n",
      "44     Sun2274       30.40   5.60    Male     No   Sun  Dinner     4   \n",
      "47     Sun9677       32.40   6.00    Male     No   Sun  Dinner     4   \n",
      "52     Sun6165       34.81   5.20  Female     No   Sun  Dinner     4   \n",
      "56     Sat8903       38.01   3.00    Male    Yes   Sat  Dinner     4   \n",
      "59     Sat8139       48.27   6.73    Male     No   Sat  Dinner     4   \n",
      "83    Thur8801       32.68   5.00    Male    Yes  Thur   Lunch     2   \n",
      "85    Thur7972       34.83   5.17  Female     No  Thur   Lunch     4   \n",
      "95     Fri9628       40.17   4.73    Male    Yes   Fri  Dinner     4   \n",
      "102    Sat6240       44.30   2.50  Female    Yes   Sat  Dinner     3   \n",
      "112     Sun591       38.07   4.00    Male     No   Sun  Dinner     3   \n",
      "141   Thur1025       34.30   6.70    Male     No  Thur   Lunch     6   \n",
      "142   Thur3621       41.19   5.00    Male     No  Thur   Lunch     5   \n",
      "156    Sun7518       48.17   5.00    Male     No   Sun  Dinner     6   \n",
      "167    Sun3719       31.71   4.50    Male     No   Sun  Dinner     4   \n",
      "170    Sat1954       50.81  10.00    Male    Yes   Sat  Dinner     3   \n",
      "173    Sun9335       31.85   3.18    Male    Yes   Sun  Dinner     2   \n",
      "175    Sun5109       32.90   3.11    Male    Yes   Sun  Dinner     2   \n",
      "179    Sun9851       34.63   3.55    Male    Yes   Sun  Dinner     2   \n",
      "180    Sun7544       34.65   3.68    Male    Yes   Sun  Dinner     4   \n",
      "182    Sun2337       45.35   3.50    Male    Yes   Sun  Dinner     3   \n",
      "184    Sun5140       40.55   3.00    Male    Yes   Sun  Dinner     2   \n",
      "187    Sun9987       30.46   2.00    Male    Yes   Sun  Dinner     5   \n",
      "197   Thur9313       43.11   5.00  Female    Yes  Thur   Lunch     4   \n",
      "207    Sat4505       38.73   3.00    Male    Yes   Sat  Dinner     4   \n",
      "210    Sat8361       30.06   2.00    Male    Yes   Sat  Dinner     3   \n",
      "212    Sat4590       48.33   9.00    Male     No   Sat  Dinner     4   \n",
      "219    Sat8863       30.14   3.09  Female    Yes   Sat  Dinner     4   \n",
      "237    Sat2929       32.83   1.17    Male    Yes   Sat  Dinner     2   \n",
      "238    Sat9777       35.83   4.67  Female     No   Sat  Dinner     3   \n",
      "\n",
      "     price_per_person             Payer Name     CC Number  \n",
      "11               8.82           Diane Macias  4.577820e+15  \n",
      "23               9.86         Lance Peterson  3.542580e+15  \n",
      "39              10.42      Mr. Brandon Berry  6.011530e+15  \n",
      "44               7.60            Todd Cooper  5.038470e+11  \n",
      "47               8.10           James Barnes  3.552000e+15  \n",
      "52               8.70           Emily Daniel  4.291280e+15  \n",
      "56               9.50  James Christensen DDS  3.497940e+14  \n",
      "59              12.07            Brian Ortiz  6.596450e+15  \n",
      "83              16.34          Daniel Murphy  5.356180e+15  \n",
      "85               8.71            Shawna Cook  6.011790e+15  \n",
      "95              10.04          Aaron Bentley  1.800270e+14  \n",
      "102             14.77          Heather Cohen  3.797710e+14  \n",
      "112             12.69             Jeff Lopez  3.572870e+15  \n",
      "141              5.72         Steven Carlson  3.526520e+15  \n",
      "142              8.24           Eric Andrews  4.356530e+15  \n",
      "156              8.03          Ryan Gonzales  3.523150e+15  \n",
      "167              7.93         Michael Lawson  3.566290e+15  \n",
      "170             16.94          Gregory Clark  5.473850e+15  \n",
      "173             15.92            Scott Perez  3.577120e+15  \n",
      "175             16.45        Nathan Reynolds  3.703070e+14  \n",
      "179             17.32           Brian Bailey  3.466560e+14  \n",
      "180              8.66       James Hebert DDS  6.761690e+11  \n",
      "182             15.12           Jose Parsons  4.112210e+15  \n",
      "184             20.27            Stephen Cox  3.547800e+15  \n",
      "187              6.09          David Barrett  4.792880e+15  \n",
      "197             10.78            Brooke Soto  5.544900e+15  \n",
      "207              9.68          Ricky Ramirez  3.478180e+14  \n",
      "210             10.02          Shawn Mendoza  3.018400e+13  \n",
      "212             12.08        Alex Williamson  6.762190e+11  \n",
      "219              7.54           Shelby House  5.020970e+11  \n",
      "237             16.42           Thomas Brown  4.284720e+15  \n",
      "238             11.94         Kimberly Crane  6.761840e+11  \n",
      "    Payment ID  total_bill    tip  gender smoker   day    time  size  \\\n",
      "11     Sun6686       35.26   5.00  Female     No   Sun  Dinner     4   \n",
      "23      Sat239       39.42   7.58    Male     No   Sat  Dinner     4   \n",
      "39     Sat6373       31.27   5.00    Male     No   Sat  Dinner     3   \n",
      "44     Sun2274       30.40   5.60    Male     No   Sun  Dinner     4   \n",
      "47     Sun9677       32.40   6.00    Male     No   Sun  Dinner     4   \n",
      "52     Sun6165       34.81   5.20  Female     No   Sun  Dinner     4   \n",
      "56     Sat8903       38.01   3.00    Male    Yes   Sat  Dinner     4   \n",
      "59     Sat8139       48.27   6.73    Male     No   Sat  Dinner     4   \n",
      "83    Thur8801       32.68   5.00    Male    Yes  Thur   Lunch     2   \n",
      "85    Thur7972       34.83   5.17  Female     No  Thur   Lunch     4   \n",
      "95     Fri9628       40.17   4.73    Male    Yes   Fri  Dinner     4   \n",
      "102    Sat6240       44.30   2.50  Female    Yes   Sat  Dinner     3   \n",
      "112     Sun591       38.07   4.00    Male     No   Sun  Dinner     3   \n",
      "141   Thur1025       34.30   6.70    Male     No  Thur   Lunch     6   \n",
      "142   Thur3621       41.19   5.00    Male     No  Thur   Lunch     5   \n",
      "156    Sun7518       48.17   5.00    Male     No   Sun  Dinner     6   \n",
      "167    Sun3719       31.71   4.50    Male     No   Sun  Dinner     4   \n",
      "170    Sat1954       50.81  10.00    Male    Yes   Sat  Dinner     3   \n",
      "173    Sun9335       31.85   3.18    Male    Yes   Sun  Dinner     2   \n",
      "175    Sun5109       32.90   3.11    Male    Yes   Sun  Dinner     2   \n",
      "179    Sun9851       34.63   3.55    Male    Yes   Sun  Dinner     2   \n",
      "180    Sun7544       34.65   3.68    Male    Yes   Sun  Dinner     4   \n",
      "182    Sun2337       45.35   3.50    Male    Yes   Sun  Dinner     3   \n",
      "184    Sun5140       40.55   3.00    Male    Yes   Sun  Dinner     2   \n",
      "187    Sun9987       30.46   2.00    Male    Yes   Sun  Dinner     5   \n",
      "197   Thur9313       43.11   5.00  Female    Yes  Thur   Lunch     4   \n",
      "207    Sat4505       38.73   3.00    Male    Yes   Sat  Dinner     4   \n",
      "210    Sat8361       30.06   2.00    Male    Yes   Sat  Dinner     3   \n",
      "212    Sat4590       48.33   9.00    Male     No   Sat  Dinner     4   \n",
      "219    Sat8863       30.14   3.09  Female    Yes   Sat  Dinner     4   \n",
      "237    Sat2929       32.83   1.17    Male    Yes   Sat  Dinner     2   \n",
      "238    Sat9777       35.83   4.67  Female     No   Sat  Dinner     3   \n",
      "\n",
      "     price_per_person             Payer Name     CC Number  \n",
      "11               8.82           Diane Macias  4.577820e+15  \n",
      "23               9.86         Lance Peterson  3.542580e+15  \n",
      "39              10.42      Mr. Brandon Berry  6.011530e+15  \n",
      "44               7.60            Todd Cooper  5.038470e+11  \n",
      "47               8.10           James Barnes  3.552000e+15  \n",
      "52               8.70           Emily Daniel  4.291280e+15  \n",
      "56               9.50  James Christensen DDS  3.497940e+14  \n",
      "59              12.07            Brian Ortiz  6.596450e+15  \n",
      "83              16.34          Daniel Murphy  5.356180e+15  \n",
      "85               8.71            Shawna Cook  6.011790e+15  \n",
      "95              10.04          Aaron Bentley  1.800270e+14  \n",
      "102             14.77          Heather Cohen  3.797710e+14  \n",
      "112             12.69             Jeff Lopez  3.572870e+15  \n",
      "141              5.72         Steven Carlson  3.526520e+15  \n",
      "142              8.24           Eric Andrews  4.356530e+15  \n",
      "156              8.03          Ryan Gonzales  3.523150e+15  \n",
      "167              7.93         Michael Lawson  3.566290e+15  \n",
      "170             16.94          Gregory Clark  5.473850e+15  \n",
      "173             15.92            Scott Perez  3.577120e+15  \n",
      "175             16.45        Nathan Reynolds  3.703070e+14  \n",
      "179             17.32           Brian Bailey  3.466560e+14  \n",
      "180              8.66       James Hebert DDS  6.761690e+11  \n",
      "182             15.12           Jose Parsons  4.112210e+15  \n",
      "184             20.27            Stephen Cox  3.547800e+15  \n",
      "187              6.09          David Barrett  4.792880e+15  \n",
      "197             10.78            Brooke Soto  5.544900e+15  \n",
      "207              9.68          Ricky Ramirez  3.478180e+14  \n",
      "210             10.02          Shawn Mendoza  3.018400e+13  \n",
      "212             12.08        Alex Williamson  6.762190e+11  \n",
      "219              7.54           Shelby House  5.020970e+11  \n",
      "237             16.42           Thomas Brown  4.284720e+15  \n",
      "238             11.94         Kimberly Crane  6.761840e+11  \n"
     ]
    }
   ],
   "source": [
    "# Conditions\n",
    "print(df['total_bill'] < 30)\n",
    "bool_series = df['total_bill'] > 30\n",
    "print(df[bool_series])\n",
    "\n",
    "print(df[df['total_bill'] > 30])"
   ]
  },
  {
   "cell_type": "code",
   "execution_count": 21,
   "metadata": {
    "colab": {
     "base_uri": "https://localhost:8080/"
    },
    "executionInfo": {
     "elapsed": 50,
     "status": "ok",
     "timestamp": 1728627458246,
     "user": {
      "displayName": "PGDAI ACTS",
      "userId": "16113966839122920361"
     },
     "user_tz": -330
    },
    "id": "GSMzEk-E9hj9",
    "outputId": "fa6007e8-f740-406a-f568-b04d5e794cf0"
   },
   "outputs": [
    {
     "name": "stdout",
     "output_type": "stream",
     "text": [
      "0      False\n",
      "1      False\n",
      "2      False\n",
      "3      False\n",
      "4      False\n",
      "       ...  \n",
      "239    False\n",
      "240    False\n",
      "241    False\n",
      "242    False\n",
      "243    False\n",
      "Name: total_bill, Length: 244, dtype: bool\n",
      "    Payment ID  total_bill    tip  gender smoker   day    time  size  \\\n",
      "11     Sun6686       35.26   5.00  Female     No   Sun  Dinner     4   \n",
      "23      Sat239       39.42   7.58    Male     No   Sat  Dinner     4   \n",
      "39     Sat6373       31.27   5.00    Male     No   Sat  Dinner     3   \n",
      "44     Sun2274       30.40   5.60    Male     No   Sun  Dinner     4   \n",
      "47     Sun9677       32.40   6.00    Male     No   Sun  Dinner     4   \n",
      "52     Sun6165       34.81   5.20  Female     No   Sun  Dinner     4   \n",
      "56     Sat8903       38.01   3.00    Male    Yes   Sat  Dinner     4   \n",
      "59     Sat8139       48.27   6.73    Male     No   Sat  Dinner     4   \n",
      "83    Thur8801       32.68   5.00    Male    Yes  Thur   Lunch     2   \n",
      "85    Thur7972       34.83   5.17  Female     No  Thur   Lunch     4   \n",
      "95     Fri9628       40.17   4.73    Male    Yes   Fri  Dinner     4   \n",
      "102    Sat6240       44.30   2.50  Female    Yes   Sat  Dinner     3   \n",
      "112     Sun591       38.07   4.00    Male     No   Sun  Dinner     3   \n",
      "141   Thur1025       34.30   6.70    Male     No  Thur   Lunch     6   \n",
      "142   Thur3621       41.19   5.00    Male     No  Thur   Lunch     5   \n",
      "156    Sun7518       48.17   5.00    Male     No   Sun  Dinner     6   \n",
      "167    Sun3719       31.71   4.50    Male     No   Sun  Dinner     4   \n",
      "170    Sat1954       50.81  10.00    Male    Yes   Sat  Dinner     3   \n",
      "173    Sun9335       31.85   3.18    Male    Yes   Sun  Dinner     2   \n",
      "175    Sun5109       32.90   3.11    Male    Yes   Sun  Dinner     2   \n",
      "179    Sun9851       34.63   3.55    Male    Yes   Sun  Dinner     2   \n",
      "180    Sun7544       34.65   3.68    Male    Yes   Sun  Dinner     4   \n",
      "182    Sun2337       45.35   3.50    Male    Yes   Sun  Dinner     3   \n",
      "184    Sun5140       40.55   3.00    Male    Yes   Sun  Dinner     2   \n",
      "187    Sun9987       30.46   2.00    Male    Yes   Sun  Dinner     5   \n",
      "197   Thur9313       43.11   5.00  Female    Yes  Thur   Lunch     4   \n",
      "207    Sat4505       38.73   3.00    Male    Yes   Sat  Dinner     4   \n",
      "210    Sat8361       30.06   2.00    Male    Yes   Sat  Dinner     3   \n",
      "212    Sat4590       48.33   9.00    Male     No   Sat  Dinner     4   \n",
      "219    Sat8863       30.14   3.09  Female    Yes   Sat  Dinner     4   \n",
      "237    Sat2929       32.83   1.17    Male    Yes   Sat  Dinner     2   \n",
      "238    Sat9777       35.83   4.67  Female     No   Sat  Dinner     3   \n",
      "\n",
      "     price_per_person             Payer Name     CC Number  \n",
      "11               8.82           Diane Macias  4.577820e+15  \n",
      "23               9.86         Lance Peterson  3.542580e+15  \n",
      "39              10.42      Mr. Brandon Berry  6.011530e+15  \n",
      "44               7.60            Todd Cooper  5.038470e+11  \n",
      "47               8.10           James Barnes  3.552000e+15  \n",
      "52               8.70           Emily Daniel  4.291280e+15  \n",
      "56               9.50  James Christensen DDS  3.497940e+14  \n",
      "59              12.07            Brian Ortiz  6.596450e+15  \n",
      "83              16.34          Daniel Murphy  5.356180e+15  \n",
      "85               8.71            Shawna Cook  6.011790e+15  \n",
      "95              10.04          Aaron Bentley  1.800270e+14  \n",
      "102             14.77          Heather Cohen  3.797710e+14  \n",
      "112             12.69             Jeff Lopez  3.572870e+15  \n",
      "141              5.72         Steven Carlson  3.526520e+15  \n",
      "142              8.24           Eric Andrews  4.356530e+15  \n",
      "156              8.03          Ryan Gonzales  3.523150e+15  \n",
      "167              7.93         Michael Lawson  3.566290e+15  \n",
      "170             16.94          Gregory Clark  5.473850e+15  \n",
      "173             15.92            Scott Perez  3.577120e+15  \n",
      "175             16.45        Nathan Reynolds  3.703070e+14  \n",
      "179             17.32           Brian Bailey  3.466560e+14  \n",
      "180              8.66       James Hebert DDS  6.761690e+11  \n",
      "182             15.12           Jose Parsons  4.112210e+15  \n",
      "184             20.27            Stephen Cox  3.547800e+15  \n",
      "187              6.09          David Barrett  4.792880e+15  \n",
      "197             10.78            Brooke Soto  5.544900e+15  \n",
      "207              9.68          Ricky Ramirez  3.478180e+14  \n",
      "210             10.02          Shawn Mendoza  3.018400e+13  \n",
      "212             12.08        Alex Williamson  6.762190e+11  \n",
      "219              7.54           Shelby House  5.020970e+11  \n",
      "237             16.42           Thomas Brown  4.284720e+15  \n",
      "238             11.94         Kimberly Crane  6.761840e+11  \n",
      "    Payment ID  total_bill   tip gender smoker  day    time  size  \\\n",
      "1      Sun4608       10.34  1.66   Male     No  Sun  Dinner     3   \n",
      "2      Sun4458       21.01  3.50   Male     No  Sun  Dinner     3   \n",
      "3      Sun5260       23.68  3.31   Male     No  Sun  Dinner     2   \n",
      "5      Sun9679       25.29  4.71   Male     No  Sun  Dinner     4   \n",
      "6      Sun5985        8.77  2.00   Male     No  Sun  Dinner     2   \n",
      "..         ...         ...   ...    ...    ...  ...     ...   ...   \n",
      "236    Sat5032       12.60  1.00   Male    Yes  Sat  Dinner     2   \n",
      "237    Sat2929       32.83  1.17   Male    Yes  Sat  Dinner     2   \n",
      "239    Sat2657       29.03  5.92   Male     No  Sat  Dinner     3   \n",
      "241    Sat3880       22.67  2.00   Male    Yes  Sat  Dinner     2   \n",
      "242      Sat17       17.82  1.75   Male     No  Sat  Dinner     2   \n",
      "\n",
      "     price_per_person          Payer Name     CC Number  \n",
      "1                3.45      Douglas Tucker  4.478070e+15  \n",
      "2                7.00      Travis Walters  6.011810e+15  \n",
      "3               11.84    Nathaniel Harris  4.676140e+15  \n",
      "5                6.32          Erik Smith  2.131400e+14  \n",
      "6                4.38  Kristopher Johnson  2.223730e+15  \n",
      "..                ...                 ...           ...  \n",
      "236              6.30       Matthew Myers  3.543680e+15  \n",
      "237             16.42        Thomas Brown  4.284720e+15  \n",
      "239              9.68       Michael Avila  5.296070e+15  \n",
      "241             11.34          Keith Wong  6.011890e+15  \n",
      "242              8.91        Dennis Dixon  4.375220e+12  \n",
      "\n",
      "[157 rows x 11 columns]\n"
     ]
    }
   ],
   "source": [
    "# Another syntax\n",
    "print(df['total_bill'] > 30)\n",
    "print(df[df['total_bill'] > 30])\n",
    "print(df[df['gender'] == 'Male'])\n"
   ]
  },
  {
   "cell_type": "code",
   "execution_count": 22,
   "metadata": {
    "colab": {
     "base_uri": "https://localhost:8080/"
    },
    "executionInfo": {
     "elapsed": 45,
     "status": "ok",
     "timestamp": 1728627458246,
     "user": {
      "displayName": "PGDAI ACTS",
      "userId": "16113966839122920361"
     },
     "user_tz": -330
    },
    "id": "suP-GLNI9hhR",
    "outputId": "51b74f18-0031-41e6-820d-4d071ad3d569"
   },
   "outputs": [
    {
     "name": "stdout",
     "output_type": "stream",
     "text": [
      "25\n",
      "    Payment ID  total_bill    tip gender smoker   day    time  size  \\\n",
      "23      Sat239       39.42   7.58   Male     No   Sat  Dinner     4   \n",
      "39     Sat6373       31.27   5.00   Male     No   Sat  Dinner     3   \n",
      "44     Sun2274       30.40   5.60   Male     No   Sun  Dinner     4   \n",
      "47     Sun9677       32.40   6.00   Male     No   Sun  Dinner     4   \n",
      "56     Sat8903       38.01   3.00   Male    Yes   Sat  Dinner     4   \n",
      "59     Sat8139       48.27   6.73   Male     No   Sat  Dinner     4   \n",
      "83    Thur8801       32.68   5.00   Male    Yes  Thur   Lunch     2   \n",
      "95     Fri9628       40.17   4.73   Male    Yes   Fri  Dinner     4   \n",
      "112     Sun591       38.07   4.00   Male     No   Sun  Dinner     3   \n",
      "141   Thur1025       34.30   6.70   Male     No  Thur   Lunch     6   \n",
      "142   Thur3621       41.19   5.00   Male     No  Thur   Lunch     5   \n",
      "156    Sun7518       48.17   5.00   Male     No   Sun  Dinner     6   \n",
      "167    Sun3719       31.71   4.50   Male     No   Sun  Dinner     4   \n",
      "170    Sat1954       50.81  10.00   Male    Yes   Sat  Dinner     3   \n",
      "173    Sun9335       31.85   3.18   Male    Yes   Sun  Dinner     2   \n",
      "175    Sun5109       32.90   3.11   Male    Yes   Sun  Dinner     2   \n",
      "179    Sun9851       34.63   3.55   Male    Yes   Sun  Dinner     2   \n",
      "180    Sun7544       34.65   3.68   Male    Yes   Sun  Dinner     4   \n",
      "182    Sun2337       45.35   3.50   Male    Yes   Sun  Dinner     3   \n",
      "184    Sun5140       40.55   3.00   Male    Yes   Sun  Dinner     2   \n",
      "187    Sun9987       30.46   2.00   Male    Yes   Sun  Dinner     5   \n",
      "207    Sat4505       38.73   3.00   Male    Yes   Sat  Dinner     4   \n",
      "210    Sat8361       30.06   2.00   Male    Yes   Sat  Dinner     3   \n",
      "212    Sat4590       48.33   9.00   Male     No   Sat  Dinner     4   \n",
      "237    Sat2929       32.83   1.17   Male    Yes   Sat  Dinner     2   \n",
      "\n",
      "     price_per_person             Payer Name     CC Number  \n",
      "23               9.86         Lance Peterson  3.542580e+15  \n",
      "39              10.42      Mr. Brandon Berry  6.011530e+15  \n",
      "44               7.60            Todd Cooper  5.038470e+11  \n",
      "47               8.10           James Barnes  3.552000e+15  \n",
      "56               9.50  James Christensen DDS  3.497940e+14  \n",
      "59              12.07            Brian Ortiz  6.596450e+15  \n",
      "83              16.34          Daniel Murphy  5.356180e+15  \n",
      "95              10.04          Aaron Bentley  1.800270e+14  \n",
      "112             12.69             Jeff Lopez  3.572870e+15  \n",
      "141              5.72         Steven Carlson  3.526520e+15  \n",
      "142              8.24           Eric Andrews  4.356530e+15  \n",
      "156              8.03          Ryan Gonzales  3.523150e+15  \n",
      "167              7.93         Michael Lawson  3.566290e+15  \n",
      "170             16.94          Gregory Clark  5.473850e+15  \n",
      "173             15.92            Scott Perez  3.577120e+15  \n",
      "175             16.45        Nathan Reynolds  3.703070e+14  \n",
      "179             17.32           Brian Bailey  3.466560e+14  \n",
      "180              8.66       James Hebert DDS  6.761690e+11  \n",
      "182             15.12           Jose Parsons  4.112210e+15  \n",
      "184             20.27            Stephen Cox  3.547800e+15  \n",
      "187              6.09          David Barrett  4.792880e+15  \n",
      "207              9.68          Ricky Ramirez  3.478180e+14  \n",
      "210             10.02          Shawn Mendoza  3.018400e+13  \n",
      "212             12.08        Alex Williamson  6.762190e+11  \n",
      "237             16.42           Thomas Brown  4.284720e+15  \n"
     ]
    }
   ],
   "source": [
    "# Multiple conditions\n",
    "df_new = df[(df['total_bill'] > 30) & (df['gender'] == 'Male')]\n",
    "print(len(df_new))\n",
    "print(df_new)"
   ]
  },
  {
   "cell_type": "code",
   "execution_count": 23,
   "metadata": {
    "colab": {
     "base_uri": "https://localhost:8080/"
    },
    "executionInfo": {
     "elapsed": 41,
     "status": "ok",
     "timestamp": 1728627458246,
     "user": {
      "displayName": "PGDAI ACTS",
      "userId": "16113966839122920361"
     },
     "user_tz": -330
    },
    "id": "yliduz9X9hev",
    "outputId": "b9cac1ad-b7a1-46ed-82cc-5bc92e44e3ca"
   },
   "outputs": [
    {
     "name": "stdout",
     "output_type": "stream",
     "text": [
      "7\n",
      "  Payment ID  total_bill   tip  gender smoker  day    time  size  \\\n",
      "0    Sun2959       16.99  1.01  Female     No  Sun  Dinner     2   \n",
      "1    Sun4608       10.34  1.66    Male     No  Sun  Dinner     3   \n",
      "2    Sun4458       21.01  3.50    Male     No  Sun  Dinner     3   \n",
      "\n",
      "   price_per_person          Payer Name     CC Number  \n",
      "0              8.49  Christy Cunningham  3.560330e+15  \n",
      "1              3.45      Douglas Tucker  4.478070e+15  \n",
      "2              7.00      Travis Walters  6.011810e+15  \n"
     ]
    }
   ],
   "source": [
    "# Multiple conditions\n",
    "df_new = df[(df['total_bill'] > 30) & ~(df['gender'] == 'Male')]\n",
    "print(len(df_new))\n",
    "print(df.head(3))"
   ]
  },
  {
   "cell_type": "code",
   "execution_count": 24,
   "metadata": {
    "colab": {
     "base_uri": "https://localhost:8080/"
    },
    "executionInfo": {
     "elapsed": 39,
     "status": "ok",
     "timestamp": 1728627458246,
     "user": {
      "displayName": "PGDAI ACTS",
      "userId": "16113966839122920361"
     },
     "user_tz": -330
    },
    "id": "Nc_1cTPW9hcO",
    "outputId": "240fb953-b89b-4df0-823b-27fe8d78bb7f"
   },
   "outputs": [
    {
     "name": "stdout",
     "output_type": "stream",
     "text": [
      "7\n",
      "  Payment ID  total_bill   tip  gender smoker  day    time  size  \\\n",
      "0    Sun2959       16.99  1.01  Female     No  Sun  Dinner     2   \n",
      "1    Sun4608       10.34  1.66    Male     No  Sun  Dinner     3   \n",
      "2    Sun4458       21.01  3.50    Male     No  Sun  Dinner     3   \n",
      "\n",
      "   price_per_person          Payer Name     CC Number  \n",
      "0              8.49  Christy Cunningham  3.560330e+15  \n",
      "1              3.45      Douglas Tucker  4.478070e+15  \n",
      "2              7.00      Travis Walters  6.011810e+15  \n"
     ]
    }
   ],
   "source": [
    "# Multiple conditions\n",
    "df_new = df[(df['total_bill'] > 30) & (df['gender'] != 'Male')]\n",
    "print(len(df_new))\n",
    "print(df.head(3))"
   ]
  },
  {
   "cell_type": "code",
   "execution_count": 25,
   "metadata": {
    "colab": {
     "base_uri": "https://localhost:8080/"
    },
    "executionInfo": {
     "elapsed": 37,
     "status": "ok",
     "timestamp": 1728627458246,
     "user": {
      "displayName": "PGDAI ACTS",
      "userId": "16113966839122920361"
     },
     "user_tz": -330
    },
    "id": "mbiTZXZu9hay",
    "outputId": "06f9b291-f1e0-4edf-f958-12f3cf62f7af"
   },
   "outputs": [
    {
     "name": "stdout",
     "output_type": "stream",
     "text": [
      "    Payment ID  total_bill    tip gender smoker   day    time  size  \\\n",
      "23      Sat239       39.42   7.58   Male     No   Sat  Dinner     4   \n",
      "39     Sat6373       31.27   5.00   Male     No   Sat  Dinner     3   \n",
      "44     Sun2274       30.40   5.60   Male     No   Sun  Dinner     4   \n",
      "47     Sun9677       32.40   6.00   Male     No   Sun  Dinner     4   \n",
      "56     Sat8903       38.01   3.00   Male    Yes   Sat  Dinner     4   \n",
      "59     Sat8139       48.27   6.73   Male     No   Sat  Dinner     4   \n",
      "83    Thur8801       32.68   5.00   Male    Yes  Thur   Lunch     2   \n",
      "95     Fri9628       40.17   4.73   Male    Yes   Fri  Dinner     4   \n",
      "112     Sun591       38.07   4.00   Male     No   Sun  Dinner     3   \n",
      "141   Thur1025       34.30   6.70   Male     No  Thur   Lunch     6   \n",
      "142   Thur3621       41.19   5.00   Male     No  Thur   Lunch     5   \n",
      "156    Sun7518       48.17   5.00   Male     No   Sun  Dinner     6   \n",
      "167    Sun3719       31.71   4.50   Male     No   Sun  Dinner     4   \n",
      "170    Sat1954       50.81  10.00   Male    Yes   Sat  Dinner     3   \n",
      "173    Sun9335       31.85   3.18   Male    Yes   Sun  Dinner     2   \n",
      "175    Sun5109       32.90   3.11   Male    Yes   Sun  Dinner     2   \n",
      "179    Sun9851       34.63   3.55   Male    Yes   Sun  Dinner     2   \n",
      "180    Sun7544       34.65   3.68   Male    Yes   Sun  Dinner     4   \n",
      "182    Sun2337       45.35   3.50   Male    Yes   Sun  Dinner     3   \n",
      "184    Sun5140       40.55   3.00   Male    Yes   Sun  Dinner     2   \n",
      "187    Sun9987       30.46   2.00   Male    Yes   Sun  Dinner     5   \n",
      "207    Sat4505       38.73   3.00   Male    Yes   Sat  Dinner     4   \n",
      "210    Sat8361       30.06   2.00   Male    Yes   Sat  Dinner     3   \n",
      "212    Sat4590       48.33   9.00   Male     No   Sat  Dinner     4   \n",
      "237    Sat2929       32.83   1.17   Male    Yes   Sat  Dinner     2   \n",
      "\n",
      "     price_per_person             Payer Name     CC Number  \n",
      "23               9.86         Lance Peterson  3.542580e+15  \n",
      "39              10.42      Mr. Brandon Berry  6.011530e+15  \n",
      "44               7.60            Todd Cooper  5.038470e+11  \n",
      "47               8.10           James Barnes  3.552000e+15  \n",
      "56               9.50  James Christensen DDS  3.497940e+14  \n",
      "59              12.07            Brian Ortiz  6.596450e+15  \n",
      "83              16.34          Daniel Murphy  5.356180e+15  \n",
      "95              10.04          Aaron Bentley  1.800270e+14  \n",
      "112             12.69             Jeff Lopez  3.572870e+15  \n",
      "141              5.72         Steven Carlson  3.526520e+15  \n",
      "142              8.24           Eric Andrews  4.356530e+15  \n",
      "156              8.03          Ryan Gonzales  3.523150e+15  \n",
      "167              7.93         Michael Lawson  3.566290e+15  \n",
      "170             16.94          Gregory Clark  5.473850e+15  \n",
      "173             15.92            Scott Perez  3.577120e+15  \n",
      "175             16.45        Nathan Reynolds  3.703070e+14  \n",
      "179             17.32           Brian Bailey  3.466560e+14  \n",
      "180              8.66       James Hebert DDS  6.761690e+11  \n",
      "182             15.12           Jose Parsons  4.112210e+15  \n",
      "184             20.27            Stephen Cox  3.547800e+15  \n",
      "187              6.09          David Barrett  4.792880e+15  \n",
      "207              9.68          Ricky Ramirez  3.478180e+14  \n",
      "210             10.02          Shawn Mendoza  3.018400e+13  \n",
      "212             12.08        Alex Williamson  6.762190e+11  \n",
      "237             16.42           Thomas Brown  4.284720e+15  \n"
     ]
    }
   ],
   "source": [
    "#Multiple conditions\n",
    "\n",
    "df_new = df[(df['total_bill'] > 30) & (df['gender']=='Male')]\n",
    "print(df_new)\n"
   ]
  },
  {
   "cell_type": "code",
   "execution_count": 26,
   "metadata": {
    "colab": {
     "base_uri": "https://localhost:8080/"
    },
    "executionInfo": {
     "elapsed": 35,
     "status": "ok",
     "timestamp": 1728627458246,
     "user": {
      "displayName": "PGDAI ACTS",
      "userId": "16113966839122920361"
     },
     "user_tz": -330
    },
    "id": "1r_wHR2A9hY6",
    "outputId": "faf0a7c0-dc3b-4980-d3f1-dccd18a6dd3d"
   },
   "outputs": [
    {
     "name": "stdout",
     "output_type": "stream",
     "text": [
      "    Payment ID  total_bill   tip  gender smoker   day    time  size  \\\n",
      "11     Sun6686       35.26  5.00  Female     No   Sun  Dinner     4   \n",
      "52     Sun6165       34.81  5.20  Female     No   Sun  Dinner     4   \n",
      "85    Thur7972       34.83  5.17  Female     No  Thur   Lunch     4   \n",
      "102    Sat6240       44.30  2.50  Female    Yes   Sat  Dinner     3   \n",
      "197   Thur9313       43.11  5.00  Female    Yes  Thur   Lunch     4   \n",
      "219    Sat8863       30.14  3.09  Female    Yes   Sat  Dinner     4   \n",
      "238    Sat9777       35.83  4.67  Female     No   Sat  Dinner     3   \n",
      "\n",
      "     price_per_person      Payer Name     CC Number  \n",
      "11               8.82    Diane Macias  4.577820e+15  \n",
      "52               8.70    Emily Daniel  4.291280e+15  \n",
      "85               8.71     Shawna Cook  6.011790e+15  \n",
      "102             14.77   Heather Cohen  3.797710e+14  \n",
      "197             10.78     Brooke Soto  5.544900e+15  \n",
      "219              7.54    Shelby House  5.020970e+11  \n",
      "238             11.94  Kimberly Crane  6.761840e+11  \n"
     ]
    }
   ],
   "source": [
    "df_new = df[(df['total_bill'] > 30) & ~(df['gender']=='Male')]\n",
    "print(df_new)\n"
   ]
  },
  {
   "cell_type": "code",
   "execution_count": 27,
   "metadata": {
    "colab": {
     "base_uri": "https://localhost:8080/"
    },
    "executionInfo": {
     "elapsed": 33,
     "status": "ok",
     "timestamp": 1728627458246,
     "user": {
      "displayName": "PGDAI ACTS",
      "userId": "16113966839122920361"
     },
     "user_tz": -330
    },
    "id": "4aI-qn4O9hXt",
    "outputId": "6f37c041-f2a0-48b8-be6a-3576cd168003"
   },
   "outputs": [
    {
     "name": "stdout",
     "output_type": "stream",
     "text": [
      "    Payment ID  total_bill   tip  gender smoker   day    time  size  \\\n",
      "11     Sun6686       35.26  5.00  Female     No   Sun  Dinner     4   \n",
      "52     Sun6165       34.81  5.20  Female     No   Sun  Dinner     4   \n",
      "85    Thur7972       34.83  5.17  Female     No  Thur   Lunch     4   \n",
      "102    Sat6240       44.30  2.50  Female    Yes   Sat  Dinner     3   \n",
      "197   Thur9313       43.11  5.00  Female    Yes  Thur   Lunch     4   \n",
      "219    Sat8863       30.14  3.09  Female    Yes   Sat  Dinner     4   \n",
      "238    Sat9777       35.83  4.67  Female     No   Sat  Dinner     3   \n",
      "\n",
      "     price_per_person      Payer Name     CC Number  \n",
      "11               8.82    Diane Macias  4.577820e+15  \n",
      "52               8.70    Emily Daniel  4.291280e+15  \n",
      "85               8.71     Shawna Cook  6.011790e+15  \n",
      "102             14.77   Heather Cohen  3.797710e+14  \n",
      "197             10.78     Brooke Soto  5.544900e+15  \n",
      "219              7.54    Shelby House  5.020970e+11  \n",
      "238             11.94  Kimberly Crane  6.761840e+11  \n"
     ]
    }
   ],
   "source": [
    "df_new = df[(df['total_bill'] > 30) & (df['gender']!='Male')]\n",
    "print(df_new)\n"
   ]
  },
  {
   "cell_type": "code",
   "execution_count": 28,
   "metadata": {
    "colab": {
     "base_uri": "https://localhost:8080/"
    },
    "executionInfo": {
     "elapsed": 32,
     "status": "ok",
     "timestamp": 1728627458247,
     "user": {
      "displayName": "PGDAI ACTS",
      "userId": "16113966839122920361"
     },
     "user_tz": -330
    },
    "id": "Zp2LbkJ39hVp",
    "outputId": "1dcd3e40-ecbc-4da7-ed24-3706ae4a9f11"
   },
   "outputs": [
    {
     "name": "stdout",
     "output_type": "stream",
     "text": [
      "    Payment ID  total_bill    tip  gender smoker   day    time  size  \\\n",
      "11     Sun6686       35.26   5.00  Female     No   Sun  Dinner     4   \n",
      "23      Sat239       39.42   7.58    Male     No   Sat  Dinner     4   \n",
      "39     Sat6373       31.27   5.00    Male     No   Sat  Dinner     3   \n",
      "44     Sun2274       30.40   5.60    Male     No   Sun  Dinner     4   \n",
      "47     Sun9677       32.40   6.00    Male     No   Sun  Dinner     4   \n",
      "52     Sun6165       34.81   5.20  Female     No   Sun  Dinner     4   \n",
      "56     Sat8903       38.01   3.00    Male    Yes   Sat  Dinner     4   \n",
      "59     Sat8139       48.27   6.73    Male     No   Sat  Dinner     4   \n",
      "83    Thur8801       32.68   5.00    Male    Yes  Thur   Lunch     2   \n",
      "85    Thur7972       34.83   5.17  Female     No  Thur   Lunch     4   \n",
      "88    Thur9003       24.71   5.85    Male     No  Thur   Lunch     2   \n",
      "95     Fri9628       40.17   4.73    Male    Yes   Fri  Dinner     4   \n",
      "102    Sat6240       44.30   2.50  Female    Yes   Sat  Dinner     3   \n",
      "112     Sun591       38.07   4.00    Male     No   Sun  Dinner     3   \n",
      "116      Sun22       29.93   5.07    Male     No   Sun  Dinner     4   \n",
      "141   Thur1025       34.30   6.70    Male     No  Thur   Lunch     6   \n",
      "142   Thur3621       41.19   5.00    Male     No  Thur   Lunch     5   \n",
      "155    Sun9176       29.85   5.14  Female     No   Sun  Dinner     5   \n",
      "156    Sun7518       48.17   5.00    Male     No   Sun  Dinner     6   \n",
      "167    Sun3719       31.71   4.50    Male     No   Sun  Dinner     4   \n",
      "170    Sat1954       50.81  10.00    Male    Yes   Sat  Dinner     3   \n",
      "172    Sun9209        7.25   5.15    Male    Yes   Sun  Dinner     2   \n",
      "173    Sun9335       31.85   3.18    Male    Yes   Sun  Dinner     2   \n",
      "175    Sun5109       32.90   3.11    Male    Yes   Sun  Dinner     2   \n",
      "179    Sun9851       34.63   3.55    Male    Yes   Sun  Dinner     2   \n",
      "180    Sun7544       34.65   3.68    Male    Yes   Sun  Dinner     4   \n",
      "181    Sun3402       23.33   5.65    Male    Yes   Sun  Dinner     2   \n",
      "182    Sun2337       45.35   3.50    Male    Yes   Sun  Dinner     3   \n",
      "183    Sun6059       23.17   6.50    Male    Yes   Sun  Dinner     4   \n",
      "184    Sun5140       40.55   3.00    Male    Yes   Sun  Dinner     2   \n",
      "187    Sun9987       30.46   2.00    Male    Yes   Sun  Dinner     5   \n",
      "197   Thur9313       43.11   5.00  Female    Yes  Thur   Lunch     4   \n",
      "207    Sat4505       38.73   3.00    Male    Yes   Sat  Dinner     4   \n",
      "210    Sat8361       30.06   2.00    Male    Yes   Sat  Dinner     3   \n",
      "211    Sat6735       25.89   5.16    Male    Yes   Sat  Dinner     4   \n",
      "212    Sat4590       48.33   9.00    Male     No   Sat  Dinner     4   \n",
      "214    Sat3374       28.17   6.50  Female    Yes   Sat  Dinner     3   \n",
      "219    Sat8863       30.14   3.09  Female    Yes   Sat  Dinner     4   \n",
      "237    Sat2929       32.83   1.17    Male    Yes   Sat  Dinner     2   \n",
      "238    Sat9777       35.83   4.67  Female     No   Sat  Dinner     3   \n",
      "239    Sat2657       29.03   5.92    Male     No   Sat  Dinner     3   \n",
      "\n",
      "     price_per_person             Payer Name     CC Number  \n",
      "11               8.82           Diane Macias  4.577820e+15  \n",
      "23               9.86         Lance Peterson  3.542580e+15  \n",
      "39              10.42      Mr. Brandon Berry  6.011530e+15  \n",
      "44               7.60            Todd Cooper  5.038470e+11  \n",
      "47               8.10           James Barnes  3.552000e+15  \n",
      "52               8.70           Emily Daniel  4.291280e+15  \n",
      "56               9.50  James Christensen DDS  3.497940e+14  \n",
      "59              12.07            Brian Ortiz  6.596450e+15  \n",
      "83              16.34          Daniel Murphy  5.356180e+15  \n",
      "85               8.71            Shawna Cook  6.011790e+15  \n",
      "88              12.36           Roger Taylor  4.410250e+12  \n",
      "95              10.04          Aaron Bentley  1.800270e+14  \n",
      "102             14.77          Heather Cohen  3.797710e+14  \n",
      "112             12.69             Jeff Lopez  3.572870e+15  \n",
      "116              7.48            Shawn Blake  4.689080e+15  \n",
      "141              5.72         Steven Carlson  3.526520e+15  \n",
      "142              8.24           Eric Andrews  4.356530e+15  \n",
      "155              5.97         Madison Wilson  4.210880e+15  \n",
      "156              8.03          Ryan Gonzales  3.523150e+15  \n",
      "167              7.93         Michael Lawson  3.566290e+15  \n",
      "170             16.94          Gregory Clark  5.473850e+15  \n",
      "172              3.62            Larry White  3.043260e+13  \n",
      "173             15.92            Scott Perez  3.577120e+15  \n",
      "175             16.45        Nathan Reynolds  3.703070e+14  \n",
      "179             17.32           Brian Bailey  3.466560e+14  \n",
      "180              8.66       James Hebert DDS  6.761690e+11  \n",
      "181             11.66              Jason Cox  6.556930e+15  \n",
      "182             15.12           Jose Parsons  4.112210e+15  \n",
      "183              5.79      Dr. Michael James  4.718500e+12  \n",
      "184             20.27            Stephen Cox  3.547800e+15  \n",
      "187              6.09          David Barrett  4.792880e+15  \n",
      "197             10.78            Brooke Soto  5.544900e+15  \n",
      "207              9.68          Ricky Ramirez  3.478180e+14  \n",
      "210             10.02          Shawn Mendoza  3.018400e+13  \n",
      "211              6.47         Christopher Li  6.011960e+15  \n",
      "212             12.08        Alex Williamson  6.762190e+11  \n",
      "214              9.39        Marissa Jackson  4.922300e+15  \n",
      "219              7.54           Shelby House  5.020970e+11  \n",
      "237             16.42           Thomas Brown  4.284720e+15  \n",
      "238             11.94         Kimberly Crane  6.761840e+11  \n",
      "239              9.68          Michael Avila  5.296070e+15  \n"
     ]
    }
   ],
   "source": [
    "df_new = df[(df['total_bill'] > 30) | (df['tip'] > 5)]\n",
    "print(df_new)"
   ]
  },
  {
   "cell_type": "code",
   "execution_count": 29,
   "metadata": {
    "colab": {
     "base_uri": "https://localhost:8080/"
    },
    "executionInfo": {
     "elapsed": 30,
     "status": "ok",
     "timestamp": 1728627458247,
     "user": {
      "displayName": "PGDAI ACTS",
      "userId": "16113966839122920361"
     },
     "user_tz": -330
    },
    "id": "g2AoC0Qy9hSF",
    "outputId": "0512d589-4eba-4af7-f06c-0606c5bdccaa"
   },
   "outputs": [
    {
     "name": "stdout",
     "output_type": "stream",
     "text": [
      "0       True\n",
      "1       True\n",
      "2       True\n",
      "3       True\n",
      "4       True\n",
      "       ...  \n",
      "239     True\n",
      "240     True\n",
      "241     True\n",
      "242     True\n",
      "243    False\n",
      "Name: day, Length: 244, dtype: bool\n",
      "    Payment ID  total_bill   tip  gender smoker  day    time  size  \\\n",
      "0      Sun2959       16.99  1.01  Female     No  Sun  Dinner     2   \n",
      "1      Sun4608       10.34  1.66    Male     No  Sun  Dinner     3   \n",
      "2      Sun4458       21.01  3.50    Male     No  Sun  Dinner     3   \n",
      "3      Sun5260       23.68  3.31    Male     No  Sun  Dinner     2   \n",
      "4      Sun2251       24.59  3.61  Female     No  Sun  Dinner     4   \n",
      "..         ...         ...   ...     ...    ...  ...     ...   ...   \n",
      "238    Sat9777       35.83  4.67  Female     No  Sat  Dinner     3   \n",
      "239    Sat2657       29.03  5.92    Male     No  Sat  Dinner     3   \n",
      "240    Sat1766       27.18  2.00  Female    Yes  Sat  Dinner     2   \n",
      "241    Sat3880       22.67  2.00    Male    Yes  Sat  Dinner     2   \n",
      "242      Sat17       17.82  1.75    Male     No  Sat  Dinner     2   \n",
      "\n",
      "     price_per_person          Payer Name     CC Number  \n",
      "0                8.49  Christy Cunningham  3.560330e+15  \n",
      "1                3.45      Douglas Tucker  4.478070e+15  \n",
      "2                7.00      Travis Walters  6.011810e+15  \n",
      "3               11.84    Nathaniel Harris  4.676140e+15  \n",
      "4                6.15        Tonya Carter  4.832730e+15  \n",
      "..                ...                 ...           ...  \n",
      "238             11.94      Kimberly Crane  6.761840e+11  \n",
      "239              9.68       Michael Avila  5.296070e+15  \n",
      "240             13.59      Monica Sanders  3.506810e+15  \n",
      "241             11.34          Keith Wong  6.011890e+15  \n",
      "242              8.91        Dennis Dixon  4.375220e+12  \n",
      "\n",
      "[163 rows x 11 columns]\n"
     ]
    }
   ],
   "source": [
    "# Conditional is in operator\n",
    "\n",
    "options = ['Sat', 'Sun']\n",
    "print(df['day'].isin (options))\n",
    "print(df[df['day'].isin (options)])"
   ]
  },
  {
   "cell_type": "code",
   "execution_count": 30,
   "metadata": {
    "colab": {
     "base_uri": "https://localhost:8080/"
    },
    "executionInfo": {
     "elapsed": 26,
     "status": "ok",
     "timestamp": 1728627458247,
     "user": {
      "displayName": "PGDAI ACTS",
      "userId": "16113966839122920361"
     },
     "user_tz": -330
    },
    "id": "HQ23lt479hOn",
    "outputId": "33b57ae1-39f3-454e-e7e0-d25b9c6c4e53"
   },
   "outputs": [
    {
     "name": "stdout",
     "output_type": "stream",
     "text": [
      "    Payment ID  total_bill    tip  gender smoker   day    time  size  \\\n",
      "67     Sat3455        3.07   1.00  Female    Yes   Sat  Dinner     1   \n",
      "236    Sat5032       12.60   1.00    Male    Yes   Sat  Dinner     2   \n",
      "92     Fri3780        5.75   1.00  Female    Yes   Fri  Dinner     2   \n",
      "111    Sat4801        7.25   1.00  Female     No   Sat  Dinner     1   \n",
      "0      Sun2959       16.99   1.01  Female     No   Sun  Dinner     2   \n",
      "..         ...         ...    ...     ...    ...   ...     ...   ...   \n",
      "141   Thur1025       34.30   6.70    Male     No  Thur   Lunch     6   \n",
      "59     Sat8139       48.27   6.73    Male     No   Sat  Dinner     4   \n",
      "23      Sat239       39.42   7.58    Male     No   Sat  Dinner     4   \n",
      "212    Sat4590       48.33   9.00    Male     No   Sat  Dinner     4   \n",
      "170    Sat1954       50.81  10.00    Male    Yes   Sat  Dinner     3   \n",
      "\n",
      "     price_per_person          Payer Name     CC Number  \n",
      "67               3.07       Tiffany Brock  4.359490e+15  \n",
      "236              6.30       Matthew Myers  3.543680e+15  \n",
      "92               2.88        Leah Ramirez  3.508910e+15  \n",
      "111              7.25         Terri Jones  3.559220e+15  \n",
      "0                8.49  Christy Cunningham  3.560330e+15  \n",
      "..                ...                 ...           ...  \n",
      "141              5.72      Steven Carlson  3.526520e+15  \n",
      "59              12.07         Brian Ortiz  6.596450e+15  \n",
      "23               9.86      Lance Peterson  3.542580e+15  \n",
      "212             12.08     Alex Williamson  6.762190e+11  \n",
      "170             16.94       Gregory Clark  5.473850e+15  \n",
      "\n",
      "[244 rows x 11 columns]\n"
     ]
    }
   ],
   "source": [
    "# sort_values\n",
    "print(df.sort_values('tip'))"
   ]
  },
  {
   "cell_type": "code",
   "execution_count": 31,
   "metadata": {
    "colab": {
     "base_uri": "https://localhost:8080/"
    },
    "executionInfo": {
     "elapsed": 24,
     "status": "ok",
     "timestamp": 1728627458247,
     "user": {
      "displayName": "PGDAI ACTS",
      "userId": "16113966839122920361"
     },
     "user_tz": -330
    },
    "id": "C5QSs3c_FPZ1",
    "outputId": "0d205d85-d857-4516-da78-71571522fa9b"
   },
   "outputs": [
    {
     "name": "stdout",
     "output_type": "stream",
     "text": [
      "            total_bill       tip\n",
      "total_bill    1.000000  0.675734\n",
      "tip           0.675734  1.000000\n"
     ]
    }
   ],
   "source": [
    "#correlation\n",
    "print(df[['total_bill', 'tip']].corr())"
   ]
  },
  {
   "cell_type": "code",
   "execution_count": 32,
   "metadata": {
    "colab": {
     "base_uri": "https://localhost:8080/"
    },
    "executionInfo": {
     "elapsed": 22,
     "status": "ok",
     "timestamp": 1728627458247,
     "user": {
      "displayName": "PGDAI ACTS",
      "userId": "16113966839122920361"
     },
     "user_tz": -330
    },
    "id": "U4xSP-lSFPWt",
    "outputId": "0cb9b002-ff9d-4278-c527-a43667727880"
   },
   "outputs": [
    {
     "name": "stdout",
     "output_type": "stream",
     "text": [
      "50.81\n"
     ]
    }
   ],
   "source": [
    "print(df['total_bill'].max())"
   ]
  },
  {
   "cell_type": "code",
   "execution_count": 33,
   "metadata": {},
   "outputs": [
    {
     "name": "stdout",
     "output_type": "stream",
     "text": [
      "170\n",
      "67\n"
     ]
    }
   ],
   "source": [
    "#idxmin and idxmax\n",
    "print(df['total_bill'].idxmax())\n",
    "print(df['total_bill'].idxmin())"
   ]
  },
  {
   "cell_type": "code",
   "execution_count": 34,
   "metadata": {},
   "outputs": [
    {
     "name": "stdout",
     "output_type": "stream",
     "text": [
      "Payment ID                     Sat1954\n",
      "total_bill                       50.81\n",
      "tip                               10.0\n",
      "gender                            Male\n",
      "smoker                             Yes\n",
      "day                                Sat\n",
      "time                            Dinner\n",
      "size                                 3\n",
      "price_per_person                 16.94\n",
      "Payer Name               Gregory Clark\n",
      "CC Number           5473850000000000.0\n",
      "Name: 170, dtype: object\n"
     ]
    }
   ],
   "source": [
    "print(df.iloc[170])"
   ]
  },
  {
   "cell_type": "code",
   "execution_count": 35,
   "metadata": {
    "colab": {
     "base_uri": "https://localhost:8080/"
    },
    "executionInfo": {
     "elapsed": 20,
     "status": "ok",
     "timestamp": 1728627458247,
     "user": {
      "displayName": "PGDAI ACTS",
      "userId": "16113966839122920361"
     },
     "user_tz": -330
    },
    "id": "y0fMcxjrFPUF",
    "outputId": "83818e7f-3163-4021-ee79-44dfd85a9b0d"
   },
   "outputs": [
    {
     "name": "stdout",
     "output_type": "stream",
     "text": [
      "Smoker:\n",
      " No     151\n",
      "Yes     93\n",
      "Name: smoker, dtype: int64\n",
      "\n",
      "Gender: \n",
      " Male      157\n",
      "Female     87\n",
      "Name: gender, dtype: int64\n"
     ]
    }
   ],
   "source": [
    "#value_counts get count on categorical columns\n",
    "print(\"Smoker:\\n\", df['smoker'].value_counts()) # Smokers and non-smokers\n",
    "print(\"\\nGender: \\n\", df['gender'].value_counts()) # Males and Females"
   ]
  },
  {
   "cell_type": "code",
   "execution_count": 36,
   "metadata": {
    "colab": {
     "base_uri": "https://localhost:8080/"
    },
    "executionInfo": {
     "elapsed": 19,
     "status": "ok",
     "timestamp": 1728627458247,
     "user": {
      "displayName": "PGDAI ACTS",
      "userId": "16113966839122920361"
     },
     "user_tz": -330
    },
    "id": "eJ9lkWR_FPRg",
    "outputId": "6b81a9cd-f8a4-4905-cf2a-655e9926650e"
   },
   "outputs": [
    {
     "name": "stdout",
     "output_type": "stream",
     "text": [
      "['Sun' 'Sat' 'Thur' 'Fri']\n",
      "4\n",
      "['Dinner' 'Lunch']\n",
      "2\n"
     ]
    }
   ],
   "source": [
    "# unique\n",
    "print(df['day'].unique())\n",
    "print(df['day'].nunique()) #Unique count\n",
    "print(df['time'].unique())\n",
    "print(df['time'].nunique()) #Unique count"
   ]
  },
  {
   "cell_type": "code",
   "execution_count": 37,
   "metadata": {
    "colab": {
     "base_uri": "https://localhost:8080/"
    },
    "executionInfo": {
     "elapsed": 17,
     "status": "ok",
     "timestamp": 1728627458247,
     "user": {
      "displayName": "PGDAI ACTS",
      "userId": "16113966839122920361"
     },
     "user_tz": -330
    },
    "id": "Id5m3hQBFPO-",
    "outputId": "59f79d1a-53f8-4bb9-b035-b5ab48ea7102"
   },
   "outputs": [
    {
     "name": "stdout",
     "output_type": "stream",
     "text": [
      "0       True\n",
      "1       True\n",
      "2      False\n",
      "3      False\n",
      "4      False\n",
      "       ...  \n",
      "239    False\n",
      "240    False\n",
      "241    False\n",
      "242     True\n",
      "243     True\n",
      "Name: total_bill, Length: 244, dtype: bool\n",
      "    Payment ID  total_bill   tip  gender smoker   day    time  size  \\\n",
      "0      Sun2959       16.99  1.01  Female     No   Sun  Dinner     2   \n",
      "1      Sun4608       10.34  1.66    Male     No   Sun  Dinner     3   \n",
      "8      Sun6820       15.04  1.96    Male     No   Sun  Dinner     2   \n",
      "9      Sun3775       14.78  3.23    Male     No   Sun  Dinner     2   \n",
      "10     Sun2546       10.27  1.71    Male     No   Sun  Dinner     2   \n",
      "..         ...         ...   ...     ...    ...   ...     ...   ...   \n",
      "234    Sat7220       15.53  3.00    Male    Yes   Sat  Dinner     2   \n",
      "235    Sat4615       10.07  1.25    Male     No   Sat  Dinner     2   \n",
      "236    Sat5032       12.60  1.00    Male    Yes   Sat  Dinner     2   \n",
      "242      Sat17       17.82  1.75    Male     No   Sat  Dinner     2   \n",
      "243    Thur672       18.78  3.00  Female     No  Thur  Dinner     2   \n",
      "\n",
      "     price_per_person          Payer Name     CC Number  \n",
      "0                8.49  Christy Cunningham  3.560330e+15  \n",
      "1                3.45      Douglas Tucker  4.478070e+15  \n",
      "8                7.52     Joseph Mcdonald  3.522870e+15  \n",
      "9                7.39       Jerome Abbott  3.532120e+15  \n",
      "10               5.14       William Riley  5.662880e+11  \n",
      "..                ...                 ...           ...  \n",
      "234              7.76       Tracy Douglas  4.097940e+15  \n",
      "235              5.04       Sean Gonzalez  3.534020e+15  \n",
      "236              6.30       Matthew Myers  3.543680e+15  \n",
      "242              8.91        Dennis Dixon  4.375220e+12  \n",
      "243              9.39     Michelle Hardin  3.511450e+15  \n",
      "\n",
      "[130 rows x 11 columns]\n"
     ]
    }
   ],
   "source": [
    "# Between options for inclusive are both, left, right, neither\n",
    "print(df['total_bill'].between(10,20,inclusive='both'))\n",
    "print(df[df['total_bill'].between(10,20,inclusive='both')])"
   ]
  },
  {
   "cell_type": "code",
   "execution_count": 38,
   "metadata": {
    "colab": {
     "base_uri": "https://localhost:8080/"
    },
    "executionInfo": {
     "elapsed": 15,
     "status": "ok",
     "timestamp": 1728627458247,
     "user": {
      "displayName": "PGDAI ACTS",
      "userId": "16113966839122920361"
     },
     "user_tz": -330
    },
    "id": "7kRZA5g7FPMw",
    "outputId": "4c164054-4603-45e6-c9ab-6b47aa73665b"
   },
   "outputs": [
    {
     "name": "stdout",
     "output_type": "stream",
     "text": [
      "    Payment ID  total_bill   tip  gender smoker   day    time  size  \\\n",
      "96     Fri3159       27.28  4.00    Male    Yes   Fri  Dinner     2   \n",
      "144   Thur9002       16.43  2.30  Female     No  Thur   Lunch     2   \n",
      "30     Sat4099        9.55  1.45    Male     No   Sat  Dinner     2   \n",
      "137   Thur3890       14.15  2.00  Female     No  Thur   Lunch     2   \n",
      "44     Sun2274       30.40  5.60    Male     No   Sun  Dinner     4   \n",
      "\n",
      "     price_per_person      Payer Name     CC Number  \n",
      "96              13.64     Eric Carter  4.563050e+15  \n",
      "144              8.22     Linda Jones  6.542730e+15  \n",
      "30               4.78      Grant Hall  3.019650e+13  \n",
      "137              7.08  Vanessa Morris  2.131890e+14  \n",
      "44               7.60     Todd Cooper  5.038470e+11  \n",
      "    Payment ID  total_bill   tip  gender smoker   day    time  size  \\\n",
      "106    Sat7865       20.49  4.06    Male    Yes   Sat  Dinner     2   \n",
      "219    Sat8863       30.14  3.09  Female    Yes   Sat  Dinner     4   \n",
      "118   Thur8084       12.43  1.80  Female     No  Thur   Lunch     2   \n",
      "189    Sun1821       23.10  4.00    Male    Yes   Sun  Dinner     3   \n",
      "4      Sun2251       24.59  3.61  Female     No   Sun  Dinner     4   \n",
      "237    Sat2929       32.83  1.17    Male    Yes   Sat  Dinner     2   \n",
      "36     Sat9139       16.31  2.00    Male     No   Sat  Dinner     3   \n",
      "52     Sun6165       34.81  5.20  Female     No   Sun  Dinner     4   \n",
      "24     Sat6236       19.82  3.18    Male     No   Sat  Dinner     2   \n",
      "47     Sun9677       32.40  6.00    Male     No   Sun  Dinner     4   \n",
      "201   Thur2544       12.74  2.01  Female    Yes  Thur   Lunch     2   \n",
      "190    Sun5104       15.69  1.50    Male    Yes   Sun  Dinner     2   \n",
      "105    Sat5106       15.36  1.64    Male    Yes   Sat  Dinner     2   \n",
      "185    Sun5842       20.69  5.00    Male     No   Sun  Dinner     5   \n",
      "60     Sat2353       20.29  3.21    Male    Yes   Sat  Dinner     2   \n",
      "144   Thur9002       16.43  2.30  Female     No  Thur   Lunch     2   \n",
      "39     Sat6373       31.27  5.00    Male     No   Sat  Dinner     3   \n",
      "226    Fri6359       10.09  2.00  Female    Yes   Fri   Lunch     2   \n",
      "114    Sun6492       25.71  4.00  Female     No   Sun  Dinner     3   \n",
      "205   Thur8084       16.47  3.23  Female    Yes  Thur   Lunch     3   \n",
      "128   Thur8551       11.38  2.00  Female     No  Thur   Lunch     2   \n",
      "95     Fri9628       40.17  4.73    Male    Yes   Fri  Dinner     4   \n",
      "223    Fri6014       15.98  3.00  Female     No   Fri   Lunch     3   \n",
      "228    Sat2937       13.28  2.72    Male     No   Sat  Dinner     2   \n",
      "\n",
      "     price_per_person           Payer Name     CC Number  \n",
      "106             10.24        Karl Mcdaniel  1.800240e+14  \n",
      "219              7.54         Shelby House  5.020970e+11  \n",
      "118              6.22  Dr. Caroline Tucker  5.020470e+11  \n",
      "189              7.70      Richard Stevens  3.560190e+15  \n",
      "4                6.15         Tonya Carter  4.832730e+15  \n",
      "237             16.42         Thomas Brown  4.284720e+15  \n",
      "36               5.44         William Ford  3.527690e+15  \n",
      "52               8.70         Emily Daniel  4.291280e+15  \n",
      "24               9.91     Christopher Ross  3.673910e+13  \n",
      "47               8.10         James Barnes  3.552000e+15  \n",
      "201              6.37        Abigail Parks  3.586650e+15  \n",
      "190              7.84         Riley Barnes  1.800540e+14  \n",
      "105              7.68          David Price  4.029960e+12  \n",
      "185              4.14        Joseph Howell  3.036240e+13  \n",
      "60              10.14       Anthony Mclean  3.476140e+14  \n",
      "144              8.22          Linda Jones  6.542730e+15  \n",
      "39              10.42    Mr. Brandon Berry  6.011530e+15  \n",
      "226              5.04           Ruth Weiss  5.268690e+15  \n",
      "114              8.57          Katie Smith  5.400160e+15  \n",
      "205              5.49          Carly Reyes  4.787790e+12  \n",
      "128              5.69    Christine Perkins  3.548390e+15  \n",
      "95              10.04        Aaron Bentley  1.800270e+14  \n",
      "223              5.33          Mary Rivera  5.343430e+15  \n",
      "228              6.64          Glenn Jones  5.020620e+11  \n"
     ]
    }
   ],
   "source": [
    "# Sample data randomly\n",
    "print(df.sample(5)) # 5 rows\n",
    "print(df.sample(frac=0.1))  # 10% of rows"
   ]
  },
  {
   "cell_type": "code",
   "execution_count": 39,
   "metadata": {
    "colab": {
     "base_uri": "https://localhost:8080/"
    },
    "executionInfo": {
     "elapsed": 502,
     "status": "ok",
     "timestamp": 1728627458736,
     "user": {
      "displayName": "PGDAI ACTS",
      "userId": "16113966839122920361"
     },
     "user_tz": -330
    },
    "id": "H0kqgv-cFPKH",
    "outputId": "45f594ca-62e2-421d-a532-e13fda56eecb"
   },
   "outputs": [
    {
     "name": "stdout",
     "output_type": "stream",
     "text": [
      "    Payment ID  total_bill    tip  gender smoker   day    time  size  \\\n",
      "170    Sat1954       50.81  10.00    Male    Yes   Sat  Dinner     3   \n",
      "212    Sat4590       48.33   9.00    Male     No   Sat  Dinner     4   \n",
      "23      Sat239       39.42   7.58    Male     No   Sat  Dinner     4   \n",
      "59     Sat8139       48.27   6.73    Male     No   Sat  Dinner     4   \n",
      "141   Thur1025       34.30   6.70    Male     No  Thur   Lunch     6   \n",
      "183    Sun6059       23.17   6.50    Male    Yes   Sun  Dinner     4   \n",
      "214    Sat3374       28.17   6.50  Female    Yes   Sat  Dinner     3   \n",
      "47     Sun9677       32.40   6.00    Male     No   Sun  Dinner     4   \n",
      "239    Sat2657       29.03   5.92    Male     No   Sat  Dinner     3   \n",
      "88    Thur9003       24.71   5.85    Male     No  Thur   Lunch     2   \n",
      "\n",
      "     price_per_person         Payer Name     CC Number  \n",
      "170             16.94      Gregory Clark  5.473850e+15  \n",
      "212             12.08    Alex Williamson  6.762190e+11  \n",
      "23               9.86     Lance Peterson  3.542580e+15  \n",
      "59              12.07        Brian Ortiz  6.596450e+15  \n",
      "141              5.72     Steven Carlson  3.526520e+15  \n",
      "183              5.79  Dr. Michael James  4.718500e+12  \n",
      "214              9.39    Marissa Jackson  4.922300e+15  \n",
      "47               8.10       James Barnes  3.552000e+15  \n",
      "239              9.68      Michael Avila  5.296070e+15  \n",
      "88              12.36       Roger Taylor  4.410250e+12  \n"
     ]
    }
   ],
   "source": [
    "# nlargest and nsmallest\n",
    "print(df.nlargest(10, 'tip'))"
   ]
  },
  {
   "cell_type": "code",
   "execution_count": 40,
   "metadata": {},
   "outputs": [
    {
     "name": "stdout",
     "output_type": "stream",
     "text": [
      "    Payment ID  total_bill   tip  gender smoker   day    time  size  \\\n",
      "67     Sat3455        3.07  1.00  Female    Yes   Sat  Dinner     1   \n",
      "92     Fri3780        5.75  1.00  Female    Yes   Fri  Dinner     2   \n",
      "111    Sat4801        7.25  1.00  Female     No   Sat  Dinner     1   \n",
      "236    Sat5032       12.60  1.00    Male    Yes   Sat  Dinner     2   \n",
      "0      Sun2959       16.99  1.01  Female     No   Sun  Dinner     2   \n",
      "215    Sat6983       12.90  1.10  Female    Yes   Sat  Dinner     2   \n",
      "237    Sat2929       32.83  1.17    Male    Yes   Sat  Dinner     2   \n",
      "75     Sat5056       10.51  1.25    Male     No   Sat  Dinner     2   \n",
      "135   Thur6600        8.51  1.25  Female     No  Thur   Lunch     2   \n",
      "235    Sat4615       10.07  1.25    Male     No   Sat  Dinner     2   \n",
      "\n",
      "     price_per_person          Payer Name     CC Number  \n",
      "67               3.07       Tiffany Brock  4.359490e+15  \n",
      "92               2.88        Leah Ramirez  3.508910e+15  \n",
      "111              7.25         Terri Jones  3.559220e+15  \n",
      "236              6.30       Matthew Myers  3.543680e+15  \n",
      "0                8.49  Christy Cunningham  3.560330e+15  \n",
      "215              6.45        Jessica Owen  4.726900e+12  \n",
      "237             16.42        Thomas Brown  4.284720e+15  \n",
      "75               5.26       Kenneth Hayes  2.131420e+14  \n",
      "135              4.26      Rebecca Harris  4.320270e+15  \n",
      "235              5.04       Sean Gonzalez  3.534020e+15  \n"
     ]
    }
   ],
   "source": [
    "print(df.nsmallest(10, 'tip')) #Return the first n rows with the smallest values in columns, in ascending order. "
   ]
  },
  {
   "cell_type": "code",
   "execution_count": 41,
   "metadata": {
    "executionInfo": {
     "elapsed": 16,
     "status": "ok",
     "timestamp": 1728627458736,
     "user": {
      "displayName": "PGDAI ACTS",
      "userId": "16113966839122920361"
     },
     "user_tz": -330
    },
    "id": "MZP4PZnIMIXA"
   },
   "outputs": [],
   "source": [
    "# groupby functionality:\n",
    "# 1. Splitting: The data is first split into groups based\n",
    "# 2. Applying: A function (or multiple functions) is applic\n",
    "# 3. Combining: The results of the function applications a into a new DataFram"
   ]
  },
  {
   "cell_type": "code",
   "execution_count": 42,
   "metadata": {
    "colab": {
     "base_uri": "https://localhost:8080/"
    },
    "executionInfo": {
     "elapsed": 15,
     "status": "ok",
     "timestamp": 1728627458736,
     "user": {
      "displayName": "PGDAI ACTS",
      "userId": "16113966839122920361"
     },
     "user_tz": -330
    },
    "id": "lF0DPpPPN87q",
    "outputId": "222e4215-1f4b-4c78-8ca1-c6f29ba01ea4"
   },
   "outputs": [
    {
     "name": "stdout",
     "output_type": "stream",
     "text": [
      "   Payment ID  total_bill   tip  gender smoker  day    time  size  \\\n",
      "0     Sun2959       16.99  1.01  Female     No  Sun  Dinner     2   \n",
      "1     Sun4608       10.34  1.66    Male     No  Sun  Dinner     3   \n",
      "2     Sun4458       21.01  3.50    Male     No  Sun  Dinner     3   \n",
      "3     Sun5260       23.68  3.31    Male     No  Sun  Dinner     2   \n",
      "4     Sun2251       24.59  3.61  Female     No  Sun  Dinner     4   \n",
      "5     Sun9679       25.29  4.71    Male     No  Sun  Dinner     4   \n",
      "6     Sun5985        8.77  2.00    Male     No  Sun  Dinner     2   \n",
      "11    Sun6686       35.26  5.00  Female     No  Sun  Dinner     4   \n",
      "14    Sun3848       14.83  3.02  Female     No  Sun  Dinner     2   \n",
      "16    Sun9715       10.33  1.67  Female     No  Sun  Dinner     3   \n",
      "\n",
      "    price_per_person          Payer Name     CC Number  \n",
      "0               8.49  Christy Cunningham  3.560330e+15  \n",
      "1               3.45      Douglas Tucker  4.478070e+15  \n",
      "2               7.00      Travis Walters  6.011810e+15  \n",
      "3              11.84    Nathaniel Harris  4.676140e+15  \n",
      "4               6.15        Tonya Carter  4.832730e+15  \n",
      "5               6.32          Erik Smith  2.131400e+14  \n",
      "6               4.38  Kristopher Johnson  2.223730e+15  \n",
      "11              8.82        Diane Macias  4.577820e+15  \n",
      "14              7.42       Vanessa Jones  3.001670e+13  \n",
      "16              3.44    Elizabeth Foster  4.240030e+15  \n"
     ]
    }
   ],
   "source": [
    "# Splitting\n",
    "df_grouped = df.groupby('gender')\n",
    "print(df_grouped.head()) # Note that the output will not have any visible impact, a mention of grouping"
   ]
  },
  {
   "cell_type": "code",
   "execution_count": 43,
   "metadata": {},
   "outputs": [],
   "source": [
    "# Changing the datatype of each column BEFORE grouping\n",
    "df['Payment ID'] = df['Payment ID'].astype(str)\n",
    "df['total_bill'] = df['total_bill'].astype(float)\n",
    "df['tip'] = df['tip'].astype(float)\n",
    "df['size'] = df['size'].astype(int)\n",
    "df['price_per_person'] = df['price_per_person'].astype(float)"
   ]
  },
  {
   "cell_type": "code",
   "execution_count": 44,
   "metadata": {},
   "outputs": [
    {
     "name": "stdout",
     "output_type": "stream",
     "text": [
      "<class 'pandas.core.frame.DataFrame'>\n",
      "RangeIndex: 244 entries, 0 to 243\n",
      "Data columns (total 11 columns):\n",
      " #   Column            Non-Null Count  Dtype  \n",
      "---  ------            --------------  -----  \n",
      " 0   Payment ID        244 non-null    object \n",
      " 1   total_bill        244 non-null    float64\n",
      " 2   tip               244 non-null    float64\n",
      " 3   gender            244 non-null    object \n",
      " 4   smoker            244 non-null    object \n",
      " 5   day               244 non-null    object \n",
      " 6   time              244 non-null    object \n",
      " 7   size              244 non-null    int32  \n",
      " 8   price_per_person  244 non-null    float64\n",
      " 9   Payer Name        244 non-null    object \n",
      " 10  CC Number         244 non-null    float64\n",
      "dtypes: float64(4), int32(1), object(6)\n",
      "memory usage: 20.1+ KB\n"
     ]
    }
   ],
   "source": [
    "df.info()"
   ]
  },
  {
   "cell_type": "code",
   "execution_count": 45,
   "metadata": {},
   "outputs": [],
   "source": [
    "# Now group the DataFrame with the desired data types:\n",
    "df_grouped = df.groupby('gender')"
   ]
  },
  {
   "cell_type": "code",
   "execution_count": 46,
   "metadata": {
    "colab": {
     "base_uri": "https://localhost:8080/"
    },
    "executionInfo": {
     "elapsed": 446,
     "status": "ok",
     "timestamp": 1728627603668,
     "user": {
      "displayName": "PGDAI ACTS",
      "userId": "16113966839122920361"
     },
     "user_tz": -330
    },
    "id": "Z6QIG3ySFPEe",
    "outputId": "5b3c0a73-86f8-4112-d4ef-8fda7705d7b9"
   },
   "outputs": [
    {
     "name": "stdout",
     "output_type": "stream",
     "text": [
      "Mean ---------- \n",
      " gender\n",
      "Female    2.833448\n",
      "Male      3.089618\n",
      "Name: tip, dtype: float64\n",
      "Count ---------- \n",
      "          Payment ID  total_bill  tip  smoker  day  time  size  \\\n",
      "gender                                                         \n",
      "Female          87          87   87      87   87    87    87   \n",
      "Male           157         157  157     157  157   157   157   \n",
      "\n",
      "        price_per_person  Payer Name  CC Number  \n",
      "gender                                           \n",
      "Female                87          87         87  \n",
      "Male                 157         157        157  \n",
      "Max ---------- \n",
      "          tip\n",
      "gender      \n",
      "Female   6.5\n",
      "Male    10.0\n",
      "Min ---------- \n",
      "         tip\n",
      "gender     \n",
      "Female  1.0\n",
      "Male    1.0\n",
      "Sum ---------- \n",
      "            tip\n",
      "gender        \n",
      "Female  246.51\n",
      "Male    485.07\n",
      "Variance ---------- \n",
      "              tip\n",
      "gender          \n",
      "Female  1.344428\n",
      "Male    2.217424\n",
      "Std ---------- \n",
      "              tip\n",
      "gender          \n",
      "Female  1.159495\n",
      "Male    1.489102\n"
     ]
    }
   ],
   "source": [
    "# Applying to groupby gender\n",
    "print(\"Mean\",\"-\"*10,\"\\n\", df_grouped['tip'].mean()) # Calculate the mean tip for each gender\n",
    "print(\"Count\",\"-\"*10,\"\\n \", df_grouped.count()) # Count works on all columns\n",
    "print(\"Max\",\"-\"*10,\"\\n\", df_grouped[['tip']].max()) # Only include numeric columns for max\n",
    "print(\"Min\",\"-\"*10,\"\\n\",df_grouped[['tip']].min()) # Only include numeric columns for min\n",
    "print(\"Sum\",\"-\"*10,\"\\n\", df_grouped[['tip']].sum()) # Only include numeric columns for sum\n",
    "print(\"Variance\",\"-\"*10,\"\\n\", df_grouped[['tip']].var()) # Only include numeric columns for variance\n",
    "print(\"Std\",\"-\"*10,\"\\n\", df_grouped[['tip']].std()) # Only include numeric columns for standard deviation\n"
   ]
  },
  {
   "cell_type": "code",
   "execution_count": 47,
   "metadata": {},
   "outputs": [
    {
     "name": "stdout",
     "output_type": "stream",
     "text": [
      "       total_bill                                                         \\\n",
      "            count       mean       std   min    25%    50%    75%    max   \n",
      "gender                                                                     \n",
      "Female       87.0  18.056897  8.009209  3.07  12.75  16.40  21.52  44.30   \n",
      "Male        157.0  20.744076  9.246469  7.25  14.00  18.35  24.71  50.81   \n",
      "\n",
      "          tip            ... price_per_person        CC Number                \\\n",
      "        count      mean  ...              75%    max     count          mean   \n",
      "gender                   ...                                                   \n",
      "Female   87.0  2.833448  ...            8.725  14.77      87.0  2.450499e+15   \n",
      "Male    157.0  3.089618  ...            9.680  20.27     157.0  2.626112e+15   \n",
      "\n",
      "                                                                              \\\n",
      "                 std           min           25%           50%           75%   \n",
      "gender                                                                         \n",
      "Female  2.326826e+15  6.046330e+10  4.859865e+12  3.508910e+15  4.447820e+15   \n",
      "Male    2.397656e+15  6.040679e+10  3.623120e+13  3.527690e+15  4.563050e+15   \n",
      "\n",
      "                      \n",
      "                 max  \n",
      "gender                \n",
      "Female  6.542730e+15  \n",
      "Male    6.596450e+15  \n",
      "\n",
      "[2 rows x 40 columns]\n"
     ]
    }
   ],
   "source": [
    "# describe works on all columns but might provide less meaningful results for non-numeric columns\n",
    "print(df_grouped.describe() )"
   ]
  },
  {
   "cell_type": "code",
   "execution_count": 48,
   "metadata": {
    "colab": {
     "base_uri": "https://localhost:8080/"
    },
    "executionInfo": {
     "elapsed": 438,
     "status": "ok",
     "timestamp": 1728627673117,
     "user": {
      "displayName": "PGDAI ACTS",
      "userId": "16113966839122920361"
     },
     "user_tz": -330
    },
    "id": "FlzLzIeBFPBW",
    "outputId": "9e54d83b-5afd-4ad4-e10a-bdc63b627c9c"
   },
   "outputs": [
    {
     "name": "stdout",
     "output_type": "stream",
     "text": [
      "   gender   day       tip        \n",
      "                     mean     sum\n",
      "0  Female   Fri  2.781111   25.03\n",
      "1  Female   Sat  2.801786   78.45\n",
      "2  Female   Sun  3.367222   60.61\n",
      "3  Female  Thur  2.575625   82.42\n",
      "4    Male   Fri  2.693000   26.93\n",
      "5    Male   Sat  3.083898  181.95\n",
      "6    Male   Sun  3.220345  186.78\n",
      "7    Male  Thur  2.980333   89.41\n"
     ]
    }
   ],
   "source": [
    "#agg function\n",
    "# Apply multiple aggregation functions to different columns when grouping data #Calculate both the mean and sum of the 'tip' column for each combination of # 'gender' and 'day'\n",
    "# Group the DataFrame by both 'gender' and 'day' and calculate the mean and sum of 'tip' or each combination\n",
    "\n",
    "df_grouped = df.groupby(['gender', 'day']).agg({'tip': ['mean', 'sum']}).reset_index()\n",
    "print(df_grouped)"
   ]
  },
  {
   "cell_type": "code",
   "execution_count": 49,
   "metadata": {
    "colab": {
     "base_uri": "https://localhost:8080/"
    },
    "executionInfo": {
     "elapsed": 476,
     "status": "ok",
     "timestamp": 1728627855628,
     "user": {
      "displayName": "PGDAI ACTS",
      "userId": "16113966839122920361"
     },
     "user_tz": -330
    },
    "id": "Y3fAaevuFO-m",
    "outputId": "58d939b5-8d94-4c42-8683-2282276706bf"
   },
   "outputs": [
    {
     "name": "stdout",
     "output_type": "stream",
     "text": [
      "   gender   day  mean tip  total tip\n",
      "0  Female   Fri  2.781111      25.03\n",
      "1  Female   Sat  2.801786      78.45\n",
      "2  Female   Sun  3.367222      60.61\n",
      "3  Female  Thur  2.575625      82.42\n",
      "4    Male   Fri  2.693000      26.93\n",
      "5    Male   Sat  3.083898     181.95\n",
      "6    Male   Sun  3.220345     186.78\n",
      "7    Male  Thur  2.980333      89.41\n"
     ]
    }
   ],
   "source": [
    "#Rename the columns\n",
    "df_grouped.columns = ['gender', 'day', 'mean tip', 'total tip']\n",
    "print(df_grouped)"
   ]
  },
  {
   "cell_type": "code",
   "execution_count": null,
   "metadata": {
    "executionInfo": {
     "elapsed": 10,
     "status": "aborted",
     "timestamp": 1728627458737,
     "user": {
      "displayName": "PGDAI ACTS",
      "userId": "16113966839122920361"
     },
     "user_tz": -330
    },
    "id": "GbGqqW8Q9hH1"
   },
   "outputs": [],
   "source": []
  },
  {
   "cell_type": "markdown",
   "metadata": {
    "id": "p1mNPAg2KK_e"
   },
   "source": [
    "------"
   ]
  },
  {
   "cell_type": "code",
   "execution_count": 50,
   "metadata": {
    "executionInfo": {
     "elapsed": 10,
     "status": "aborted",
     "timestamp": 1728627458737,
     "user": {
      "displayName": "PGDAI ACTS",
      "userId": "16113966839122920361"
     },
     "user_tz": -330
    },
    "id": "c_SpaRb41OYv"
   },
   "outputs": [
    {
     "name": "stdout",
     "output_type": "stream",
     "text": [
      "48895\n",
      "     id                                              name  host_id  \\\n",
      "0  2539                Clean & quiet apt home by the park     2787   \n",
      "1  2595                             Skylit Midtown Castle     2845   \n",
      "2  3647               THE VILLAGE OF HARLEM....NEW YORK !     4632   \n",
      "3  3831                   Cozy Entire Floor of Brownstone     4869   \n",
      "4  5022  Entire Apt: Spacious Studio/Loft by central park     7192   \n",
      "\n",
      "     host_name neighbourhood_group neighbourhood  latitude  longitude  \\\n",
      "0         John            Brooklyn    Kensington  40.64749  -73.97237   \n",
      "1     Jennifer           Manhattan       Midtown  40.75362  -73.98377   \n",
      "2    Elisabeth           Manhattan        Harlem  40.80902  -73.94190   \n",
      "3  LisaRoxanne            Brooklyn  Clinton Hill  40.68514  -73.95976   \n",
      "4        Laura           Manhattan   East Harlem  40.79851  -73.94399   \n",
      "\n",
      "         room_type  price  minimum_nights  number_of_reviews last_review  \\\n",
      "0     Private room    149               1                  9  2018-10-19   \n",
      "1  Entire home/apt    225               1                 45  2019-05-21   \n",
      "2     Private room    150               3                  0         NaN   \n",
      "3  Entire home/apt     89               1                270  2019-07-05   \n",
      "4  Entire home/apt     80              10                  9  2018-11-19   \n",
      "\n",
      "   reviews_per_month  calculated_host_listings_count  availability_365  \n",
      "0               0.21                               6               365  \n",
      "1               0.38                               2               355  \n",
      "2                NaN                               1               365  \n",
      "3               4.64                               1               194  \n",
      "4               0.10                               1                 0  \n"
     ]
    }
   ],
   "source": [
    "# Other index example\n",
    "df_airbnb = pd.read_csv('AB_NYC_2019.csv')\n",
    "print(len(df_airbnb))\n",
    "print(df_airbnb.head())"
   ]
  },
  {
   "cell_type": "code",
   "execution_count": 51,
   "metadata": {
    "executionInfo": {
     "elapsed": 10,
     "status": "aborted",
     "timestamp": 1728627458737,
     "user": {
      "displayName": "PGDAI ACTS",
      "userId": "16113966839122920361"
     },
     "user_tz": -330
    },
    "id": "oo3prJ3S1ObU"
   },
   "outputs": [],
   "source": [
    "# Make id as column\n",
    "df2 = df_airbnb.set_index('id')"
   ]
  },
  {
   "cell_type": "code",
   "execution_count": 52,
   "metadata": {},
   "outputs": [
    {
     "name": "stdout",
     "output_type": "stream",
     "text": [
      "                                     name  host_id  host_name  \\\n",
      "id                                                              \n",
      "2539   Clean & quiet apt home by the park     2787       John   \n",
      "2595                Skylit Midtown Castle     2845   Jennifer   \n",
      "3647  THE VILLAGE OF HARLEM....NEW YORK !     4632  Elisabeth   \n",
      "\n",
      "     neighbourhood_group neighbourhood  latitude  longitude        room_type  \\\n",
      "id                                                                             \n",
      "2539            Brooklyn    Kensington  40.64749  -73.97237     Private room   \n",
      "2595           Manhattan       Midtown  40.75362  -73.98377  Entire home/apt   \n",
      "3647           Manhattan        Harlem  40.80902  -73.94190     Private room   \n",
      "\n",
      "      price  minimum_nights  number_of_reviews last_review  reviews_per_month  \\\n",
      "id                                                                              \n",
      "2539    149               1                  9  2018-10-19               0.21   \n",
      "2595    225               1                 45  2019-05-21               0.38   \n",
      "3647    150               3                  0         NaN                NaN   \n",
      "\n",
      "      calculated_host_listings_count  availability_365  \n",
      "id                                                      \n",
      "2539                               6               365  \n",
      "2595                               2               355  \n",
      "3647                               1               365  \n"
     ]
    }
   ],
   "source": [
    "print(df2.head(3))"
   ]
  },
  {
   "cell_type": "code",
   "execution_count": 53,
   "metadata": {},
   "outputs": [
    {
     "name": "stdout",
     "output_type": "stream",
     "text": [
      "THE VILLAGE OF HARLEM....NEW YORK !\n"
     ]
    }
   ],
   "source": [
    "print(df2['name'][3647])"
   ]
  },
  {
   "cell_type": "code",
   "execution_count": 54,
   "metadata": {},
   "outputs": [
    {
     "name": "stdout",
     "output_type": "stream",
     "text": [
      "Index(['name', 'host_id', 'host_name', 'neighbourhood_group', 'neighbourhood',\n",
      "       'latitude', 'longitude', 'room_type', 'price', 'minimum_nights',\n",
      "       'number_of_reviews', 'last_review', 'reviews_per_month',\n",
      "       'calculated_host_listings_count', 'availability_365'],\n",
      "      dtype='object')\n"
     ]
    }
   ],
   "source": [
    "print(df2.columns)"
   ]
  },
  {
   "cell_type": "code",
   "execution_count": 55,
   "metadata": {},
   "outputs": [],
   "source": [
    "df2.reset_index(inplace=True)"
   ]
  },
  {
   "cell_type": "code",
   "execution_count": 56,
   "metadata": {},
   "outputs": [
    {
     "data": {
      "text/html": [
       "<div>\n",
       "<style scoped>\n",
       "    .dataframe tbody tr th:only-of-type {\n",
       "        vertical-align: middle;\n",
       "    }\n",
       "\n",
       "    .dataframe tbody tr th {\n",
       "        vertical-align: top;\n",
       "    }\n",
       "\n",
       "    .dataframe thead th {\n",
       "        text-align: right;\n",
       "    }\n",
       "</style>\n",
       "<table border=\"1\" class=\"dataframe\">\n",
       "  <thead>\n",
       "    <tr style=\"text-align: right;\">\n",
       "      <th></th>\n",
       "      <th>id</th>\n",
       "      <th>name</th>\n",
       "      <th>host_id</th>\n",
       "      <th>host_name</th>\n",
       "      <th>neighbourhood_group</th>\n",
       "      <th>neighbourhood</th>\n",
       "      <th>latitude</th>\n",
       "      <th>longitude</th>\n",
       "      <th>room_type</th>\n",
       "      <th>price</th>\n",
       "      <th>minimum_nights</th>\n",
       "      <th>number_of_reviews</th>\n",
       "      <th>last_review</th>\n",
       "      <th>reviews_per_month</th>\n",
       "      <th>calculated_host_listings_count</th>\n",
       "      <th>availability_365</th>\n",
       "    </tr>\n",
       "  </thead>\n",
       "  <tbody>\n",
       "    <tr>\n",
       "      <th>0</th>\n",
       "      <td>2539</td>\n",
       "      <td>Clean &amp; quiet apt home by the park</td>\n",
       "      <td>2787</td>\n",
       "      <td>John</td>\n",
       "      <td>Brooklyn</td>\n",
       "      <td>Kensington</td>\n",
       "      <td>40.64749</td>\n",
       "      <td>-73.97237</td>\n",
       "      <td>Private room</td>\n",
       "      <td>149</td>\n",
       "      <td>1</td>\n",
       "      <td>9</td>\n",
       "      <td>2018-10-19</td>\n",
       "      <td>0.21</td>\n",
       "      <td>6</td>\n",
       "      <td>365</td>\n",
       "    </tr>\n",
       "    <tr>\n",
       "      <th>1</th>\n",
       "      <td>2595</td>\n",
       "      <td>Skylit Midtown Castle</td>\n",
       "      <td>2845</td>\n",
       "      <td>Jennifer</td>\n",
       "      <td>Manhattan</td>\n",
       "      <td>Midtown</td>\n",
       "      <td>40.75362</td>\n",
       "      <td>-73.98377</td>\n",
       "      <td>Entire home/apt</td>\n",
       "      <td>225</td>\n",
       "      <td>1</td>\n",
       "      <td>45</td>\n",
       "      <td>2019-05-21</td>\n",
       "      <td>0.38</td>\n",
       "      <td>2</td>\n",
       "      <td>355</td>\n",
       "    </tr>\n",
       "    <tr>\n",
       "      <th>2</th>\n",
       "      <td>3647</td>\n",
       "      <td>THE VILLAGE OF HARLEM....NEW YORK !</td>\n",
       "      <td>4632</td>\n",
       "      <td>Elisabeth</td>\n",
       "      <td>Manhattan</td>\n",
       "      <td>Harlem</td>\n",
       "      <td>40.80902</td>\n",
       "      <td>-73.94190</td>\n",
       "      <td>Private room</td>\n",
       "      <td>150</td>\n",
       "      <td>3</td>\n",
       "      <td>0</td>\n",
       "      <td>NaN</td>\n",
       "      <td>NaN</td>\n",
       "      <td>1</td>\n",
       "      <td>365</td>\n",
       "    </tr>\n",
       "    <tr>\n",
       "      <th>3</th>\n",
       "      <td>3831</td>\n",
       "      <td>Cozy Entire Floor of Brownstone</td>\n",
       "      <td>4869</td>\n",
       "      <td>LisaRoxanne</td>\n",
       "      <td>Brooklyn</td>\n",
       "      <td>Clinton Hill</td>\n",
       "      <td>40.68514</td>\n",
       "      <td>-73.95976</td>\n",
       "      <td>Entire home/apt</td>\n",
       "      <td>89</td>\n",
       "      <td>1</td>\n",
       "      <td>270</td>\n",
       "      <td>2019-07-05</td>\n",
       "      <td>4.64</td>\n",
       "      <td>1</td>\n",
       "      <td>194</td>\n",
       "    </tr>\n",
       "    <tr>\n",
       "      <th>4</th>\n",
       "      <td>5022</td>\n",
       "      <td>Entire Apt: Spacious Studio/Loft by central park</td>\n",
       "      <td>7192</td>\n",
       "      <td>Laura</td>\n",
       "      <td>Manhattan</td>\n",
       "      <td>East Harlem</td>\n",
       "      <td>40.79851</td>\n",
       "      <td>-73.94399</td>\n",
       "      <td>Entire home/apt</td>\n",
       "      <td>80</td>\n",
       "      <td>10</td>\n",
       "      <td>9</td>\n",
       "      <td>2018-11-19</td>\n",
       "      <td>0.10</td>\n",
       "      <td>1</td>\n",
       "      <td>0</td>\n",
       "    </tr>\n",
       "  </tbody>\n",
       "</table>\n",
       "</div>"
      ],
      "text/plain": [
       "     id                                              name  host_id  \\\n",
       "0  2539                Clean & quiet apt home by the park     2787   \n",
       "1  2595                             Skylit Midtown Castle     2845   \n",
       "2  3647               THE VILLAGE OF HARLEM....NEW YORK !     4632   \n",
       "3  3831                   Cozy Entire Floor of Brownstone     4869   \n",
       "4  5022  Entire Apt: Spacious Studio/Loft by central park     7192   \n",
       "\n",
       "     host_name neighbourhood_group neighbourhood  latitude  longitude  \\\n",
       "0         John            Brooklyn    Kensington  40.64749  -73.97237   \n",
       "1     Jennifer           Manhattan       Midtown  40.75362  -73.98377   \n",
       "2    Elisabeth           Manhattan        Harlem  40.80902  -73.94190   \n",
       "3  LisaRoxanne            Brooklyn  Clinton Hill  40.68514  -73.95976   \n",
       "4        Laura           Manhattan   East Harlem  40.79851  -73.94399   \n",
       "\n",
       "         room_type  price  minimum_nights  number_of_reviews last_review  \\\n",
       "0     Private room    149               1                  9  2018-10-19   \n",
       "1  Entire home/apt    225               1                 45  2019-05-21   \n",
       "2     Private room    150               3                  0         NaN   \n",
       "3  Entire home/apt     89               1                270  2019-07-05   \n",
       "4  Entire home/apt     80              10                  9  2018-11-19   \n",
       "\n",
       "   reviews_per_month  calculated_host_listings_count  availability_365  \n",
       "0               0.21                               6               365  \n",
       "1               0.38                               2               355  \n",
       "2                NaN                               1               365  \n",
       "3               4.64                               1               194  \n",
       "4               0.10                               1                 0  "
      ]
     },
     "execution_count": 56,
     "metadata": {},
     "output_type": "execute_result"
    }
   ],
   "source": [
    "df2.head()"
   ]
  },
  {
   "cell_type": "code",
   "execution_count": 57,
   "metadata": {
    "executionInfo": {
     "elapsed": 10,
     "status": "aborted",
     "timestamp": 1728627458737,
     "user": {
      "displayName": "PGDAI ACTS",
      "userId": "16113966839122920361"
     },
     "user_tz": -330
    },
    "id": "yb_QwBqg8CKN"
   },
   "outputs": [
    {
     "name": "stdout",
     "output_type": "stream",
     "text": [
      "Length:  294\n"
     ]
    }
   ],
   "source": [
    "df2.set_index('host_name', inplace=True)\n",
    "print(\"Length: \", len(df2.loc['John']))"
   ]
  },
  {
   "cell_type": "code",
   "execution_count": 58,
   "metadata": {},
   "outputs": [
    {
     "data": {
      "text/html": [
       "<div>\n",
       "<style scoped>\n",
       "    .dataframe tbody tr th:only-of-type {\n",
       "        vertical-align: middle;\n",
       "    }\n",
       "\n",
       "    .dataframe tbody tr th {\n",
       "        vertical-align: top;\n",
       "    }\n",
       "\n",
       "    .dataframe thead th {\n",
       "        text-align: right;\n",
       "    }\n",
       "</style>\n",
       "<table border=\"1\" class=\"dataframe\">\n",
       "  <thead>\n",
       "    <tr style=\"text-align: right;\">\n",
       "      <th></th>\n",
       "      <th>id</th>\n",
       "      <th>name</th>\n",
       "      <th>host_id</th>\n",
       "      <th>neighbourhood_group</th>\n",
       "      <th>neighbourhood</th>\n",
       "      <th>latitude</th>\n",
       "      <th>longitude</th>\n",
       "      <th>room_type</th>\n",
       "      <th>price</th>\n",
       "      <th>minimum_nights</th>\n",
       "      <th>number_of_reviews</th>\n",
       "      <th>last_review</th>\n",
       "      <th>reviews_per_month</th>\n",
       "      <th>calculated_host_listings_count</th>\n",
       "      <th>availability_365</th>\n",
       "    </tr>\n",
       "    <tr>\n",
       "      <th>host_name</th>\n",
       "      <th></th>\n",
       "      <th></th>\n",
       "      <th></th>\n",
       "      <th></th>\n",
       "      <th></th>\n",
       "      <th></th>\n",
       "      <th></th>\n",
       "      <th></th>\n",
       "      <th></th>\n",
       "      <th></th>\n",
       "      <th></th>\n",
       "      <th></th>\n",
       "      <th></th>\n",
       "      <th></th>\n",
       "      <th></th>\n",
       "    </tr>\n",
       "  </thead>\n",
       "  <tbody>\n",
       "    <tr>\n",
       "      <th>John</th>\n",
       "      <td>2539</td>\n",
       "      <td>Clean &amp; quiet apt home by the park</td>\n",
       "      <td>2787</td>\n",
       "      <td>Brooklyn</td>\n",
       "      <td>Kensington</td>\n",
       "      <td>40.64749</td>\n",
       "      <td>-73.97237</td>\n",
       "      <td>Private room</td>\n",
       "      <td>149</td>\n",
       "      <td>1</td>\n",
       "      <td>9</td>\n",
       "      <td>2018-10-19</td>\n",
       "      <td>0.21</td>\n",
       "      <td>6</td>\n",
       "      <td>365</td>\n",
       "    </tr>\n",
       "    <tr>\n",
       "      <th>Jennifer</th>\n",
       "      <td>2595</td>\n",
       "      <td>Skylit Midtown Castle</td>\n",
       "      <td>2845</td>\n",
       "      <td>Manhattan</td>\n",
       "      <td>Midtown</td>\n",
       "      <td>40.75362</td>\n",
       "      <td>-73.98377</td>\n",
       "      <td>Entire home/apt</td>\n",
       "      <td>225</td>\n",
       "      <td>1</td>\n",
       "      <td>45</td>\n",
       "      <td>2019-05-21</td>\n",
       "      <td>0.38</td>\n",
       "      <td>2</td>\n",
       "      <td>355</td>\n",
       "    </tr>\n",
       "    <tr>\n",
       "      <th>Elisabeth</th>\n",
       "      <td>3647</td>\n",
       "      <td>THE VILLAGE OF HARLEM....NEW YORK !</td>\n",
       "      <td>4632</td>\n",
       "      <td>Manhattan</td>\n",
       "      <td>Harlem</td>\n",
       "      <td>40.80902</td>\n",
       "      <td>-73.94190</td>\n",
       "      <td>Private room</td>\n",
       "      <td>150</td>\n",
       "      <td>3</td>\n",
       "      <td>0</td>\n",
       "      <td>NaN</td>\n",
       "      <td>NaN</td>\n",
       "      <td>1</td>\n",
       "      <td>365</td>\n",
       "    </tr>\n",
       "    <tr>\n",
       "      <th>LisaRoxanne</th>\n",
       "      <td>3831</td>\n",
       "      <td>Cozy Entire Floor of Brownstone</td>\n",
       "      <td>4869</td>\n",
       "      <td>Brooklyn</td>\n",
       "      <td>Clinton Hill</td>\n",
       "      <td>40.68514</td>\n",
       "      <td>-73.95976</td>\n",
       "      <td>Entire home/apt</td>\n",
       "      <td>89</td>\n",
       "      <td>1</td>\n",
       "      <td>270</td>\n",
       "      <td>2019-07-05</td>\n",
       "      <td>4.64</td>\n",
       "      <td>1</td>\n",
       "      <td>194</td>\n",
       "    </tr>\n",
       "    <tr>\n",
       "      <th>Laura</th>\n",
       "      <td>5022</td>\n",
       "      <td>Entire Apt: Spacious Studio/Loft by central park</td>\n",
       "      <td>7192</td>\n",
       "      <td>Manhattan</td>\n",
       "      <td>East Harlem</td>\n",
       "      <td>40.79851</td>\n",
       "      <td>-73.94399</td>\n",
       "      <td>Entire home/apt</td>\n",
       "      <td>80</td>\n",
       "      <td>10</td>\n",
       "      <td>9</td>\n",
       "      <td>2018-11-19</td>\n",
       "      <td>0.10</td>\n",
       "      <td>1</td>\n",
       "      <td>0</td>\n",
       "    </tr>\n",
       "  </tbody>\n",
       "</table>\n",
       "</div>"
      ],
      "text/plain": [
       "               id                                              name  host_id  \\\n",
       "host_name                                                                      \n",
       "John         2539                Clean & quiet apt home by the park     2787   \n",
       "Jennifer     2595                             Skylit Midtown Castle     2845   \n",
       "Elisabeth    3647               THE VILLAGE OF HARLEM....NEW YORK !     4632   \n",
       "LisaRoxanne  3831                   Cozy Entire Floor of Brownstone     4869   \n",
       "Laura        5022  Entire Apt: Spacious Studio/Loft by central park     7192   \n",
       "\n",
       "            neighbourhood_group neighbourhood  latitude  longitude  \\\n",
       "host_name                                                            \n",
       "John                   Brooklyn    Kensington  40.64749  -73.97237   \n",
       "Jennifer              Manhattan       Midtown  40.75362  -73.98377   \n",
       "Elisabeth             Manhattan        Harlem  40.80902  -73.94190   \n",
       "LisaRoxanne            Brooklyn  Clinton Hill  40.68514  -73.95976   \n",
       "Laura                 Manhattan   East Harlem  40.79851  -73.94399   \n",
       "\n",
       "                   room_type  price  minimum_nights  number_of_reviews  \\\n",
       "host_name                                                                \n",
       "John            Private room    149               1                  9   \n",
       "Jennifer     Entire home/apt    225               1                 45   \n",
       "Elisabeth       Private room    150               3                  0   \n",
       "LisaRoxanne  Entire home/apt     89               1                270   \n",
       "Laura        Entire home/apt     80              10                  9   \n",
       "\n",
       "            last_review  reviews_per_month  calculated_host_listings_count  \\\n",
       "host_name                                                                    \n",
       "John         2018-10-19               0.21                               6   \n",
       "Jennifer     2019-05-21               0.38                               2   \n",
       "Elisabeth           NaN                NaN                               1   \n",
       "LisaRoxanne  2019-07-05               4.64                               1   \n",
       "Laura        2018-11-19               0.10                               1   \n",
       "\n",
       "             availability_365  \n",
       "host_name                      \n",
       "John                      365  \n",
       "Jennifer                  355  \n",
       "Elisabeth                 365  \n",
       "LisaRoxanne               194  \n",
       "Laura                       0  "
      ]
     },
     "execution_count": 58,
     "metadata": {},
     "output_type": "execute_result"
    }
   ],
   "source": [
    "df2.head()"
   ]
  },
  {
   "cell_type": "code",
   "execution_count": 59,
   "metadata": {},
   "outputs": [
    {
     "name": "stdout",
     "output_type": "stream",
     "text": [
      "                 id                                               name  \\\n",
      "host_name                                                                \n",
      "John           2539                 Clean & quiet apt home by the park   \n",
      "John         148201                  NYC - Sunny Greenwich Village 1br   \n",
      "John         234870                   Private Room With GREAT Location   \n",
      "John         400039                 Big Beautiful Railroad in Brooklyn   \n",
      "John         484297        Large home in most desirable Brooklyn hood!   \n",
      "...             ...                                                ...   \n",
      "John       35836317                 Gorgeous Duplex 2BED/1.5BA  Modern   \n",
      "John       35871036  Huge 1 bedroom w/ a backyard near the heart of...   \n",
      "John       35984474                               Perfect Weekend Stay   \n",
      "John       36140542  Wonderful Summer Vacation  Getaways For Weeken...   \n",
      "John       36391615  Hidden gem! Cozy home in heart of Lower East Side   \n",
      "\n",
      "             host_id neighbourhood_group      neighbourhood  latitude  \\\n",
      "host_name                                                               \n",
      "John            2787            Brooklyn         Kensington  40.64749   \n",
      "John          715807           Manhattan  Greenwich Village  40.72831   \n",
      "John         1229984              Queens   Long Island City  40.74581   \n",
      "John         1488809            Brooklyn           Bushwick  40.70339   \n",
      "John         2397411            Brooklyn       Clinton Hill  40.68545   \n",
      "...              ...                 ...                ...       ...   \n",
      "John       269242923           Manhattan           Kips Bay  40.74490   \n",
      "John       226414996              Queens   Ditmars Steinway  40.77170   \n",
      "John       229739739            Brooklyn           Flatbush  40.64726   \n",
      "John       229739739            Brooklyn           Flatbush  40.64600   \n",
      "John        70653354           Manhattan    Lower East Side  40.72013   \n",
      "\n",
      "           longitude        room_type  price  minimum_nights  \\\n",
      "host_name                                                      \n",
      "John       -73.97237     Private room    149               1   \n",
      "John       -74.00177  Entire home/apt    175               3   \n",
      "John       -73.95295     Private room     75              30   \n",
      "John       -73.92945  Entire home/apt    130              30   \n",
      "John       -73.96534  Entire home/apt    350               4   \n",
      "...              ...              ...    ...             ...   \n",
      "John       -73.97888  Entire home/apt    288               5   \n",
      "John       -73.90799  Entire home/apt     90               3   \n",
      "John       -73.95455     Private room     85              14   \n",
      "John       -73.95455     Private room     85               7   \n",
      "John       -73.98769  Entire home/apt    235               1   \n",
      "\n",
      "           number_of_reviews last_review  reviews_per_month  \\\n",
      "host_name                                                     \n",
      "John                       9  2018-10-19               0.21   \n",
      "John                      18  2013-05-31               0.19   \n",
      "John                      65  2017-07-31               0.74   \n",
      "John                      53  2017-06-30               0.68   \n",
      "John                      10  2018-09-12               0.12   \n",
      "...                      ...         ...                ...   \n",
      "John                       2  2019-06-30               2.00   \n",
      "John                       0         NaN                NaN   \n",
      "John                       0         NaN                NaN   \n",
      "John                       0         NaN                NaN   \n",
      "John                       0         NaN                NaN   \n",
      "\n",
      "           calculated_host_listings_count  availability_365  \n",
      "host_name                                                    \n",
      "John                                    6               365  \n",
      "John                                    1                 0  \n",
      "John                                    3               219  \n",
      "John                                    1                 0  \n",
      "John                                    1                 0  \n",
      "...                                   ...               ...  \n",
      "John                                    1                74  \n",
      "John                                    2                21  \n",
      "John                                    2               176  \n",
      "John                                    2               176  \n",
      "John                                    1               349  \n",
      "\n",
      "[294 rows x 15 columns]\n"
     ]
    }
   ],
   "source": [
    "print(df2.loc['John'])"
   ]
  },
  {
   "cell_type": "code",
   "execution_count": 60,
   "metadata": {},
   "outputs": [],
   "source": [
    "df2.reset_index(inplace=True)"
   ]
  },
  {
   "cell_type": "code",
   "execution_count": 61,
   "metadata": {},
   "outputs": [
    {
     "data": {
      "text/html": [
       "<div>\n",
       "<style scoped>\n",
       "    .dataframe tbody tr th:only-of-type {\n",
       "        vertical-align: middle;\n",
       "    }\n",
       "\n",
       "    .dataframe tbody tr th {\n",
       "        vertical-align: top;\n",
       "    }\n",
       "\n",
       "    .dataframe thead th {\n",
       "        text-align: right;\n",
       "    }\n",
       "</style>\n",
       "<table border=\"1\" class=\"dataframe\">\n",
       "  <thead>\n",
       "    <tr style=\"text-align: right;\">\n",
       "      <th></th>\n",
       "      <th>host_name</th>\n",
       "      <th>id</th>\n",
       "      <th>name</th>\n",
       "      <th>host_id</th>\n",
       "      <th>neighbourhood_group</th>\n",
       "      <th>neighbourhood</th>\n",
       "      <th>latitude</th>\n",
       "      <th>longitude</th>\n",
       "      <th>room_type</th>\n",
       "      <th>price</th>\n",
       "      <th>minimum_nights</th>\n",
       "      <th>number_of_reviews</th>\n",
       "      <th>last_review</th>\n",
       "      <th>reviews_per_month</th>\n",
       "      <th>calculated_host_listings_count</th>\n",
       "      <th>availability_365</th>\n",
       "    </tr>\n",
       "  </thead>\n",
       "  <tbody>\n",
       "    <tr>\n",
       "      <th>0</th>\n",
       "      <td>John</td>\n",
       "      <td>2539</td>\n",
       "      <td>Clean &amp; quiet apt home by the park</td>\n",
       "      <td>2787</td>\n",
       "      <td>Brooklyn</td>\n",
       "      <td>Kensington</td>\n",
       "      <td>40.64749</td>\n",
       "      <td>-73.97237</td>\n",
       "      <td>Private room</td>\n",
       "      <td>149</td>\n",
       "      <td>1</td>\n",
       "      <td>9</td>\n",
       "      <td>2018-10-19</td>\n",
       "      <td>0.21</td>\n",
       "      <td>6</td>\n",
       "      <td>365</td>\n",
       "    </tr>\n",
       "    <tr>\n",
       "      <th>1</th>\n",
       "      <td>Jennifer</td>\n",
       "      <td>2595</td>\n",
       "      <td>Skylit Midtown Castle</td>\n",
       "      <td>2845</td>\n",
       "      <td>Manhattan</td>\n",
       "      <td>Midtown</td>\n",
       "      <td>40.75362</td>\n",
       "      <td>-73.98377</td>\n",
       "      <td>Entire home/apt</td>\n",
       "      <td>225</td>\n",
       "      <td>1</td>\n",
       "      <td>45</td>\n",
       "      <td>2019-05-21</td>\n",
       "      <td>0.38</td>\n",
       "      <td>2</td>\n",
       "      <td>355</td>\n",
       "    </tr>\n",
       "    <tr>\n",
       "      <th>2</th>\n",
       "      <td>Elisabeth</td>\n",
       "      <td>3647</td>\n",
       "      <td>THE VILLAGE OF HARLEM....NEW YORK !</td>\n",
       "      <td>4632</td>\n",
       "      <td>Manhattan</td>\n",
       "      <td>Harlem</td>\n",
       "      <td>40.80902</td>\n",
       "      <td>-73.94190</td>\n",
       "      <td>Private room</td>\n",
       "      <td>150</td>\n",
       "      <td>3</td>\n",
       "      <td>0</td>\n",
       "      <td>NaN</td>\n",
       "      <td>NaN</td>\n",
       "      <td>1</td>\n",
       "      <td>365</td>\n",
       "    </tr>\n",
       "    <tr>\n",
       "      <th>3</th>\n",
       "      <td>LisaRoxanne</td>\n",
       "      <td>3831</td>\n",
       "      <td>Cozy Entire Floor of Brownstone</td>\n",
       "      <td>4869</td>\n",
       "      <td>Brooklyn</td>\n",
       "      <td>Clinton Hill</td>\n",
       "      <td>40.68514</td>\n",
       "      <td>-73.95976</td>\n",
       "      <td>Entire home/apt</td>\n",
       "      <td>89</td>\n",
       "      <td>1</td>\n",
       "      <td>270</td>\n",
       "      <td>2019-07-05</td>\n",
       "      <td>4.64</td>\n",
       "      <td>1</td>\n",
       "      <td>194</td>\n",
       "    </tr>\n",
       "    <tr>\n",
       "      <th>4</th>\n",
       "      <td>Laura</td>\n",
       "      <td>5022</td>\n",
       "      <td>Entire Apt: Spacious Studio/Loft by central park</td>\n",
       "      <td>7192</td>\n",
       "      <td>Manhattan</td>\n",
       "      <td>East Harlem</td>\n",
       "      <td>40.79851</td>\n",
       "      <td>-73.94399</td>\n",
       "      <td>Entire home/apt</td>\n",
       "      <td>80</td>\n",
       "      <td>10</td>\n",
       "      <td>9</td>\n",
       "      <td>2018-11-19</td>\n",
       "      <td>0.10</td>\n",
       "      <td>1</td>\n",
       "      <td>0</td>\n",
       "    </tr>\n",
       "  </tbody>\n",
       "</table>\n",
       "</div>"
      ],
      "text/plain": [
       "     host_name    id                                              name  \\\n",
       "0         John  2539                Clean & quiet apt home by the park   \n",
       "1     Jennifer  2595                             Skylit Midtown Castle   \n",
       "2    Elisabeth  3647               THE VILLAGE OF HARLEM....NEW YORK !   \n",
       "3  LisaRoxanne  3831                   Cozy Entire Floor of Brownstone   \n",
       "4        Laura  5022  Entire Apt: Spacious Studio/Loft by central park   \n",
       "\n",
       "   host_id neighbourhood_group neighbourhood  latitude  longitude  \\\n",
       "0     2787            Brooklyn    Kensington  40.64749  -73.97237   \n",
       "1     2845           Manhattan       Midtown  40.75362  -73.98377   \n",
       "2     4632           Manhattan        Harlem  40.80902  -73.94190   \n",
       "3     4869            Brooklyn  Clinton Hill  40.68514  -73.95976   \n",
       "4     7192           Manhattan   East Harlem  40.79851  -73.94399   \n",
       "\n",
       "         room_type  price  minimum_nights  number_of_reviews last_review  \\\n",
       "0     Private room    149               1                  9  2018-10-19   \n",
       "1  Entire home/apt    225               1                 45  2019-05-21   \n",
       "2     Private room    150               3                  0         NaN   \n",
       "3  Entire home/apt     89               1                270  2019-07-05   \n",
       "4  Entire home/apt     80              10                  9  2018-11-19   \n",
       "\n",
       "   reviews_per_month  calculated_host_listings_count  availability_365  \n",
       "0               0.21                               6               365  \n",
       "1               0.38                               2               355  \n",
       "2                NaN                               1               365  \n",
       "3               4.64                               1               194  \n",
       "4               0.10                               1                 0  "
      ]
     },
     "execution_count": 61,
     "metadata": {},
     "output_type": "execute_result"
    }
   ],
   "source": [
    "df2.head(5)"
   ]
  },
  {
   "cell_type": "code",
   "execution_count": 62,
   "metadata": {
    "executionInfo": {
     "elapsed": 9,
     "status": "aborted",
     "timestamp": 1728627458737,
     "user": {
      "displayName": "PGDAI ACTS",
      "userId": "16113966839122920361"
     },
     "user_tz": -330
    },
    "id": "FAJz11M11OfM"
   },
   "outputs": [
    {
     "name": "stdout",
     "output_type": "stream",
     "text": [
      "   total_bill   tip  price_per_person     CC Number\n",
      "0       16.99  1.01              8.49  3.560330e+15\n",
      "1       10.34  1.66              3.45  4.478070e+15\n",
      "2       21.01  3.50              7.00  6.011810e+15\n",
      "3       23.68  3.31             11.84  4.676140e+15\n",
      "4       24.59  3.61              6.15  4.832730e+15\n"
     ]
    }
   ],
   "source": [
    "# Set pandas display options to show all columns\n",
    "numeric_column = df.select_dtypes(include=['float64', 'int64'])\n",
    "print(numeric_column.head())"
   ]
  },
  {
   "cell_type": "code",
   "execution_count": 63,
   "metadata": {
    "executionInfo": {
     "elapsed": 9,
     "status": "aborted",
     "timestamp": 1728627458737,
     "user": {
      "displayName": "PGDAI ACTS",
      "userId": "16113966839122920361"
     },
     "user_tz": -330
    },
    "id": "P63T56y81OiV"
   },
   "outputs": [
    {
     "name": "stdout",
     "output_type": "stream",
     "text": [
      "   total_bill   tip  price_per_person     CC Number        room_type\n",
      "0       16.99  1.01              8.49  3.560330e+15     Private room\n",
      "1       10.34  1.66              3.45  4.478070e+15  Entire home/apt\n",
      "2       21.01  3.50              7.00  6.011810e+15     Private room\n",
      "3       23.68  3.31             11.84  4.676140e+15  Entire home/apt\n",
      "4       24.59  3.61              6.15  4.832730e+15  Entire home/apt\n"
     ]
    },
    {
     "name": "stderr",
     "output_type": "stream",
     "text": [
      "C:\\Users\\anu\\AppData\\Local\\Temp/ipykernel_6940/4274724994.py:2: SettingWithCopyWarning: \n",
      "A value is trying to be set on a copy of a slice from a DataFrame.\n",
      "Try using .loc[row_indexer,col_indexer] = value instead\n",
      "\n",
      "See the caveats in the documentation: https://pandas.pydata.org/pandas-docs/stable/user_guide/indexing.html#returning-a-view-versus-a-copy\n",
      "  numeric_column['room_type'] = df2['room_type']\n"
     ]
    }
   ],
   "source": [
    "# Include 'room_type' column in numeric_column DataFrame\n",
    "numeric_column['room_type'] = df2['room_type']\n",
    "print(numeric_column.head())"
   ]
  },
  {
   "cell_type": "code",
   "execution_count": 64,
   "metadata": {
    "executionInfo": {
     "elapsed": 9,
     "status": "aborted",
     "timestamp": 1728627458737,
     "user": {
      "displayName": "PGDAI ACTS",
      "userId": "16113966839122920361"
     },
     "user_tz": -330
    },
    "id": "nwU1Dqeg5ZnR"
   },
   "outputs": [],
   "source": [
    "# Print all the columns without break\n",
    "pd.set_option('display.max_columns', None)"
   ]
  },
  {
   "cell_type": "code",
   "execution_count": 65,
   "metadata": {},
   "outputs": [],
   "source": [
    "df3 = numeric_column.groupby('room_type')"
   ]
  },
  {
   "cell_type": "code",
   "execution_count": 66,
   "metadata": {},
   "outputs": [
    {
     "data": {
      "text/html": [
       "<div>\n",
       "<style scoped>\n",
       "    .dataframe tbody tr th:only-of-type {\n",
       "        vertical-align: middle;\n",
       "    }\n",
       "\n",
       "    .dataframe tbody tr th {\n",
       "        vertical-align: top;\n",
       "    }\n",
       "\n",
       "    .dataframe thead th {\n",
       "        text-align: right;\n",
       "    }\n",
       "</style>\n",
       "<table border=\"1\" class=\"dataframe\">\n",
       "  <thead>\n",
       "    <tr style=\"text-align: right;\">\n",
       "      <th></th>\n",
       "      <th>total_bill</th>\n",
       "      <th>tip</th>\n",
       "      <th>price_per_person</th>\n",
       "      <th>CC Number</th>\n",
       "      <th>room_type</th>\n",
       "    </tr>\n",
       "  </thead>\n",
       "  <tbody>\n",
       "    <tr>\n",
       "      <th>0</th>\n",
       "      <td>16.99</td>\n",
       "      <td>1.01</td>\n",
       "      <td>8.49</td>\n",
       "      <td>3.560330e+15</td>\n",
       "      <td>Private room</td>\n",
       "    </tr>\n",
       "    <tr>\n",
       "      <th>1</th>\n",
       "      <td>10.34</td>\n",
       "      <td>1.66</td>\n",
       "      <td>3.45</td>\n",
       "      <td>4.478070e+15</td>\n",
       "      <td>Entire home/apt</td>\n",
       "    </tr>\n",
       "    <tr>\n",
       "      <th>2</th>\n",
       "      <td>21.01</td>\n",
       "      <td>3.50</td>\n",
       "      <td>7.00</td>\n",
       "      <td>6.011810e+15</td>\n",
       "      <td>Private room</td>\n",
       "    </tr>\n",
       "    <tr>\n",
       "      <th>3</th>\n",
       "      <td>23.68</td>\n",
       "      <td>3.31</td>\n",
       "      <td>11.84</td>\n",
       "      <td>4.676140e+15</td>\n",
       "      <td>Entire home/apt</td>\n",
       "    </tr>\n",
       "    <tr>\n",
       "      <th>4</th>\n",
       "      <td>24.59</td>\n",
       "      <td>3.61</td>\n",
       "      <td>6.15</td>\n",
       "      <td>4.832730e+15</td>\n",
       "      <td>Entire home/apt</td>\n",
       "    </tr>\n",
       "    <tr>\n",
       "      <th>5</th>\n",
       "      <td>25.29</td>\n",
       "      <td>4.71</td>\n",
       "      <td>6.32</td>\n",
       "      <td>2.131400e+14</td>\n",
       "      <td>Entire home/apt</td>\n",
       "    </tr>\n",
       "    <tr>\n",
       "      <th>6</th>\n",
       "      <td>8.77</td>\n",
       "      <td>2.00</td>\n",
       "      <td>4.38</td>\n",
       "      <td>2.223730e+15</td>\n",
       "      <td>Private room</td>\n",
       "    </tr>\n",
       "    <tr>\n",
       "      <th>7</th>\n",
       "      <td>26.88</td>\n",
       "      <td>3.12</td>\n",
       "      <td>6.72</td>\n",
       "      <td>3.514790e+15</td>\n",
       "      <td>Private room</td>\n",
       "    </tr>\n",
       "    <tr>\n",
       "      <th>8</th>\n",
       "      <td>15.04</td>\n",
       "      <td>1.96</td>\n",
       "      <td>7.52</td>\n",
       "      <td>3.522870e+15</td>\n",
       "      <td>Private room</td>\n",
       "    </tr>\n",
       "    <tr>\n",
       "      <th>9</th>\n",
       "      <td>14.78</td>\n",
       "      <td>3.23</td>\n",
       "      <td>7.39</td>\n",
       "      <td>3.532120e+15</td>\n",
       "      <td>Entire home/apt</td>\n",
       "    </tr>\n",
       "    <tr>\n",
       "      <th>39</th>\n",
       "      <td>31.27</td>\n",
       "      <td>5.00</td>\n",
       "      <td>10.42</td>\n",
       "      <td>6.011530e+15</td>\n",
       "      <td>Shared room</td>\n",
       "    </tr>\n",
       "    <tr>\n",
       "      <th>203</th>\n",
       "      <td>16.40</td>\n",
       "      <td>2.50</td>\n",
       "      <td>8.20</td>\n",
       "      <td>3.582290e+15</td>\n",
       "      <td>Shared room</td>\n",
       "    </tr>\n",
       "  </tbody>\n",
       "</table>\n",
       "</div>"
      ],
      "text/plain": [
       "     total_bill   tip  price_per_person     CC Number        room_type\n",
       "0         16.99  1.01              8.49  3.560330e+15     Private room\n",
       "1         10.34  1.66              3.45  4.478070e+15  Entire home/apt\n",
       "2         21.01  3.50              7.00  6.011810e+15     Private room\n",
       "3         23.68  3.31             11.84  4.676140e+15  Entire home/apt\n",
       "4         24.59  3.61              6.15  4.832730e+15  Entire home/apt\n",
       "5         25.29  4.71              6.32  2.131400e+14  Entire home/apt\n",
       "6          8.77  2.00              4.38  2.223730e+15     Private room\n",
       "7         26.88  3.12              6.72  3.514790e+15     Private room\n",
       "8         15.04  1.96              7.52  3.522870e+15     Private room\n",
       "9         14.78  3.23              7.39  3.532120e+15  Entire home/apt\n",
       "39        31.27  5.00             10.42  6.011530e+15      Shared room\n",
       "203       16.40  2.50              8.20  3.582290e+15      Shared room"
      ]
     },
     "execution_count": 66,
     "metadata": {},
     "output_type": "execute_result"
    }
   ],
   "source": [
    "df3.head(5)"
   ]
  },
  {
   "cell_type": "code",
   "execution_count": 67,
   "metadata": {
    "executionInfo": {
     "elapsed": 10,
     "status": "aborted",
     "timestamp": 1728627458738,
     "user": {
      "displayName": "PGDAI ACTS",
      "userId": "16113966839122920361"
     },
     "user_tz": -330
    },
    "id": "oHOYg2MV1OlY"
   },
   "outputs": [
    {
     "name": "stdout",
     "output_type": "stream",
     "text": [
      "                 total_bill       tip  price_per_person     CC Number\n",
      "room_type                                                            \n",
      "Entire home/apt   19.962923  3.087077          7.945923  2.524231e+15\n",
      "Private room      19.508214  2.881786          7.795804  2.569188e+15\n",
      "Shared room       23.835000  3.750000          9.310000  4.796910e+15\n"
     ]
    }
   ],
   "source": [
    "df3 = numeric_column.groupby('room_type').mean()\n",
    "print(df3)"
   ]
  },
  {
   "cell_type": "code",
   "execution_count": 68,
   "metadata": {
    "executionInfo": {
     "elapsed": 10,
     "status": "aborted",
     "timestamp": 1728627458738,
     "user": {
      "displayName": "PGDAI ACTS",
      "userId": "16113966839122920361"
     },
     "user_tz": -330
    },
    "id": "0zgXJFKu5gt8"
   },
   "outputs": [],
   "source": [
    "pd.reset_option('display.max_columns')"
   ]
  },
  {
   "cell_type": "code",
   "execution_count": 69,
   "metadata": {
    "executionInfo": {
     "elapsed": 9,
     "status": "aborted",
     "timestamp": 1728627458738,
     "user": {
      "displayName": "PGDAI ACTS",
      "userId": "16113966839122920361"
     },
     "user_tz": -330
    },
    "id": "p-KAVKkx6MiO"
   },
   "outputs": [
    {
     "name": "stdout",
     "output_type": "stream",
     "text": [
      "                 total_bill       tip  price_per_person     CC Number\n",
      "room_type                                                            \n",
      "Entire home/apt   19.962923  3.087077          7.945923  2.524231e+15\n",
      "Private room      19.508214  2.881786          7.795804  2.569188e+15\n",
      "Shared room       23.835000  3.750000          9.310000  4.796910e+15\n"
     ]
    }
   ],
   "source": [
    "print(df3.head())"
   ]
  },
  {
   "cell_type": "code",
   "execution_count": 70,
   "metadata": {
    "executionInfo": {
     "elapsed": 9,
     "status": "aborted",
     "timestamp": 1728627458738,
     "user": {
      "displayName": "PGDAI ACTS",
      "userId": "16113966839122920361"
     },
     "user_tz": -330
    },
    "id": "0qz40Kpm6Mft"
   },
   "outputs": [
    {
     "name": "stdout",
     "output_type": "stream",
     "text": [
      "host_name                                                       John\n",
      "id                                                              2539\n",
      "name                              Clean & quiet apt home by the park\n",
      "host_id                                                         2787\n",
      "neighbourhood_group                                         Brooklyn\n",
      "neighbourhood                                             Kensington\n",
      "latitude                                                    40.64749\n",
      "longitude                                                  -73.97237\n",
      "room_type                                               Private room\n",
      "price                                                            149\n",
      "minimum_nights                                                     1\n",
      "number_of_reviews                                                  9\n",
      "last_review                                               2018-10-19\n",
      "reviews_per_month                                               0.21\n",
      "calculated_host_listings_count                                     6\n",
      "availability_365                                                 365\n",
      "Name: 0, dtype: object\n"
     ]
    }
   ],
   "source": [
    "#Rows\n",
    "print(df2.iloc[0])"
   ]
  },
  {
   "cell_type": "code",
   "execution_count": 71,
   "metadata": {},
   "outputs": [
    {
     "data": {
      "text/html": [
       "<div>\n",
       "<style scoped>\n",
       "    .dataframe tbody tr th:only-of-type {\n",
       "        vertical-align: middle;\n",
       "    }\n",
       "\n",
       "    .dataframe tbody tr th {\n",
       "        vertical-align: top;\n",
       "    }\n",
       "\n",
       "    .dataframe thead th {\n",
       "        text-align: right;\n",
       "    }\n",
       "</style>\n",
       "<table border=\"1\" class=\"dataframe\">\n",
       "  <thead>\n",
       "    <tr style=\"text-align: right;\">\n",
       "      <th></th>\n",
       "      <th>host_name</th>\n",
       "      <th>id</th>\n",
       "      <th>name</th>\n",
       "      <th>host_id</th>\n",
       "      <th>neighbourhood_group</th>\n",
       "      <th>neighbourhood</th>\n",
       "      <th>latitude</th>\n",
       "      <th>longitude</th>\n",
       "      <th>room_type</th>\n",
       "      <th>price</th>\n",
       "      <th>minimum_nights</th>\n",
       "      <th>number_of_reviews</th>\n",
       "      <th>last_review</th>\n",
       "      <th>reviews_per_month</th>\n",
       "      <th>calculated_host_listings_count</th>\n",
       "      <th>availability_365</th>\n",
       "    </tr>\n",
       "  </thead>\n",
       "  <tbody>\n",
       "    <tr>\n",
       "      <th>0</th>\n",
       "      <td>John</td>\n",
       "      <td>2539</td>\n",
       "      <td>Clean &amp; quiet apt home by the park</td>\n",
       "      <td>2787</td>\n",
       "      <td>Brooklyn</td>\n",
       "      <td>Kensington</td>\n",
       "      <td>40.64749</td>\n",
       "      <td>-73.97237</td>\n",
       "      <td>Private room</td>\n",
       "      <td>149</td>\n",
       "      <td>1</td>\n",
       "      <td>9</td>\n",
       "      <td>2018-10-19</td>\n",
       "      <td>0.21</td>\n",
       "      <td>6</td>\n",
       "      <td>365</td>\n",
       "    </tr>\n",
       "    <tr>\n",
       "      <th>1</th>\n",
       "      <td>Jennifer</td>\n",
       "      <td>2595</td>\n",
       "      <td>Skylit Midtown Castle</td>\n",
       "      <td>2845</td>\n",
       "      <td>Manhattan</td>\n",
       "      <td>Midtown</td>\n",
       "      <td>40.75362</td>\n",
       "      <td>-73.98377</td>\n",
       "      <td>Entire home/apt</td>\n",
       "      <td>225</td>\n",
       "      <td>1</td>\n",
       "      <td>45</td>\n",
       "      <td>2019-05-21</td>\n",
       "      <td>0.38</td>\n",
       "      <td>2</td>\n",
       "      <td>355</td>\n",
       "    </tr>\n",
       "    <tr>\n",
       "      <th>2</th>\n",
       "      <td>Elisabeth</td>\n",
       "      <td>3647</td>\n",
       "      <td>THE VILLAGE OF HARLEM....NEW YORK !</td>\n",
       "      <td>4632</td>\n",
       "      <td>Manhattan</td>\n",
       "      <td>Harlem</td>\n",
       "      <td>40.80902</td>\n",
       "      <td>-73.94190</td>\n",
       "      <td>Private room</td>\n",
       "      <td>150</td>\n",
       "      <td>3</td>\n",
       "      <td>0</td>\n",
       "      <td>NaN</td>\n",
       "      <td>NaN</td>\n",
       "      <td>1</td>\n",
       "      <td>365</td>\n",
       "    </tr>\n",
       "    <tr>\n",
       "      <th>3</th>\n",
       "      <td>LisaRoxanne</td>\n",
       "      <td>3831</td>\n",
       "      <td>Cozy Entire Floor of Brownstone</td>\n",
       "      <td>4869</td>\n",
       "      <td>Brooklyn</td>\n",
       "      <td>Clinton Hill</td>\n",
       "      <td>40.68514</td>\n",
       "      <td>-73.95976</td>\n",
       "      <td>Entire home/apt</td>\n",
       "      <td>89</td>\n",
       "      <td>1</td>\n",
       "      <td>270</td>\n",
       "      <td>2019-07-05</td>\n",
       "      <td>4.64</td>\n",
       "      <td>1</td>\n",
       "      <td>194</td>\n",
       "    </tr>\n",
       "    <tr>\n",
       "      <th>4</th>\n",
       "      <td>Laura</td>\n",
       "      <td>5022</td>\n",
       "      <td>Entire Apt: Spacious Studio/Loft by central park</td>\n",
       "      <td>7192</td>\n",
       "      <td>Manhattan</td>\n",
       "      <td>East Harlem</td>\n",
       "      <td>40.79851</td>\n",
       "      <td>-73.94399</td>\n",
       "      <td>Entire home/apt</td>\n",
       "      <td>80</td>\n",
       "      <td>10</td>\n",
       "      <td>9</td>\n",
       "      <td>2018-11-19</td>\n",
       "      <td>0.10</td>\n",
       "      <td>1</td>\n",
       "      <td>0</td>\n",
       "    </tr>\n",
       "  </tbody>\n",
       "</table>\n",
       "</div>"
      ],
      "text/plain": [
       "     host_name    id                                              name  \\\n",
       "0         John  2539                Clean & quiet apt home by the park   \n",
       "1     Jennifer  2595                             Skylit Midtown Castle   \n",
       "2    Elisabeth  3647               THE VILLAGE OF HARLEM....NEW YORK !   \n",
       "3  LisaRoxanne  3831                   Cozy Entire Floor of Brownstone   \n",
       "4        Laura  5022  Entire Apt: Spacious Studio/Loft by central park   \n",
       "\n",
       "   host_id neighbourhood_group neighbourhood  latitude  longitude  \\\n",
       "0     2787            Brooklyn    Kensington  40.64749  -73.97237   \n",
       "1     2845           Manhattan       Midtown  40.75362  -73.98377   \n",
       "2     4632           Manhattan        Harlem  40.80902  -73.94190   \n",
       "3     4869            Brooklyn  Clinton Hill  40.68514  -73.95976   \n",
       "4     7192           Manhattan   East Harlem  40.79851  -73.94399   \n",
       "\n",
       "         room_type  price  minimum_nights  number_of_reviews last_review  \\\n",
       "0     Private room    149               1                  9  2018-10-19   \n",
       "1  Entire home/apt    225               1                 45  2019-05-21   \n",
       "2     Private room    150               3                  0         NaN   \n",
       "3  Entire home/apt     89               1                270  2019-07-05   \n",
       "4  Entire home/apt     80              10                  9  2018-11-19   \n",
       "\n",
       "   reviews_per_month  calculated_host_listings_count  availability_365  \n",
       "0               0.21                               6               365  \n",
       "1               0.38                               2               355  \n",
       "2                NaN                               1               365  \n",
       "3               4.64                               1               194  \n",
       "4               0.10                               1                 0  "
      ]
     },
     "execution_count": 71,
     "metadata": {},
     "output_type": "execute_result"
    }
   ],
   "source": [
    "df2.head()"
   ]
  },
  {
   "cell_type": "code",
   "execution_count": 72,
   "metadata": {
    "executionInfo": {
     "elapsed": 9,
     "status": "aborted",
     "timestamp": 1728627458738,
     "user": {
      "displayName": "PGDAI ACTS",
      "userId": "16113966839122920361"
     },
     "user_tz": -330
    },
    "id": "AYuBakWf6MdP"
   },
   "outputs": [],
   "source": [
    "df2.set_index('host_id', inplace=True)"
   ]
  },
  {
   "cell_type": "code",
   "execution_count": 73,
   "metadata": {
    "executionInfo": {
     "elapsed": 9,
     "status": "aborted",
     "timestamp": 1728627458738,
     "user": {
      "displayName": "PGDAI ACTS",
      "userId": "16113966839122920361"
     },
     "user_tz": -330
    },
    "id": "BZRWviz_6MYE"
   },
   "outputs": [
    {
     "name": "stdout",
     "output_type": "stream",
     "text": [
      "        host_name        id  \\\n",
      "host_id                       \n",
      "2787         John      2539   \n",
      "2787         John   7937553   \n",
      "2787         John  10160215   \n",
      "2787         John  10267242   \n",
      "2787         John  10593675   \n",
      "2787         John  17263207   \n",
      "\n",
      "                                                      name  \\\n",
      "host_id                                                      \n",
      "2787                    Clean & quiet apt home by the park   \n",
      "2787     Riomaggiore Room. Queen Bedroom in Bklyn Townh...   \n",
      "2787                                  Torre del Lago Room.   \n",
      "2787     Cinque Terre Room.  Clean and Quiet Queen Bedroom   \n",
      "2787     La Spezia room.  Clean, quiet and comfortable bed   \n",
      "2787      Brooklyn home.  Comfort and clean. Liguria room.   \n",
      "\n",
      "        neighbourhood_group neighbourhood  latitude  longitude     room_type  \\\n",
      "host_id                                                                        \n",
      "2787               Brooklyn    Kensington  40.64749  -73.97237  Private room   \n",
      "2787               Brooklyn   Bensonhurst  40.60951  -73.97622  Private room   \n",
      "2787               Brooklyn     Gravesend  40.60755  -73.97410  Private room   \n",
      "2787               Brooklyn     Gravesend  40.60810  -73.97541  Private room   \n",
      "2787               Brooklyn   Bensonhurst  40.60951  -73.97642   Shared room   \n",
      "2787               Brooklyn   Bensonhurst  40.60877  -73.97382  Private room   \n",
      "\n",
      "         price  minimum_nights  number_of_reviews last_review  \\\n",
      "host_id                                                         \n",
      "2787       149               1                  9  2018-10-19   \n",
      "2787        99               1                 21  2018-10-27   \n",
      "2787        79               1                 17  2019-06-26   \n",
      "2787       149               1                 24  2019-05-11   \n",
      "2787        79               1                 15  2018-09-29   \n",
      "2787        49               1                 19  2019-06-08   \n",
      "\n",
      "         reviews_per_month  calculated_host_listings_count  availability_365  \n",
      "host_id                                                                       \n",
      "2787                  0.21                               6               365  \n",
      "2787                  0.50                               6               153  \n",
      "2787                  0.40                               6               174  \n",
      "2787                  0.64                               6               180  \n",
      "2787                  0.43                               6               180  \n",
      "2787                  0.70                               6               360  \n"
     ]
    }
   ],
   "source": [
    "print(df2.loc[2787])"
   ]
  },
  {
   "cell_type": "code",
   "execution_count": null,
   "metadata": {
    "executionInfo": {
     "elapsed": 9,
     "status": "aborted",
     "timestamp": 1728627458738,
     "user": {
      "displayName": "PGDAI ACTS",
      "userId": "16113966839122920361"
     },
     "user_tz": -330
    },
    "id": "7MirrFBK6MJt"
   },
   "outputs": [],
   "source": []
  },
  {
   "cell_type": "code",
   "execution_count": null,
   "metadata": {},
   "outputs": [],
   "source": []
  }
 ],
 "metadata": {
  "colab": {
   "authorship_tag": "ABX9TyPrIpMB/gWUtP46UYR07mye",
   "provenance": []
  },
  "kernelspec": {
   "display_name": "Python 3 (ipykernel)",
   "language": "python",
   "name": "python3"
  },
  "language_info": {
   "codemirror_mode": {
    "name": "ipython",
    "version": 3
   },
   "file_extension": ".py",
   "mimetype": "text/x-python",
   "name": "python",
   "nbconvert_exporter": "python",
   "pygments_lexer": "ipython3",
   "version": "3.9.7"
  }
 },
 "nbformat": 4,
 "nbformat_minor": 1
}
